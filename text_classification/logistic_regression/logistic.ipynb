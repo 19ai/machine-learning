{
 "cells": [
  {
   "cell_type": "code",
   "execution_count": 1,
   "metadata": {
    "collapsed": false
   },
   "outputs": [
    {
     "data": {
      "text/html": [
       "<style>\n",
       "@import url('http://fonts.googleapis.com/css?family=Source+Code+Pro');\n",
       "@import url('http://fonts.googleapis.com/css?family=Vollkorn');\n",
       "@import url('http://fonts.googleapis.com/css?family=Arimo');\n",
       "@import url('http://fonts.googleapis.com/css?family=Fira_sans');\n",
       "\n",
       "    div.cell{\n",
       "        width: 1000px;\n",
       "        margin-left: 0% !important;\n",
       "        margin-right: auto;\n",
       "    }\n",
       "    div.text_cell code {\n",
       "        background: transparent;\n",
       "        color: #000000;\n",
       "        font-weight: 600;\n",
       "        font-size: 12pt;\n",
       "        font-style: bold;\n",
       "        font-family:  'Source Code Pro', Consolas, monocco, monospace;\n",
       "   }\n",
       "    h1 {\n",
       "        font-family: 'Open sans',verdana,arial,sans-serif;\n",
       "\t}\n",
       "\t\n",
       "    div.input_area {\n",
       "        background: #F6F6F9;\n",
       "        border: 1px solid #586e75;\n",
       "    }\n",
       "\n",
       "    .text_cell_render h1 {\n",
       "        font-weight: 200;\n",
       "        font-size: 30pt;\n",
       "        line-height: 100%;\n",
       "        color:#c76c0c;\n",
       "        margin-bottom: 0.5em;\n",
       "        margin-top: 1em;\n",
       "        display: block;\n",
       "        white-space: wrap;\n",
       "        text-align: left;\n",
       "    } \n",
       "    h2 {\n",
       "        font-family: 'Open sans',verdana,arial,sans-serif;\n",
       "        text-align: left;\n",
       "    }\n",
       "    .text_cell_render h2 {\n",
       "        font-weight: 200;\n",
       "        font-size: 16pt;\n",
       "        font-style: italic;\n",
       "        line-height: 100%;\n",
       "        color:#c76c0c;\n",
       "        margin-bottom: 0.5em;\n",
       "        margin-top: 1.5em;\n",
       "        display: block;\n",
       "        white-space: wrap;\n",
       "        text-align: left;\n",
       "    } \n",
       "    h3 {\n",
       "        font-family: 'Open sans',verdana,arial,sans-serif;\n",
       "    }\n",
       "    .text_cell_render h3 {\n",
       "        font-weight: 200;\n",
       "        font-size: 14pt;\n",
       "        line-height: 100%;\n",
       "        color:#d77c0c;\n",
       "        margin-bottom: 0.5em;\n",
       "        margin-top: 2em;\n",
       "        display: block;\n",
       "        white-space: wrap;\n",
       "        text-align: left;\n",
       "    }\n",
       "    h4 {\n",
       "        font-family: 'Open sans',verdana,arial,sans-serif;\n",
       "    }\n",
       "    .text_cell_render h4 {\n",
       "        font-weight: 100;\n",
       "        font-size: 14pt;\n",
       "        color:#d77c0c;\n",
       "        margin-bottom: 0.5em;\n",
       "        margin-top: 0.5em;\n",
       "        display: block;\n",
       "        white-space: nowrap;\n",
       "    }\n",
       "    h5 {\n",
       "        font-family: 'Open sans',verdana,arial,sans-serif;\n",
       "    }\n",
       "    .text_cell_render h5 {\n",
       "        font-weight: 200;\n",
       "        font-style: normal;\n",
       "        color: #1d3b84;\n",
       "        font-size: 16pt;\n",
       "        margin-bottom: 0em;\n",
       "        margin-top: 0.5em;\n",
       "        display: block;\n",
       "        white-space: nowrap;\n",
       "    }\n",
       "    div.text_cell_render{\n",
       "        font-family: 'Fira sans', verdana,arial,sans-serif;\n",
       "        line-height: 125%;\n",
       "        font-size: 115%;\n",
       "        text-align:justify;\n",
       "        text-justify:inter-word;\n",
       "    }\n",
       "    div.output_subarea.output_text.output_pyout {\n",
       "        overflow-x: auto;\n",
       "        overflow-y: scroll;\n",
       "        max-height: 50000px;\n",
       "    }\n",
       "    div.output_subarea.output_stream.output_stdout.output_text {\n",
       "        overflow-x: auto;\n",
       "        overflow-y: scroll;\n",
       "        max-height: 50000px;\n",
       "    }\n",
       "    div.output_wrapper{\n",
       "        margin-top:0.2em;\n",
       "        margin-bottom:0.2em;\n",
       "}\n",
       "\n",
       "    code{\n",
       "      font-size: 70%;\n",
       "    }\n",
       "    .rendered_html code{\n",
       "    background-color: transparent;\n",
       "    }\n",
       "    ul{\n",
       "        margin: 2em;\n",
       "    }\n",
       "    ul li{\n",
       "        padding-left: 0.5em; \n",
       "        margin-bottom: 0.5em; \n",
       "        margin-top: 0.5em; \n",
       "    }\n",
       "    ul li li{\n",
       "        padding-left: 0.2em; \n",
       "        margin-bottom: 0.2em; \n",
       "        margin-top: 0.2em; \n",
       "    }\n",
       "    ol{\n",
       "        margin: 2em;\n",
       "    }\n",
       "    ol li{\n",
       "        padding-left: 0.5em; \n",
       "        margin-bottom: 0.5em; \n",
       "        margin-top: 0.5em; \n",
       "    }\n",
       "    ul li{\n",
       "        padding-left: 0.5em; \n",
       "        margin-bottom: 0.5em; \n",
       "        margin-top: 0.2em; \n",
       "    }\n",
       "    a:link{\n",
       "       font-weight: bold;\n",
       "       color:#447adb;\n",
       "    }\n",
       "    a:visited{\n",
       "       font-weight: bold;\n",
       "       color: #1d3b84;\n",
       "    }\n",
       "    a:hover{\n",
       "       font-weight: bold;\n",
       "       color: #1d3b84;\n",
       "    }\n",
       "    a:focus{\n",
       "       font-weight: bold;\n",
       "       color:#447adb;\n",
       "    }\n",
       "    a:active{\n",
       "       font-weight: bold;\n",
       "       color:#447adb;\n",
       "    }\n",
       "    .rendered_html :link {\n",
       "       text-decoration: underline; \n",
       "    }\n",
       "    .rendered_html :hover {\n",
       "       text-decoration: none; \n",
       "    }\n",
       "    .rendered_html :visited {\n",
       "      text-decoration: none;\n",
       "    }\n",
       "    .rendered_html :focus {\n",
       "      text-decoration: none;\n",
       "    }\n",
       "    .rendered_html :active {\n",
       "      text-decoration: none;\n",
       "    }\n",
       "    .warning{\n",
       "        color: rgb( 240, 20, 20 )\n",
       "    } \n",
       "    hr {\n",
       "      color: #f3f3f3;\n",
       "      background-color: #f3f3f3;\n",
       "      height: 1px;\n",
       "    }\n",
       "    blockquote{\n",
       "      display:block;\n",
       "      background: #fcfcfc;\n",
       "      border-left: 5px solid #c76c0c;\n",
       "      font-family: 'Open sans',verdana,arial,sans-serif;\n",
       "      width:680px;\n",
       "      padding: 10px 10px 10px 10px;\n",
       "      text-align:justify;\n",
       "      text-justify:inter-word;\n",
       "      }\n",
       "      blockquote p {\n",
       "        margin-bottom: 0;\n",
       "        line-height: 125%;\n",
       "        font-size: 100%;\n",
       "      }\n",
       "</style>\n",
       "<script>\n",
       "    MathJax.Hub.Config({\n",
       "                        TeX: {\n",
       "                           extensions: [\"AMSmath.js\"]\n",
       "                           },\n",
       "                tex2jax: {\n",
       "                    inlineMath: [ ['$','$'], [\"\\\\(\",\"\\\\)\"] ],\n",
       "                    displayMath: [ ['$$','$$'], [\"\\\\[\",\"\\\\]\"] ]\n",
       "                },\n",
       "                displayAlign: 'center', // Change this to 'center' to center equations.\n",
       "                \"HTML-CSS\": {\n",
       "                    scale:100,\n",
       "                        availableFonts: [],\n",
       "                        preferredFont:null,\n",
       "                        webFont: \"TeX\",\n",
       "                    styles: {'.MathJax_Display': {\"margin\": 4}}\n",
       "                }\n",
       "        });\n",
       "</script>\n"
      ],
      "text/plain": [
       "<IPython.core.display.HTML object>"
      ]
     },
     "execution_count": 1,
     "metadata": {},
     "output_type": "execute_result"
    }
   ],
   "source": [
    "# code for loading the format for the notebook\n",
    "import os\n",
    "\n",
    "# path : store the current path to convert back to it later\n",
    "path = os.getcwd()\n",
    "os.chdir('../../notebook_format')\n",
    "from formats import load_style\n",
    "load_style()"
   ]
  },
  {
   "cell_type": "code",
   "execution_count": 2,
   "metadata": {
    "collapsed": true
   },
   "outputs": [],
   "source": [
    "os.chdir(path)\n",
    "%matplotlib inline\n",
    "import numpy as np\n",
    "import pandas as pd\n",
    "from sklearn import metrics\n",
    "import matplotlib.pyplot as plt\n",
    "from sklearn.linear_model import LogisticRegression"
   ]
  },
  {
   "cell_type": "markdown",
   "metadata": {},
   "source": [
    "# Logistic Regression\n",
    "\n",
    "**Logistic regression** is an excellent tool to know for classification problems, which are problems where the output value that we wish to predict only takes on only a small number of discrete values. Here we'll focus on the binary classification problem, where the output can take on only two distinct classes. To make our examples more concrete, we will consider the Glass dataset."
   ]
  },
  {
   "cell_type": "code",
   "execution_count": 3,
   "metadata": {
    "collapsed": false
   },
   "outputs": [
    {
     "data": {
      "text/html": [
       "<div>\n",
       "<table border=\"1\" class=\"dataframe\">\n",
       "  <thead>\n",
       "    <tr style=\"text-align: right;\">\n",
       "      <th></th>\n",
       "      <th>ri</th>\n",
       "      <th>na</th>\n",
       "      <th>mg</th>\n",
       "      <th>al</th>\n",
       "      <th>si</th>\n",
       "      <th>k</th>\n",
       "      <th>ca</th>\n",
       "      <th>ba</th>\n",
       "      <th>fe</th>\n",
       "      <th>glass_type</th>\n",
       "      <th>household</th>\n",
       "    </tr>\n",
       "    <tr>\n",
       "      <th>id</th>\n",
       "      <th></th>\n",
       "      <th></th>\n",
       "      <th></th>\n",
       "      <th></th>\n",
       "      <th></th>\n",
       "      <th></th>\n",
       "      <th></th>\n",
       "      <th></th>\n",
       "      <th></th>\n",
       "      <th></th>\n",
       "      <th></th>\n",
       "    </tr>\n",
       "  </thead>\n",
       "  <tbody>\n",
       "    <tr>\n",
       "      <th>22</th>\n",
       "      <td>1.51966</td>\n",
       "      <td>14.77</td>\n",
       "      <td>3.75</td>\n",
       "      <td>0.29</td>\n",
       "      <td>72.02</td>\n",
       "      <td>0.03</td>\n",
       "      <td>9.00</td>\n",
       "      <td>0.0</td>\n",
       "      <td>0.00</td>\n",
       "      <td>1</td>\n",
       "      <td>0</td>\n",
       "    </tr>\n",
       "    <tr>\n",
       "      <th>185</th>\n",
       "      <td>1.51115</td>\n",
       "      <td>17.38</td>\n",
       "      <td>0.00</td>\n",
       "      <td>0.34</td>\n",
       "      <td>75.41</td>\n",
       "      <td>0.00</td>\n",
       "      <td>6.65</td>\n",
       "      <td>0.0</td>\n",
       "      <td>0.00</td>\n",
       "      <td>6</td>\n",
       "      <td>1</td>\n",
       "    </tr>\n",
       "    <tr>\n",
       "      <th>40</th>\n",
       "      <td>1.52213</td>\n",
       "      <td>14.21</td>\n",
       "      <td>3.82</td>\n",
       "      <td>0.47</td>\n",
       "      <td>71.77</td>\n",
       "      <td>0.11</td>\n",
       "      <td>9.57</td>\n",
       "      <td>0.0</td>\n",
       "      <td>0.00</td>\n",
       "      <td>1</td>\n",
       "      <td>0</td>\n",
       "    </tr>\n",
       "    <tr>\n",
       "      <th>39</th>\n",
       "      <td>1.52213</td>\n",
       "      <td>14.21</td>\n",
       "      <td>3.82</td>\n",
       "      <td>0.47</td>\n",
       "      <td>71.77</td>\n",
       "      <td>0.11</td>\n",
       "      <td>9.57</td>\n",
       "      <td>0.0</td>\n",
       "      <td>0.00</td>\n",
       "      <td>1</td>\n",
       "      <td>0</td>\n",
       "    </tr>\n",
       "    <tr>\n",
       "      <th>51</th>\n",
       "      <td>1.52320</td>\n",
       "      <td>13.72</td>\n",
       "      <td>3.72</td>\n",
       "      <td>0.51</td>\n",
       "      <td>71.75</td>\n",
       "      <td>0.09</td>\n",
       "      <td>10.06</td>\n",
       "      <td>0.0</td>\n",
       "      <td>0.16</td>\n",
       "      <td>1</td>\n",
       "      <td>0</td>\n",
       "    </tr>\n",
       "  </tbody>\n",
       "</table>\n",
       "</div>"
      ],
      "text/plain": [
       "          ri     na    mg    al     si     k     ca   ba    fe  glass_type  \\\n",
       "id                                                                           \n",
       "22   1.51966  14.77  3.75  0.29  72.02  0.03   9.00  0.0  0.00           1   \n",
       "185  1.51115  17.38  0.00  0.34  75.41  0.00   6.65  0.0  0.00           6   \n",
       "40   1.52213  14.21  3.82  0.47  71.77  0.11   9.57  0.0  0.00           1   \n",
       "39   1.52213  14.21  3.82  0.47  71.77  0.11   9.57  0.0  0.00           1   \n",
       "51   1.52320  13.72  3.72  0.51  71.75  0.09  10.06  0.0  0.16           1   \n",
       "\n",
       "     household  \n",
       "id              \n",
       "22           0  \n",
       "185          1  \n",
       "40           0  \n",
       "39           0  \n",
       "51           0  "
      ]
     },
     "execution_count": 3,
     "metadata": {},
     "output_type": "execute_result"
    }
   ],
   "source": [
    "url = 'https://archive.ics.uci.edu/ml/machine-learning-databases/glass/glass.data'\n",
    "col_names = [ 'id','ri','na','mg','al','si','k','ca','ba','fe','glass_type' ]\n",
    "glass = pd.read_csv( url, names = col_names, index_col = 'id' )\n",
    "glass.sort_values( 'al', inplace = True )\n",
    "\n",
    "# convert the glass type into binary outcome\n",
    "# types 1, 2, 3 are window glass\n",
    "# types 5, 6, 7 are household glass\n",
    "glass['household'] = glass['glass_type'].map({ 1: 0, 2: 0, 3: 0, 5: 1, 6: 1, 7: 1 })\n",
    "glass.head()"
   ]
  },
  {
   "cell_type": "markdown",
   "metadata": {},
   "source": [
    "Our task is to predict the `household` column using the `al` column. Let's visualize the relationship between the input and output and also train the logsitic regression to see the outcome that it produces."
   ]
  },
  {
   "cell_type": "code",
   "execution_count": 4,
   "metadata": {
    "collapsed": true
   },
   "outputs": [],
   "source": [
    "logreg = LogisticRegression( C = 1e9 )\n",
    "X = glass['al'].reshape( -1, 1 ) # sklearn doesn't accept 1d-array, convert it to 2d\n",
    "y = np.array(glass['household'])\n",
    "logreg.fit( X, y )\n",
    "\n",
    "# predict the probability that each observation belongs to class 1\n",
    "# The first column indicates the predicted probability of class 0, \n",
    "# and the second column indicates the predicted probability of class 1\n",
    "glass['household_pred_prob'] = logreg.predict_proba(X)[ :, 1 ]"
   ]
  },
  {
   "cell_type": "code",
   "execution_count": 5,
   "metadata": {
    "collapsed": false
   },
   "outputs": [
    {
     "data": {
      "image/png": "[encoded data removed]",
      "text/plain": [
       "<matplotlib.figure.Figure at 0x117e6cc88>"
      ]
     },
     "metadata": {},
     "output_type": "display_data"
    }
   ],
   "source": [
    "# plot the predicted probability (familiarize yourself with the S-shape)\n",
    "plt.figure( figsize = ( 7, 5 ) )\n",
    "plt.scatter( glass['al'], glass['household'] )\n",
    "plt.plot( glass['al'], glass['household_pred_prob'] )\n",
    "plt.xlabel('al')\n",
    "plt.ylabel('household')\n",
    "plt.show()"
   ]
  },
  {
   "cell_type": "markdown",
   "metadata": {},
   "source": [
    "As we can see logistic regression can output the probabilities of obsevation belonging to a specific class and these probabilities can be converted into class predictions by choosing a cutoff value (e.g. probability higher than 0.5 is classified as class 1).\n",
    "\n",
    "\n",
    "## Logsitic Function\n",
    "\n",
    "In **Logistic Regression**, the log-odds of a categorical response being \"true\" (1) is modeled as a linear combination of the features:\n",
    "\n",
    "\\begin{align*}\n",
    "    \\log \\left({p\\over 1-p}\\right) &= w_0 + w_1x_1, ..., w_jx_j \\nonumber \\\\\n",
    "    &= w^Tx \\nonumber\n",
    "\\end{align*}\n",
    "\n",
    "Where:\n",
    "\n",
    "- $w_{0}$ is the intercept term, and $w_1$ to $w_j$ represents the parameters for all the other features (a total of j features).\n",
    "- By convention of we can assume that $x_0 = 1$, so that we can re-write the whole thing using the matrix notation $w^Tx$.\n",
    "\n",
    "This is called the **logit function**. The equation can be re-arranged into the **logistic function**:\n",
    "\n",
    "$$p = \\frac{e^{w^Tx}} {1 + e^{w^Tx}}$$\n",
    "\n",
    "Or in the more commonly seen form:\n",
    "\n",
    "$$h_w(x) = \\frac{1}{ 1 + e^{-w^Tx} }$$ \n",
    "\n",
    "Let's take a look at the plot of the function:"
   ]
  },
  {
   "cell_type": "code",
   "execution_count": 6,
   "metadata": {
    "collapsed": false
   },
   "outputs": [
    {
     "data": {
      "image/png": "[encoded data removed]",
      "text/plain": [
       "<matplotlib.figure.Figure at 0x11d1adb38>"
      ]
     },
     "metadata": {},
     "output_type": "display_data"
    }
   ],
   "source": [
    "plt.figure( figsize = ( 7, 5 ) )\n",
    "x_values = np.linspace( -5, 5, 100 )\n",
    "y_values = [ 1 / (1 + np.exp(-x) ) for x in x_values ]\n",
    "plt.plot( x_values, y_values )\n",
    "plt.title('Logsitic Function')\n",
    "plt.show()"
   ]
  },
  {
   "cell_type": "markdown",
   "metadata": {},
   "source": [
    "The **logistic function** has some nice properties. The y-value represents the probability and it is always bounded between 0 and 1, which is want we wanted for probabilities. For an x value of 0 you get a 0.5 probability. Also as you get more positive x value you get a higher probability, on the other hand, a more negative x value results in a lower probability.\n",
    "\n",
    "Toy sample code of how to predict the probability given the data and the weight is provided below."
   ]
  },
  {
   "cell_type": "code",
   "execution_count": 7,
   "metadata": {
    "collapsed": true
   },
   "outputs": [],
   "source": [
    "def predict_probability( data, weights ):\n",
    "    \"\"\"probability predicted by the logistic regression\"\"\"\n",
    "    score = np.dot( data, weights )\n",
    "    predictions = 1 / ( 1 + np.exp(-score) )    \n",
    "    return predictions"
   ]
  },
  {
   "cell_type": "markdown",
   "metadata": {},
   "source": [
    "## Interpreting the Intercept\n",
    "\n",
    "We can check at the coefficient of the logistic regression does in fact generate the log-odds."
   ]
  },
  {
   "cell_type": "code",
   "execution_count": 8,
   "metadata": {
    "collapsed": false
   },
   "outputs": [
    {
     "name": "stdout",
     "output_type": "stream",
     "text": [
      "[ 0.65638445]\n"
     ]
    },
    {
     "data": {
      "text/plain": [
       "array([ 0.65638445])"
      ]
     },
     "execution_count": 8,
     "metadata": {},
     "output_type": "execute_result"
    }
   ],
   "source": [
    "# compute predicted log-odds for al = 2 using the equation\n",
    "# convert log-odds to odds\n",
    "# convert odds to probability\n",
    "logodds = logreg.intercept_ + logreg.coef_[0] * 2\n",
    "odds = np.exp(logodds)\n",
    "prob = odds / ( 1 + odds )\n",
    "print(prob)\n",
    "\n",
    "logreg.predict_proba(2)[ :, 1 ]"
   ]
  },
  {
   "cell_type": "code",
   "execution_count": 9,
   "metadata": {
    "collapsed": false
   },
   "outputs": [
    {
     "name": "stdout",
     "output_type": "stream",
     "text": [
      "a1 [ 4.18040386]\n"
     ]
    }
   ],
   "source": [
    "# examine the coefficient for al\n",
    "print( 'a1', logreg.coef_[0] )"
   ]
  },
  {
   "cell_type": "markdown",
   "metadata": {},
   "source": [
    "**Interpretation:** 1 unit increase in `al` is associated with a 4.18 unit increase in the log-odds of the observation being classified as `household 1`. We can confirm that again by doing the calculation ourselves."
   ]
  },
  {
   "cell_type": "code",
   "execution_count": 10,
   "metadata": {
    "collapsed": false
   },
   "outputs": [
    {
     "name": "stdout",
     "output_type": "stream",
     "text": [
      "0.992058083917\n"
     ]
    },
    {
     "data": {
      "text/plain": [
       "array([ 0.99205808])"
      ]
     },
     "execution_count": 10,
     "metadata": {},
     "output_type": "execute_result"
    }
   ],
   "source": [
    "# increasing al by 1 (so that al=3) increases the log-odds by 4.18\n",
    "logodds = 0.64722323 + 4.1804038614510901\n",
    "odds = np.exp(logodds)\n",
    "prob = odds / ( 1 + odds )\n",
    "print(prob)\n",
    "\n",
    "logreg.predict_proba(3)[ :, 1 ]"
   ]
  },
  {
   "cell_type": "markdown",
   "metadata": {},
   "source": [
    "## Defining The Cost Function\n",
    "\n",
    "When utilizing logistic regression, we are trying to learn the $w$ values in order to maximize the probability of correctly classifying our glasses. Let's say someone did give us some $w$ values of the logisic regression model, how would we determine if they were good values or not? What we would hope is that for the household of class 1, the probability values are close to 1 and for the household of class 0 the probability is close to 0.\n",
    "\n",
    "But we don't care about getting the correct probability for just one observation, we want to correctly classify all our observations. If we assume our data are independent and identically distributed (think of it as all of them are treated equally), we can just take the product of all our individually calculated probabilities and that is the **cost function we want to maximize**. So in math:  \n",
    "\n",
    "$$\\prod_{class1}h_w(x)\\prod_{class0}1 - h_w(x)$$ \n",
    "\n",
    "The $\\prod$ symbol means take the product of the $h_w(x)$ for the observations that are classified as that class. You will notice that for observations that are labeled as class 0, we are taking 1 minus the logistic function. That is because we are trying to find a value to maximize, and since observations that are labeled as class 0 should have a probability close to zero, 1 minus the probability should be close to 1. Next we will re-write the original cost function as:\n",
    "\n",
    "$$\\ell(w) = \\sum_{i=1}^{N}y_{i}log(h_w(x_{i})) + (1-y_{i})log(1-h_w(x_{i}))$$\n",
    "\n",
    "Where:\n",
    "\n",
    "- We define $y_{i}$ to be 1 when the $i_{th}$ observation is labeled class 1 and 0 when labeled as class 0, then we only compute $h_w(x_{i})$ for observations that are labeled class 1 and $1 - h_w(x_{i})$ for observations that are labeled class 0, which is still the same idea as the original function.\n",
    "- Next we'll transform the original $h_w(x_{i})$ by taking the log. As we'll later see this logarithm transformation will make our cost function more convenient to work with, and because the logarithm is a monotonically increasing function, the logarithm of a function achieves its maximum value at the same points as the function itself. When we take the log, our product across all data points, it becomes a sum. See [log rules](http://www.mathwords.com/l/logarithm_rules.htm) for more details (Hint: log(ab) = log(a) + log(b)).\n",
    "- The $N$ simply represents the total number of the data.\n",
    "\n",
    "Often times you'll also see the notation above be simplified in the form of a maximum likelihood estimator:\n",
    "\n",
    "$$ \\ell(w) = \\sum_{i=1}^{N} log \\big( P( y_i \\mid x_i, w ) \\big) $$\n",
    "\n",
    "The equation above simply denotes the idea that , $\\mathbf{w}$ represents the parameters we would like to estimate the parameters $w$ by maximizing conditional probability of $y_i$ given $x_i$.\n",
    "\n",
    "Now by definition of probability in the logistic regression model: $h_w(x_{i}) = 1 \\big/ 1 + e^{-w^T x_i}$ and $1- h_w(x_{i}) = e^{ -w^T x_i } \\big/ ( 1 + e^{ -w^T x_i } )$. By substituting these expressions into our $\\ell(w)$ equation and simplifying it further we can obtain  a simpler expression."
   ]
  },
  {
   "cell_type": "markdown",
   "metadata": {},
   "source": [
    "\\begin{align*}\n",
    "    \\ell(w) &= \\sum_{i=1}^{N}y_{i}log(h_w(x_{i})) + (1-y_{i})log(1-h_w(x_{i})) \\nonumber \\\\\n",
    "    &= \\sum_{i=1}^{N} y_{i} log( \\frac{1}{ 1 + e^{ -w^T x_i } } ) + ( 1 - y_{i} )\n",
    "    log( \\frac{ e^{ -w^T x_i } }{ 1 + e^{ -w^T x_i } } ) \\nonumber \\\\\n",
    "    &= \\sum_{i=1}^{N} -y_{i} log( 1 + e^{ -w^T x_i } ) + ( 1 - y_{i} )\n",
    "    ( -w^T x_i - log( 1 + e^{ -w^T x_i } ) ) \\nonumber \\\\\n",
    "    &= \\sum_{i=1}^{N} ( y_{i} - 1 ) ( w^T x_i ) - log( 1 + e^{ -w^T x_i } ) \\nonumber\n",
    "\\end{align*}"
   ]
  },
  {
   "cell_type": "markdown",
   "metadata": {},
   "source": [
    "We'll use the formula above to compute the log likelihood for the entire dataset, which is used to assess the convergence of the algorithm. Toy code provided below."
   ]
  },
  {
   "cell_type": "code",
   "execution_count": 11,
   "metadata": {
    "collapsed": true
   },
   "outputs": [],
   "source": [
    "def compute_avg_log_likelihood( data, label, weights ):\n",
    "    \"\"\"\n",
    "    the function uses a simple check to prevent overflow problem, \n",
    "    where numbers gets too large to represent and is converted to inf\n",
    "    an example of overflow is provided below, when this problem occurs,\n",
    "    simply use the original score (without taking the exponential)\n",
    "    \n",
    "    scores = np.array( [ -10000, 200, 300 ] )\n",
    "    logexp = np.log( 1 + np.exp(-scores) )\n",
    "    logexp  \n",
    "    \"\"\"\n",
    "    scores = np.dot( data, weights )\n",
    "    logexp = np.log( 1 + np.exp(-scores) )\n",
    "    \n",
    "    # simple check to prevent overflow\n",
    "    mask = np.isinf(logexp)\n",
    "    logexp[mask] = -scores[mask]\n",
    "    \n",
    "    log_likelihood = np.sum( ( label - 1 ) * scores - logexp ) / data.shape[0]    \n",
    "    return log_likelihood"
   ]
  },
  {
   "cell_type": "markdown",
   "metadata": {},
   "source": [
    "**Note:** We made one tiny modification to the log likelihood function We added a ${1/N}$ term which averages the log likelihood accross all data points. The ${1/N}$ term will make it easier for us to compare stochastic gradient ascent with batch gradient ascent later.\n",
    "\n",
    "## Gradient\n",
    "\n",
    "Now that we obtain the formula to assess our algorithm, we'll dive into the meat of the algorithm, which is to derive the gradient for the formula (the derivative of the formula with respect to each coefficient):\n",
    "\n",
    "$$\\ell(w) = \\sum_{i=1}^{N} ( y_{i} - 1 ) ( w^T x_i ) - log( 1 + e^{ -w^T x_i } )$$\n",
    "\n",
    "And it turns out the derivative of log likelihood with respect to to a single coefficient $w_j$ is as follows (the form is the same for all coefficients):\n",
    "\n",
    "$$\n",
    "\\frac{\\partial\\ell(w)}{\\partial w_j} = \\sum_{i=1}^N (x_{ij})\\left( y_i - \\frac{1}{ 1 + e^{-w^Tx_i} } \\right )\n",
    "$$\n",
    "\n",
    "To compute it, you simply need the following two terms:\n",
    "\n",
    "- $\\left( y_i - \\frac{1}{ 1 + e^{-w^Tx_i} } \\right )$ is the vector containing the difference between the predicted probability and the original label.\n",
    "- $x_{ij}$ is the vector containing the $j_{th}$ feature's value.\n",
    " \n",
    "For detail of the derivation, consider going through the [Coursersa's Course: Washington Classification](https://www.coursera.org/learn/ml-classification), or search it up on the web. Put it in code, the formula above is simply:"
   ]
  },
  {
   "cell_type": "code",
   "execution_count": 12,
   "metadata": {
    "collapsed": true
   },
   "outputs": [],
   "source": [
    "def feature_derivative( errors, feature ):\n",
    "    derivative = np.dot( errors, feature )\n",
    "    return derivative"
   ]
  },
  {
   "cell_type": "markdown",
   "metadata": {},
   "source": [
    "## Stochastic/Mini-batch Gradient\n",
    "\n",
    "The problem with computing the gradient (or so called batched gradient) is the term $\\sum_{i=1}^{N}$. This means that we must sum the contributions over all the data points to calculate the gradient, and this can be problematic if the dataset we're studying is extremely large. Thus, in stochastic gradient, we can use a single point as an approximation to the gradient:\n",
    "\n",
    "$$\n",
    "\\frac{\\partial\\ell_i(w)}{\\partial w_j} = (x_{ij})\\left( y_i - \\frac{1}{ 1 + e^{-w^Tx_i} } \\right )\n",
    "$$\n",
    "\n",
    "**Note1:** Because the **Stochastic Gradient** algorithm uses each row of data in turn to update the gradient, if our data has some sort of implicit ordering, this will negatively affect the convergence of the algorithm. At an extreme, what if we had the data sorted so that all positive reviews came before negative reviews?  In that case, even if most reviews are negative, we might converge on an answer of +1 because we never get to see the other data. To avoid this, one practical trick is to shuffle the data before we begin so the rows are in random order.\n",
    "\n",
    "**Note2:** Stochastic gradient compute the gradient using only 1 data point to update the the parameters, while batch gradient uses all $N$ data points. An alternative to these two extremes is a simple change that allows us to use a **mini-batch** of $B \\leq N$ data points to calculate the gradient. This simple approach is faster than batch gradient but less noisy than stochastic gradient that uses only 1 data point. Given a mini-batch (or a set of data points) $\\mathbf{x}_{i}, \\mathbf{x}_{i+1} \\ldots \\mathbf{x}_{i+B}$, the gradient function for this mini-batch of data points is given by:\n",
    "\n",
    "$$\n",
    "\\sum_{s = i}^{i+B} \\frac{\\partial\\ell_s(w)}{\\partial w_j} = \\frac{1}{B} \\sum_{s = i}^{i+B} (x_{sj})\\left( y_i - \\frac{1}{ 1 + e^{-w^Tx_i} } \\right )\n",
    "$$\n",
    "\n",
    "Here, the $\\frac{1}{B}$ means that we are normalizing the gradient update rule by the batch size $B$. In other words, we update the coefficients using the **average gradient over data points** (instead of using a pure summation). By using the average gradient, we ensure that the magnitude of the gradient is approximately the same for all batch sizes. This way, we can more easily compare various batch sizes and study the effect it has on the algorithm."
   ]
  },
  {
   "cell_type": "markdown",
   "metadata": {},
   "source": [
    "## Implementation\n",
    "\n",
    "Recall our task is to find the optimal value for each individual weight to lower the cost. This requires taking the partial derivative of the cost/error function with respect to a single weight, and then running gradient descent for each individual weight to update them. Thus, for any individual weight $w_j$, we'll compute the following:\n",
    "\n",
    "$$ w_j^{(t + 1)} = w_j^{(t)} + \\alpha * \\sum_{s = i}^{i+B} \\frac{\\partial\\ell_s(w)}{\\partial w_j}$$ \n",
    "\n",
    "Where:\n",
    "\n",
    "- $\\alpha$ denotes the the learning rate or so called step size, in other places you'll see it denoted as $\\eta$.\n",
    "- $w_j^{(t)}$ denotes the weight of the $j_{th}$ feature at iteration $t$.\n",
    "\n",
    "And we'll do this iteratively for each weight, many times, until the whole network's cost function is minimized."
   ]
  },
  {
   "cell_type": "code",
   "execution_count": 13,
   "metadata": {
    "collapsed": true
   },
   "outputs": [],
   "source": [
    "# put the code together into one cell\n",
    "\n",
    "def predict_probability( data, weights ):\n",
    "    \"\"\"probability predicted by the logistic regression\"\"\"\n",
    "    score = np.dot( data, weights )\n",
    "    predictions = 1 / ( 1 + np.exp(-score) )    \n",
    "    return predictions\n",
    "\n",
    "def compute_avg_log_likelihood( data, label, weights ):\n",
    "    \"\"\"\n",
    "    the function uses a simple check to prevent overflow problem, \n",
    "    where numbers gets too large to represent and is converted to inf\n",
    "    an example of overflow is provided below, when this problem occurs,\n",
    "    simply use the original score (without taking the exponential)\n",
    "    \n",
    "    scores = np.array( [ -10000, 200, 300 ] )\n",
    "    logexp = np.log( 1 + np.exp(-scores) )\n",
    "    logexp  \n",
    "    \"\"\"\n",
    "    scores = np.dot( data, weights )\n",
    "    logexp = np.log( 1 + np.exp(-scores) )\n",
    "    \n",
    "    # simple check to prevent overflow\n",
    "    mask = np.isinf(logexp)\n",
    "    logexp[mask] = -scores[mask]\n",
    "    \n",
    "    log_likelihood = np.sum( ( label - 1 ) * scores - logexp ) / data.shape[0]    \n",
    "    return log_likelihood"
   ]
  },
  {
   "cell_type": "code",
   "execution_count": 14,
   "metadata": {
    "collapsed": false
   },
   "outputs": [],
   "source": [
    "def logistic_regression( data, label, step_size, batch_size, max_iter ):\n",
    "     \n",
    "    # weights of the model are initialized as zero\n",
    "    data_num = data.shape[0]\n",
    "    feature_num = data.shape[1]   \n",
    "    weights = np.zeros(data.shape[1])\n",
    "    \n",
    "    # `i` keeps track of the starting index of current batch\n",
    "    # and shuffle the data before starting\n",
    "    i = 0 \n",
    "    permutation = np.random.permutation(data_num)\n",
    "    data, label = data[permutation], label[permutation]\n",
    "      \n",
    "    # do a linear scan over data, for each iteration update the weight using \n",
    "    # batches of data, and store the log likelihood record to visualize convergence\n",
    "    log_likelihood_record = []\n",
    "    for _ in range(max_iter):\n",
    "        \n",
    "        # extract the batched data and label use it to compute\n",
    "        # the predicted probability using the current weight and the errors\n",
    "        batch = slice( i, i + batch_size )\n",
    "        batch_data, batch_label = data[batch], label[batch]\n",
    "        predictions = predict_probability( batch_data, weights )\n",
    "        errors = batch_label - predictions\n",
    "        \n",
    "        # loop over each coefficient to compute the derivative and update the weight\n",
    "        for j in range(feature_num): \n",
    "            derivative = np.dot( errors, batch_data[ :, j ] )      \n",
    "            weights[j] += step_size * derivative / batch_size\n",
    "        \n",
    "        # track whether log likelihood is increasing after\n",
    "        # each weight update\n",
    "        log_likelihood = compute_avg_log_likelihood(\n",
    "            data = batch_data, \n",
    "            label = batch_label,\n",
    "            weights = weights\n",
    "        )\n",
    "        log_likelihood_record.append(log_likelihood)\n",
    "               \n",
    "        # update starting index of for the batches\n",
    "        # and if we made a complete pass over data, shuffle again \n",
    "        # and refresh the index that keeps track of the batch\n",
    "        i += batch_size\n",
    "        if i + batch_size > data_num:\n",
    "            permutation = np.random.permutation(data_num)\n",
    "            data, label = data[permutation], label[permutation]\n",
    "            i = 0\n",
    "                \n",
    "    # We return the list of log likelihoods for plotting purposes.\n",
    "    return weights, log_likelihood_record"
   ]
  },
  {
   "cell_type": "markdown",
   "metadata": {},
   "source": [
    "## Comparing Result and Convergence Behavior\n",
    "\n",
    "We'll use the logistic regression code that we've implemented and compare the predicted auc score with the scikit-learn's implementation. This only serves to check that the predicted results are similar and that our toy code is correctly implemented. Then we'll also explore the convergence difference between batch gradient descent and stochastic gradient descent."
   ]
  },
  {
   "cell_type": "code",
   "execution_count": 15,
   "metadata": {
    "collapsed": false
   },
   "outputs": [],
   "source": [
    "# manually append the coefficient term\n",
    "data = np.c_[ np.ones(X.shape[0]), X ]\n",
    "\n",
    "# using our logistic regression code\n",
    "weights_batch, log_likelihood_batch = logistic_regression(\n",
    "    data = data,\n",
    "    label = np.array(y),\n",
    "    step_size = 5e-1, \n",
    "    batch_size = X.shape[0], # batch gradient descent\n",
    "    max_iter = 200\n",
    ")"
   ]
  },
  {
   "cell_type": "code",
   "execution_count": 16,
   "metadata": {
    "collapsed": false
   },
   "outputs": [
    {
     "name": "stdout",
     "output_type": "stream",
     "text": [
      "auc 0.869902562252 0.869902562252\n"
     ]
    }
   ],
   "source": [
    "# compare both logistic regression's auc score\n",
    "logreg = LogisticRegression( C = 1e9 )\n",
    "logreg.fit( X, y )\n",
    "pred_prob = logreg.predict_proba(X)[ :, 1 ]\n",
    "\n",
    "proba = predict_probability( data, weights_batch )\n",
    "\n",
    "# check that the auc score is similar\n",
    "auc1 = metrics.roc_auc_score( y, pred_prob )\n",
    "auc2 = metrics.roc_auc_score( y, proba )\n",
    "print( 'auc', auc1, auc2 )"
   ]
  },
  {
   "cell_type": "code",
   "execution_count": 17,
   "metadata": {
    "collapsed": false
   },
   "outputs": [
    {
     "name": "stdout",
     "output_type": "stream",
     "text": [
      "[-7.71358449] [ 4.18040386]\n",
      "[-3.96151729  1.90643504]\n"
     ]
    }
   ],
   "source": [
    "# the weight may be different, because there's a regularization term C\n",
    "# when using the Logistic Regression code from scikit learn\n",
    "print( logreg.intercept_, logreg.coef_[0] )\n",
    "print(weights_batch)"
   ]
  },
  {
   "cell_type": "code",
   "execution_count": 18,
   "metadata": {
    "collapsed": true
   },
   "outputs": [],
   "source": [
    "weights_sgd, log_likelihood_sgd = logistic_regression(\n",
    "    data = data,\n",
    "    label = y,\n",
    "    step_size = 5e-1, \n",
    "    batch_size = 30, # stochastic gradient descent\n",
    "    max_iter = 200\n",
    ")"
   ]
  },
  {
   "cell_type": "code",
   "execution_count": 19,
   "metadata": {
    "collapsed": true
   },
   "outputs": [],
   "source": [
    "weights_minibatch, log_likelihood_minibatch = logistic_regression(\n",
    "    data = data,\n",
    "    label = y,\n",
    "    step_size = 5e-1, \n",
    "    batch_size = 100, # mini-batch gradient descent\n",
    "    max_iter = 200\n",
    ")"
   ]
  },
  {
   "cell_type": "code",
   "execution_count": 20,
   "metadata": {
    "collapsed": false
   },
   "outputs": [
    {
     "data": {
      "image/png": "[encoded data removed]",
      "text/plain": [
       "<matplotlib.figure.Figure at 0x11d2bd128>"
      ]
     },
     "metadata": {},
     "output_type": "display_data"
    }
   ],
   "source": [
    "# we can see that the it's a good idea to use mini-batch gradient descent\n",
    "# since it strikes a good balance between batch gradient, which convergences \n",
    "# steadily but can be computationly too expensive when the dataset is too large,\n",
    "# and stochastic gradient, which is faster to train, but the result can be too noisy\n",
    "plt.figure( figsize = ( 10, 7 ) )\n",
    "plt.plot( log_likelihood_sgd, label = 'stochastic gradient descent' )\n",
    "plt.plot( log_likelihood_batch, label = 'batch gradient descent' )\n",
    "plt.plot( log_likelihood_minibatch, label = 'mini-batch gradient descent' )\n",
    "plt.legend( loc = 'best' )\n",
    "plt.xlabel('# of iterations')\n",
    "plt.ylabel('Average log likelihood')\n",
    "plt.title('Convergence Plot')\n",
    "plt.show()"
   ]
  },
  {
   "cell_type": "markdown",
   "metadata": {},
   "source": [
    "## Pros and Cons of Logistic Regression\n",
    "\n",
    "**Pros:**\n",
    "\n",
    "- Highly interpretable (if you remember how).\n",
    "- Model training and prediction are fast.\n",
    "- Almost no parameter tuning is required (excluding regularization).\n",
    "- Outputs well-calibrated predicted probabilities.\n",
    "\n",
    "**Cons:**\n",
    "\n",
    "- Presumes a linear relationship between the features\n",
    "- Performance is (generally) not competitive with the best supervised learning methods.\n",
    "- Can't automatically learn feature interactions."
   ]
  },
  {
   "cell_type": "markdown",
   "metadata": {},
   "source": [
    "## Reference\n",
    "\n",
    "- [Coursersa's Course: Washington Classification](https://www.coursera.org/learn/ml-classification)\n",
    "- [General Assembly's Data Science Course's Notebook on Logistic Regression](http://nbviewer.jupyter.org/github/justmarkham/DAT8/blob/master/notebooks/12_logistic_regression.ipynb)"
   ]
  }
 ],
 "metadata": {
  "kernelspec": {
   "display_name": "Python 3",
   "language": "python",
   "name": "python3"
  },
  "language_info": {
   "codemirror_mode": {
    "name": "ipython",
    "version": 3
   },
   "file_extension": ".py",
   "mimetype": "text/x-python",
   "name": "python",
   "nbconvert_exporter": "python",
   "pygments_lexer": "ipython3",
   "version": "3.5.1"
  }
 },
 "nbformat": 4,
 "nbformat_minor": 0
}
