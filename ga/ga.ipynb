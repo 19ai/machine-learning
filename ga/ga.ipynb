{
 "cells": [
  {
   "cell_type": "code",
   "execution_count": 1,
   "metadata": {
    "collapsed": false
   },
   "outputs": [
    {
     "data": {
      "text/html": [
       "<style>\n",
       "@import url('http://fonts.googleapis.com/css?family=Source+Code+Pro');\n",
       "@import url('http://fonts.googleapis.com/css?family=Vollkorn');\n",
       "@import url('http://fonts.googleapis.com/css?family=Arimo');\n",
       "@import url('http://fonts.googleapis.com/css?family=Fira_sans');\n",
       "    \n",
       "    div.cell {\n",
       "        width: 1000px;\n",
       "        margin-left: 0% !important;\n",
       "        margin-right: auto;\n",
       "    }\n",
       "    div.text_cell code {\n",
       "        background: transparent;\n",
       "        color: #000000;\n",
       "        font-weight: 600;\n",
       "        font-size: 12pt;\n",
       "        font-style: bold;\n",
       "        font-family:  'Source Code Pro', Consolas, monocco, monospace;\n",
       "    }\n",
       "    h1 {\n",
       "        font-family: 'Open sans',verdana,arial,sans-serif;\n",
       "\t}\n",
       "\t\n",
       "    div.input_area {\n",
       "        background: #F6F6F9;\n",
       "        border: 1px solid #586e75;\n",
       "    }\n",
       "\n",
       "    .text_cell_render h1 {\n",
       "        font-weight: 200;\n",
       "        font-size: 30pt;\n",
       "        line-height: 100%;\n",
       "        color:#c76c0c;\n",
       "        margin-bottom: 0.5em;\n",
       "        margin-top: 1em;\n",
       "        display: block;\n",
       "        white-space: wrap;\n",
       "        text-align: left;\n",
       "    } \n",
       "    h2 {\n",
       "        font-family: 'Open sans',verdana,arial,sans-serif;\n",
       "        text-align: left;\n",
       "    }\n",
       "    .text_cell_render h2 {\n",
       "        font-weight: 200;\n",
       "        font-size: 16pt;\n",
       "        font-style: italic;\n",
       "        line-height: 100%;\n",
       "        color:#c76c0c;\n",
       "        margin-bottom: 0.5em;\n",
       "        margin-top: 1.5em;\n",
       "        display: block;\n",
       "        white-space: wrap;\n",
       "        text-align: left;\n",
       "    } \n",
       "    h3 {\n",
       "        font-family: 'Open sans',verdana,arial,sans-serif;\n",
       "    }\n",
       "    .text_cell_render h3 {\n",
       "        font-weight: 200;\n",
       "        font-size: 14pt;\n",
       "        line-height: 100%;\n",
       "        color:#d77c0c;\n",
       "        margin-bottom: 0.5em;\n",
       "        margin-top: 2em;\n",
       "        display: block;\n",
       "        white-space: wrap;\n",
       "        text-align: left;\n",
       "    }\n",
       "    h4 {\n",
       "        font-family: 'Open sans',verdana,arial,sans-serif;\n",
       "    }\n",
       "    .text_cell_render h4 {\n",
       "        font-weight: 100;\n",
       "        font-size: 14pt;\n",
       "        color:#d77c0c;\n",
       "        margin-bottom: 0.5em;\n",
       "        margin-top: 0.5em;\n",
       "        display: block;\n",
       "        white-space: nowrap;\n",
       "    }\n",
       "    h5 {\n",
       "        font-family: 'Open sans',verdana,arial,sans-serif;\n",
       "    }\n",
       "    .text_cell_render h5 {\n",
       "        font-weight: 200;\n",
       "        font-style: normal;\n",
       "        color: #1d3b84;\n",
       "        font-size: 16pt;\n",
       "        margin-bottom: 0em;\n",
       "        margin-top: 0.5em;\n",
       "        display: block;\n",
       "        white-space: nowrap;\n",
       "    }\n",
       "    div.text_cell_render{\n",
       "        font-family: 'Fira sans', verdana,arial,sans-serif;\n",
       "        line-height: 125%;\n",
       "        font-size: 115%;\n",
       "        text-align:justify;\n",
       "        text-justify:inter-word;\n",
       "    }\n",
       "    div.output_wrapper{\n",
       "        margin-top:0.2em;\n",
       "        margin-bottom:0.2em;\n",
       "    }\n",
       "\n",
       "    code{\n",
       "      font-size: 70%;\n",
       "    }\n",
       "    .rendered_html code{\n",
       "    background-color: transparent;\n",
       "    }\n",
       "    ul{\n",
       "        margin: 2em;\n",
       "    }\n",
       "    ul li{\n",
       "        padding-left: 0.5em; \n",
       "        margin-bottom: 0.5em; \n",
       "        margin-top: 0.5em; \n",
       "    }\n",
       "    ul li li{\n",
       "        padding-left: 0.2em; \n",
       "        margin-bottom: 0.2em; \n",
       "        margin-top: 0.2em; \n",
       "    }\n",
       "    ol{\n",
       "        margin: 2em;\n",
       "    }\n",
       "    ol li{\n",
       "        padding-left: 0.5em; \n",
       "        margin-bottom: 0.5em; \n",
       "        margin-top: 0.5em; \n",
       "    }\n",
       "    ul li{\n",
       "        padding-left: 0.5em; \n",
       "        margin-bottom: 0.5em; \n",
       "        margin-top: 0.2em; \n",
       "    }\n",
       "    a:link{\n",
       "       font-weight: bold;\n",
       "       color:#447adb;\n",
       "    }\n",
       "    a:visited{\n",
       "       font-weight: bold;\n",
       "       color: #1d3b84;\n",
       "    }\n",
       "    a:hover{\n",
       "       font-weight: bold;\n",
       "       color: #1d3b84;\n",
       "    }\n",
       "    a:focus{\n",
       "       font-weight: bold;\n",
       "       color:#447adb;\n",
       "    }\n",
       "    a:active{\n",
       "       font-weight: bold;\n",
       "       color:#447adb;\n",
       "    }\n",
       "    .rendered_html :link {\n",
       "       text-decoration: underline; \n",
       "    }\n",
       "    .rendered_html :hover {\n",
       "       text-decoration: none; \n",
       "    }\n",
       "    .rendered_html :visited {\n",
       "      text-decoration: none;\n",
       "    }\n",
       "    .rendered_html :focus {\n",
       "      text-decoration: none;\n",
       "    }\n",
       "    .rendered_html :active {\n",
       "      text-decoration: none;\n",
       "    }\n",
       "    .warning{\n",
       "        color: rgb( 240, 20, 20 )\n",
       "    } \n",
       "    hr {\n",
       "      color: #f3f3f3;\n",
       "      background-color: #f3f3f3;\n",
       "      height: 1px;\n",
       "    }\n",
       "    blockquote{\n",
       "      display:block;\n",
       "      background: #fcfcfc;\n",
       "      border-left: 5px solid #c76c0c;\n",
       "      font-family: 'Open sans',verdana,arial,sans-serif;\n",
       "      width:680px;\n",
       "      padding: 10px 10px 10px 10px;\n",
       "      text-align:justify;\n",
       "      text-justify:inter-word;\n",
       "      }\n",
       "      blockquote p {\n",
       "        margin-bottom: 0;\n",
       "        line-height: 125%;\n",
       "        font-size: 100%;\n",
       "      }\n",
       "</style>\n",
       "<script>\n",
       "    MathJax.Hub.Config({\n",
       "                        TeX: {\n",
       "                           extensions: [\"AMSmath.js\"]\n",
       "                           },\n",
       "                tex2jax: {\n",
       "                    inlineMath: [ ['$','$'], [\"\\\\(\",\"\\\\)\"] ],\n",
       "                    displayMath: [ ['$$','$$'], [\"\\\\[\",\"\\\\]\"] ]\n",
       "                },\n",
       "                displayAlign: 'center', // Change this to 'center' to center equations.\n",
       "                \"HTML-CSS\": {\n",
       "                    scale:100,\n",
       "                        availableFonts: [],\n",
       "                        preferredFont:null,\n",
       "                        webFont: \"TeX\",\n",
       "                    styles: {'.MathJax_Display': {\"margin\": 4}}\n",
       "                }\n",
       "        });\n",
       "</script>\n"
      ],
      "text/plain": [
       "<IPython.core.display.HTML object>"
      ]
     },
     "execution_count": 1,
     "metadata": {},
     "output_type": "execute_result"
    }
   ],
   "source": [
    "# code for loading the format for the notebook\n",
    "import os\n",
    "\n",
    "# path : store the current path to convert back to it later\n",
    "path = os.getcwd()\n",
    "os.chdir('../notebook_format')\n",
    "from formats import load_style\n",
    "load_style()"
   ]
  },
  {
   "cell_type": "code",
   "execution_count": 2,
   "metadata": {
    "collapsed": false
   },
   "outputs": [
    {
     "name": "stdout",
     "output_type": "stream",
     "text": [
      "Ethen 2016-08-03 23:16:42 \n",
      "\n",
      "CPython 3.5.2\n",
      "IPython 4.2.0\n",
      "\n",
      "numpy 1.11.1\n",
      "pandas 0.18.1\n",
      "matplotlib 1.5.1\n"
     ]
    }
   ],
   "source": [
    "os.chdir(path)\n",
    "%matplotlib inline\n",
    "import numpy as np\n",
    "import pandas as pd\n",
    "import matplotlib.pyplot as plt\n",
    "plt.rcParams['figure.figsize'] = 8, 6 # change default figure size\n",
    "\n",
    "# 1. magic to print version\n",
    "# 2. magic so that the notebook will reload external python modules\n",
    "%load_ext watermark\n",
    "%load_ext autoreload \n",
    "%autoreload 2\n",
    "\n",
    "%watermark -a 'Ethen' -d -t -v -p numpy,pandas,matplotlib"
   ]
  },
  {
   "cell_type": "markdown",
   "metadata": {},
   "source": [
    "# Genetic Algorithm\n",
    "\n",
    "**Genetic Algorithm (GA)** is a class of algorithms that is used for optimization. They find better answers to a \"defined\" question.\n",
    "\n",
    "The intuition for **GA** is that they generate a bunch of \"answer candidates\" and use some sort of feedback to figure out how close the candidate is to the \"optimal\" solution. During the process, far-from-optimal candidates gets dropped and are never seen again, while close-to-optimal candidates are combined with each other and maybe mutate slightly to see if they can get closer to optimal. The mutation is an attempt to modify the candidates from time to time to prevent the solution from getting stuck at the local optima.\n",
    "\n",
    "\n",
    "## Chromosome\n",
    "\n",
    "The \"answer candidates\" mentioned above are called **chromosomes**, which is the representation of a solution candidate.\n",
    "\n",
    "**Chromosomes** mate and mutate to produce offspring. They either die due to survival of the fittest, or are allowed to produce offspring who may have more desirable traits and adhere to natural selection.\n",
    "\n",
    "Suppose We're trying to optimize a very simple problem: trying to create a list of `N` integer numbers that equal `X` when summed together. If we set `N = 5` and `X = 200`, then our **chromosomes** will simply be a list (an array) with length of 5. Here is one possible **chromosome** that could be a solution candidate for our problem:"
   ]
  },
  {
   "cell_type": "code",
   "execution_count": 3,
   "metadata": {
    "collapsed": false
   },
   "outputs": [
    {
     "data": {
      "text/plain": [
       "array([63, 56, 91, 27, 92])"
      ]
     },
     "execution_count": 3,
     "metadata": {},
     "output_type": "execute_result"
    }
   ],
   "source": [
    "chromo_size = 5\n",
    "low  = 0 # we want our solution to be bounded between 0 to 100 (inclusive)\n",
    "high = 100\n",
    "\n",
    "np.random.randint( low, high + 1, chromo_size )"
   ]
  },
  {
   "cell_type": "markdown",
   "metadata": {},
   "source": [
    "## Population\n",
    "\n",
    "The collection of chromosomes is referred to as our **population**. When you run a GA, you don't just look at one chromosome at a time. You might have a **population** of 20 or 100 or 5,000 chromosomes going all at once."
   ]
  },
  {
   "cell_type": "code",
   "execution_count": 4,
   "metadata": {
    "collapsed": false
   },
   "outputs": [
    {
     "data": {
      "text/plain": [
       "array([[  0, 100,  67,  56,  25],\n",
       "       [ 31,   5,  46,   3,  86],\n",
       "       [  8,  37,  32,  97,  88],\n",
       "       [ 19,  35,  29,  24,  17],\n",
       "       [ 79,   6,  84,  90,  29],\n",
       "       [ 47,  15,  92,  85,  74]])"
      ]
     },
     "execution_count": 4,
     "metadata": {},
     "output_type": "execute_result"
    }
   ],
   "source": [
    "pop_size = 6\n",
    "\n",
    "pop = np.random.randint( low, high + 1, ( pop_size, chromo_size ) )\n",
    "pop"
   ]
  },
  {
   "cell_type": "markdown",
   "metadata": {},
   "source": [
    "## Cost Function\n",
    "\n",
    "But given all those randomly generated chromosomes, how do we measure the optimality of a chromosome and find the \"correct\" (or globally-optimum) chromosome?\n",
    "\n",
    "The **cost function** (or error function, or fitness function as the inverse) is some sort of measure of the optimality of a chromosome. If we're calling it \"fitness function\" then we're shooting for higher scores, and if we're using \"cost function\" then we're looking for low scores.\n",
    "\n",
    "In this case, we might define a **cost function** to be the absolute difference between the sum of the and the target number `X`. The reason we're using the square of the difference is so that we never end up with a negative cost, you can choose to square it if you want to.\n",
    "\n",
    "In this case, since this problem is easy and contrived, we know that we're shooting for a cost of 0 (our sum of the numbers in the chromosome equals exactly to our target number) and that we can stop there. Sometimes that's not the case. Sometimes you're just looking for the lowest cost you can find, and need to figure out different ways to end the calculation. Other times you're looking for the highest fitness score you can find, and similarly need to figure out some other criteria to use to stop the calculation.\n",
    "\n",
    "Using that rule as a cost function, we can calculate the costs of our population (each collection of chromosomes)."
   ]
  },
  {
   "cell_type": "code",
   "execution_count": 5,
   "metadata": {
    "collapsed": false
   },
   "outputs": [
    {
     "name": "stdout",
     "output_type": "stream",
     "text": [
      "chromo [0, 100, 67, 56, 25]'s cost is 48\n",
      "chromo [31, 5, 46, 3, 86]'s cost is 29\n",
      "chromo [8, 37, 32, 97, 88]'s cost is 62\n",
      "chromo [19, 35, 29, 24, 17]'s cost is 76\n",
      "chromo [79, 6, 84, 90, 29]'s cost is 88\n",
      "chromo [47, 15, 92, 85, 74]'s cost is 113\n"
     ]
    }
   ],
   "source": [
    "# determine the cost of an chromosome. lower is better\n",
    "target = 200\n",
    "cost = np.abs( np.sum( pop, axis = 1 ) - target )\n",
    "\n",
    "# combine the cost and chromosome into one list\n",
    "graded = [ ( c, list(p) ) for p, c in zip( pop, cost ) ]\n",
    "for cost, chromo in graded:\n",
    "    print( \"chromo {}'s cost is {}\".format( chromo, cost ) )"
   ]
  },
  {
   "cell_type": "code",
   "execution_count": 6,
   "metadata": {
    "collapsed": false
   },
   "outputs": [
    {
     "name": "stdout",
     "output_type": "stream",
     "text": [
      "code above will break\n"
     ]
    }
   ],
   "source": [
    "# side note, we're converting the array to a list in `list(p)` since\n",
    "# if the cost for two chromosomes are the same, then the sorting will break\n",
    "# when the second element is an array\n",
    "\"\"\"\n",
    "test1 = ( 30, np.array(( 1, 2, 4 )) )\n",
    "test2 = ( 30, np.array(( 3, 4, 5 )) )\n",
    "sorted([test1, test2])\n",
    "\"\"\"\n",
    "print('code above will break')"
   ]
  },
  {
   "cell_type": "markdown",
   "metadata": {},
   "source": [
    "## Evolution - Crossover\n",
    "\n",
    "Just like in evolution, you might be inclined to have the best and strongest chromosomes of the population mate with each other (The technical term for mating is **crossover**), with the hope that their offspring will be even healthier than either parent.\n",
    "\n",
    "For each generation we'll retain a portion of the best performing chromosomes as judged by our cost/fitness function (the portion is a parameter that you can tune). These high-performers will be the parents of the next **generation**, or more intuitely, the next iteration.\n",
    "\n",
    "Mating these parents is also very simple. You randomly pick two chromosomes, a male and a female (just a metaphor), and pick a point in the middle. This point can be dead-center if you want, or randomized if you prefer. Take that middle point (called a \"pivot\" point), and make two new chromosomes by combining the first half of one with the second half of the other and vice versa (It's usually recommended to use even numbers as your population size).\n",
    "\n",
    "By repeating the mating step, we repopulate the population to its desired size for the next **generation**. e.g. if you take the top 30 chromosomes in a population of 100, then you'd need to create 100 new chromosomes by mating them."
   ]
  },
  {
   "cell_type": "markdown",
   "metadata": {},
   "source": [
    "## Evolution - Mutation\n",
    "\n",
    "**Crossover** is the main step of how you get from one generation of chromosomes to the next, but it alone has a problem: If all you do is mate your candidates to go from generation to generation, you'll have a chance of getting stuck near a \"local optimum, an answer that's pretty good but not necessarily the \"global optimum\" (the best you can hope for).\n",
    "\n",
    "A GA would achieve very little if not for the combined effects of both **crossover** and **mutation**. **Crossover** helps discover more optimal solutions from already-good solutions, but it's the **mutation** that pushes the search for solutions in new directions.\n",
    "\n",
    "**Mutation** is a completely random process by which you target an unsuspecting chromosome and blast it with just enough radiation to make one of its elements randomly change. How and when you mutate is up to you. e.g. If you choose a **mutation rate** of 0.1 (again any rate you want). Then if you randomly generated a number from 0 to 1 and if it happens to be below 0.1, the chromosome will **mutate**. \n",
    "\n",
    "As for the **mutation**, it can be randomly picking a element of the chromosome and add the number by 5, dividing the number by 2 or change it to a randomly generated number. Do whatever you want with it as long as it's relevant to the context of the problem. Like in the beginning of our problem, we set a maximum and minimum boundary when generating our initial values for each of the chromosome `min = 0 max = 100`. Then for our **mutation**, we can restrict our mutated number to be within this boundary (not really necessary here, but more problems that have indispensible boundaries this is crucial). And if we cross that border we can simply set it back to the value of that border (e.g. the mutated number is 102, we can simply squeeze it back to 100, our upper bound)."
   ]
  },
  {
   "cell_type": "markdown",
   "metadata": {},
   "source": [
    "## Recap\n",
    "\n",
    "The basic building blocks (parameters) of GA consists of: \n",
    "\n",
    "- **Chromosomes**. Representations of candidate solutions to your problem. They consist of the representation itself (in our case, a N element list)\n",
    "- **Population**. A group of chromosomes. The population will remain the same size (you get to choose your population size.), but will typically evolve to better cost/fitness scores over time.\n",
    "- **Cost/Fitness Function**. Used to evaluate your answer.\n",
    "- The ability to **Crossover** and **Mutate**.\n",
    "- The population experiences mutiple **generations** (iterations, this is a user-specified parameter).\n",
    "\n",
    "And a typical GA takes the form of:\n",
    "\n",
    "1. Initialize a population. Just fill it with completely random chromosomes that does not step over the boundary, if there is one.\n",
    "2. Calculate the cost/fitness score for each chromosomes.\n",
    "3. Sort the chromosomes by the user-defined cost/fitness score.\n",
    "4. Retain a certain number of the parent chromosomes, where you get to pick the number of chromosome that will retain.\n",
    "5. Mate the retained parent chromosomes to generate the children chromosomes. You can decide how you want to mate them. This process will keep going until the number of children chromosome is the same as the number of the original parent chromosome. \n",
    "6. Mutate the children chromosomes at random. Again, you can decide how to do this (resticted to the boundary).\n",
    "7. Compare the parent chromosomes and the children chromosomes and choose the best ones (e.g. you have 100 parent chromosomes and generated 100 children chromosomes, you compare 200 chromosomes and retain the best 100 chromosomes). In other words, we're killing the poorly performed children.\n",
    "8. If the algorithm has not met some kind of completion criteria, return to step 2 with the new chromosomes. The completion criteria for this example is pretty simple: stop when you get a cost of 0. But this isn't always the case. Sometimes you don't know the minimum achievable cost. Or, if you're using fitness instead of cost, you may not know the maximum possible fitness. In those cases you can stop the algorithm if the best score hasn't changed in 100 generations (iterations), or any other number depending on how much time are you willing to wait or the computation resources that you have, and use that as your answer.\n",
    "\n",
    "---\n",
    "\n",
    "Putting it all together, the code might look something like [this](https://github.com/ethen8181/machine-learning/blob/master/ga/ga.py) (code on github)."
   ]
  },
  {
   "cell_type": "code",
   "execution_count": 7,
   "metadata": {
    "collapsed": false
   },
   "outputs": [],
   "source": [
    "from ga import GA"
   ]
  },
  {
   "cell_type": "code",
   "execution_count": 8,
   "metadata": {
    "collapsed": false
   },
   "outputs": [
    {
     "data": {
      "text/plain": [
       "<ga.GA at 0x1079a06d8>"
      ]
     },
     "execution_count": 8,
     "metadata": {},
     "output_type": "execute_result"
    }
   ],
   "source": [
    "# calls the genetic algorithm\n",
    "ga1 = GA( \n",
    "    generation = 10, \n",
    "    pop_size = 50, \n",
    "    chromo_size = 5, \n",
    "    low = 0, \n",
    "    high = 100, \n",
    "    retain_rate = 0.5, \n",
    "    mutate_rate = 0.2\n",
    ")\n",
    "ga1.fit( target = 200 )"
   ]
  },
  {
   "cell_type": "code",
   "execution_count": 9,
   "metadata": {
    "collapsed": false
   },
   "outputs": [
    {
     "data": {
      "text/plain": [
       "[info(cost=0, chromo=[25, 75, 17, 16, 67]),\n",
       " info(cost=0, chromo=[25, 75, 17, 16, 67]),\n",
       " info(cost=0, chromo=[25, 75, 17, 16, 67]),\n",
       " info(cost=0, chromo=[9, 85, 86, 14, 6]),\n",
       " info(cost=0, chromo=[9, 85, 86, 14, 6]),\n",
       " info(cost=0, chromo=[9, 85, 86, 14, 6]),\n",
       " info(cost=0, chromo=[9, 85, 86, 14, 6]),\n",
       " info(cost=0, chromo=[9, 85, 86, 14, 6]),\n",
       " info(cost=0, chromo=[9, 85, 86, 14, 6]),\n",
       " info(cost=0, chromo=[9, 85, 86, 14, 6])]"
      ]
     },
     "execution_count": 9,
     "metadata": {},
     "output_type": "execute_result"
    }
   ],
   "source": [
    "# the best chromo and its cost during each generation (iteration)\n",
    "ga1.generation_history"
   ]
  },
  {
   "cell_type": "code",
   "execution_count": 10,
   "metadata": {
    "collapsed": false
   },
   "outputs": [
    {
     "data": {
      "text/plain": [
       "info(cost=0, chromo=[9, 85, 86, 14, 6])"
      ]
     },
     "execution_count": 10,
     "metadata": {},
     "output_type": "execute_result"
    }
   ],
   "source": [
    "# the overall best\n",
    "ga1.best"
   ]
  },
  {
   "cell_type": "markdown",
   "metadata": {},
   "source": [
    "Even though we defined our generation number to be 10, we can reach our goal for only a small iteration count. Thus for problems where you don't the optimal answer, it's best to define a stopping criteria, instead of letting it run wild.\n",
    "\n",
    "## Supplement\n",
    "\n",
    "Recall that in the beginning, we said that Genetic Algorithm (GA) is a class of algorithms that is used for optimization. The term \"is a class of algorithms\" means that there're many different variations of GA. For example, in the evolution stage, instead of retaining a portion of the best performing chromosomes as judged by our cost/fitness function liked we mentioned above, we can throw darts to decide who gets to stay. \n",
    "\n",
    "By thowing darts, we are simply saying that we have some probability to select some of the lesser performing chromosomes in the current generation to be considered for the evolution stage. This *MIGHT* decrease our likelihood of getting stuck in the local optima. Example below:"
   ]
  },
  {
   "cell_type": "code",
   "execution_count": 11,
   "metadata": {
    "collapsed": false
   },
   "outputs": [
    {
     "name": "stdout",
     "output_type": "stream",
     "text": [
      "chromo [0, 100, 67, 56, 25]'s cost is 48 and it has a 0.11538461538461539 prob\n",
      "chromo [31, 5, 46, 3, 86]'s cost is 29 and it has a 0.06971153846153846 prob\n",
      "chromo [8, 37, 32, 97, 88]'s cost is 62 and it has a 0.14903846153846154 prob\n",
      "chromo [19, 35, 29, 24, 17]'s cost is 76 and it has a 0.18269230769230768 prob\n",
      "chromo [79, 6, 84, 90, 29]'s cost is 88 and it has a 0.21153846153846154 prob\n",
      "chromo [47, 15, 92, 85, 74]'s cost is 113 and it has a 0.27163461538461536 prob\n"
     ]
    }
   ],
   "source": [
    "\"\"\"\n",
    "we have our chromosome and cost, the sum of the cost will be \n",
    "the probability's denominator, while the probability's numerator\n",
    "is each chromo's cost (NOTE THAT THIS FOR MAXIMIZATION PROBLEM)\n",
    "\"\"\"\n",
    "denominator = 0\n",
    "for cost, chromo in graded:\n",
    "    denominator += cost\n",
    "\n",
    "# the chromo, the cost and its probability of getting chosen as the\n",
    "# parent used for evolution\n",
    "for cost, chromo in graded:\n",
    "    prob = cost / denominator\n",
    "    print( \"chromo {}'s cost is {} and it has a {} prob\".format( chromo, cost, prob ) )"
   ]
  },
  {
   "cell_type": "markdown",
   "metadata": {},
   "source": [
    "As you can see, we're not restricted to choose only the \"best\" chromosomes to be considered for the evolution stage. Each chromosome has a chance of being chosen, but we of course, are still in favor of the chromosomes that are performing well (has a higher probability of getting chosen)."
   ]
  },
  {
   "cell_type": "code",
   "execution_count": 12,
   "metadata": {
    "collapsed": false
   },
   "outputs": [
    {
     "name": "stdout",
     "output_type": "stream",
     "text": [
      "chromo [0, 100, 67, 56, 25]'s cost is 48 and it has a 0.19876059981474883 prob\n",
      "chromo [31, 5, 46, 3, 86]'s cost is 29 and it has a 0.3289830617623429 prob\n",
      "chromo [8, 37, 32, 97, 88]'s cost is 62 and it has a 0.15387917405012813 prob\n",
      "chromo [19, 35, 29, 24, 17]'s cost is 76 and it has a 0.12553301040931505 prob\n",
      "chromo [79, 6, 84, 90, 29]'s cost is 88 and it has a 0.10841487262622665 prob\n",
      "chromo [47, 15, 92, 85, 74]'s cost is 113 and it has a 0.08442928133723844 prob\n"
     ]
    }
   ],
   "source": [
    "\"\"\"\n",
    "same idea for MINIMIZATION PROBLEM, except we have to \n",
    "use reciprocal costs, so that the lower the cost\n",
    "the higher the probability\n",
    "\"\"\"\n",
    "denominator = 0\n",
    "for cost, chromo in graded:\n",
    "    denominator += 1 / cost\n",
    "\n",
    "# the chromo, the cost and its probability of getting chosen as the\n",
    "# parent used for evolution\n",
    "for cost, chromo in graded:\n",
    "    prob = ( 1 / cost ) / denominator\n",
    "    print( \"chromo {}'s cost is {} and it has a {} prob\".format( chromo, cost, prob ) )\n",
    "\n",
    "# you can confirm that the probability does add up to one if\n",
    "# you're suspicious ^^"
   ]
  },
  {
   "cell_type": "markdown",
   "metadata": {},
   "source": [
    "# Travel Salesman Problem (TSP)\n",
    "\n",
    "We can also use the genetic algorithm on a slightly more complex problem, the travel salesman problem. The problem that we're trying to solve is given a set of cities and distance between every pair of cities, we wish to find the shortest possible route that visits every city exactly once and returns to the starting point. \n",
    "\n",
    "Please refer to the first section of this post [Applying a genetic algorithm to the traveling salesman problem](http://www.theprojectspot.com/tutorial-post/applying-a-genetic-algorithm-to-the-travelling-salesman-problem/5) for a more lengthy description of the problem definition and how to modify the genetic algorithm a bit so that it becomes suitable for the problem."
   ]
  },
  {
   "cell_type": "code",
   "execution_count": 13,
   "metadata": {
    "collapsed": true
   },
   "outputs": [],
   "source": [
    "import random\n",
    "from collections import namedtuple"
   ]
  },
  {
   "cell_type": "code",
   "execution_count": 14,
   "metadata": {
    "collapsed": false
   },
   "outputs": [
    {
     "name": "stdout",
     "output_type": "stream",
     "text": [
      "(52, 3)\n"
     ]
    },
    {
     "data": {
      "text/html": [
       "<div>\n",
       "<table border=\"1\" class=\"dataframe\">\n",
       "  <thead>\n",
       "    <tr style=\"text-align: right;\">\n",
       "      <th></th>\n",
       "      <th>city</th>\n",
       "      <th>x</th>\n",
       "      <th>y</th>\n",
       "    </tr>\n",
       "  </thead>\n",
       "  <tbody>\n",
       "    <tr>\n",
       "      <th>0</th>\n",
       "      <td>1</td>\n",
       "      <td>565.0</td>\n",
       "      <td>575.0</td>\n",
       "    </tr>\n",
       "    <tr>\n",
       "      <th>1</th>\n",
       "      <td>2</td>\n",
       "      <td>25.0</td>\n",
       "      <td>185.0</td>\n",
       "    </tr>\n",
       "    <tr>\n",
       "      <th>2</th>\n",
       "      <td>3</td>\n",
       "      <td>345.0</td>\n",
       "      <td>750.0</td>\n",
       "    </tr>\n",
       "    <tr>\n",
       "      <th>3</th>\n",
       "      <td>4</td>\n",
       "      <td>945.0</td>\n",
       "      <td>685.0</td>\n",
       "    </tr>\n",
       "    <tr>\n",
       "      <th>4</th>\n",
       "      <td>5</td>\n",
       "      <td>845.0</td>\n",
       "      <td>655.0</td>\n",
       "    </tr>\n",
       "  </tbody>\n",
       "</table>\n",
       "</div>"
      ],
      "text/plain": [
       "   city      x      y\n",
       "0     1  565.0  575.0\n",
       "1     2   25.0  185.0\n",
       "2     3  345.0  750.0\n",
       "3     4  945.0  685.0\n",
       "4     5  845.0  655.0"
      ]
     },
     "execution_count": 14,
     "metadata": {},
     "output_type": "execute_result"
    }
   ],
   "source": [
    "# example dataset\n",
    "file = 'TSP_berlin52.txt'\n",
    "tsp_data = pd.read_table( file, skiprows = 1, header = None, \n",
    "                          names = [ 'city', 'x', 'y' ], sep = ' ' )\n",
    "print(tsp_data.shape)\n",
    "tsp_data.head()"
   ]
  },
  {
   "cell_type": "markdown",
   "metadata": {},
   "source": [
    "The genetic algorithm for the travel salesman problem is written as a module this time. [[link](https://github.com/ethen8181/machine-learning/blob/master/ga/tsp_solver)]"
   ]
  },
  {
   "cell_type": "code",
   "execution_count": 15,
   "metadata": {
    "collapsed": false
   },
   "outputs": [
    {
     "data": {
      "image/png": "[encoded data removed]",
      "text/plain": [
       "<matplotlib.figure.Figure at 0x1164cd080>"
      ]
     },
     "metadata": {},
     "output_type": "display_data"
    },
    {
     "data": {
      "text/plain": [
       "tour_info(dist=14410.580384216806, tour=array([25, 35, 16, 44,  5, 40, 15,  6,  4, 17, 31,  1, 45, 32, 49, 36, 39,\n",
       "       37, 38,  8, 19, 10, 46, 48, 24, 43, 33, 51, 52, 11, 47, 13, 14, 26,\n",
       "       27, 22, 41,  9, 18,  3, 30, 50, 29, 20, 23, 21,  7,  2, 42, 34, 28,\n",
       "       12]))"
      ]
     },
     "execution_count": 15,
     "metadata": {},
     "output_type": "execute_result"
    }
   ],
   "source": [
    "from tsp_solver import TSPGA\n",
    "\n",
    "tsp_ga = TSPGA(\n",
    "    generation = 3000, \n",
    "    population_size = 250, \n",
    "    retain_rate = 0.4, \n",
    "    mutate_rate = 0.3\n",
    ")\n",
    "tsp_ga.fit(tsp_data)\n",
    "\n",
    "# distance convergence plot, and the best tour's distance\n",
    "# and the corresponding city tour\n",
    "tsp_ga.convergence_plot()\n",
    "tsp_ga.best_tour"
   ]
  },
  {
   "cell_type": "markdown",
   "metadata": {},
   "source": [
    "A quick script for outputting the result.\n",
    "\n",
    "```python\n",
    "\n",
    "# output file name = algorithm name + the data's file name\n",
    "output_filename = 'GA_' + file + '.txt'\n",
    "best_tour = tsp_ga.best_tour\n",
    "\n",
    "with open( output_filename, 'w' ) as f:\n",
    "    for city in list(best_tour.tour):\n",
    "        f.write( str(city) + ' ' )\n",
    "        \n",
    "    # space between the optimal city and its cost\n",
    "    f.write('\\n\\n')\n",
    "    f.write( str(best_tour.dist) )\n",
    "    \n",
    "```"
   ]
  },
  {
   "cell_type": "markdown",
   "metadata": {},
   "source": [
    "## Reference\n",
    "\n",
    "- [Genetic Algorithms: Cool Name & Damn Simple](http://lethain.com/genetic-algorithms-cool-name-damn-simple/)\n",
    "- [Machine Learning: Introduction to Genetic Algorithms](https://www.burakkanber.com/blog/machine-learning-genetic-algorithms-part-1-javascript/)\n",
    "- [Applying a genetic algorithm to the traveling salesman problem](http://www.theprojectspot.com/tutorial-post/applying-a-genetic-algorithm-to-the-travelling-salesman-problem/5)\n",
    "- [Blog that uses Concorde TSP Solver](http://mortada.net/the-traveling-tesla-salesman.html) (maybe check in the future)"
   ]
  }
 ],
 "metadata": {
  "anaconda-cloud": {},
  "kernelspec": {
   "display_name": "Python [Root]",
   "language": "python",
   "name": "Python [Root]"
  },
  "language_info": {
   "codemirror_mode": {
    "name": "ipython",
    "version": 3
   },
   "file_extension": ".py",
   "mimetype": "text/x-python",
   "name": "python",
   "nbconvert_exporter": "python",
   "pygments_lexer": "ipython3",
   "version": "3.5.2"
  }
 },
 "nbformat": 4,
 "nbformat_minor": 0
}
