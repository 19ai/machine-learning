{
 "cells": [
  {
   "cell_type": "code",
   "execution_count": 1,
   "metadata": {
    "collapsed": false
   },
   "outputs": [
    {
     "data": {
      "text/html": [
       "<style>\n",
       "@import url('http://fonts.googleapis.com/css?family=Source+Code+Pro');\n",
       "@import url('http://fonts.googleapis.com/css?family=Vollkorn');\n",
       "@import url('http://fonts.googleapis.com/css?family=Arimo');\n",
       "@import url('http://fonts.googleapis.com/css?family=Fira_sans');\n",
       "\n",
       "    div.cell{\n",
       "        width: 1000px;\n",
       "        margin-left: 0% !important;\n",
       "        margin-right: auto;\n",
       "    }\n",
       "    div.text_cell code {\n",
       "        background: transparent;\n",
       "        color: #000000;\n",
       "        font-weight: 600;\n",
       "        font-size: 12pt;\n",
       "        font-style: bold;\n",
       "        font-family:  'Source Code Pro', Consolas, monocco, monospace;\n",
       "   }\n",
       "    h1 {\n",
       "        font-family: 'Open sans',verdana,arial,sans-serif;\n",
       "\t}\n",
       "\t\n",
       "    div.input_area {\n",
       "        background: #F6F6F9;\n",
       "        border: 1px solid #586e75;\n",
       "    }\n",
       "\n",
       "    .text_cell_render h1 {\n",
       "        font-weight: 200;\n",
       "        font-size: 30pt;\n",
       "        line-height: 100%;\n",
       "        color:#c76c0c;\n",
       "        margin-bottom: 0.5em;\n",
       "        margin-top: 1em;\n",
       "        display: block;\n",
       "        white-space: wrap;\n",
       "        text-align: left;\n",
       "    } \n",
       "    h2 {\n",
       "        font-family: 'Open sans',verdana,arial,sans-serif;\n",
       "        text-align: left;\n",
       "    }\n",
       "    .text_cell_render h2 {\n",
       "        font-weight: 200;\n",
       "        font-size: 16pt;\n",
       "        font-style: italic;\n",
       "        line-height: 100%;\n",
       "        color:#c76c0c;\n",
       "        margin-bottom: 0.5em;\n",
       "        margin-top: 1.5em;\n",
       "        display: block;\n",
       "        white-space: wrap;\n",
       "        text-align: left;\n",
       "    } \n",
       "    h3 {\n",
       "        font-family: 'Open sans',verdana,arial,sans-serif;\n",
       "    }\n",
       "    .text_cell_render h3 {\n",
       "        font-weight: 200;\n",
       "        font-size: 14pt;\n",
       "        line-height: 100%;\n",
       "        color:#d77c0c;\n",
       "        margin-bottom: 0.5em;\n",
       "        margin-top: 2em;\n",
       "        display: block;\n",
       "        white-space: wrap;\n",
       "        text-align: left;\n",
       "    }\n",
       "    h4 {\n",
       "        font-family: 'Open sans',verdana,arial,sans-serif;\n",
       "    }\n",
       "    .text_cell_render h4 {\n",
       "        font-weight: 100;\n",
       "        font-size: 14pt;\n",
       "        color:#d77c0c;\n",
       "        margin-bottom: 0.5em;\n",
       "        margin-top: 0.5em;\n",
       "        display: block;\n",
       "        white-space: nowrap;\n",
       "    }\n",
       "    h5 {\n",
       "        font-family: 'Open sans',verdana,arial,sans-serif;\n",
       "    }\n",
       "    .text_cell_render h5 {\n",
       "        font-weight: 200;\n",
       "        font-style: normal;\n",
       "        color: #1d3b84;\n",
       "        font-size: 16pt;\n",
       "        margin-bottom: 0em;\n",
       "        margin-top: 0.5em;\n",
       "        display: block;\n",
       "        white-space: nowrap;\n",
       "    }\n",
       "    div.text_cell_render{\n",
       "        font-family: 'Fira sans', verdana,arial,sans-serif;\n",
       "        line-height: 125%;\n",
       "        font-size: 115%;\n",
       "        text-align:justify;\n",
       "        text-justify:inter-word;\n",
       "    }\n",
       "    div.output_subarea.output_text.output_pyout {\n",
       "        overflow-x: auto;\n",
       "        overflow-y: scroll;\n",
       "        max-height: 50000px;\n",
       "    }\n",
       "    div.output_subarea.output_stream.output_stdout.output_text {\n",
       "        overflow-x: auto;\n",
       "        overflow-y: scroll;\n",
       "        max-height: 50000px;\n",
       "    }\n",
       "    div.output_wrapper{\n",
       "        margin-top:0.2em;\n",
       "        margin-bottom:0.2em;\n",
       "}\n",
       "\n",
       "    code{\n",
       "      font-size: 70%;\n",
       "    }\n",
       "    .rendered_html code{\n",
       "    background-color: transparent;\n",
       "    }\n",
       "    ul{\n",
       "        margin: 2em;\n",
       "    }\n",
       "    ul li{\n",
       "        padding-left: 0.5em; \n",
       "        margin-bottom: 0.5em; \n",
       "        margin-top: 0.5em; \n",
       "    }\n",
       "    ul li li{\n",
       "        padding-left: 0.2em; \n",
       "        margin-bottom: 0.2em; \n",
       "        margin-top: 0.2em; \n",
       "    }\n",
       "    ol{\n",
       "        margin: 2em;\n",
       "    }\n",
       "    ol li{\n",
       "        padding-left: 0.5em; \n",
       "        margin-bottom: 0.5em; \n",
       "        margin-top: 0.5em; \n",
       "    }\n",
       "    ul li{\n",
       "        padding-left: 0.5em; \n",
       "        margin-bottom: 0.5em; \n",
       "        margin-top: 0.2em; \n",
       "    }\n",
       "    a:link{\n",
       "       font-weight: bold;\n",
       "       color:#447adb;\n",
       "    }\n",
       "    a:visited{\n",
       "       font-weight: bold;\n",
       "       color: #1d3b84;\n",
       "    }\n",
       "    a:hover{\n",
       "       font-weight: bold;\n",
       "       color: #1d3b84;\n",
       "    }\n",
       "    a:focus{\n",
       "       font-weight: bold;\n",
       "       color:#447adb;\n",
       "    }\n",
       "    a:active{\n",
       "       font-weight: bold;\n",
       "       color:#447adb;\n",
       "    }\n",
       "    .rendered_html :link {\n",
       "       text-decoration: underline; \n",
       "    }\n",
       "    .rendered_html :hover {\n",
       "       text-decoration: none; \n",
       "    }\n",
       "    .rendered_html :visited {\n",
       "      text-decoration: none;\n",
       "    }\n",
       "    .rendered_html :focus {\n",
       "      text-decoration: none;\n",
       "    }\n",
       "    .rendered_html :active {\n",
       "      text-decoration: none;\n",
       "    }\n",
       "    .warning{\n",
       "        color: rgb( 240, 20, 20 )\n",
       "    } \n",
       "    hr {\n",
       "      color: #f3f3f3;\n",
       "      background-color: #f3f3f3;\n",
       "      height: 1px;\n",
       "    }\n",
       "    blockquote{\n",
       "      display:block;\n",
       "      background: #fcfcfc;\n",
       "      border-left: 5px solid #c76c0c;\n",
       "      font-family: 'Open sans',verdana,arial,sans-serif;\n",
       "      width:680px;\n",
       "      padding: 10px 10px 10px 10px;\n",
       "      text-align:justify;\n",
       "      text-justify:inter-word;\n",
       "      }\n",
       "      blockquote p {\n",
       "        margin-bottom: 0;\n",
       "        line-height: 125%;\n",
       "        font-size: 100%;\n",
       "      }\n",
       "</style>\n",
       "<script>\n",
       "    MathJax.Hub.Config({\n",
       "                        TeX: {\n",
       "                           extensions: [\"AMSmath.js\"]\n",
       "                           },\n",
       "                tex2jax: {\n",
       "                    inlineMath: [ ['$','$'], [\"\\\\(\",\"\\\\)\"] ],\n",
       "                    displayMath: [ ['$$','$$'], [\"\\\\[\",\"\\\\]\"] ]\n",
       "                },\n",
       "                displayAlign: 'center', // Change this to 'center' to center equations.\n",
       "                \"HTML-CSS\": {\n",
       "                    scale:100,\n",
       "                        availableFonts: [],\n",
       "                        preferredFont:null,\n",
       "                        webFont: \"TeX\",\n",
       "                    styles: {'.MathJax_Display': {\"margin\": 4}}\n",
       "                }\n",
       "        });\n",
       "</script>\n"
      ],
      "text/plain": [
       "<IPython.core.display.HTML object>"
      ]
     },
     "execution_count": 1,
     "metadata": {},
     "output_type": "execute_result"
    }
   ],
   "source": [
    "# code for loading the format for the notebook\n",
    "import os\n",
    "\n",
    "# path : store the current path to convert back to it later\n",
    "path = os.getcwd()\n",
    "os.chdir('../notebook_format')\n",
    "from formats import load_style\n",
    "load_style()"
   ]
  },
  {
   "cell_type": "markdown",
   "metadata": {},
   "source": [
    "# h2o python API"
   ]
  },
  {
   "cell_type": "code",
   "execution_count": 3,
   "metadata": {
    "collapsed": false
   },
   "outputs": [
    {
     "name": "stdout",
     "output_type": "stream",
     "text": [
      "\n",
      "\n",
      "No instance found at ip and port: localhost:54321. Trying to start local jar...\n",
      "\n",
      "\n",
      "JVM stdout: /var/folders/x3/zghnnw9x1nl2x4vsqd97kxym0000gn/T/tmpj8lduemm/h2o_ethen_started_from_python.out\n",
      "JVM stderr: /var/folders/x3/zghnnw9x1nl2x4vsqd97kxym0000gn/T/tmpgtjs9kkl/h2o_ethen_started_from_python.err\n",
      "Using ice_root: /var/folders/x3/zghnnw9x1nl2x4vsqd97kxym0000gn/T/tmpe7uru8_v\n",
      "\n",
      "\n",
      "Java Version: java version \"1.6.0_65\"\n",
      "Java(TM) SE Runtime Environment (build 1.6.0_65-b14-468-11M4833)\n",
      "Java HotSpot(TM) 64-Bit Server VM (build 20.65-b04-468, mixed mode)\n",
      "\n",
      "\n",
      "Starting H2O JVM and connecting: ................ Connection successful!\n"
     ]
    },
    {
     "data": {
      "text/html": [
       "<div style=\"overflow:auto\"><table style=\"width:50%\"><tr><td>H2O cluster uptime: </td>\n",
       "<td>1 seconds 764 milliseconds </td></tr>\n",
       "<tr><td>H2O cluster version: </td>\n",
       "<td>3.8.1.4</td></tr>\n",
       "<tr><td>H2O cluster name: </td>\n",
       "<td>H2O_started_from_python_ethen_ooq079</td></tr>\n",
       "<tr><td>H2O cluster total nodes: </td>\n",
       "<td>1</td></tr>\n",
       "<tr><td>H2O cluster total free memory: </td>\n",
       "<td>4.98 GB</td></tr>\n",
       "<tr><td>H2O cluster total cores: </td>\n",
       "<td>8</td></tr>\n",
       "<tr><td>H2O cluster allowed cores: </td>\n",
       "<td>8</td></tr>\n",
       "<tr><td>H2O cluster healthy: </td>\n",
       "<td>True</td></tr>\n",
       "<tr><td>H2O Connection ip: </td>\n",
       "<td>127.0.0.1</td></tr>\n",
       "<tr><td>H2O Connection port: </td>\n",
       "<td>54321</td></tr>\n",
       "<tr><td>H2O Connection proxy: </td>\n",
       "<td>None</td></tr>\n",
       "<tr><td>Python Version: </td>\n",
       "<td>3.5.1</td></tr></table></div>"
      ],
      "text/plain": [
       "------------------------------  ------------------------------------\n",
       "H2O cluster uptime:             1 seconds 764 milliseconds\n",
       "H2O cluster version:            3.8.1.4\n",
       "H2O cluster name:               H2O_started_from_python_ethen_ooq079\n",
       "H2O cluster total nodes:        1\n",
       "H2O cluster total free memory:  4.98 GB\n",
       "H2O cluster total cores:        8\n",
       "H2O cluster allowed cores:      8\n",
       "H2O cluster healthy:            True\n",
       "H2O Connection ip:              127.0.0.1\n",
       "H2O Connection port:            54321\n",
       "H2O Connection proxy:\n",
       "Python Version:                 3.5.1\n",
       "------------------------------  ------------------------------------"
      ]
     },
     "metadata": {},
     "output_type": "display_data"
    }
   ],
   "source": [
    "os.chdir(path)\n",
    "\n",
    "import h2o\n",
    "%matplotlib inline\n",
    "import pandas as pd                   \n",
    "import matplotlib.pyplot as plt\n",
    "from h2o.grid.grid_search import H2OGridSearch\n",
    "from h2o.estimators.gbm import H2OGradientBoostingEstimator\n",
    "from h2o.estimators.glm import H2OGeneralizedLinearEstimator\n",
    "from h2o.estimators.deeplearning import H2ODeepLearningEstimator\n",
    "from h2o.estimators.random_forest import H2ORandomForestEstimator\n",
    "\n",
    "# initialize h2o cluster, nthreads = -1 uses all possible cores,\n",
    "# and max_mem_size stands for maximum memory size allowed\n",
    "h2o.init( nthreads = -1, max_mem_size = 5 )"
   ]
  },
  {
   "cell_type": "code",
   "execution_count": 5,
   "metadata": {
    "collapsed": false
   },
   "outputs": [
    {
     "name": "stdout",
     "output_type": "stream",
     "text": [
      "\n",
      "Parse Progress: [##################################################] 100%\n"
     ]
    }
   ],
   "source": [
    "covtype_df = h2o.import_file( path = os.path.abspath(\"covtype.full.csv\") )"
   ]
  },
  {
   "cell_type": "code",
   "execution_count": 6,
   "metadata": {
    "collapsed": false
   },
   "outputs": [
    {
     "data": {
      "text/plain": [
       "'Cover_Type'"
      ]
     },
     "execution_count": 6,
     "metadata": {},
     "output_type": "execute_result"
    }
   ],
   "source": [
    "# split the data 60 training, 20 validation, 20 test\n",
    "train, valid, test = covtype_df.split_frame( [0.6, 0.2], seed = 1234 )\n",
    "\n",
    "# prepare predictors and response columns\n",
    "covtype_X = covtype_df.col_names[:-1]      \n",
    "covtype_y = covtype_df.col_names[-1]\n",
    "covtype_y"
   ]
  },
  {
   "cell_type": "code",
   "execution_count": 7,
   "metadata": {
    "collapsed": false
   },
   "outputs": [
    {
     "data": {
      "text/plain": [
       "{'Aspect': 'int',\n",
       " 'Cover_Type': 'enum',\n",
       " 'Elevation': 'int',\n",
       " 'Hillshade_3pm': 'int',\n",
       " 'Hillshade_9am': 'int',\n",
       " 'Hillshade_Noon': 'int',\n",
       " 'Horizontal_Distance_To_Fire_Points': 'int',\n",
       " 'Horizontal_Distance_To_Hydrology': 'int',\n",
       " 'Horizontal_Distance_To_Roadways': 'int',\n",
       " 'Slope': 'int',\n",
       " 'Soil_Type': 'enum',\n",
       " 'Vertical_Distance_To_Hydrology': 'int',\n",
       " 'Wilderness_Area': 'enum'}"
      ]
     },
     "execution_count": 7,
     "metadata": {},
     "output_type": "execute_result"
    }
   ],
   "source": [
    "# types of each column, h2o will automatically perform one-hot encoding\n",
    "# with enum column\n",
    "covtype_df.types"
   ]
  },
  {
   "cell_type": "markdown",
   "metadata": {},
   "source": [
    "## Deep Learning \n",
    "\n",
    "walking through the [notebook](http://nbviewer.jupyter.org/github/h2oai/h2o-tutorials/blob/master/tutorials/deeplearning/deeplearning.ipynb)."
   ]
  },
  {
   "cell_type": "code",
   "execution_count": 8,
   "metadata": {
    "collapsed": false
   },
   "outputs": [
    {
     "name": "stdout",
     "output_type": "stream",
     "text": [
      "\n",
      "deeplearning Model Build Progress: [##################################################] 100%\n"
     ]
    }
   ],
   "source": [
    "covtype_model_v1 = H2ODeepLearningEstimator( \n",
    "    model_id = \"covtype_v1\", \n",
    "    epochs = 1, \n",
    "    variable_importances = True\n",
    ")\n",
    "covtype_model_v1.train( covtype_X, covtype_y, training_frame = train, validation_frame = valid )"
   ]
  },
  {
   "cell_type": "code",
   "execution_count": 9,
   "metadata": {
    "collapsed": false
   },
   "outputs": [
    {
     "name": "stdout",
     "output_type": "stream",
     "text": [
      "(56, 4)\n"
     ]
    },
    {
     "data": {
      "text/html": [
       "<div>\n",
       "<table border=\"1\" class=\"dataframe\">\n",
       "  <thead>\n",
       "    <tr style=\"text-align: right;\">\n",
       "      <th></th>\n",
       "      <th>Variable</th>\n",
       "      <th>Relative Importance</th>\n",
       "      <th>Scaled Importance</th>\n",
       "      <th>Percentage</th>\n",
       "    </tr>\n",
       "  </thead>\n",
       "  <tbody>\n",
       "    <tr>\n",
       "      <th>0</th>\n",
       "      <td>Horizontal_Distance_To_Roadways</td>\n",
       "      <td>1.000000</td>\n",
       "      <td>1.000000</td>\n",
       "      <td>0.030341</td>\n",
       "    </tr>\n",
       "    <tr>\n",
       "      <th>1</th>\n",
       "      <td>Elevation</td>\n",
       "      <td>0.991453</td>\n",
       "      <td>0.991453</td>\n",
       "      <td>0.030081</td>\n",
       "    </tr>\n",
       "    <tr>\n",
       "      <th>2</th>\n",
       "      <td>Wilderness_Area.area_0</td>\n",
       "      <td>0.975858</td>\n",
       "      <td>0.975858</td>\n",
       "      <td>0.029608</td>\n",
       "    </tr>\n",
       "    <tr>\n",
       "      <th>3</th>\n",
       "      <td>Horizontal_Distance_To_Fire_Points</td>\n",
       "      <td>0.949475</td>\n",
       "      <td>0.949475</td>\n",
       "      <td>0.028808</td>\n",
       "    </tr>\n",
       "    <tr>\n",
       "      <th>4</th>\n",
       "      <td>Wilderness_Area.area_2</td>\n",
       "      <td>0.867460</td>\n",
       "      <td>0.867460</td>\n",
       "      <td>0.026319</td>\n",
       "    </tr>\n",
       "    <tr>\n",
       "      <th>5</th>\n",
       "      <td>Wilderness_Area.area_3</td>\n",
       "      <td>0.864351</td>\n",
       "      <td>0.864351</td>\n",
       "      <td>0.026225</td>\n",
       "    </tr>\n",
       "    <tr>\n",
       "      <th>6</th>\n",
       "      <td>Wilderness_Area.area_1</td>\n",
       "      <td>0.804178</td>\n",
       "      <td>0.804178</td>\n",
       "      <td>0.024399</td>\n",
       "    </tr>\n",
       "    <tr>\n",
       "      <th>7</th>\n",
       "      <td>Soil_Type.type_23</td>\n",
       "      <td>0.730862</td>\n",
       "      <td>0.730862</td>\n",
       "      <td>0.022175</td>\n",
       "    </tr>\n",
       "    <tr>\n",
       "      <th>8</th>\n",
       "      <td>Soil_Type.type_21</td>\n",
       "      <td>0.724360</td>\n",
       "      <td>0.724360</td>\n",
       "      <td>0.021977</td>\n",
       "    </tr>\n",
       "    <tr>\n",
       "      <th>9</th>\n",
       "      <td>Soil_Type.type_31</td>\n",
       "      <td>0.691037</td>\n",
       "      <td>0.691037</td>\n",
       "      <td>0.020966</td>\n",
       "    </tr>\n",
       "  </tbody>\n",
       "</table>\n",
       "</div>"
      ],
      "text/plain": [
       "                             Variable  Relative Importance  Scaled Importance  \\\n",
       "0     Horizontal_Distance_To_Roadways             1.000000           1.000000   \n",
       "1                           Elevation             0.991453           0.991453   \n",
       "2              Wilderness_Area.area_0             0.975858           0.975858   \n",
       "3  Horizontal_Distance_To_Fire_Points             0.949475           0.949475   \n",
       "4              Wilderness_Area.area_2             0.867460           0.867460   \n",
       "5              Wilderness_Area.area_3             0.864351           0.864351   \n",
       "6              Wilderness_Area.area_1             0.804178           0.804178   \n",
       "7                   Soil_Type.type_23             0.730862           0.730862   \n",
       "8                   Soil_Type.type_21             0.724360           0.724360   \n",
       "9                   Soil_Type.type_31             0.691037           0.691037   \n",
       "\n",
       "   Percentage  \n",
       "0    0.030341  \n",
       "1    0.030081  \n",
       "2    0.029608  \n",
       "3    0.028808  \n",
       "4    0.026319  \n",
       "5    0.026225  \n",
       "6    0.024399  \n",
       "7    0.022175  \n",
       "8    0.021977  \n",
       "9    0.020966  "
      ]
     },
     "execution_count": 9,
     "metadata": {},
     "output_type": "execute_result"
    }
   ],
   "source": [
    "var_df = pd.DataFrame( \n",
    "    covtype_model_v1.varimp(), \n",
    "    columns = [\"Variable\", \"Relative Importance\", \"Scaled Importance\", \"Percentage\"] \n",
    ")\n",
    "print(var_df.shape)\n",
    "var_df.head(10)"
   ]
  },
  {
   "cell_type": "markdown",
   "metadata": {},
   "source": [
    "Now we run another, smaller network and we let it stop automatically once the misclassification rate converges (specifically if the moving average of length 2 does not improve by at least 1% for 2 consecutive scoring events)."
   ]
  },
  {
   "cell_type": "code",
   "execution_count": 10,
   "metadata": {
    "collapsed": false
   },
   "outputs": [
    {
     "name": "stdout",
     "output_type": "stream",
     "text": [
      "\n",
      "deeplearning Model Build Progress: [##################################################] 100%\n"
     ]
    }
   ],
   "source": [
    "covtype_model_v2 = H2ODeepLearningEstimator(\n",
    "    model_id = \"covtype_v2\", \n",
    "    hidden = [ 32, 32, 32 ],           # small network, runs faster\n",
    "    epochs = 1000000,                  # hopefully converges earlier...\n",
    "    score_validation_samples = 10000,  # sample the validation dataset (faster)\n",
    "    stopping_rounds = 2,\n",
    "    stopping_metric = \"misclassification\", # alternatives: \"MSE\",\"logloss\",\"r2\"\n",
    "    stopping_tolerance = 0.01\n",
    ")\n",
    "covtype_model_v2.train( covtype_X, covtype_y, training_frame = train, validation_frame = valid )"
   ]
  },
  {
   "cell_type": "code",
   "execution_count": 11,
   "metadata": {
    "collapsed": false
   },
   "outputs": [
    {
     "data": {
      "image/png": "[encoded data removed]",
      "text/plain": [
       "<matplotlib.figure.Figure at 0x1182c9390>"
      ]
     },
     "metadata": {},
     "output_type": "display_data"
    }
   ],
   "source": [
    "# we can visualize the scoring history\n",
    "cov_v2_df = covtype_model_v2.scoring_history()\n",
    "plt.plot( cov_v2_df['training_classification_error'], label = \"training_classification_error\" )\n",
    "plt.plot( cov_v2_df['validation_classification_error'], label = \"validation_classification_error\" )\n",
    "plt.title(\"Covertype Deep Learner (Early Stop)\")\n",
    "plt.legend()\n",
    "plt.show()"
   ]
  },
  {
   "cell_type": "markdown",
   "metadata": {},
   "source": [
    "We can see that the test set's number is fairly in line with our validation results from the graph."
   ]
  },
  {
   "cell_type": "code",
   "execution_count": 12,
   "metadata": {
    "collapsed": false
   },
   "outputs": [
    {
     "name": "stdout",
     "output_type": "stream",
     "text": [
      "\n",
      "deeplearning prediction Progress: [##################################################] 100%\n"
     ]
    },
    {
     "data": {
      "text/plain": [
       "0.84879159158123452"
      ]
     },
     "execution_count": 12,
     "metadata": {},
     "output_type": "execute_result"
    }
   ],
   "source": [
    "pred = covtype_model_v2.predict(test).as_data_frame( use_pandas = True )\n",
    "test_actual = test.as_data_frame( use_pandas = True )['Cover_Type']\n",
    "( test_actual == pred['predict'] ).mean()"
   ]
  },
  {
   "cell_type": "markdown",
   "metadata": {},
   "source": [
    "## H2O Deep Learning Tips & Tricks\n",
    "\n",
    "\n",
    "### Activation Functions\n",
    "\n",
    "While sigmoids have been used historically for neural networks, H2O Deep Learning implements Tanh, a scaled and shifted variant of the sigmoid which is symmetric around 0. Since its output values are bounded by -1..1, the stability of the neural network is rarely endangered. However, the derivative of the tanh function is always non-zero and back-propagation (training) of the weights is more computationally expensive than for rectified linear units, or Rectifier, which is max(0,x) and has vanishing gradient for x<=0, leading to much faster training speed for large networks and is often the fastest path to accuracy on larger problems. In case you encounter instabilities with the Rectifier (in which case model building is automatically aborted), try a limited value to re-scale the weights: max_w2=10. The Maxout activation function is computationally more expensive, but can lead to higher accuracy. It is a generalized version of the Rectifier with two non-zero channels. In practice, the Rectifier (and RectifierWithDropout, see below regarding Dropout) is the most versatile and performant option for most problems.\n",
    "\n",
    "### Generalization Techniques\n",
    "\n",
    "L1 and L2 penalties can be applied by specifying the l1 and l2 parameters. Intuition: L1 lets only strong weights survive (constant pulling force towards zero), while L2 prevents any single weight from getting too big. Dropout has recently been introduced as a powerful generalization technique, and is available as a parameter per layer, including the input layer. input_dropout_ratio controls the amount of input layer neurons that are randomly dropped (set to zero), while hidden_dropout_ratios are specified for each hidden layer. The former controls overfitting with respect to the input data (useful for high-dimensional noisy data), while the latter controls overfitting of the learned features. Note that hidden_dropout_ratios require the activation function to end with ...WithDropout.\n",
    "\n",
    "### Early stopping and optimizing for lowest validation error\n",
    "\n",
    "By default, Deep Learning training stops when the stopping_metric does not improve by at least stopping_tolerance (0.01 means 1% improvement) for stopping_rounds consecutive scoring events on the training (or validation) data. By default, overwrite_with_best_model is enabled and the model returned after training for the specified number of epochs (or after stopping early due to convergence) is the model that has the best training set error (according to the metric specified by stopping_metric), or, if a validation set is provided, the lowest validation set error. For early stopping on a predefined error rate on the training data (accuracy for classification or MSE for regression), specify classification_stop or regression_stop.\n",
    "\n",
    "### Categorical Data\n",
    "\n",
    "For categorical data, a feature with K factor levels is automatically one-hot encoded (horizontalized) into K-1 input neurons. Hence, the input neuron layer can grow substantially for datasets with high factor counts. In these cases, it might make sense to reduce the number of hidden neurons in the first hidden layer, such that large numbers of factor levels can be handled. In the limit of 1 neuron in the first hidden layer, the resulting model is similar to logistic regression with stochastic gradient descent, except that for classification problems, there's still a softmax output layer, and that the activation function is not necessarily a sigmoid (Tanh). If variable importances are computed, it is recommended to turn on use_all_factor_levels (K input neurons for K levels). The experimental option max_categorical_features uses feature hashing to reduce the number of input neurons via the hash trick at the expense of hash collisions and reduced accuracy.\n",
    "\n",
    "### Reproducibility\n",
    "\n",
    "Every run of DeepLearning results in different results since multithreading is done via Hogwild! that benefits from intentional lock-free race conditions between threads. To get reproducible results for small datasets and testing purposes, set reproducible=True and set seed=1337 (pick any integer). This will not work for big data for technical reasons, and is probably also not desired because of the significant slowdown (runs on 1 core only).\n",
    "\n",
    "### Scoring on Training/Validation Sets During Training\n",
    "\n",
    "The training and/or validation set errors can be based on a subset of the training or validation data, depending on the values for score_validation_samples (defaults to 0: all) or score_training_samples (defaults to 10,000 rows, since the training error is only used for early stopping and monitoring).\n",
    "\n",
    "Note that the default value of score_duty_cycle=0.1 limits the amount of time spent in scoring to 10%, so a large number of scoring samples won't slow down overall training progress too much, but it will always score once after the first MapReduce iteration, and once at the end of training.\n",
    "\n",
    "Stratified sampling of the validation dataset can help with scoring on datasets with class imbalance. Note that this option also requires balance_classes to be enabled."
   ]
  },
  {
   "cell_type": "markdown",
   "metadata": {},
   "source": [
    "## Ensemble Tree\n",
    "\n",
    "walking through the [notebook](https://github.com/h2oai/h2o-tutorials/blob/master/tutorials/gbm-randomforest/GBM_RandomForest_Example.ipynb)."
   ]
  },
  {
   "cell_type": "code",
   "execution_count": 38,
   "metadata": {
    "collapsed": false
   },
   "outputs": [
    {
     "name": "stdout",
     "output_type": "stream",
     "text": [
      "\n",
      "gbm Model Build Progress: [##################################################] 100%\n"
     ]
    }
   ],
   "source": [
    "gbm_v3 = H2OGradientBoostingEstimator(\n",
    "    ntrees = 30,\n",
    "    learn_rate = 0.3,\n",
    "    max_depth = 10,\n",
    "    sample_rate = 0.7,\n",
    "    col_sample_rate = 0.7,\n",
    "    stopping_rounds = 2,\n",
    "    stopping_tolerance = 0.01,\n",
    "    score_each_iteration = True,\n",
    "    model_id = \"gbm_covType_v3\",\n",
    "    seed = 2000000\n",
    ")\n",
    "gbm_v3.train( covtype_X, covtype_y, training_frame = train, validation_frame = valid )"
   ]
  },
  {
   "cell_type": "code",
   "execution_count": 39,
   "metadata": {
    "collapsed": false
   },
   "outputs": [
    {
     "name": "stdout",
     "output_type": "stream",
     "text": [
      "\n",
      "drf Model Build Progress: [##################################################] 100%\n"
     ]
    }
   ],
   "source": [
    "rf_v2 = H2ORandomForestEstimator(\n",
    "    model_id = \"rf_covType_v2\",\n",
    "    ntrees = 200,\n",
    "    max_depth = 30,\n",
    "    stopping_rounds = 2,\n",
    "    stopping_tolerance = 0.01,\n",
    "    score_each_iteration = True,\n",
    "    seed = 3000000\n",
    ")\n",
    "rf_v2.train( covtype_X, covtype_y, training_frame = train, validation_frame = valid )"
   ]
  },
  {
   "cell_type": "code",
   "execution_count": 42,
   "metadata": {
    "collapsed": false
   },
   "outputs": [
    {
     "data": {
      "text/plain": [
       "predict    0.953897\n",
       "dtype: float64"
      ]
     },
     "execution_count": 42,
     "metadata": {},
     "output_type": "execute_result"
    }
   ],
   "source": [
    "final_rf_predictions = rf_v2.predict(test)\n",
    "( final_rf_predictions['predict'] == test['Cover_Type'] ).as_data_frame( use_pandas = True ).mean()"
   ]
  },
  {
   "cell_type": "markdown",
   "metadata": {},
   "source": [
    "Notes.\n",
    "\n",
    "1. In a production setting where fine-grain accuracy is beneficial, it is common to set the learn rate to a very small number, such as 0.01 or smaller, and add trees to match. \n",
    "2. Use of early stopping is very powerful in allowing the setting of a low learning rate and the building as many trees as needed until the desired convergence is met."
   ]
  },
  {
   "cell_type": "markdown",
   "metadata": {},
   "source": [
    "## Grid Search \n",
    "\n",
    "1. [python booklet](https://github.com/ethen8181/machine-learning/blob/master/h2o/Python_booklet.pdf).\n",
    "2. [Getting information about the grid search model workflow](https://github.com/h2oai/h2o-3/blob/master/h2o-docs/src/product/tutorials/GridSearch.md#random-hyper-parmameter-grid-search-example)."
   ]
  },
  {
   "cell_type": "code",
   "execution_count": 95,
   "metadata": {
    "collapsed": false
   },
   "outputs": [],
   "source": [
    "ntrees_opt = [ 5, 15 ]\n",
    "max_depth_opt = [ 2, 4 ]\n",
    "learn_rate_opt = [ 0.1, 0.2 ]\n",
    "hyper_parameters = {\n",
    "    \"ntrees\": ntrees_opt, \n",
    "    \"max_depth\": max_depth_opt,\n",
    "    \"learn_rate\": learn_rate_opt\n",
    "}\n",
    "# you can pass in additional search_criteria for random search; e.g.\n",
    "# search_criteria = { 'strategy': 'RandomDiscrete', 'max_models': 3 }\n",
    "gs = H2OGridSearch( \n",
    "    model = H2OGradientBoostingEstimator( distribution = \"multinomial\" ), \n",
    "    hyper_params = hyper_parameters,\n",
    "    grid_id = \"grid1\"\n",
    ")"
   ]
  },
  {
   "cell_type": "code",
   "execution_count": 59,
   "metadata": {
    "collapsed": false
   },
   "outputs": [
    {
     "name": "stdout",
     "output_type": "stream",
     "text": [
      "\n",
      "gbm Grid Build Progress: [##################################################] 100%\n"
     ]
    }
   ],
   "source": [
    "gs.train( x = covtype_X, y = covtype_y, training_frame = train, validation_frame = valid )"
   ]
  },
  {
   "cell_type": "markdown",
   "metadata": {},
   "source": [
    "Sort the models in the grid space by a metric , 'mse', 'r2', 'logloss'; obtain the model id of the model with the best score."
   ]
  },
  {
   "cell_type": "code",
   "execution_count": 80,
   "metadata": {
    "collapsed": false
   },
   "outputs": [
    {
     "data": {
      "text/html": [
       "<table>\n",
       "<tr><th>predict  </th><th style=\"text-align: right;\">  class_1</th><th style=\"text-align: right;\">  class_2</th><th style=\"text-align: right;\">   class_3</th><th style=\"text-align: right;\">   class_4</th><th style=\"text-align: right;\">   class_5</th><th style=\"text-align: right;\">   class_6</th><th style=\"text-align: right;\">   class_7</th></tr>\n",
       "<tr><td>class_1  </td><td style=\"text-align: right;\">0.75132  </td><td style=\"text-align: right;\">0.21922  </td><td style=\"text-align: right;\">0.00587509</td><td style=\"text-align: right;\">0.00505035</td><td style=\"text-align: right;\">0.00575674</td><td style=\"text-align: right;\">0.00586757</td><td style=\"text-align: right;\">0.00691034</td></tr>\n",
       "<tr><td>class_1  </td><td style=\"text-align: right;\">0.827656 </td><td style=\"text-align: right;\">0.127404 </td><td style=\"text-align: right;\">0.00594402</td><td style=\"text-align: right;\">0.00506221</td><td style=\"text-align: right;\">0.0059703 </td><td style=\"text-align: right;\">0.00593174</td><td style=\"text-align: right;\">0.0220315 </td></tr>\n",
       "<tr><td>class_1  </td><td style=\"text-align: right;\">0.884232 </td><td style=\"text-align: right;\">0.091247 </td><td style=\"text-align: right;\">0.0050751 </td><td style=\"text-align: right;\">0.00435566</td><td style=\"text-align: right;\">0.00504936</td><td style=\"text-align: right;\">0.00507264</td><td style=\"text-align: right;\">0.00496839</td></tr>\n",
       "<tr><td>class_2  </td><td style=\"text-align: right;\">0.0305834</td><td style=\"text-align: right;\">0.929408 </td><td style=\"text-align: right;\">0.0069238 </td><td style=\"text-align: right;\">0.00529501</td><td style=\"text-align: right;\">0.0114211 </td><td style=\"text-align: right;\">0.0100011 </td><td style=\"text-align: right;\">0.00636765</td></tr>\n",
       "<tr><td>class_1  </td><td style=\"text-align: right;\">0.876184 </td><td style=\"text-align: right;\">0.0838305</td><td style=\"text-align: right;\">0.0053489 </td><td style=\"text-align: right;\">0.00459064</td><td style=\"text-align: right;\">0.00532177</td><td style=\"text-align: right;\">0.00534631</td><td style=\"text-align: right;\">0.0193781 </td></tr>\n",
       "<tr><td>class_2  </td><td style=\"text-align: right;\">0.137774 </td><td style=\"text-align: right;\">0.820198 </td><td style=\"text-align: right;\">0.00634637</td><td style=\"text-align: right;\">0.00545548</td><td style=\"text-align: right;\">0.017187  </td><td style=\"text-align: right;\">0.00633824</td><td style=\"text-align: right;\">0.00670102</td></tr>\n",
       "<tr><td>class_1  </td><td style=\"text-align: right;\">0.867821 </td><td style=\"text-align: right;\">0.0943964</td><td style=\"text-align: right;\">0.00534922</td><td style=\"text-align: right;\">0.00459092</td><td style=\"text-align: right;\">0.00532209</td><td style=\"text-align: right;\">0.00534663</td><td style=\"text-align: right;\">0.017174  </td></tr>\n",
       "<tr><td>class_2  </td><td style=\"text-align: right;\">0.178554 </td><td style=\"text-align: right;\">0.753593 </td><td style=\"text-align: right;\">0.00717514</td><td style=\"text-align: right;\">0.00611425</td><td style=\"text-align: right;\">0.0398143 </td><td style=\"text-align: right;\">0.00785674</td><td style=\"text-align: right;\">0.00689261</td></tr>\n",
       "<tr><td>class_2  </td><td style=\"text-align: right;\">0.429951 </td><td style=\"text-align: right;\">0.51107  </td><td style=\"text-align: right;\">0.00948697</td><td style=\"text-align: right;\">0.00818268</td><td style=\"text-align: right;\">0.0191852 </td><td style=\"text-align: right;\">0.0127544 </td><td style=\"text-align: right;\">0.00937016</td></tr>\n",
       "<tr><td>class_2  </td><td style=\"text-align: right;\">0.104472 </td><td style=\"text-align: right;\">0.821414 </td><td style=\"text-align: right;\">0.00616151</td><td style=\"text-align: right;\">0.00532503</td><td style=\"text-align: right;\">0.0501017 </td><td style=\"text-align: right;\">0.00622306</td><td style=\"text-align: right;\">0.0063027 </td></tr>\n",
       "</table>"
      ]
     },
     "metadata": {},
     "output_type": "display_data"
    },
    {
     "data": {
      "text/plain": []
     },
     "execution_count": 80,
     "metadata": {},
     "output_type": "execute_result"
    }
   ],
   "source": [
    "best_model_id = gs.sort_by( metric = \"logloss\", increasing = True )['Model Id'][0]\n",
    "best_model = h2o.get_model(best_model_id)\n",
    "best_model.predict(train)"
   ]
  },
  {
   "cell_type": "code",
   "execution_count": 94,
   "metadata": {
    "collapsed": false
   },
   "outputs": [],
   "source": [
    "# best_model.model_performance().confusion_matrix()"
   ]
  },
  {
   "cell_type": "code",
   "execution_count": 82,
   "metadata": {
    "collapsed": false
   },
   "outputs": [
    {
     "name": "stdout",
     "output_type": "stream",
     "text": [
      "Hyperparameters: [ntrees, max_depth, learn_rate]\n"
     ]
    },
    {
     "data": {
      "text/plain": [
       "[15, 4, 0.2]"
      ]
     },
     "execution_count": 82,
     "metadata": {},
     "output_type": "execute_result"
    }
   ],
   "source": [
    "gs.get_hyperparams(best_model_id)"
   ]
  }
 ],
 "metadata": {
  "kernelspec": {
   "display_name": "Python 3",
   "language": "python",
   "name": "python3"
  },
  "language_info": {
   "codemirror_mode": {
    "name": "ipython",
    "version": 3
   },
   "file_extension": ".py",
   "mimetype": "text/x-python",
   "name": "python",
   "nbconvert_exporter": "python",
   "pygments_lexer": "ipython3",
   "version": "3.5.1"
  }
 },
 "nbformat": 4,
 "nbformat_minor": 0
}
