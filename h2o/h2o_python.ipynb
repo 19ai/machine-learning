{
 "cells": [
  {
   "cell_type": "markdown",
   "metadata": {},
   "source": [
    "# H2o python API"
   ]
  },
  {
   "cell_type": "code",
   "execution_count": 29,
   "metadata": {
    "collapsed": false
   },
   "outputs": [],
   "source": [
    "import os\n",
    "import h2o\n",
    "%matplotlib inline\n",
    "import pandas as pd                   \n",
    "import matplotlib.pyplot as plt\n",
    "from h2o.grid.grid_search import H2OGridSearch\n",
    "from h2o.estimators.gbm import H2OGradientBoostingEstimator\n",
    "from h2o.estimators.glm import H2OGeneralizedLinearEstimator\n",
    "from h2o.estimators.deeplearning import H2ODeepLearningEstimator\n",
    "from h2o.estimators.random_forest import H2ORandomForestEstimator"
   ]
  },
  {
   "cell_type": "code",
   "execution_count": 3,
   "metadata": {
    "collapsed": false
   },
   "outputs": [
    {
     "name": "stdout",
     "output_type": "stream",
     "text": [
      "\n",
      "\n",
      "No instance found at ip and port: localhost:54321. Trying to start local jar...\n",
      "\n",
      "\n",
      "JVM stdout: /var/folders/vt/891vkg_56n92b5f3rr4980j80000gn/T/tmp4_n5uamf/h2o_ethen_started_from_python.out\n",
      "JVM stderr: /var/folders/vt/891vkg_56n92b5f3rr4980j80000gn/T/tmpur90xka6/h2o_ethen_started_from_python.err\n",
      "Using ice_root: /var/folders/vt/891vkg_56n92b5f3rr4980j80000gn/T/tmpor_v_s35\n",
      "\n",
      "\n",
      "Java Version: java version \"1.8.0_60\"\n",
      "Java(TM) SE Runtime Environment (build 1.8.0_60-b27)\n",
      "Java HotSpot(TM) 64-Bit Server VM (build 25.60-b23, mixed mode)\n",
      "\n",
      "\n",
      "Starting H2O JVM and connecting: ............. Connection successful!\n"
     ]
    },
    {
     "name": "stderr",
     "output_type": "stream",
     "text": [
      "/Users/ethen/anaconda/lib/python3.5/site-packages/IPython/core/formatters.py:92: DeprecationWarning: DisplayFormatter._ipython_display_formatter_default is deprecated: use @default decorator instead.\n",
      "  def _ipython_display_formatter_default(self):\n",
      "/Users/ethen/anaconda/lib/python3.5/site-packages/IPython/core/formatters.py:98: DeprecationWarning: DisplayFormatter._formatters_default is deprecated: use @default decorator instead.\n",
      "  def _formatters_default(self):\n",
      "/Users/ethen/anaconda/lib/python3.5/site-packages/IPython/core/formatters.py:677: DeprecationWarning: PlainTextFormatter._deferred_printers_default is deprecated: use @default decorator instead.\n",
      "  def _deferred_printers_default(self):\n",
      "/Users/ethen/anaconda/lib/python3.5/site-packages/IPython/core/formatters.py:669: DeprecationWarning: PlainTextFormatter._singleton_printers_default is deprecated: use @default decorator instead.\n",
      "  def _singleton_printers_default(self):\n",
      "/Users/ethen/anaconda/lib/python3.5/site-packages/IPython/core/formatters.py:672: DeprecationWarning: PlainTextFormatter._type_printers_default is deprecated: use @default decorator instead.\n",
      "  def _type_printers_default(self):\n",
      "/Users/ethen/anaconda/lib/python3.5/site-packages/IPython/core/formatters.py:669: DeprecationWarning: PlainTextFormatter._singleton_printers_default is deprecated: use @default decorator instead.\n",
      "  def _singleton_printers_default(self):\n",
      "/Users/ethen/anaconda/lib/python3.5/site-packages/IPython/core/formatters.py:672: DeprecationWarning: PlainTextFormatter._type_printers_default is deprecated: use @default decorator instead.\n",
      "  def _type_printers_default(self):\n",
      "/Users/ethen/anaconda/lib/python3.5/site-packages/IPython/core/formatters.py:677: DeprecationWarning: PlainTextFormatter._deferred_printers_default is deprecated: use @default decorator instead.\n",
      "  def _deferred_printers_default(self):\n"
     ]
    },
    {
     "data": {
      "text/html": [
       "<div style=\"overflow:auto\"><table style=\"width:50%\"><tr><td>H2O cluster uptime: </td>\n",
       "<td>1 seconds 348 milliseconds </td></tr>\n",
       "<tr><td>H2O cluster version: </td>\n",
       "<td>3.8.0.3</td></tr>\n",
       "<tr><td>H2O cluster name: </td>\n",
       "<td>H2O_started_from_python_ethen_aid549</td></tr>\n",
       "<tr><td>H2O cluster total nodes: </td>\n",
       "<td>1</td></tr>\n",
       "<tr><td>H2O cluster total free memory: </td>\n",
       "<td>4.44 GB</td></tr>\n",
       "<tr><td>H2O cluster total cores: </td>\n",
       "<td>8</td></tr>\n",
       "<tr><td>H2O cluster allowed cores: </td>\n",
       "<td>8</td></tr>\n",
       "<tr><td>H2O cluster healthy: </td>\n",
       "<td>True</td></tr>\n",
       "<tr><td>H2O Connection ip: </td>\n",
       "<td>127.0.0.1</td></tr>\n",
       "<tr><td>H2O Connection port: </td>\n",
       "<td>54321</td></tr>\n",
       "<tr><td>H2O Connection proxy: </td>\n",
       "<td>None</td></tr>\n",
       "<tr><td>Python Version: </td>\n",
       "<td>3.5.1</td></tr></table></div>"
      ],
      "text/plain": [
       "------------------------------  ------------------------------------\n",
       "H2O cluster uptime:             1 seconds 348 milliseconds\n",
       "H2O cluster version:            3.8.0.3\n",
       "H2O cluster name:               H2O_started_from_python_ethen_aid549\n",
       "H2O cluster total nodes:        1\n",
       "H2O cluster total free memory:  4.44 GB\n",
       "H2O cluster total cores:        8\n",
       "H2O cluster allowed cores:      8\n",
       "H2O cluster healthy:            True\n",
       "H2O Connection ip:              127.0.0.1\n",
       "H2O Connection port:            54321\n",
       "H2O Connection proxy:\n",
       "Python Version:                 3.5.1\n",
       "------------------------------  ------------------------------------"
      ]
     },
     "metadata": {},
     "output_type": "display_data"
    }
   ],
   "source": [
    "h2o.init( nthreads = -1, max_mem_size = 5 )"
   ]
  },
  {
   "cell_type": "code",
   "execution_count": 9,
   "metadata": {
    "collapsed": false
   },
   "outputs": [
    {
     "name": "stdout",
     "output_type": "stream",
     "text": [
      "\n",
      "Parse Progress: [##################################################] 100%\n"
     ]
    }
   ],
   "source": [
    "covtype_df = h2o.import_file( path = os.path.abspath(\"../covtype.full.csv\") )"
   ]
  },
  {
   "cell_type": "code",
   "execution_count": 18,
   "metadata": {
    "collapsed": false
   },
   "outputs": [
    {
     "data": {
      "text/plain": [
       "'Cover_Type'"
      ]
     },
     "execution_count": 18,
     "metadata": {},
     "output_type": "execute_result"
    }
   ],
   "source": [
    "# split the data 60 training, 20 validation, 20 test\n",
    "train, valid, test = covtype_df.split_frame( [0.6, 0.2], seed = 1234 )\n",
    "\n",
    "# prepare predictors and response columns\n",
    "covtype_X = covtype_df.col_names[:-1]      \n",
    "covtype_y = covtype_df.col_names[-1]\n",
    "covtype_y"
   ]
  },
  {
   "cell_type": "code",
   "execution_count": 17,
   "metadata": {
    "collapsed": false
   },
   "outputs": [
    {
     "data": {
      "text/plain": [
       "{'Aspect': 'int',\n",
       " 'Cover_Type': 'enum',\n",
       " 'Elevation': 'int',\n",
       " 'Hillshade_3pm': 'int',\n",
       " 'Hillshade_9am': 'int',\n",
       " 'Hillshade_Noon': 'int',\n",
       " 'Horizontal_Distance_To_Fire_Points': 'int',\n",
       " 'Horizontal_Distance_To_Hydrology': 'int',\n",
       " 'Horizontal_Distance_To_Roadways': 'int',\n",
       " 'Slope': 'int',\n",
       " 'Soil_Type': 'enum',\n",
       " 'Vertical_Distance_To_Hydrology': 'int',\n",
       " 'Wilderness_Area': 'enum'}"
      ]
     },
     "execution_count": 17,
     "metadata": {},
     "output_type": "execute_result"
    }
   ],
   "source": [
    "# types of each column, h2o will automatically perform one-hot encoding\n",
    "covtype_df.types"
   ]
  },
  {
   "cell_type": "markdown",
   "metadata": {},
   "source": [
    "## Deep Learning \n",
    "\n",
    "walking through the [notebook](http://nbviewer.jupyter.org/github/h2oai/h2o-tutorials/blob/master/tutorials/deeplearning/deeplearning.ipynb)."
   ]
  },
  {
   "cell_type": "code",
   "execution_count": 19,
   "metadata": {
    "collapsed": false
   },
   "outputs": [
    {
     "name": "stdout",
     "output_type": "stream",
     "text": [
      "\n",
      "deeplearning Model Build Progress: [##################################################] 100%\n"
     ]
    }
   ],
   "source": [
    "covtype_model_v1 = H2ODeepLearningEstimator( \n",
    "    model_id = \"covtype_v1\", \n",
    "    epochs = 1, \n",
    "    variable_importances = True\n",
    ")\n",
    "covtype_model_v1.train( covtype_X, covtype_y, training_frame = train, validation_frame = valid )"
   ]
  },
  {
   "cell_type": "code",
   "execution_count": 23,
   "metadata": {
    "collapsed": false
   },
   "outputs": [
    {
     "name": "stdout",
     "output_type": "stream",
     "text": [
      "(56, 4)\n"
     ]
    },
    {
     "data": {
      "text/html": [
       "<div>\n",
       "<table border=\"1\" class=\"dataframe\">\n",
       "  <thead>\n",
       "    <tr style=\"text-align: right;\">\n",
       "      <th></th>\n",
       "      <th>Variable</th>\n",
       "      <th>Relative Importance</th>\n",
       "      <th>Scaled Importance</th>\n",
       "      <th>Percentage</th>\n",
       "    </tr>\n",
       "  </thead>\n",
       "  <tbody>\n",
       "    <tr>\n",
       "      <th>0</th>\n",
       "      <td>Elevation</td>\n",
       "      <td>1.000000</td>\n",
       "      <td>1.000000</td>\n",
       "      <td>0.030648</td>\n",
       "    </tr>\n",
       "    <tr>\n",
       "      <th>1</th>\n",
       "      <td>Wilderness_Area.area_0</td>\n",
       "      <td>0.979928</td>\n",
       "      <td>0.979928</td>\n",
       "      <td>0.030033</td>\n",
       "    </tr>\n",
       "    <tr>\n",
       "      <th>2</th>\n",
       "      <td>Horizontal_Distance_To_Roadways</td>\n",
       "      <td>0.963858</td>\n",
       "      <td>0.963858</td>\n",
       "      <td>0.029540</td>\n",
       "    </tr>\n",
       "    <tr>\n",
       "      <th>3</th>\n",
       "      <td>Horizontal_Distance_To_Fire_Points</td>\n",
       "      <td>0.886730</td>\n",
       "      <td>0.886730</td>\n",
       "      <td>0.027177</td>\n",
       "    </tr>\n",
       "    <tr>\n",
       "      <th>4</th>\n",
       "      <td>Wilderness_Area.area_2</td>\n",
       "      <td>0.848711</td>\n",
       "      <td>0.848711</td>\n",
       "      <td>0.026011</td>\n",
       "    </tr>\n",
       "    <tr>\n",
       "      <th>5</th>\n",
       "      <td>Wilderness_Area.area_1</td>\n",
       "      <td>0.811592</td>\n",
       "      <td>0.811592</td>\n",
       "      <td>0.024874</td>\n",
       "    </tr>\n",
       "    <tr>\n",
       "      <th>6</th>\n",
       "      <td>Wilderness_Area.area_3</td>\n",
       "      <td>0.791894</td>\n",
       "      <td>0.791894</td>\n",
       "      <td>0.024270</td>\n",
       "    </tr>\n",
       "    <tr>\n",
       "      <th>7</th>\n",
       "      <td>Soil_Type.type_23</td>\n",
       "      <td>0.735948</td>\n",
       "      <td>0.735948</td>\n",
       "      <td>0.022555</td>\n",
       "    </tr>\n",
       "    <tr>\n",
       "      <th>8</th>\n",
       "      <td>Soil_Type.type_12</td>\n",
       "      <td>0.719147</td>\n",
       "      <td>0.719147</td>\n",
       "      <td>0.022041</td>\n",
       "    </tr>\n",
       "    <tr>\n",
       "      <th>9</th>\n",
       "      <td>Soil_Type.type_28</td>\n",
       "      <td>0.717092</td>\n",
       "      <td>0.717092</td>\n",
       "      <td>0.021978</td>\n",
       "    </tr>\n",
       "  </tbody>\n",
       "</table>\n",
       "</div>"
      ],
      "text/plain": [
       "                             Variable  Relative Importance  Scaled Importance  \\\n",
       "0                           Elevation             1.000000           1.000000   \n",
       "1              Wilderness_Area.area_0             0.979928           0.979928   \n",
       "2     Horizontal_Distance_To_Roadways             0.963858           0.963858   \n",
       "3  Horizontal_Distance_To_Fire_Points             0.886730           0.886730   \n",
       "4              Wilderness_Area.area_2             0.848711           0.848711   \n",
       "5              Wilderness_Area.area_1             0.811592           0.811592   \n",
       "6              Wilderness_Area.area_3             0.791894           0.791894   \n",
       "7                   Soil_Type.type_23             0.735948           0.735948   \n",
       "8                   Soil_Type.type_12             0.719147           0.719147   \n",
       "9                   Soil_Type.type_28             0.717092           0.717092   \n",
       "\n",
       "   Percentage  \n",
       "0    0.030648  \n",
       "1    0.030033  \n",
       "2    0.029540  \n",
       "3    0.027177  \n",
       "4    0.026011  \n",
       "5    0.024874  \n",
       "6    0.024270  \n",
       "7    0.022555  \n",
       "8    0.022041  \n",
       "9    0.021978  "
      ]
     },
     "execution_count": 23,
     "metadata": {},
     "output_type": "execute_result"
    }
   ],
   "source": [
    "var_df = pd.DataFrame( \n",
    "    covtype_model_v1.varimp(), \n",
    "    columns = [\"Variable\", \"Relative Importance\", \"Scaled Importance\", \"Percentage\"] \n",
    ")\n",
    "print(var_df.shape)\n",
    "var_df.head(10)"
   ]
  },
  {
   "cell_type": "markdown",
   "metadata": {},
   "source": [
    "Now we run another, smaller network and we let it stop automatically once the misclassification rate converges (specifically if the moving average of length 2 does not improve by at least 1% for 2 consecutive scoring events)."
   ]
  },
  {
   "cell_type": "code",
   "execution_count": 24,
   "metadata": {
    "collapsed": false
   },
   "outputs": [
    {
     "name": "stdout",
     "output_type": "stream",
     "text": [
      "\n",
      "deeplearning Model Build Progress: [##################################################] 100%\n"
     ]
    }
   ],
   "source": [
    "covtype_model_v2 = H2ODeepLearningEstimator(\n",
    "    model_id = \"covtype_v2\", \n",
    "    hidden = [ 32, 32, 32],               # small network, runs faster\n",
    "    epochs = 1000000,                  # hopefully converges earlier...\n",
    "    score_validation_samples = 10000,  # sample the validation dataset (faster)\n",
    "    stopping_rounds = 2,\n",
    "    stopping_metric = \"misclassification\", # alternatives: \"MSE\",\"logloss\",\"r2\"\n",
    "    stopping_tolerance = 0.01\n",
    ")\n",
    "covtype_model_v2.train( covtype_X, covtype_y, training_frame = train, validation_frame = valid )"
   ]
  },
  {
   "cell_type": "code",
   "execution_count": 31,
   "metadata": {
    "collapsed": false
   },
   "outputs": [
    {
     "data": {
      "image/png": "[encoded data removed]",
      "text/plain": [
       "<matplotlib.figure.Figure at 0x117da19b0>"
      ]
     },
     "metadata": {},
     "output_type": "display_data"
    }
   ],
   "source": [
    "# we can visualize the scoring history\n",
    "cov_v2_df = covtype_model_v2.scoring_history()\n",
    "plt.plot( cov_v2_df['training_classification_error'], label = \"training_classification_error\" )\n",
    "plt.plot( cov_v2_df['validation_classification_error'], label = \"validation_classification_error\" )\n",
    "plt.title(\"Covertype Deep Learner (Early Stop)\")\n",
    "plt.legend()\n",
    "plt.show()"
   ]
  },
  {
   "cell_type": "markdown",
   "metadata": {},
   "source": [
    "We can see that the test set's number is fairly in line with our validation results from the graph."
   ]
  },
  {
   "cell_type": "code",
   "execution_count": 33,
   "metadata": {
    "collapsed": false
   },
   "outputs": [
    {
     "data": {
      "text/plain": [
       "0.86421679786857963"
      ]
     },
     "execution_count": 33,
     "metadata": {},
     "output_type": "execute_result"
    }
   ],
   "source": [
    "pred = covtype_model_v2.predict(test).as_data_frame( use_pandas = True )\n",
    "test_actual = test.as_data_frame( use_pandas = True )['Cover_Type']\n",
    "( test_actual == pred['predict'] ).mean()"
   ]
  },
  {
   "cell_type": "markdown",
   "metadata": {},
   "source": [
    "## Ensemble Tree\n",
    "\n",
    "walking through the [notebook](https://github.com/h2oai/h2o-tutorials/blob/master/tutorials/gbm-randomforest/GBM_RandomForest_Example.ipynb)."
   ]
  },
  {
   "cell_type": "code",
   "execution_count": 38,
   "metadata": {
    "collapsed": false
   },
   "outputs": [
    {
     "name": "stdout",
     "output_type": "stream",
     "text": [
      "\n",
      "gbm Model Build Progress: [##################################################] 100%\n"
     ]
    }
   ],
   "source": [
    "gbm_v3 = H2OGradientBoostingEstimator(\n",
    "    ntrees = 30,\n",
    "    learn_rate = 0.3,\n",
    "    max_depth = 10,\n",
    "    sample_rate = 0.7,\n",
    "    col_sample_rate = 0.7,\n",
    "    stopping_rounds = 2,\n",
    "    stopping_tolerance = 0.01,\n",
    "    score_each_iteration = True,\n",
    "    model_id = \"gbm_covType_v3\",\n",
    "    seed = 2000000\n",
    ")\n",
    "gbm_v3.train( covtype_X, covtype_y, training_frame = train, validation_frame = valid )"
   ]
  },
  {
   "cell_type": "code",
   "execution_count": 39,
   "metadata": {
    "collapsed": false
   },
   "outputs": [
    {
     "name": "stdout",
     "output_type": "stream",
     "text": [
      "\n",
      "drf Model Build Progress: [##################################################] 100%\n"
     ]
    }
   ],
   "source": [
    "rf_v2 = H2ORandomForestEstimator(\n",
    "    model_id = \"rf_covType_v2\",\n",
    "    ntrees = 200,\n",
    "    max_depth = 30,\n",
    "    stopping_rounds = 2,\n",
    "    stopping_tolerance = 0.01,\n",
    "    score_each_iteration = True,\n",
    "    seed = 3000000)\n",
    "rf_v2.train( covtype_X, covtype_y, training_frame = train, validation_frame = valid )"
   ]
  },
  {
   "cell_type": "code",
   "execution_count": 42,
   "metadata": {
    "collapsed": false
   },
   "outputs": [
    {
     "data": {
      "text/plain": [
       "predict    0.953897\n",
       "dtype: float64"
      ]
     },
     "execution_count": 42,
     "metadata": {},
     "output_type": "execute_result"
    }
   ],
   "source": [
    "final_rf_predictions = rf_v2.predict(test)\n",
    "( final_rf_predictions['predict'] == test['Cover_Type'] ).as_data_frame( use_pandas = True ).mean()"
   ]
  },
  {
   "cell_type": "markdown",
   "metadata": {},
   "source": [
    "Notes.\n",
    "\n",
    "1. In a production setting where fine-grain accuracy is beneficial, it is common to set the learn rate to a very small number, such as 0.01 or smaller, and add trees to match. \n",
    "2. Use of early stopping is very powerful in allowing the setting of a low learning rate and the building as many trees as needed until the desired convergence is met."
   ]
  },
  {
   "cell_type": "markdown",
   "metadata": {},
   "source": [
    "## Grid Search \n",
    "\n",
    "1. [python booklet](http://h2o-release.s3.amazonaws.com/h2o/master/3378/docs-website/h2o-docs/booklets/Python_booklet.pdf).\n",
    "2. [Getting information about the grid search model workflow](https://github.com/h2oai/h2o-3/blob/master/h2o-docs/src/product/tutorials/GridSearch.md#random-hyper-parmameter-grid-search-example)."
   ]
  },
  {
   "cell_type": "code",
   "execution_count": 95,
   "metadata": {
    "collapsed": false
   },
   "outputs": [],
   "source": [
    "ntrees_opt = [ 5, 15 ]\n",
    "max_depth_opt = [2, 4]\n",
    "learn_rate_opt = [0.1,0.2]\n",
    "hyper_parameters = {\n",
    "    \"ntrees\": ntrees_opt, \n",
    "    \"max_depth\": max_depth_opt,\n",
    "    \"learn_rate\": learn_rate_opt\n",
    "}\n",
    "# you can pass in additional search_criteria for random search; e.g.\n",
    "# search_criteria = { 'strategy': 'RandomDiscrete', 'max_models': 3 }\n",
    "gs = H2OGridSearch( \n",
    "    model = H2OGradientBoostingEstimator( distribution = \"multinomial\" ), \n",
    "    hyper_params = hyper_parameters,\n",
    "    grid_id = \"grid1\"\n",
    ")"
   ]
  },
  {
   "cell_type": "code",
   "execution_count": 59,
   "metadata": {
    "collapsed": false
   },
   "outputs": [
    {
     "name": "stdout",
     "output_type": "stream",
     "text": [
      "\n",
      "gbm Grid Build Progress: [##################################################] 100%\n"
     ]
    }
   ],
   "source": [
    "gs.train( x = covtype_X, y = covtype_y, training_frame = train, validation_frame = valid )"
   ]
  },
  {
   "cell_type": "markdown",
   "metadata": {},
   "source": [
    "Sort the models in the grid space by a metric , 'mse', 'r2', 'logloss'; obtain the model id of the model with the best score."
   ]
  },
  {
   "cell_type": "code",
   "execution_count": 80,
   "metadata": {
    "collapsed": false
   },
   "outputs": [
    {
     "data": {
      "text/html": [
       "<table>\n",
       "<tr><th>predict  </th><th style=\"text-align: right;\">  class_1</th><th style=\"text-align: right;\">  class_2</th><th style=\"text-align: right;\">   class_3</th><th style=\"text-align: right;\">   class_4</th><th style=\"text-align: right;\">   class_5</th><th style=\"text-align: right;\">   class_6</th><th style=\"text-align: right;\">   class_7</th></tr>\n",
       "<tr><td>class_1  </td><td style=\"text-align: right;\">0.75132  </td><td style=\"text-align: right;\">0.21922  </td><td style=\"text-align: right;\">0.00587509</td><td style=\"text-align: right;\">0.00505035</td><td style=\"text-align: right;\">0.00575674</td><td style=\"text-align: right;\">0.00586757</td><td style=\"text-align: right;\">0.00691034</td></tr>\n",
       "<tr><td>class_1  </td><td style=\"text-align: right;\">0.827656 </td><td style=\"text-align: right;\">0.127404 </td><td style=\"text-align: right;\">0.00594402</td><td style=\"text-align: right;\">0.00506221</td><td style=\"text-align: right;\">0.0059703 </td><td style=\"text-align: right;\">0.00593174</td><td style=\"text-align: right;\">0.0220315 </td></tr>\n",
       "<tr><td>class_1  </td><td style=\"text-align: right;\">0.884232 </td><td style=\"text-align: right;\">0.091247 </td><td style=\"text-align: right;\">0.0050751 </td><td style=\"text-align: right;\">0.00435566</td><td style=\"text-align: right;\">0.00504936</td><td style=\"text-align: right;\">0.00507264</td><td style=\"text-align: right;\">0.00496839</td></tr>\n",
       "<tr><td>class_2  </td><td style=\"text-align: right;\">0.0305834</td><td style=\"text-align: right;\">0.929408 </td><td style=\"text-align: right;\">0.0069238 </td><td style=\"text-align: right;\">0.00529501</td><td style=\"text-align: right;\">0.0114211 </td><td style=\"text-align: right;\">0.0100011 </td><td style=\"text-align: right;\">0.00636765</td></tr>\n",
       "<tr><td>class_1  </td><td style=\"text-align: right;\">0.876184 </td><td style=\"text-align: right;\">0.0838305</td><td style=\"text-align: right;\">0.0053489 </td><td style=\"text-align: right;\">0.00459064</td><td style=\"text-align: right;\">0.00532177</td><td style=\"text-align: right;\">0.00534631</td><td style=\"text-align: right;\">0.0193781 </td></tr>\n",
       "<tr><td>class_2  </td><td style=\"text-align: right;\">0.137774 </td><td style=\"text-align: right;\">0.820198 </td><td style=\"text-align: right;\">0.00634637</td><td style=\"text-align: right;\">0.00545548</td><td style=\"text-align: right;\">0.017187  </td><td style=\"text-align: right;\">0.00633824</td><td style=\"text-align: right;\">0.00670102</td></tr>\n",
       "<tr><td>class_1  </td><td style=\"text-align: right;\">0.867821 </td><td style=\"text-align: right;\">0.0943964</td><td style=\"text-align: right;\">0.00534922</td><td style=\"text-align: right;\">0.00459092</td><td style=\"text-align: right;\">0.00532209</td><td style=\"text-align: right;\">0.00534663</td><td style=\"text-align: right;\">0.017174  </td></tr>\n",
       "<tr><td>class_2  </td><td style=\"text-align: right;\">0.178554 </td><td style=\"text-align: right;\">0.753593 </td><td style=\"text-align: right;\">0.00717514</td><td style=\"text-align: right;\">0.00611425</td><td style=\"text-align: right;\">0.0398143 </td><td style=\"text-align: right;\">0.00785674</td><td style=\"text-align: right;\">0.00689261</td></tr>\n",
       "<tr><td>class_2  </td><td style=\"text-align: right;\">0.429951 </td><td style=\"text-align: right;\">0.51107  </td><td style=\"text-align: right;\">0.00948697</td><td style=\"text-align: right;\">0.00818268</td><td style=\"text-align: right;\">0.0191852 </td><td style=\"text-align: right;\">0.0127544 </td><td style=\"text-align: right;\">0.00937016</td></tr>\n",
       "<tr><td>class_2  </td><td style=\"text-align: right;\">0.104472 </td><td style=\"text-align: right;\">0.821414 </td><td style=\"text-align: right;\">0.00616151</td><td style=\"text-align: right;\">0.00532503</td><td style=\"text-align: right;\">0.0501017 </td><td style=\"text-align: right;\">0.00622306</td><td style=\"text-align: right;\">0.0063027 </td></tr>\n",
       "</table>"
      ]
     },
     "metadata": {},
     "output_type": "display_data"
    },
    {
     "data": {
      "text/plain": []
     },
     "execution_count": 80,
     "metadata": {},
     "output_type": "execute_result"
    }
   ],
   "source": [
    "best_model_id = gs.sort_by( metric = \"logloss\", increasing = True )['Model Id'][0]\n",
    "best_model = h2o.get_model(best_model_id)\n",
    "best_model.predict(train)"
   ]
  },
  {
   "cell_type": "code",
   "execution_count": 94,
   "metadata": {
    "collapsed": false
   },
   "outputs": [],
   "source": [
    "# best_model.model_performance().confusion_matrix()"
   ]
  },
  {
   "cell_type": "code",
   "execution_count": 82,
   "metadata": {
    "collapsed": false
   },
   "outputs": [
    {
     "name": "stdout",
     "output_type": "stream",
     "text": [
      "Hyperparameters: [ntrees, max_depth, learn_rate]\n"
     ]
    },
    {
     "data": {
      "text/plain": [
       "[15, 4, 0.2]"
      ]
     },
     "execution_count": 82,
     "metadata": {},
     "output_type": "execute_result"
    }
   ],
   "source": [
    "gs.get_hyperparams(best_model_id)"
   ]
  }
 ],
 "metadata": {
  "kernelspec": {
   "display_name": "Python 3",
   "language": "python",
   "name": "python3"
  },
  "language_info": {
   "codemirror_mode": {
    "name": "ipython",
    "version": 3
   },
   "file_extension": ".py",
   "mimetype": "text/x-python",
   "name": "python",
   "nbconvert_exporter": "python",
   "pygments_lexer": "ipython3",
   "version": "3.5.1"
  }
 },
 "nbformat": 4,
 "nbformat_minor": 0
}
