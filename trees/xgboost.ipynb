{
 "cells": [
  {
   "cell_type": "code",
   "execution_count": 1,
   "metadata": {
    "collapsed": false
   },
   "outputs": [
    {
     "data": {
      "text/html": [
       "\n",
       "<style>\n",
       "    html {\n",
       "        font-size: 18px !important;\n",
       "    }\n",
       "\n",
       "    body {\n",
       "        background-color: #FFF !important;\n",
       "        font-weight: 1rem;\n",
       "        font-family: 'Source Sans Pro', \"Helvetica Neue\", Helvetica, Arial, sans-serif;\n",
       "    }\n",
       "\n",
       "    body .notebook-app {\n",
       "        background-color: #FFF !important;\n",
       "    }\n",
       "\n",
       "    #header {\n",
       "        box-shadow: none !important;\n",
       "    }\n",
       "\n",
       "    #notebook {\n",
       "        padding-top: 0px;\n",
       "    }\n",
       "\n",
       "    #notebook-container {\n",
       "        box-shadow: none;\n",
       "        -webkit-box-shadow: none;\n",
       "        padding: 10px;\n",
       "    }\n",
       "\n",
       "    div.cell {\n",
       "        width: 1000px;\n",
       "        margin-left: 0% !important;\n",
       "        margin-right: auto;\n",
       "    }\n",
       "\n",
       "    div.cell.selected {\n",
       "        border: 1px dashed #CCCCCC;\n",
       "    }\n",
       "\n",
       "    .edit_mode div.cell.selected {\n",
       "        border: 1px dashed #828282;\n",
       "    }\n",
       "\n",
       "    div.output_wrapper {\n",
       "        margin-top: 8px;\n",
       "    }\n",
       "\n",
       "    a {\n",
       "        color: #383838;\n",
       "    }\n",
       "\n",
       "    code,\n",
       "    kbd,\n",
       "    pre,\n",
       "    samp {\n",
       "        font-family: 'Menlo', monospace !important;\n",
       "        font-size: 0.75rem !important;\n",
       "    }\n",
       "\n",
       "    h1 {\n",
       "        font-size: 2rem !important;\n",
       "        font-weight: 500 !important;\n",
       "        letter-spacing: 3px !important;\n",
       "        text-transform: uppercase !important;\n",
       "    }\n",
       "\n",
       "    h2 {\n",
       "        font-size: 1.8rem !important;\n",
       "        font-weight: 400 !important;\n",
       "        letter-spacing: 3px !important;\n",
       "        text-transform: none !important;\n",
       "    }\n",
       "\n",
       "    h3 {\n",
       "        font-size: 1.5rem !important;\n",
       "        font-weight: 400 !important;\n",
       "        font-style: italic !important;\n",
       "        display: block !important;\n",
       "    }\n",
       "\n",
       "    h4,\n",
       "    h5,\n",
       "    h6 {\n",
       "        font-size: 1rem !important;\n",
       "        font-weight: 400 !important;\n",
       "        display: block !important;\n",
       "    }\n",
       "\n",
       "    .prompt {\n",
       "        font-family: 'Menlo', monospace !important;\n",
       "        font-size: 0.75rem;\n",
       "        text-align: right;\n",
       "        line-height: 1.21429rem;\n",
       "    }\n",
       "\n",
       "    /* INTRO PAGE */\n",
       "\n",
       "    .toolbar_info,\n",
       "    .list-container {\n",
       "        ;\n",
       "    }\n",
       "    /* NOTEBOOK */\n",
       "\n",
       "    div#header-container {\n",
       "        display: none !important;\n",
       "    }\n",
       "\n",
       "    div#notebook {\n",
       "        border-top: none;\n",
       "        font-size: 1rem;\n",
       "    }\n",
       "\n",
       "    div.input_prompt {\n",
       "        color: #C74483;\n",
       "    }\n",
       "\n",
       "    .code_cell div.input_prompt:after,\n",
       "    div.output_prompt:after {\n",
       "        content: '\\25b6';\n",
       "    }\n",
       "\n",
       "    div.output_prompt {\n",
       "        color: #2B88D9;\n",
       "    }\n",
       "\n",
       "    div.input_area {\n",
       "        border-radius: 0px;\n",
       "        border: 1px solid #d8d8d8;\n",
       "    }\n",
       "\n",
       "    div.output_area pre {\n",
       "        font-weight: normal;\n",
       "    }\n",
       "\n",
       "    div.output_subarea {\n",
       "        font-weight: normal;\n",
       "    }\n",
       "\n",
       "    .rendered_html pre,\n",
       "    .rendered_html table,\n",
       "    .rendered_html th,\n",
       "    .rendered_html tr,\n",
       "    .rendered_html td {\n",
       "        border: 1px #828282 solid;\n",
       "        font-size: 0.75rem;\n",
       "        font-family: 'Menlo', monospace;\n",
       "    }\n",
       "\n",
       "    .rendered_html th,\n",
       "    .rendered_html tr,\n",
       "    .rendered_html td {\n",
       "        padding: 5px 10px;\n",
       "    }\n",
       "\n",
       "    .rendered_html th {\n",
       "        font-weight: normal;\n",
       "        background: #f8f8f8;\n",
       "    }\n",
       "\n",
       "    a:link{\n",
       "       font-weight: bold;\n",
       "       color:#447adb;\n",
       "    }\n",
       "    a:visited{\n",
       "       font-weight: bold;\n",
       "       color: #1d3b84;\n",
       "    }\n",
       "    a:hover{\n",
       "       font-weight: bold;\n",
       "       color: #1d3b84;\n",
       "    }\n",
       "    a:focus{\n",
       "       font-weight: bold;\n",
       "       color:#447adb;\n",
       "    }\n",
       "    a:active{\n",
       "       font-weight: bold;\n",
       "       color:#447adb;\n",
       "    }\n",
       "    .rendered_html :link {\n",
       "       text-decoration: underline; \n",
       "    }\n",
       "\n",
       "    div.output_html {\n",
       "        font-weight: 1rem;\n",
       "        font-family: 'Source Sans Pro', \"Helvetica Neue\", Helvetica, Arial, sans-serif;\n",
       "    }\n",
       "\n",
       "    table.dataframe tr {\n",
       "        border: 1px #CCCCCC;\n",
       "    }\n",
       "\n",
       "    div.cell.selected {\n",
       "        border-radius: 0px;\n",
       "    }\n",
       "\n",
       "    div.cell.edit_mode {\n",
       "        border-radius: 0px;\n",
       "        border: thin solid #CF5804;\n",
       "    }\n",
       "\n",
       "    span.ansiblue {\n",
       "        color: #00A397;\n",
       "    }\n",
       "\n",
       "    span.ansigray {\n",
       "        color: #d8d8d8;\n",
       "    }\n",
       "\n",
       "    span.ansigreen {\n",
       "        color: #688A0A;\n",
       "    }\n",
       "\n",
       "    span.ansipurple {\n",
       "        color: #975DDE;\n",
       "    }\n",
       "\n",
       "    span.ansired {\n",
       "        color: #D43132;\n",
       "    }\n",
       "\n",
       "    span.ansiyellow {\n",
       "        color: #D9AA00;\n",
       "    }\n",
       "\n",
       "    div.output_stderr {\n",
       "        background-color: #D43132;\n",
       "    }\n",
       "\n",
       "    div.output_stderr pre {\n",
       "        color: #e8e8e8;\n",
       "    }\n",
       "\n",
       "    .cm-s-ipython.CodeMirror {\n",
       "        background: #F8F8F8;\n",
       "    }\n",
       "\n",
       "    .cm-s-ipython div.CodeMirror-selected {\n",
       "        background: #e8e8e8 !important;\n",
       "    }\n",
       "\n",
       "    .cm-s-ipython .CodeMirror-gutters {\n",
       "        background: #F8F8F8;\n",
       "        border-right: 0px;\n",
       "    }\n",
       "\n",
       "    .cm-s-ipython .CodeMirror-linenumber {\n",
       "        color: #b8b8b8;\n",
       "    }\n",
       "\n",
       "    .cm-s-ipython .CodeMirror-cursor {\n",
       "        border-left: 1px solid #585858 !important;\n",
       "    }\n",
       "\n",
       "    .cm-s-ipython span.cm-atom {\n",
       "        color: #C74483;\n",
       "    }\n",
       "\n",
       "    .cm-s-ipython span.cm-number {\n",
       "        color: #C74483;\n",
       "    }\n",
       "\n",
       "    .cm-s-ipython span.cm-property,\n",
       "    .cm-s-ipython span.cm-attribute {\n",
       "        color: #688A0A;\n",
       "    }\n",
       "\n",
       "    .cm-s-ipython span.cm-keyword {\n",
       "        font-weight: normal;\n",
       "        color: #D43132;\n",
       "    }\n",
       "\n",
       "    .cm-s-ipython span.cm-string {\n",
       "        color: #D9AA00;\n",
       "    }\n",
       "\n",
       "    .cm-s-ipython span.cm-operator {\n",
       "        font-weight: normal;\n",
       "    }\n",
       "\n",
       "    .cm-s-ipython span.cm-builtin {\n",
       "        color: #2B88D9;\n",
       "    }\n",
       "\n",
       "    .cm-s-ipython span.cm-variable {\n",
       "        color: #00A397;\n",
       "    }\n",
       "\n",
       "    .cm-s-ipython span.cm-variable-2 {\n",
       "        color: #2B88D9;\n",
       "    }\n",
       "\n",
       "    .cm-s-ipython span.cm-def {\n",
       "        color: #00A397;\n",
       "    }\n",
       "\n",
       "    .cm-s-ipython span.cm-error {\n",
       "        background: #FFBDBD;\n",
       "        color: #D43132;\n",
       "    }\n",
       "\n",
       "    .cm-s-ipython span.cm-tag {\n",
       "        color: #D43132;\n",
       "    }\n",
       "\n",
       "    .cm-s-ipython span.cm-link {\n",
       "        color: #975DDE;\n",
       "    }\n",
       "\n",
       "    .cm-s-ipython .CodeMirror-matchingbracket {\n",
       "        text-decoration: underline;\n",
       "         !important;\n",
       "    }\n",
       "</style>\n",
       "\n",
       "<script>\n",
       "    MathJax.Hub.Config({\n",
       "                        TeX: {\n",
       "                           extensions: [\"AMSmath.js\"]\n",
       "                           },\n",
       "                tex2jax: {\n",
       "                    inlineMath: [ ['$','$'], [\"\\\\(\",\"\\\\)\"] ],\n",
       "                    displayMath: [ ['$$','$$'], [\"\\\\[\",\"\\\\]\"] ]\n",
       "                },\n",
       "                displayAlign: 'center', // Change this to 'center' to center equations.\n",
       "                \"HTML-CSS\": {\n",
       "                    scale:100,\n",
       "                        availableFonts: [],\n",
       "                        preferredFont:null,\n",
       "                        webFont: \"TeX\",\n",
       "                    styles: {'.MathJax_Display': {\"margin\": 4}}\n",
       "                }\n",
       "        });\n",
       "</script>"
      ],
      "text/plain": [
       "<IPython.core.display.HTML object>"
      ]
     },
     "execution_count": 1,
     "metadata": {},
     "output_type": "execute_result"
    }
   ],
   "source": [
    "# code for loading the format for the notebook\n",
    "import os\n",
    "\n",
    "# path : store the current path to convert back to it later\n",
    "path = os.getcwd()\n",
    "os.chdir( os.path.join('..', 'notebook_format') )\n",
    "from formats import load_style\n",
    "load_style(css_style = 'custom2.css')"
   ]
  },
  {
   "cell_type": "code",
   "execution_count": 2,
   "metadata": {
    "collapsed": false
   },
   "outputs": [
    {
     "name": "stdout",
     "output_type": "stream",
     "text": [
      "Ethen 2016-12-08 13:26:10 \n",
      "\n",
      "CPython 3.5.2\n",
      "IPython 4.2.0\n",
      "\n",
      "numpy 1.11.2\n",
      "pandas 0.18.1\n",
      "matplotlib 1.5.1\n",
      "xgboost 0.6\n",
      "scikit-learn 0.18\n"
     ]
    },
    {
     "name": "stderr",
     "output_type": "stream",
     "text": [
      "/Users/ethen/anaconda/lib/python3.5/site-packages/sklearn/cross_validation.py:44: DeprecationWarning: This module was deprecated in version 0.18 in favor of the model_selection module into which all the refactored classes and functions are moved. Also note that the interface of the new CV iterators are different from that of this module. This module will be removed in 0.20.\n",
      "  \"This module will be removed in 0.20.\", DeprecationWarning)\n"
     ]
    }
   ],
   "source": [
    "os.chdir(path)\n",
    "%matplotlib inline\n",
    "import numpy as np\n",
    "import pandas as pd\n",
    "import matplotlib.pyplot as plt\n",
    "plt.rcParams['figure.figsize'] = 8, 6 # change default figure size\n",
    "plt.rcParams['font.size'] = 12 # and font size\n",
    "\n",
    "# 1. magic to print version\n",
    "# 2. magic so that the notebook will reload external python modules\n",
    "%load_ext watermark\n",
    "%load_ext autoreload \n",
    "%autoreload 2\n",
    "\n",
    "# if you get a deprecation warning, \n",
    "# it is coming from XGBClassifier, since it's still using\n",
    "# from sklearn.cross_validation import RandomizedSearchCV\n",
    "# instead of the preferable new api\n",
    "# from sklearn.model_selection import RandomizedSearchCV\n",
    "from sklearn.metrics import roc_auc_score\n",
    "from xgboost.sklearn import XGBClassifier\n",
    "from sklearn.tree import DecisionTreeClassifier\n",
    "from sklearn.datasets import make_classification\n",
    "from sklearn.model_selection import train_test_split\n",
    "from sklearn.model_selection import RandomizedSearchCV\n",
    "\n",
    "%watermark -a 'Ethen' -d -t -v -p numpy,pandas,matplotlib,xgboost,scikit-learn"
   ]
  },
  {
   "cell_type": "markdown",
   "metadata": {},
   "source": [
    "# XGBoost"
   ]
  },
  {
   "cell_type": "markdown",
   "metadata": {},
   "source": [
    "## Preparation <a name='preparation' />\n",
    "\n",
    "For installing xgboost on mac: \n",
    "\n",
    "```bash\n",
    "# install gcc from brew, \n",
    "# note that the second command can \n",
    "# take up to 30 minutes, be patient\n",
    "brew tap homebrew/versions\n",
    "brew install gcc --without-multilib\n",
    "\n",
    "# install xgboost\n",
    "git clone --recursive https://github.com/dmlc/xgboost \n",
    "cd xgboost\n",
    "cp make/minimum.mk ./config.mk\n",
    "make -j4\n",
    "\n",
    "cd python-package \n",
    "sudo python setup.py install\n",
    "\n",
    "```\n",
    "\n",
    "In this toy example, we will be dealing with a **binary classification** task. We start off by generating a 20 dimensional artificial dataset with 1000 samples, where 8 features holding information, 3 are redundant and 2 repeated. And perform a train/test split. The testing data will be useful for validating the performance of our algorithms."
   ]
  },
  {
   "cell_type": "code",
   "execution_count": 3,
   "metadata": {
    "collapsed": false
   },
   "outputs": [
    {
     "name": "stdout",
     "output_type": "stream",
     "text": [
      "Train label distribution:\n",
      "[395 405]\n",
      "\n",
      "Test label distribution:\n",
      "[104  96]\n"
     ]
    }
   ],
   "source": [
    "seed = 104\n",
    "X, y = make_classification( n_samples = 1000, n_features = 20, \n",
    "                            n_informative = 8, n_redundant = 3, \n",
    "                            n_repeated = 2, random_state = seed )\n",
    "\n",
    "X_train, X_test, y_train, y_test = train_test_split(X, y, test_size = 0.2, random_state = seed)\n",
    "\n",
    "# confirm that the dataset is balanced,\n",
    "# that is the target variable is equally \n",
    "# distributed across both dataset\n",
    "print('Train label distribution:')\n",
    "print(np.bincount(y_train))\n",
    "\n",
    "print('\\nTest label distribution:')\n",
    "print(np.bincount(y_test))"
   ]
  },
  {
   "cell_type": "code",
   "execution_count": 4,
   "metadata": {
    "collapsed": false
   },
   "outputs": [
    {
     "name": "stdout",
     "output_type": "stream",
     "text": [
      "auc: 0.828475560897\n"
     ]
    }
   ],
   "source": [
    "# we can establish a decision tree classifier as a baseline,\n",
    "# and see if a more complex model will beat it\n",
    "tree = DecisionTreeClassifier(random_state = seed, max_depth = 6)\n",
    "\n",
    "# train classifier\n",
    "tree.fit(X_train, y_train)\n",
    "\n",
    "# predict output\n",
    "tree_y_pred = tree.predict(X_test)\n",
    "tree_y_pred_prob = tree.predict_proba(X_test)[:, 1]\n",
    "\n",
    "# evaluation\n",
    "tree_auc = roc_auc_score(y_test, tree_y_pred_prob)\n",
    "print('auc:', tree_auc)"
   ]
  },
  {
   "cell_type": "markdown",
   "metadata": {},
   "source": [
    "## XGBoost Basics\n",
    "\n",
    "We start by training a xgboost model using a fix set of parameters. For further details of the parameter (using scikit-learn like API) refer to the [XGBoost Documentation: Python API documentation](http://xgboost.readthedocs.io/en/latest/python/python_api.html#module-xgboost.sklearn). "
   ]
  },
  {
   "cell_type": "code",
   "execution_count": 5,
   "metadata": {
    "collapsed": false
   },
   "outputs": [
    {
     "data": {
      "text/plain": [
       "XGBClassifier(base_score=0.5, colsample_bylevel=1, colsample_bytree=0.8,\n",
       "       gamma=0, learning_rate=0.1, max_delta_step=1, max_depth=6,\n",
       "       min_child_weight=1, missing=None, n_estimators=150, nthread=-1,\n",
       "       objective='binary:logistic', reg_alpha=0, reg_lambda=1,\n",
       "       scale_pos_weight=1, seed=0, silent=True, subsample=1)"
      ]
     },
     "execution_count": 5,
     "metadata": {},
     "output_type": "execute_result"
    }
   ],
   "source": [
    "xgb_params_fixed = {\n",
    "    'learning_rate': 0.1,\n",
    "    \n",
    "    # use 'multi:softprob' for multi-class problems\n",
    "    'objective': 'binary:logistic',\n",
    "    \n",
    "    # length of the longest path from a root to a leaf\n",
    "    'max_depth': 6,\n",
    "    \n",
    "    # subsample ratio of columns when constructing each tree\n",
    "    'colsample_bytree': 0.8,\n",
    "    \n",
    "    # setting it to a positive value \n",
    "    # might help when class is extremely imbalanced\n",
    "    # as it makes the update more conservative\n",
    "    'max_delta_step': 1, \n",
    "    'n_estimators': 150,\n",
    "    \n",
    "    # use all possible cores for training\n",
    "    'nthread': -1\n",
    "}\n",
    "model_xgb = XGBClassifier(**xgb_params_fixed)\n",
    "\n",
    "# we also specify the evaluation dataset and metric\n",
    "# to record the model's performance history, note that\n",
    "# we can supply multiple evaluation metric by passig a \n",
    "# list to `eval_metric`\n",
    "eval_set = [ (X_train, y_train), (X_test, y_test) ]\n",
    "model_xgb.fit(X_train, y_train, eval_metric = 'auc', eval_set = eval_set, verbose = False)"
   ]
  },
  {
   "cell_type": "markdown",
   "metadata": {},
   "source": [
    "We can retrieve the performance of the model on the evaluation dataset and plot it to get insight into the training process. The `evals_results_` dictionary stores the `validation_0` and `validation_1` as its first key. This corresponds to the order that datasets were provided to the `eval_set` argument. The second key is the `eval_metric` that were provided."
   ]
  },
  {
   "cell_type": "code",
   "execution_count": 6,
   "metadata": {
    "collapsed": false
   },
   "outputs": [
    {
     "data": {
      "image/png": "[encoded data removed]",
      "text/plain": [
       "<matplotlib.figure.Figure at 0x118edf0f0>"
      ]
     },
     "metadata": {},
     "output_type": "display_data"
    }
   ],
   "source": [
    "history = model_xgb.evals_result_\n",
    "\n",
    "x_axis = range( len(history['validation_0']['auc']) )\n",
    "plt.plot( x_axis, history['validation_0']['auc'], label = 'Train' )\n",
    "plt.plot( x_axis, history['validation_1']['auc'], label = 'Test' )\n",
    "plt.legend(loc = 'best')\n",
    "plt.ylabel('AUC')\n",
    "plt.title('Xgboost AUC')\n",
    "plt.show()"
   ]
  },
  {
   "cell_type": "markdown",
   "metadata": {},
   "source": [
    "From reviewing the plot, it looks like there is an opportunity to stop the learning early, since the auc score for the testing dataset stopped increasing around 80 estimators. Luckily, xgboost supports this functionality.\n",
    "\n",
    "Early stopping works by monitoring the performance of the model that is being trained on a separate validation or test dataset and stopping the training procedure once the performance on the validation or test dataset has not improved after a fixed number of training iterations (we can specify the number). This will potentially save us a lot of time from training a model that does not improve its performance over time.\n",
    "\n",
    "The evaluation measure may be the loss function that is being optimized to train the model (such as logarithmic loss), or an external metric of interest to the problem in general (such as the auc score that we've used above). The full list of performace measure that we can directly specify can be found at the `eval_metric` section of the [XGBoost Doc: Learning Task Parameters](http://xgboost.readthedocs.io/en/latest//parameter.html#learning-task-parameters).\n",
    "\n",
    "In addition to specifying a evaluation metric and dataset, to use early stopping we also need to specify the `early_stopping_rounds`. This is essentially telling the model to stop the training process if the evaluation dataset's evaluation metric does not improve over this many rounds. Note that if multiple evaluation datasets or multiple evaluation metrics are provided in a list, then early stopping will use the last one in the list.\n",
    "\n",
    "For example, we can check for no improvement in auc over the 10 rounds as follows:"
   ]
  },
  {
   "cell_type": "code",
   "execution_count": 7,
   "metadata": {
    "collapsed": false
   },
   "outputs": [
    {
     "name": "stdout",
     "output_type": "stream",
     "text": [
      "[0]\tvalidation_0-auc:0.925979\tvalidation_1-auc:0.785707\n",
      "Multiple eval metrics have been passed: 'validation_1-auc' will be used for early stopping.\n",
      "\n",
      "Will train until validation_1-auc hasn't improved in 5 rounds.\n",
      "[10]\tvalidation_0-auc:0.992368\tvalidation_1-auc:0.901993\n",
      "[20]\tvalidation_0-auc:0.999075\tvalidation_1-auc:0.924179\n",
      "[30]\tvalidation_0-auc:0.999837\tvalidation_1-auc:0.932292\n",
      "[40]\tvalidation_0-auc:0.999981\tvalidation_1-auc:0.934796\n",
      "Stopping. Best iteration:\n",
      "[35]\tvalidation_0-auc:0.99995\tvalidation_1-auc:0.935096\n",
      "\n",
      "best iteration 36\n"
     ]
    }
   ],
   "source": [
    "# we set verbose to 10 so that it will print out the evaluation metric for the\n",
    "# evaluation dataset for every 10 round\n",
    "model_xgb.fit( X_train, y_train, \n",
    "               eval_metric = 'auc', eval_set = eval_set,\n",
    "               early_stopping_rounds = 5, verbose = 10 )\n",
    "\n",
    "# we can then access the best number of tree and use it later for prediction\n",
    "print('best iteration', model_xgb.best_ntree_limit)"
   ]
  },
  {
   "cell_type": "markdown",
   "metadata": {},
   "source": [
    "Keep in mind that XGBoost will return the model from the last iteration, not the best one. Hence when making the prediction, we need to pass the `ntree_limit` parameter to ensure that we get the optimal model's prediction."
   ]
  },
  {
   "cell_type": "code",
   "execution_count": 8,
   "metadata": {
    "collapsed": false
   },
   "outputs": [
    {
     "name": "stdout",
     "output_type": "stream",
     "text": [
      "auc: 0.935096153846\n"
     ]
    }
   ],
   "source": [
    "# print the model's performance\n",
    "ntree_limit = model_xgb.best_ntree_limit\n",
    "y_pred_prob = model_xgb.predict_proba( X_test, ntree_limit = ntree_limit )[:, 1]\n",
    "print('auc:', roc_auc_score(y_test, y_pred_prob) )"
   ]
  },
  {
   "cell_type": "code",
   "execution_count": 9,
   "metadata": {
    "collapsed": false
   },
   "outputs": [],
   "source": [
    "# we can also access the feature importance and visualize it\n",
    "importances = model_xgb.feature_importances_\n",
    "\n",
    "# give a name for each feature, here it is 'f' + the feature column number \n",
    "features = [ 'f' + str(imp) for imp in np.arange(len(importances)) ]"
   ]
  },
  {
   "cell_type": "code",
   "execution_count": 10,
   "metadata": {
    "collapsed": false,
    "scrolled": true
   },
   "outputs": [
    {
     "data": {
      "image/png": "[encoded data removed]",
      "text/plain": [
       "<matplotlib.figure.Figure at 0x118f5b710>"
      ]
     },
     "metadata": {},
     "output_type": "display_data"
    }
   ],
   "source": [
    "# create df\n",
    "importances_df = pd.DataFrame({\n",
    "    'importances': importances,\n",
    "    'feature': features\n",
    "}).sort_values(by = 'importances')\n",
    "\n",
    "importances_df.plot(kind = 'barh', x = 'feature', y = 'importances', legend = False)\n",
    "plt.show()"
   ]
  },
  {
   "cell_type": "markdown",
   "metadata": {},
   "source": [
    "Side note: Apart from using the built-in evaluation metric, we can also define one ourselves. The evaluation metric should be a function that takes two argument y_pred, y_true (it doesn't have to named like this). It is assumed that y_true will be a DMatrix object so that we can call the `get_label` method to access the true labels. As for the return value, the function ust return a str, value pair where the str is a name for the evaluation metric and value is the value of the evaluation. This objective is always minimized."
   ]
  },
  {
   "cell_type": "code",
   "execution_count": 11,
   "metadata": {
    "collapsed": false
   },
   "outputs": [
    {
     "name": "stdout",
     "output_type": "stream",
     "text": [
      "[0]\tvalidation_0-misclassified:83\tvalidation_1-misclassified:48\n",
      "Multiple eval metrics have been passed: 'validation_1-misclassified' will be used for early stopping.\n",
      "\n",
      "Will train until validation_1-misclassified hasn't improved in 5 rounds.\n",
      "[10]\tvalidation_0-misclassified:32\tvalidation_1-misclassified:33\n",
      "[20]\tvalidation_0-misclassified:12\tvalidation_1-misclassified:30\n",
      "Stopping. Best iteration:\n",
      "[15]\tvalidation_0-misclassified:20\tvalidation_1-misclassified:28\n",
      "\n",
      "auc: 0.91741786859\n"
     ]
    }
   ],
   "source": [
    "def misclassified(y_pred, y_true):\n",
    "    \"\"\"\n",
    "    custom evaluation metric for xgboost, the metric\n",
    "    counts the number of misclassified examples assuming \n",
    "    that classes with p>0.5 are positive\n",
    "    \"\"\"\n",
    "    labels = y_true.get_label() # obtain true labels\n",
    "    preds  = y_pred > 0.5 # obtain predicted values\n",
    "    return 'misclassified', np.sum(labels != preds)\n",
    "\n",
    "model_xgb.fit( X_train, y_train, \n",
    "               eval_metric = misclassified, eval_set = eval_set,\n",
    "               early_stopping_rounds = 5, verbose = 10 )\n",
    "\n",
    "ntree_limit = model_xgb.best_ntree_limit\n",
    "y_pred_prob = model_xgb.predict_proba(X_test, ntree_limit = ntree_limit)[:, 1]\n",
    "print('auc:', roc_auc_score(y_test, y_pred_prob) )"
   ]
  },
  {
   "cell_type": "markdown",
   "metadata": {},
   "source": [
    "## Hyperparamter Tuning (Random Search)\n",
    "\n",
    "Next, since overfitting is a common problem with sophisticated algorithms like gradient boosting, we'll introduce ways to tune the model's hyperparameter and deal with them. If a xgboost model is too complex we can try:\n",
    "\n",
    "- Reduce `max_depth`, the depth of each tree.\n",
    "- Increase `min_child_weight`, minimum sum of obervation's weight needed in a child (think of it as the number of observation's needed in a tree's node).\n",
    "- Increase `gamma`, the minimum loss reduction required to make a further partition.\n",
    "- Increase regularization parameters, `reg_lambda` (l2 regularization) and `reg_alpha` (l1 regularization).\n",
    "- Add more randomness by using `subsample` (the fraction of observations to be randomly samples for fitting each tree), `colsample_bytree` (the fraction of columns to be randomly samples for fitting each tree) parameters.\n",
    "\n",
    "We'll use a [`Random Search`](http://scikit-learn.org/stable/modules/grid_search.html#randomized-parameter-optimization) to tune the model's hyperparameter."
   ]
  },
  {
   "cell_type": "code",
   "execution_count": 12,
   "metadata": {
    "collapsed": false
   },
   "outputs": [
    {
     "name": "stdout",
     "output_type": "stream",
     "text": [
      "Fitting 10 folds for each of 5 candidates, totalling 50 fits\n",
      "Best auc obtained: 0.9476422177923702\n",
      "Parameters:\n",
      "\tmax_depth: 10\n",
      "\tsubsample: 0.9\n",
      "\tcolsample_bytree: 0.9\n"
     ]
    },
    {
     "name": "stderr",
     "output_type": "stream",
     "text": [
      "[Parallel(n_jobs=-1)]: Done  50 out of  50 | elapsed:    0.8s finished\n"
     ]
    }
   ],
   "source": [
    "# For each parameter, either a distribution over possible values \n",
    "# (the scipy.stats module contains many useful distributions)\n",
    "# or a list of discrete choices (which will be sampled uniformly) can be specified\n",
    "xgb_params_opt = {\n",
    "    'max_depth': [3, 6, 10],\n",
    "    'colsample_bytree': [0.7, 0.8, 0.9],\n",
    "    'subsample': [0.7, 0.8, 0.9] \n",
    "}\n",
    "\n",
    "# additional parameters to pass to fit\n",
    "xgb_fit_params = {   \n",
    "    'eval_metric': 'auc', \n",
    "    'eval_set': eval_set,\n",
    "    'early_stopping_rounds': 5,\n",
    "    'verbose': False\n",
    "}\n",
    "\n",
    "rs_xgb = RandomizedSearchCV(\n",
    "    estimator = model_xgb,\n",
    "    param_distributions = xgb_params_opt,\n",
    "    fit_params = xgb_fit_params,\n",
    "    scoring = 'roc_auc',\n",
    "    \n",
    "    # stratified kfold\n",
    "    cv = 10,\n",
    "    \n",
    "    # number of parameter settings that are sampled\n",
    "    n_iter = 5,\n",
    "    n_jobs = -1,\n",
    "    verbose = 1\n",
    ")\n",
    "rs_xgb.fit(X_train, y_train)\n",
    "\n",
    "print( 'Best auc obtained: {0}'.format(rs_xgb.best_score_) )\n",
    "print('Parameters:')\n",
    "for key, value in rs_xgb.best_params_.items():\n",
    "    print( '\\t{}: {}'.format( key, value ) )"
   ]
  },
  {
   "cell_type": "code",
   "execution_count": 13,
   "metadata": {
    "collapsed": false
   },
   "outputs": [
    {
     "name": "stdout",
     "output_type": "stream",
     "text": [
      "auc: 0.941306089744\n"
     ]
    }
   ],
   "source": [
    "ntree_limit = rs_xgb.best_estimator_.best_ntree_limit\n",
    "y_pred_prob = rs_xgb.best_estimator_.predict_proba(X_test, ntree_limit = ntree_limit )[ :, 1 ]\n",
    "print( 'auc:', roc_auc_score(y_test, y_pred_prob) )"
   ]
  },
  {
   "cell_type": "markdown",
   "metadata": {},
   "source": [
    "## Reference\n",
    "\n",
    "- [XGBoost Documentation: Installing Guide](https://github.com/dmlc/xgboost/blob/master/doc/build.md)\n",
    "- [XGBoost Documentation: Python API documentation](http://xgboost.readthedocs.io/en/latest/python/python_api.html#module-xgboost.sklearn)\n",
    "- [XGBoost Documentation: Learning Task Parameters](http://xgboost.readthedocs.io/en/latest//parameter.html#learning-task-parameters)\n",
    "- [Blog: Installing XGBoost on Mac OSX](https://www.ibm.com/developerworks/community/blogs/jfp/entry/Installing_XGBoost_on_Mac_OSX?lang=en)\n",
    "- [Online Course: practical xgboost in python](http://education.parrotprediction.teachable.com/courses/practical-xgboost-in-python)\n",
    "- [Analytics Vidhya: Complete Guide to Parameter Tuning in XGBoost](https://www.analyticsvidhya.com/blog/2016/03/complete-guide-parameter-tuning-xgboost-with-codes-python/)\n",
    "- [Blog: Avoid Overfitting By Early Stopping With XGBoost In Python](http://machinelearningmastery.com/avoid-overfitting-by-early-stopping-with-xgboost-in-python/)"
   ]
  }
 ],
 "metadata": {
  "anaconda-cloud": {},
  "kernelspec": {
   "display_name": "Python [Root]",
   "language": "python",
   "name": "Python [Root]"
  },
  "language_info": {
   "codemirror_mode": {
    "name": "ipython",
    "version": 3
   },
   "file_extension": ".py",
   "mimetype": "text/x-python",
   "name": "python",
   "nbconvert_exporter": "python",
   "pygments_lexer": "ipython3",
   "version": "3.5.2"
  }
 },
 "nbformat": 4,
 "nbformat_minor": 0
}
