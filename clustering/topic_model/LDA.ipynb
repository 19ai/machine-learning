{
 "cells": [
  {
   "cell_type": "code",
   "execution_count": 1,
   "metadata": {
    "collapsed": false
   },
   "outputs": [
    {
     "data": {
      "text/html": [
       "<style>\n",
       "@import url('http://fonts.googleapis.com/css?family=Source+Code+Pro');\n",
       "@import url('http://fonts.googleapis.com/css?family=Vollkorn');\n",
       "@import url('http://fonts.googleapis.com/css?family=Arimo');\n",
       "@import url('http://fonts.googleapis.com/css?family=Fira_sans');\n",
       "    \n",
       "    div.cell {\n",
       "        width: 1000px;\n",
       "        margin-left: 0% !important;\n",
       "        margin-right: auto;\n",
       "    }\n",
       "    div.text_cell code {\n",
       "        background: transparent;\n",
       "        color: #000000;\n",
       "        font-weight: 600;\n",
       "        font-size: 12pt;\n",
       "        font-style: bold;\n",
       "        font-family:  'Source Code Pro', Consolas, monocco, monospace;\n",
       "    }\n",
       "    h1 {\n",
       "        font-family: 'Open sans',verdana,arial,sans-serif;\n",
       "\t}\n",
       "\t\n",
       "    div.input_area {\n",
       "        background: #F6F6F9;\n",
       "        border: 1px solid #586e75;\n",
       "    }\n",
       "\n",
       "    .text_cell_render h1 {\n",
       "        font-weight: 200;\n",
       "        font-size: 30pt;\n",
       "        line-height: 100%;\n",
       "        color:#c76c0c;\n",
       "        margin-bottom: 0.5em;\n",
       "        margin-top: 1em;\n",
       "        display: block;\n",
       "        white-space: wrap;\n",
       "        text-align: left;\n",
       "    } \n",
       "    h2 {\n",
       "        font-family: 'Open sans',verdana,arial,sans-serif;\n",
       "        text-align: left;\n",
       "    }\n",
       "    .text_cell_render h2 {\n",
       "        font-weight: 200;\n",
       "        font-size: 16pt;\n",
       "        font-style: italic;\n",
       "        line-height: 100%;\n",
       "        color:#c76c0c;\n",
       "        margin-bottom: 0.5em;\n",
       "        margin-top: 1.5em;\n",
       "        display: block;\n",
       "        white-space: wrap;\n",
       "        text-align: left;\n",
       "    } \n",
       "    h3 {\n",
       "        font-family: 'Open sans',verdana,arial,sans-serif;\n",
       "    }\n",
       "    .text_cell_render h3 {\n",
       "        font-weight: 200;\n",
       "        font-size: 14pt;\n",
       "        line-height: 100%;\n",
       "        color:#d77c0c;\n",
       "        margin-bottom: 0.5em;\n",
       "        margin-top: 2em;\n",
       "        display: block;\n",
       "        white-space: wrap;\n",
       "        text-align: left;\n",
       "    }\n",
       "    h4 {\n",
       "        font-family: 'Open sans',verdana,arial,sans-serif;\n",
       "    }\n",
       "    .text_cell_render h4 {\n",
       "        font-weight: 100;\n",
       "        font-size: 14pt;\n",
       "        color:#d77c0c;\n",
       "        margin-bottom: 0.5em;\n",
       "        margin-top: 0.5em;\n",
       "        display: block;\n",
       "        white-space: nowrap;\n",
       "    }\n",
       "    h5 {\n",
       "        font-family: 'Open sans',verdana,arial,sans-serif;\n",
       "    }\n",
       "    .text_cell_render h5 {\n",
       "        font-weight: 200;\n",
       "        font-style: normal;\n",
       "        color: #1d3b84;\n",
       "        font-size: 16pt;\n",
       "        margin-bottom: 0em;\n",
       "        margin-top: 0.5em;\n",
       "        display: block;\n",
       "        white-space: nowrap;\n",
       "    }\n",
       "    div.text_cell_render{\n",
       "        font-family: 'Fira sans', verdana,arial,sans-serif;\n",
       "        line-height: 125%;\n",
       "        font-size: 115%;\n",
       "        text-align:justify;\n",
       "        text-justify:inter-word;\n",
       "    }\n",
       "    div.output_wrapper{\n",
       "        margin-top:0.2em;\n",
       "        margin-bottom:0.2em;\n",
       "    }\n",
       "\n",
       "    code{\n",
       "      font-size: 70%;\n",
       "    }\n",
       "    .rendered_html code{\n",
       "    background-color: transparent;\n",
       "    }\n",
       "    ul{\n",
       "        margin: 2em;\n",
       "    }\n",
       "    ul li{\n",
       "        padding-left: 0.5em; \n",
       "        margin-bottom: 0.5em; \n",
       "        margin-top: 0.5em; \n",
       "    }\n",
       "    ul li li{\n",
       "        padding-left: 0.2em; \n",
       "        margin-bottom: 0.2em; \n",
       "        margin-top: 0.2em; \n",
       "    }\n",
       "    ol{\n",
       "        margin: 2em;\n",
       "    }\n",
       "    ol li{\n",
       "        padding-left: 0.5em; \n",
       "        margin-bottom: 0.5em; \n",
       "        margin-top: 0.5em; \n",
       "    }\n",
       "    ul li{\n",
       "        padding-left: 0.5em; \n",
       "        margin-bottom: 0.5em; \n",
       "        margin-top: 0.2em; \n",
       "    }\n",
       "    a:link{\n",
       "       font-weight: bold;\n",
       "       color:#447adb;\n",
       "    }\n",
       "    a:visited{\n",
       "       font-weight: bold;\n",
       "       color: #1d3b84;\n",
       "    }\n",
       "    a:hover{\n",
       "       font-weight: bold;\n",
       "       color: #1d3b84;\n",
       "    }\n",
       "    a:focus{\n",
       "       font-weight: bold;\n",
       "       color:#447adb;\n",
       "    }\n",
       "    a:active{\n",
       "       font-weight: bold;\n",
       "       color:#447adb;\n",
       "    }\n",
       "    .rendered_html :link {\n",
       "       text-decoration: underline; \n",
       "    }\n",
       "    .rendered_html :hover {\n",
       "       text-decoration: none; \n",
       "    }\n",
       "    .rendered_html :visited {\n",
       "      text-decoration: none;\n",
       "    }\n",
       "    .rendered_html :focus {\n",
       "      text-decoration: none;\n",
       "    }\n",
       "    .rendered_html :active {\n",
       "      text-decoration: none;\n",
       "    }\n",
       "    .warning{\n",
       "        color: rgb( 240, 20, 20 )\n",
       "    } \n",
       "    hr {\n",
       "      color: #f3f3f3;\n",
       "      background-color: #f3f3f3;\n",
       "      height: 1px;\n",
       "    }\n",
       "    blockquote{\n",
       "      display:block;\n",
       "      background: #fcfcfc;\n",
       "      border-left: 5px solid #c76c0c;\n",
       "      font-family: 'Open sans',verdana,arial,sans-serif;\n",
       "      width:680px;\n",
       "      padding: 10px 10px 10px 10px;\n",
       "      text-align:justify;\n",
       "      text-justify:inter-word;\n",
       "      }\n",
       "      blockquote p {\n",
       "        margin-bottom: 0;\n",
       "        line-height: 125%;\n",
       "        font-size: 100%;\n",
       "      }\n",
       "</style>\n",
       "<script>\n",
       "    MathJax.Hub.Config({\n",
       "                        TeX: {\n",
       "                           extensions: [\"AMSmath.js\"]\n",
       "                           },\n",
       "                tex2jax: {\n",
       "                    inlineMath: [ ['$','$'], [\"\\\\(\",\"\\\\)\"] ],\n",
       "                    displayMath: [ ['$$','$$'], [\"\\\\[\",\"\\\\]\"] ]\n",
       "                },\n",
       "                displayAlign: 'center', // Change this to 'center' to center equations.\n",
       "                \"HTML-CSS\": {\n",
       "                    scale:100,\n",
       "                        availableFonts: [],\n",
       "                        preferredFont:null,\n",
       "                        webFont: \"TeX\",\n",
       "                    styles: {'.MathJax_Display': {\"margin\": 4}}\n",
       "                }\n",
       "        });\n",
       "</script>\n"
      ],
      "text/plain": [
       "<IPython.core.display.HTML object>"
      ]
     },
     "execution_count": 1,
     "metadata": {},
     "output_type": "execute_result"
    }
   ],
   "source": [
    "# code for loading the format for the notebook\n",
    "import os\n",
    "\n",
    "# path : store the current path to convert back to it later\n",
    "path = os.getcwd()\n",
    "os.chdir( os.path.join('..', '..', 'notebook_format') )\n",
    "from formats import load_style\n",
    "load_style()"
   ]
  },
  {
   "cell_type": "code",
   "execution_count": 2,
   "metadata": {
    "collapsed": false
   },
   "outputs": [
    {
     "name": "stdout",
     "output_type": "stream",
     "text": [
      "Ethen 2017-01-01 19:48:09 \n",
      "\n",
      "CPython 3.5.2\n",
      "IPython 4.2.0\n",
      "\n",
      "numpy 1.11.3\n",
      "pandas 0.18.1\n",
      "matplotlib 1.5.1\n",
      "gensim 0.13.1\n",
      "nltk 3.2.1\n",
      "scikit-learn 0.18\n"
     ]
    }
   ],
   "source": [
    "os.chdir(path)\n",
    "import numpy as np\n",
    "import pandas as pd\n",
    "import matplotlib.pyplot as plt\n",
    "\n",
    "# 1. magic for inline plot\n",
    "# 2. magic to print version\n",
    "# 3. magic so that the notebook will reload external python modules\n",
    "%matplotlib inline\n",
    "%load_ext watermark\n",
    "%load_ext autoreload \n",
    "%autoreload 2\n",
    "\n",
    "from gensim import corpora\n",
    "from gensim.models import LdaModel\n",
    "from operator import itemgetter\n",
    "from nltk.corpus import stopwords\n",
    "from sklearn.feature_extraction.stop_words import ENGLISH_STOP_WORDS\n",
    "\n",
    "%watermark -a 'Ethen' -d -t -v -p numpy,pandas,matplotlib,gensim,nltk,scikit-learn"
   ]
  },
  {
   "cell_type": "markdown",
   "metadata": {},
   "source": [
    "This documentation assumes knowledge of [basic text analytics](http://localhost:8888/notebooks/machine-learning/text_classification/basics/basics.ipynb), e.g. bag of words, stop words.\n",
    "\n",
    "# Topic Modeling\n",
    "\n",
    "Topic modeling is a technique for taking some unstructured text and automatically extracting its common themes, it is a great way to get a bird's eye view on a large text collection.\n",
    "\n",
    "The major feature distinguishing topic model from other clustering methods is the notion of mixed membership. A lot of clustering models have assumed that each data point belongs to a single cluster. **K-means** determines membership simply by shortest distance to the cluster center, and **Gaussian Mixture Models** assumes that each data point is drawn from one of their component mixture distributions. In many cases, though, it is more realistic to think of data as genuinely belonging to more than one cluster or category. For example, if we have a model for text data that includes both \"Politics\" and \"World News\" categories, then an article about a recent meeting of the United Nations should have membership in both categories rather than being forced into just one.\n",
    "\n",
    "Topic model assumes that a topic is a probability distribution over the vocabulary. For example, if we were to create three topics for the Harry Potter series of books manually, we might come up with something like this:\n",
    "\n",
    "- (Muggle topic) 50% \"muggle\", 25% \"Dursley\", 10% \"Privet\", 5% \"mudblood\"...\n",
    "- (Voldemort topic) 65% \"Voldemort\", 12% \"death\", 10% \"Horcrux\", 5% \"snake\"...\n",
    "- (Harry Potter topic) 42% \"Harry Potter\", 15% \"scar\", 7% \"Quidditch\", 7% \"Gryffindor\"...\n",
    "\n",
    "The way we interpret these words is, it is the probability of those words appearing in the topic to the left. So, an example interpretation of the output above will be: There is 42% chance that the word \"Harry Potter\" came from the Harry Potter topic. Note that the vocabulary probability will sum up to 1 for every topic, but often times, words that have lower weights will be truncated from the output.\n",
    "\n",
    "In the same way, we can represent individual documents as a probability distribution over topics. For example, Chapter 1 of Harry Potter book 1 introduces the Dursley family and has Dumbledore discuss Harry’s parent’s death. If we take this chapter to be a single document, it could be broken up into topics like this: 40% Muggle topic, 30% Voldemort topic, and the remaining 30% is the Harry topic.\n",
    "\n",
    "Of course, we don’t want to extract the topics and document probabilities by hand like this. We want the machine to do it automatically using our unlabelled text collection as the only input. Because there is no document labeling nor human annotations, topic modeling is an example of an unsupervised machine learning technique.\n",
    "\n",
    "\n",
    "## Getting Started\n",
    "\n",
    "We'll now start exploring one popular algorithm for doing topic model, namely **Latent Dirichlet Allocation**. Latent Dirichlet Allocation (LDA) requires documents to be represented as a bag of words (for the gensim library, some of the API calls will shorten it to `bow`, hence we'll use the two interchangeably). This representation ignores word ordering in the document but retains information on how many times each word appears.\n",
    "\n",
    "We'll first play around a toy corpus of 11 documents to familiarize ourselves with the gensim API. In the toy corpus presented, there are 5 documents that are river related and 6 finance related. The interesting part is that the corpus contains the word \"bank\" which could mean \"a financial institution\" or \"a river bank\". A good topic model should be able to tell the difference between these two meanings based on context."
   ]
  },
  {
   "cell_type": "code",
   "execution_count": 3,
   "metadata": {
    "collapsed": true
   },
   "outputs": [],
   "source": [
    "# each nested list represents the word of a document\n",
    "texts = [['bank','river','shore','water'],\n",
    "        ['river','water','flow','fast','tree'],\n",
    "        ['bank','water','fall','flow'],\n",
    "        ['bank','bank','water','rain','river'],\n",
    "        ['river','water','mud','tree'],\n",
    "        ['money','transaction','bank','finance'],\n",
    "        ['bank','borrow','money'], \n",
    "        ['bank','finance'],\n",
    "        ['finance','money','sell','bank'],\n",
    "        ['borrow','sell'],\n",
    "        ['bank','loan','sell']]\n",
    "\n",
    "# build the dictionary and convert the documents \n",
    "# to bag of words (bow) representation using the dictionary\n",
    "texts_dictionary = corpora.Dictionary(texts)\n",
    "texts_corpus = [ texts_dictionary.doc2bow(text) for text in texts ]"
   ]
  },
  {
   "cell_type": "markdown",
   "metadata": {},
   "source": [
    "The following code chunk trains the LDA model using our corpus and dictionary. We set the number of topics to be 2, and expect to see one related to river banks, and one has to do with financial banks."
   ]
  },
  {
   "cell_type": "code",
   "execution_count": 4,
   "metadata": {
    "collapsed": true
   },
   "outputs": [],
   "source": [
    "# train the model\n",
    "# the more iteration, the more stable the model\n",
    "# becomes, but of course takes longer to train\n",
    "np.random.seed(431)\n",
    "texts_model = LdaModel( \n",
    "    texts_corpus, \n",
    "    id2word = texts_dictionary, \n",
    "    num_topics = 2,\n",
    "    passes = 5,\n",
    "    iterations = 50\n",
    ")"
   ]
  },
  {
   "cell_type": "code",
   "execution_count": 5,
   "metadata": {
    "collapsed": false
   },
   "outputs": [
    {
     "data": {
      "text/plain": [
       "[(0,\n",
       "  '0.133*river + 0.131*water + 0.101*sell + 0.090*tree + 0.088*bank + 0.069*borrow + 0.060*flow + 0.057*fast + 0.057*shore + 0.057*loan'),\n",
       " (1,\n",
       "  '0.256*bank + 0.114*finance + 0.112*money + 0.087*water + 0.052*river + 0.049*rain + 0.049*fall + 0.048*transaction + 0.048*flow + 0.046*sell')]"
      ]
     },
     "execution_count": 5,
     "metadata": {},
     "output_type": "execute_result"
    }
   ],
   "source": [
    "# we can pass the num_words argument to limit the listed \n",
    "# number of most probable words \n",
    "texts_model.show_topics()"
   ]
  },
  {
   "cell_type": "markdown",
   "metadata": {},
   "source": [
    "After using the `show_topics` method from the model, it will output the most probable words that appear in each topic. For the gensim library, the default printing behavior is to print a linear combination of the top words sorted in decreasing order of the probability of the word appearing in that topic. Thus words that appear towards the left are the ones that are more indicative of the topic.\n",
    "\n",
    "We see our LDA model has given us a pretty intuitive result. Bank is the most influential word in both the topics and other words help define what kind of bank we are talking about. We can also use the function `get_term_topics` and `get_document_topics` to further evaluate our result. `get_term_topics` returns the odds of that particular word belonging to a particular topic. A few examples:"
   ]
  },
  {
   "cell_type": "code",
   "execution_count": 6,
   "metadata": {
    "collapsed": false
   },
   "outputs": [
    {
     "name": "stdout",
     "output_type": "stream",
     "text": [
      "[(0, 0.11422104102738566), (1, 0.072232743000712502)]\n",
      "[(0, 0.070832357821999939), (1, 0.24333003783824894)]\n"
     ]
    }
   ],
   "source": [
    "print( texts_model.get_term_topics('water') )\n",
    "print( texts_model.get_term_topics('bank') )"
   ]
  },
  {
   "cell_type": "markdown",
   "metadata": {},
   "source": [
    "Since the word bank is likely to be in both the topics, the values returned are also very similar.\n",
    "\n",
    "The `get_document_topics` method outputs the topic distribution of the document. Apart from this, it also let us know the topic distribution for each word in the document. Let us test this with two different documents which have the word bank in it, one in the finance context and one in the river context."
   ]
  },
  {
   "cell_type": "code",
   "execution_count": 7,
   "metadata": {
    "collapsed": false
   },
   "outputs": [
    {
     "name": "stdout",
     "output_type": "stream",
     "text": [
      "document topics:  [(0, 0.17616453138758156), (1, 0.82383546861241841)]\n",
      "\n",
      "water [1, 0]\n",
      "bank [1, 0]\n",
      "\n",
      "water [(0, 0.14407805464891851), (1, 0.85592194535108157)]\n",
      "bank [(0, 0.06011241904783008), (1, 1.9398875809521698)]\n"
     ]
    }
   ],
   "source": [
    "# before we can infer topic distributions on new, unseen documents\n",
    "# we need to convert it to bag of words format first\n",
    "bow_water = ['bank', 'water', 'bank']\n",
    "bow = texts_model.id2word.doc2bow(bow_water) \n",
    "doc_topics, word_topics, phi_values = texts_model.get_document_topics(bow, per_word_topics = True)\n",
    "\n",
    "# note that doc_topics equivalent to simply calling model[bow]\n",
    "print('document topics: ', doc_topics)\n",
    "print()\n",
    "\n",
    "for word_id, topic in word_topics:\n",
    "    # access the word with the word id\n",
    "    print( texts_model.id2word[word_id], topic )\n",
    "\n",
    "print()\n",
    "\n",
    "for word_id, topic in phi_values:\n",
    "    print( texts_model.id2word[word_id], topic )"
   ]
  },
  {
   "cell_type": "markdown",
   "metadata": {},
   "source": [
    "What do all these output mean? \n",
    "\n",
    "- `doc_topics` shows that this document has a higher probability of belonging to topic 1.\n",
    "- When `per_word_topics` is set as `True`, it also returns a `word_topics`. This variable captures the word id followed by a list sorted with the most likely topic id. From the output, it means both our word bank and water is more likely to be in topic 1 than topic 0.\n",
    "- We could also list out the `phi_values`. Compared with `word_topics`, it adds the information of the probability of the word belonging to a particular topic. Note that it is scaled by feature length (the word bank appeared 2 times, hence the value of the probability will add up to 2).\n",
    "\n",
    "let's now do the same thing with a second document, bow_finance."
   ]
  },
  {
   "cell_type": "code",
   "execution_count": 8,
   "metadata": {
    "collapsed": false
   },
   "outputs": [
    {
     "data": {
      "text/plain": [
       "[(3, [1, 0]), (11, [1])]"
      ]
     },
     "execution_count": 8,
     "metadata": {},
     "output_type": "execute_result"
    }
   ],
   "source": [
    "bow_finance = ['bank', 'finance']\n",
    "bow = texts_model.id2word.doc2bow(bow_finance) # convert to bag of words format first\n",
    "doc_topics, word_topics, phi_values = texts_model.get_document_topics(bow, per_word_topics = True)\n",
    "word_topics"
   ]
  },
  {
   "cell_type": "markdown",
   "metadata": {},
   "source": [
    "Since the word bank is now used in a financial context, the most probable topic for the word immedietly swaps to being topic 0. We've seen quite clearly that based on the context, the most likely topic associated with a word can change. This differs from our previous method, `get_term_topics`, where it is a 'static' topic distribution.\n",
    "\n",
    "But note that, each word in a document is only given one topic distribution, meaning it can't tell the difference if one word that have different meanings occured in the same document (every 'bank' word will have the same distribution)."
   ]
  },
  {
   "cell_type": "code",
   "execution_count": 9,
   "metadata": {
    "collapsed": false
   },
   "outputs": [
    {
     "data": {
      "text/plain": [
       "[(2, [1, 0]), (3, [1, 0])]"
      ]
     },
     "execution_count": 9,
     "metadata": {},
     "output_type": "execute_result"
    }
   ],
   "source": [
    "bow = texts_model.id2word.doc2bow([ 'the', 'bank', 'by', 'the', 'river', 'bank' ])\n",
    "doc_topics, word_topics, phi_values = texts_model.get_document_topics(bow, per_word_topics = True)\n",
    "word_topics"
   ]
  },
  {
   "cell_type": "markdown",
   "metadata": {},
   "source": [
    "## Wiki Example\n",
    "\n",
    "Let's dig deeper into this topic modeling technique using a larger dataset. To follow along please download the file from this [dropbox link](https://www.dropbox.com/s/mriz0nq35ore8cr/people_wiki.csv?dl=0)."
   ]
  },
  {
   "cell_type": "code",
   "execution_count": 10,
   "metadata": {
    "collapsed": false
   },
   "outputs": [
    {
     "data": {
      "text/html": [
       "<div>\n",
       "<table border=\"1\" class=\"dataframe\">\n",
       "  <thead>\n",
       "    <tr style=\"text-align: right;\">\n",
       "      <th></th>\n",
       "      <th>URI</th>\n",
       "      <th>name</th>\n",
       "      <th>text</th>\n",
       "    </tr>\n",
       "  </thead>\n",
       "  <tbody>\n",
       "    <tr>\n",
       "      <th>0</th>\n",
       "      <td>&lt;http://dbpedia.org/resource/Digby_Morrell&gt;</td>\n",
       "      <td>Digby Morrell</td>\n",
       "      <td>digby morrell born 10 october 1979 is a former...</td>\n",
       "    </tr>\n",
       "    <tr>\n",
       "      <th>1</th>\n",
       "      <td>&lt;http://dbpedia.org/resource/Alfred_J._Lewy&gt;</td>\n",
       "      <td>Alfred J. Lewy</td>\n",
       "      <td>alfred j lewy aka sandy lewy graduated from un...</td>\n",
       "    </tr>\n",
       "    <tr>\n",
       "      <th>2</th>\n",
       "      <td>&lt;http://dbpedia.org/resource/Harpdog_Brown&gt;</td>\n",
       "      <td>Harpdog Brown</td>\n",
       "      <td>harpdog brown is a singer and harmonica player...</td>\n",
       "    </tr>\n",
       "    <tr>\n",
       "      <th>3</th>\n",
       "      <td>&lt;http://dbpedia.org/resource/Franz_Rottensteiner&gt;</td>\n",
       "      <td>Franz Rottensteiner</td>\n",
       "      <td>franz rottensteiner born in waidmannsfeld lowe...</td>\n",
       "    </tr>\n",
       "    <tr>\n",
       "      <th>4</th>\n",
       "      <td>&lt;http://dbpedia.org/resource/G-Enka&gt;</td>\n",
       "      <td>G-Enka</td>\n",
       "      <td>henry krvits born 30 december 1974 in tallinn ...</td>\n",
       "    </tr>\n",
       "  </tbody>\n",
       "</table>\n",
       "</div>"
      ],
      "text/plain": [
       "                                                 URI                 name  \\\n",
       "0        <http://dbpedia.org/resource/Digby_Morrell>        Digby Morrell   \n",
       "1       <http://dbpedia.org/resource/Alfred_J._Lewy>       Alfred J. Lewy   \n",
       "2        <http://dbpedia.org/resource/Harpdog_Brown>        Harpdog Brown   \n",
       "3  <http://dbpedia.org/resource/Franz_Rottensteiner>  Franz Rottensteiner   \n",
       "4               <http://dbpedia.org/resource/G-Enka>               G-Enka   \n",
       "\n",
       "                                                text  \n",
       "0  digby morrell born 10 october 1979 is a former...  \n",
       "1  alfred j lewy aka sandy lewy graduated from un...  \n",
       "2  harpdog brown is a singer and harmonica player...  \n",
       "3  franz rottensteiner born in waidmannsfeld lowe...  \n",
       "4  henry krvits born 30 december 1974 in tallinn ...  "
      ]
     },
     "execution_count": 10,
     "metadata": {},
     "output_type": "execute_result"
    }
   ],
   "source": [
    "# the file is placed one directory above this notebook,\n",
    "# since it's also used by other notebooks\n",
    "# change this if you liked\n",
    "file_path = os.path.join('..', 'people_wiki.csv')\n",
    "wiki = pd.read_csv(file_path)\n",
    "wiki.head()"
   ]
  },
  {
   "cell_type": "code",
   "execution_count": 11,
   "metadata": {
    "collapsed": false
   },
   "outputs": [
    {
     "name": "stdout",
     "output_type": "stream",
     "text": [
      "number of unique tokens:  548561\n",
      "number of unique tokens:  100000\n"
     ]
    }
   ],
   "source": [
    "# build the id2word dictionary and the corpus (map the word to id)\n",
    "texts = wiki['text'].apply( lambda x: x.split(' ') ).tolist()\n",
    "dictionary = corpora.Dictionary(texts)\n",
    "print( 'number of unique tokens: ', len(dictionary) )\n",
    "\n",
    "# remove stop words from a stop words set; merged from\n",
    "# nltk and scikit-learn's built-in list and words\n",
    "stoplist = set( stopwords.words('english') ).union( set(ENGLISH_STOP_WORDS) )\n",
    "stop_ids = [ dictionary.token2id[stopword] for stopword in stoplist\n",
    "             if stopword in dictionary.token2id ]\n",
    "dictionary.filter_tokens(stop_ids)\n",
    "\n",
    "# filter out words that appear in less than 2 documents (appear only once)\n",
    "dictionary.filter_extremes(no_below = 2)\n",
    "\n",
    "# remove gaps in id sequence after words that were removed\n",
    "dictionary.compactify()\n",
    "print( 'number of unique tokens: ', len(dictionary) )\n",
    "\n",
    "corpus = [ dictionary.doc2bow(text) for text in texts ]"
   ]
  },
  {
   "cell_type": "markdown",
   "metadata": {},
   "source": [
    "After building the dictionary of word to id mapping and the corpus we can now train our model.\n",
    "\n",
    "> Taken from the [gensim LDA documentation](https://radimrehurek.com/gensim/wiki.html#latent-dirichlet-allocation).\n",
    ">\n",
    "> With gensim we can run online LDA, which is an algorithm that takes a chunk of documents, updates the LDA model, takes another chunk, updates the model etc. Online LDA can be contrasted with batch LDA, which processes the whole corpus (one full pass), then updates the model, then another pass, another update... The difference is that given a reasonably stationary document stream (not much topic drift), the online updates over the smaller chunks (subcorpora) are pretty good in themselves, so that the model estimation converges faster. As a result, we will perhaps only need a single full pass over the corpus: if the corpus has 3 million articles, and we update once after every 10,000 articles, this means we will have done 300 updates in one pass, quite likely enough to have a very accurate topics estimate.\n",
    "\n",
    "The default parameter for the `LdaModel` is chunksize=2000, passes=1, update_every=1. \n",
    "\n",
    "- The model will update once (`update_every`) every 1 chunk (10,000 documents). We can set `update_every` to 0 if we wanted to perform batch LDA.\n",
    "- `passes` corresponds to how many times each mini-batch will be given to LDA for training. Setting it to higher value allows LDA to see our corpus multiple times and is very handy for smaller corpora.\n",
    "\n",
    "The method used to fit the LDA model is a randomized algorithm, which means that it involves steps that are random. Because of these random steps, the algorithm will be expected to yield slighty different output for different runs on the same data. Hence to make sure that the output are consistent and to save some time, We will save the model without having to rebuild it every single time.\n",
    "\n",
    "```python\n",
    "# for saving and loading the gensim LdaModel\n",
    "model.save('model.lda')\n",
    "model = LdaModel.load('model.lda')\n",
    "```\n",
    "<p>\n",
    "<div class=\"alert alert-info\">\n",
    "Note that there is also the `LdaMulticore` model available, in case we want to use all CPU cores to parallelize and speed up model training. All its parameter is the same as the LdaModel we're using here.\n",
    "</div>"
   ]
  },
  {
   "cell_type": "code",
   "execution_count": 12,
   "metadata": {
    "collapsed": false
   },
   "outputs": [],
   "source": [
    "# load the model if we've already trained it before, it\n",
    "# takes  around 2 min 2 sec if we were to train it from scratch\n",
    "n_topics = 10\n",
    "path = 'topic_model.lda'\n",
    "if not os.path.isfile(path):\n",
    "    topic_model = LdaModel(corpus, id2word = dictionary, n_topics = 10, iterations = 200)\n",
    "    topic_model.save(path)\n",
    "\n",
    "topic_model = LdaModel.load(path)"
   ]
  },
  {
   "cell_type": "markdown",
   "metadata": {},
   "source": [
    "### Identifying topic themes by top words\n",
    "\n",
    "After building the model, we'll start and try to identify the topics learned by our model. It is reasonable to hope that the model has been able to learn topics that corresponds to recognizable categories. In order to do this, we must first recall what exactly a 'topic' is in the context of LDA. \n",
    "\n",
    "Recall that, to LDA, a topic is a probability distribution over words in the vocabulary; that is, each topic assigns a particular probability to every one of the unique words that appears in our data. Different topics will assign different probabilities to the same word: for instance, a topic that ends up describing science and technology articles might place more probability on the word 'university' than a topic that describes sports or politics. Looking at the highest probability words in each topic will thus give us a sense of its major themes. Ideally we would find that each topic is identifiable with some clear theme and all the topics are relatively distinct. In the following code chunk, we print out the top 10 words associated with each topic."
   ]
  },
  {
   "cell_type": "code",
   "execution_count": 13,
   "metadata": {
    "collapsed": false
   },
   "outputs": [
    {
     "data": {
      "text/plain": [
       "[(0,\n",
       "  [('album', 0.011658345894240184),\n",
       "   ('released', 0.0093104282202488651),\n",
       "   ('music', 0.0077885167859285849),\n",
       "   ('band', 0.0075361034991478911),\n",
       "   ('song', 0.005330685126680404),\n",
       "   ('known', 0.0051475158938387765),\n",
       "   ('best', 0.0048750061712574911),\n",
       "   ('records', 0.0046782274108954037),\n",
       "   ('songs', 0.0042742468704786421),\n",
       "   ('played', 0.0042361105283486864)]),\n",
       " (1,\n",
       "  [('minister', 0.0063804116446225297),\n",
       "   ('government', 0.0056927036397906965),\n",
       "   ('party', 0.005653588703463195),\n",
       "   ('court', 0.0042620116998945412),\n",
       "   ('years', 0.0041595662345608186),\n",
       "   ('later', 0.0038287217293505658),\n",
       "   ('political', 0.0036481664463826752),\n",
       "   ('rights', 0.0036211583374656628),\n",
       "   ('indian', 0.0035974838555140193),\n",
       "   ('said', 0.00358126850541966)]),\n",
       " (2,\n",
       "  [('university', 0.023199679577703171),\n",
       "   ('member', 0.007875690307778873),\n",
       "   ('served', 0.0075617710776014055),\n",
       "   ('international', 0.0074190760161321366),\n",
       "   ('president', 0.0073885301439813962),\n",
       "   ('director', 0.0073341843766854395),\n",
       "   ('research', 0.0068470058780113899),\n",
       "   ('national', 0.0065021272731901206),\n",
       "   ('professor', 0.0063095917977297744),\n",
       "   ('board', 0.0058925194968002092)]),\n",
       " (3,\n",
       "  [('film', 0.024172110630716549),\n",
       "   ('art', 0.015120689774910538),\n",
       "   ('work', 0.010164841570244516),\n",
       "   ('new', 0.0090455423996943195),\n",
       "   ('series', 0.0087293869568421875),\n",
       "   ('award', 0.0082367340999226959),\n",
       "   ('arts', 0.0066828538949012146),\n",
       "   ('films', 0.0063085702217641317),\n",
       "   ('best', 0.0058086379081298744),\n",
       "   ('york', 0.0057437774223315086)]),\n",
       " (4,\n",
       "  [('season', 0.012480120667170115),\n",
       "   ('team', 0.012142861639211574),\n",
       "   ('league', 0.012070599292597919),\n",
       "   ('played', 0.011127687359319549),\n",
       "   ('world', 0.0073542801003300762),\n",
       "   ('football', 0.0072616228185864943),\n",
       "   ('games', 0.0071032798175890491),\n",
       "   ('career', 0.0069338787024371693),\n",
       "   ('coach', 0.0060137723148426751),\n",
       "   ('player', 0.0057863611499062197)]),\n",
       " (5,\n",
       "  [('radio', 0.0093439147119177869),\n",
       "   ('australian', 0.006182076186808801),\n",
       "   ('television', 0.00616423038269979),\n",
       "   ('british', 0.005387723220858503),\n",
       "   ('company', 0.0051773404605994881),\n",
       "   ('new', 0.0051427938892867498),\n",
       "   ('news', 0.0049965717281100054),\n",
       "   ('years', 0.0046718298329603194),\n",
       "   ('australia', 0.0043412182166643306),\n",
       "   ('bbc', 0.0042377749260940805)]),\n",
       " (6,\n",
       "  [('state', 0.011808852756914652),\n",
       "   ('served', 0.010969165838882744),\n",
       "   ('election', 0.010340851315699943),\n",
       "   ('member', 0.010287058458846561),\n",
       "   ('party', 0.0089411528059904679),\n",
       "   ('elected', 0.0086209980072462864),\n",
       "   ('new', 0.007920162222788232),\n",
       "   ('district', 0.0071743703021147449),\n",
       "   ('house', 0.0064348436370396259),\n",
       "   ('school', 0.0061226454545023493)]),\n",
       " (7,\n",
       "  [('music', 0.043327118964452897),\n",
       "   ('orchestra', 0.012492326599073284),\n",
       "   ('jazz', 0.010813458317049357),\n",
       "   ('performed', 0.0077880089073840454),\n",
       "   ('composer', 0.0072024576406095287),\n",
       "   ('new', 0.0069766068900942411),\n",
       "   ('symphony', 0.0067925040359581804),\n",
       "   ('piano', 0.0066164690524970612),\n",
       "   ('musical', 0.0059599321050578307),\n",
       "   ('guitar', 0.0054497984627620566)]),\n",
       " (8,\n",
       "  [('opera', 0.008135402043037086),\n",
       "   ('international', 0.007866960922760043),\n",
       "   ('la', 0.0070938428896956509),\n",
       "   ('french', 0.0068184812114936884),\n",
       "   ('german', 0.0061595871755751458),\n",
       "   ('church', 0.0059960295425277249),\n",
       "   ('germany', 0.0056370282186512261),\n",
       "   ('studied', 0.0048558034204784451),\n",
       "   ('paris', 0.0047776292574979624),\n",
       "   ('france', 0.0047331892553026016)]),\n",
       " (9,\n",
       "  [('university', 0.011473532099573072),\n",
       "   ('new', 0.0092355799697879711),\n",
       "   ('book', 0.0091685918709012038),\n",
       "   ('published', 0.0085663274340776301),\n",
       "   ('american', 0.0079550328333410827),\n",
       "   ('work', 0.0062186986825910262),\n",
       "   ('books', 0.0057802770911865448),\n",
       "   ('york', 0.0050630872336447155),\n",
       "   ('award', 0.0046493007958001865),\n",
       "   ('author', 0.0043690273585494602)])]"
      ]
     },
     "execution_count": 13,
     "metadata": {},
     "output_type": "execute_result"
    }
   ],
   "source": [
    "# each element of the list is a tuple \n",
    "# containing the topic and word / probability list\n",
    "topics = topic_model.show_topics(num_words = 10, formatted = False)\n",
    "topics"
   ]
  },
  {
   "cell_type": "markdown",
   "metadata": {},
   "source": [
    "We can identify themes for each topic, some example:\n",
    "\n",
    "- topic 0 includes words such as album, released, music. Possibly a music topic. \n",
    "- topic 4 includes words such as season, team, player, coach, etc. It's probably about about sports.\n",
    "- topic 6 includes words such as state, served, election. Politics.\n",
    "\n",
    "Recall that the main distinguishing feature for LDA is it allows for mixed membership, which means that each document can partially belong to several different topics. For each document, topic membership is expressed as a vector of weights that sum to one; the magnitude of each weight indicates the degree to which the document represents that particular topic.\n",
    "\n",
    "We'll explore this in our fitted model by looking at the topic distributions for a few example Wikipedia articles from our data set. We should find that these articles have the highest weights on the topics whose themes are most relevant to the subject of the article - for example, we'd expect an article on a politician to place relatively high weight on topics related to government, while an article about an athlete should place higher weight on topics related to sports or competition.\n",
    "\n",
    "Here we'll predict the topic distribution for the article on Barack Obama:"
   ]
  },
  {
   "cell_type": "code",
   "execution_count": 14,
   "metadata": {
    "collapsed": false
   },
   "outputs": [
    {
     "data": {
      "text/plain": [
       "[(1, 0.32786976168321053),\n",
       " (2, 0.11506792177976727),\n",
       " (5, 0.010275045804349502),\n",
       " (6, 0.49890920164121416),\n",
       " (8, 0.010059484095181523),\n",
       " (9, 0.036560382880168399)]"
      ]
     },
     "execution_count": 14,
     "metadata": {},
     "output_type": "execute_result"
    }
   ],
   "source": [
    "# extract one document to serve as an example\n",
    "obama = wiki.loc[ wiki['name'] == 'Barack Obama', 'text' ].tolist()[0].split()\n",
    "\n",
    "# topic distribution for this document\n",
    "obama_bow = topic_model.id2word.doc2bow(obama)\n",
    "topic_model[obama_bow]"
   ]
  },
  {
   "cell_type": "markdown",
   "metadata": {},
   "source": [
    "As we can see the most probable topic associated with a politician is topic 6, which we labeled as politics. And if we look at the second most probable topic, topic 1, we can see words such as government, court which thankfully also makes sense (this is probably a topic about the government and the law).\n",
    "\n",
    "### Measuring the importance of top words\n",
    "\n",
    "We can learn more about topics by exploring how they place probability mass (which we can think of as a weight) on each of their top words. We'll do this with two visualizations of the weights for the top words in each topic:\n",
    " - the weights of the top 100 words, sorted by the size\n",
    " - the total weight of the top 10 words"
   ]
  },
  {
   "cell_type": "code",
   "execution_count": 15,
   "metadata": {
    "collapsed": false
   },
   "outputs": [
    {
     "data": {
      "image/png": "[encoded data removed]",
      "text/plain": [
       "<matplotlib.figure.Figure at 0x11f728f28>"
      ]
     },
     "metadata": {},
     "output_type": "display_data"
    }
   ],
   "source": [
    "# change default figure and font size\n",
    "plt.rcParams['figure.figsize'] = 8, 6 \n",
    "plt.rcParams['font.size'] = 12\n",
    "\n",
    "# top 100 words by weight in each topic\n",
    "top_n_words = 100\n",
    "topics = topic_model.show_topics(num_topics = n_topics, num_words = top_n_words, formatted = False)\n",
    "for _, infos in topics:\n",
    "    probs = [prob for _, prob in infos]\n",
    "    plt.plot( range(top_n_words), probs )\n",
    "\n",
    "plt.xlabel('Word rank')\n",
    "plt.ylabel('Probability')\n",
    "plt.title('Probabilities of Top 100 Words in each Topic')\n",
    "plt.show()"
   ]
  },
  {
   "cell_type": "markdown",
   "metadata": {},
   "source": [
    "In the above plot, each line corresponds to one of our ten topics. Notice how for each topic, the weights drop off sharply as we move down the ranked list of most important words. This shows that the top 10 to 20 words in each topic are assigned a much greater weight than the remaining words (remember from the preprocessing step that our vocabulary size was 100000).\n",
    "\n",
    "Next we plot the total weight assigned by each topic to its top 10 words:"
   ]
  },
  {
   "cell_type": "code",
   "execution_count": 16,
   "metadata": {
    "collapsed": false
   },
   "outputs": [
    {
     "data": {
      "image/png": "[encoded data removed]",
      "text/plain": [
       "<matplotlib.figure.Figure at 0x19b63bdd8>"
      ]
     },
     "metadata": {},
     "output_type": "display_data"
    }
   ],
   "source": [
    "# total weight assigned by each topic to its top 10 words\n",
    "top_probs = []\n",
    "top_n_words = 10\n",
    "topics = topic_model.show_topics(num_words = top_n_words, formatted = False)\n",
    "for _, infos in topics:\n",
    "    prob = sum([ prob for _, prob in infos ])\n",
    "    top_probs.append(prob)\n",
    "\n",
    "ind = np.arange(top_n_words)\n",
    "width = 0.5\n",
    "\n",
    "fig, ax = plt.subplots()\n",
    "\n",
    "ax.bar( ind - (width / 2), top_probs, width, color = 'lightcoral' )\n",
    "ax.set_xticks(ind)\n",
    "\n",
    "plt.xlabel('Topic')\n",
    "plt.ylabel('Probability')\n",
    "plt.title('Total Probability of Top 10 Words in each Topic')\n",
    "plt.xlim(-0.5, 9.5)\n",
    "plt.ylim(0, 0.15)\n",
    "plt.show()"
   ]
  },
  {
   "cell_type": "markdown",
   "metadata": {},
   "source": [
    "Here we see that, for our topic model, the top 10 words only account for a small fraction (in this case, between 4% and 12%) of their topic's total probability mass. So while we can use the top words to identify broad themes for each topic, we should keep in mind that in reality these topics are more complex than a simple 10-word summary."
   ]
  },
  {
   "cell_type": "markdown",
   "metadata": {},
   "source": [
    "### Understanding the role of LDA model hyperparameters\n",
    "\n",
    "Finally, we'll take a look at the effect of the LDA model hyperparameters `alpha` and `eta` on the characteristics of our topic model. `alpha` is a parameter that controls the **prior distribution over topic weights in each document**, while `eta` is a parameter for the **prior distribution over word weights in each topic**. In `gensim`, both default to a symmetric, 1 / num_topics prior.\n",
    "\n",
    "<p>\n",
    "<div class=\"alert alert-warning\">\n",
    "Different packages ues different notations for these two hyperparameters (you'll see $\\alpha$ (alpha), $\\eta$ (eta), $\\beta$ (beta), $\\theta$ (theta), $\\gamma$ (gamma) ....), hence you definitely check the documentation to see which one refers to the **document topic prior** and which one controls the **topic word prior**.\n",
    "</div>\n",
    "\n",
    "`alpha` and `eta` can be thought of as smoothing parameters when we compute how much each document \"likes\" a topic (in the case of `alpha`) or how much each topic \"likes\" a word (in the case of `gamma`). A higher `alpha` makes the document preferences \"smoother\" over topics, and a higher `eta` makes the topic preferences \"smoother\" over words.\n",
    "\n",
    "Our goal in this section will be to understand how changing these parameter values affects the characteristics of the resulting topic model. \n",
    "\n",
    "We'll start with `alpha`. Since `alpha` is responsible for smoothing document preferences over topics, the impact of changing its value should be visible when we plot the distribution of topic weights for the same document under models fit with different `alpha` values. In the code below, we load topic models that have been trained using different settings of `alpha`, plot the (sorted) topic weights for the Wikipedia article on an example document (the same one we've used as an example to predict the topic distribution) under models with high (10), original (0.1), and low (0.001) settings of alpha."
   ]
  },
  {
   "cell_type": "code",
   "execution_count": 17,
   "metadata": {
    "collapsed": false
   },
   "outputs": [],
   "source": [
    "path_alpha_high = 'topic_model_alpha_high.lda'\n",
    "path_alpha_low = 'topic_model_alpha_low.lda'\n",
    "\n",
    "if not os.path.isfile(path_alpha_high):\n",
    "    topic_model_alpha_high = LdaModel(corpus, id2word = dictionary, \n",
    "                                      num_topics = n_topics, iterations = 200, alpha = 10)\n",
    "    topic_model_alpha_low = LdaModel(corpus, id2word = dictionary, \n",
    "                                     num_topics = n_topics, iterations = 200, alpha = 0.001)\n",
    "\n",
    "    topic_model_alpha_high.save(path_alpha_high)\n",
    "    topic_model_alpha_low.save(path_alpha_low)\n",
    "\n",
    "\n",
    "topic_model_alpha_high = LdaModel.load(path_alpha_high)\n",
    "topic_model_alpha_low = LdaModel.load(path_alpha_low)"
   ]
  },
  {
   "cell_type": "code",
   "execution_count": 18,
   "metadata": {
    "collapsed": false
   },
   "outputs": [],
   "source": [
    "def sort_doc_topics(topic_model, doc):\n",
    "    \"\"\"\n",
    "    given a gensim LDA topic model and\n",
    "    a document, obtain the predicted probability\n",
    "    for each topic in sorted order\n",
    "    \"\"\"\n",
    "    bow = topic_model.id2word.doc2bow(doc)\n",
    "    \n",
    "    # the default minimum_probability will clip out topics that\n",
    "    # have a probability that's too small will get chopped off, \n",
    "    # which is not what we want here\n",
    "    doc_topics = topic_model.get_document_topics(bow, minimum_probability = 0)\n",
    "    doc_topics.sort(key = itemgetter(1), reverse = True)\n",
    "    probs = [ prob for _, prob in doc_topics ]\n",
    "    return probs"
   ]
  },
  {
   "cell_type": "code",
   "execution_count": 19,
   "metadata": {
    "collapsed": true
   },
   "outputs": [],
   "source": [
    "alpha_low = sort_doc_topics(topic_model_alpha_low, obama)\n",
    "alpha_default = sort_doc_topics(topic_model, obama)\n",
    "alpha_high = sort_doc_topics(topic_model_alpha_high, obama)"
   ]
  },
  {
   "cell_type": "code",
   "execution_count": 20,
   "metadata": {
    "collapsed": true
   },
   "outputs": [],
   "source": [
    "def param_barplot(a, b, c, ylim, param, ylab):\n",
    "    \"\"\"\n",
    "    plotting function for three topic models that\n",
    "    have a different `param` value\n",
    "    \"\"\"\n",
    "    ind = np.arange(len(a))\n",
    "    width = 0.3\n",
    "    \n",
    "    fig = plt.figure()\n",
    "    ax = fig.add_subplot(111)\n",
    "\n",
    "    b1 = ax.bar(ind, a, width, color = 'lightskyblue')\n",
    "    b2 = ax.bar(ind + width, b, width, color = 'lightcoral')\n",
    "    b3 = ax.bar(ind + (2 * width), c, width, color = 'gold')\n",
    "\n",
    "    ax.set_xticks(ind + width)\n",
    "    ax.set_xticklabels( range(len(a)) )\n",
    "    ax.set_ylabel(ylab)\n",
    "    ax.set_xlabel('topics')\n",
    "    ax.set_ylim(0, ylim)\n",
    "    ax.legend( handles = [b1, b2, b3], \n",
    "               labels = ['low ' + param, 'default ' + param, 'high ' + param] )\n",
    "    plt.tight_layout()\n",
    "    plt.show()"
   ]
  },
  {
   "cell_type": "code",
   "execution_count": 21,
   "metadata": {
    "collapsed": false
   },
   "outputs": [
    {
     "data": {
      "image/png": "[encoded data removed]",
      "text/plain": [
       "<matplotlib.figure.Figure at 0x1a28583c8>"
      ]
     },
     "metadata": {},
     "output_type": "display_data"
    }
   ],
   "source": [
    "param_barplot(alpha_low, alpha_default, alpha_high,\n",
    "              ylim = 1.0, param = 'alpha',\n",
    "              ylab = 'Topic Probability for Obama Article')"
   ]
  },
  {
   "cell_type": "markdown",
   "metadata": {},
   "source": [
    "Here we can clearly see the smoothing enforced by the `alpha` parameter - notice that when `alpha` is low, most of the weight in the topic distribution for this article goes to a single topic, but when it is high, the weight is much more evenly distributed across the topics.\n",
    "\n",
    "Just as we were able to see the effect of `alpha` by plotting topic weights for a document, we expect to be able to visualize the impact of changing `eta` by plotting word weights for each topic. In this case, however, there are far too many words in our vocabulary to do this effectively. Instead, we'll plot the total weight of the top 10 words and bottom 500 words for each topic in the high (10), original (0.1), and low (0.001) `eta` model."
   ]
  },
  {
   "cell_type": "code",
   "execution_count": 22,
   "metadata": {
    "collapsed": false
   },
   "outputs": [],
   "source": [
    "path_eta_high = 'topic_model_eta_high.lda'\n",
    "path_eta_low = 'topic_model_eta_low.lda'\n",
    "\n",
    "if not os.path.isfile(path_eta_high):\n",
    "    topic_model_eta_high = LdaModel(corpus, id2word = dictionary, \n",
    "                                    num_topics = n_topics, iterations = 200, eta = 10)\n",
    "    topic_model_eta_low = LdaModel(corpus, id2word = dictionary, \n",
    "                                   num_topics = n_topics, iterations = 200, eta = 0.001)\n",
    "                                 \n",
    "    topic_model_eta_high.save(path_eta_high)\n",
    "    topic_model_eta_low.save(path_eta_low)\n",
    "\n",
    "topic_model_eta_high = LdaModel.load(path_eta_high)\n",
    "topic_model_eta_low = LdaModel.load(path_eta_low)"
   ]
  },
  {
   "cell_type": "code",
   "execution_count": 23,
   "metadata": {
    "collapsed": true
   },
   "outputs": [],
   "source": [
    "def get_top_word_weight(topic_model, n_topics, top_n_words):\n",
    "    \"\"\"\n",
    "    total weight assigned by each topic to its top `top_n_words` words\n",
    "    \"\"\"\n",
    "    top_probs = []\n",
    "    topics = topic_model.show_topics(num_topics = n_topics, \n",
    "                                     num_words = top_n_words, \n",
    "                                     formatted = False)\n",
    "    for _, infos in topics:\n",
    "        prob = sum([ prob for _, prob in infos ])\n",
    "        top_probs.append(prob)\n",
    "\n",
    "    return top_probs"
   ]
  },
  {
   "cell_type": "code",
   "execution_count": 24,
   "metadata": {
    "collapsed": false
   },
   "outputs": [],
   "source": [
    "top_n_words = 10\n",
    "eta_low_top = get_top_word_weight(topic_model_eta_low, n_topics, top_n_words)\n",
    "eta_default_top = get_top_word_weight(topic_model, n_topics, top_n_words)\n",
    "eta_high_top = get_top_word_weight(topic_model_eta_high, n_topics, top_n_words)"
   ]
  },
  {
   "cell_type": "code",
   "execution_count": 25,
   "metadata": {
    "collapsed": true
   },
   "outputs": [],
   "source": [
    "def get_bottom_word_weight(topic_model, n_topics, bottom_n_words):\n",
    "    \"\"\"\n",
    "    total weight assigned by each topic to its bottom \n",
    "    `bottom_n_words` words\n",
    "    \"\"\"\n",
    "    bottom_probs = []\n",
    "    num_words = len(topic_model.id2word)\n",
    "    topics = topic_model.show_topics(num_topics = n_topics, \n",
    "                                     num_words = num_words, \n",
    "                                     formatted = False)\n",
    "    for _, infos in topics:\n",
    "        prob = sum([ prob for _, prob in infos[-bottom_n_words:] ])\n",
    "        bottom_probs.append(prob)\n",
    "\n",
    "    return bottom_probs"
   ]
  },
  {
   "cell_type": "code",
   "execution_count": 26,
   "metadata": {
    "collapsed": false
   },
   "outputs": [],
   "source": [
    "bottom_n_words = 500\n",
    "eta_low_bottom = get_bottom_word_weight(topic_model_eta_low, n_topics, bottom_n_words)\n",
    "eta_default_bottom = get_bottom_word_weight(topic_model, n_topics, bottom_n_words)\n",
    "eta_high_bottom = get_bottom_word_weight(topic_model_eta_high, n_topics, bottom_n_words)"
   ]
  },
  {
   "cell_type": "code",
   "execution_count": 27,
   "metadata": {
    "collapsed": false
   },
   "outputs": [
    {
     "data": {
      "image/png": "[encoded data removed]",
      "text/plain": [
       "<matplotlib.figure.Figure at 0x1aa523ef0>"
      ]
     },
     "metadata": {},
     "output_type": "display_data"
    },
    {
     "data": {
      "image/png": "[encoded data removed]",
      "text/plain": [
       "<matplotlib.figure.Figure at 0x1b0c78cc0>"
      ]
     },
     "metadata": {},
     "output_type": "display_data"
    }
   ],
   "source": [
    "param_barplot(eta_low_top, eta_default_top, eta_high_top,\n",
    "              ylim = 0.15, param = 'eta',\n",
    "              ylab = 'Total Probability of Top 10 Words')\n",
    "\n",
    "param_barplot(eta_low_bottom, eta_default_bottom, eta_high_bottom,\n",
    "              ylim = 0.007, param = 'eta',\n",
    "              ylab = 'Total Probability of Bottom 500 Words')"
   ]
  },
  {
   "cell_type": "markdown",
   "metadata": {},
   "source": [
    "From these two plots we can see that the low `eta` model results in higher weight placed on the top words and lower weight placed on the bottom words for each topic (or more intuitively, topics are composed of few words). On the other hand, the high `eta` model places relatively less weight on the top words and more weight on the bottom words. Thus increasing `eta` results in topics that have a smoother distribution of weight across all the words in the vocabulary.\n",
    "\n",
    "We have now seen how the hyperparameters influence the characteristics of our LDA topic model, but we haven't said anything about which settings are best. We know that these parameters are responsible for controlling the smoothness of the topic distributions for documents (`alpha`) and word distributions for topics (`eta`), but there's no simple conversion between smoothness of these distributions and quality of the topic model. \n",
    "\n",
    "Just like with all other models, there is no universally \"best\" choice for these hyperparameters. Finding a good topic model really requires some exploration of the output to see if it make sense (as we did by looking at the top words for each topics and checking some topic predictions for documents). If top words looks like complete gibberish, consider looking at the documents that got assigned to that topic and see if that helps decipher the contextual meaning of the topic. Or simply, scratch the whole thing and re-run the model, but during the re-run, add in uninterpretable words that appeared in the topic's top words to the stop words list so that they won't distort the interpretation again. If it still doesn't work ..., then try lemmatizing the words or use feature selection methods (the simplest being setting a cap on the number of words/tokens that the document-term matrix can use). If that still doesn't work ..., well, machine learning is garbage in garbage out, so maybe the data is simply way too outdated or messy to the utilized.\n",
    "\n",
    "Side note: Although LDA assumes the documents to be in bag of words (bow) representation, from this post [Quora: Why is the performance improved by using TFIDF instead of bag-of-words in LDA clustering?](https://www.quora.com/Why-is-the-performance-improved-by-using-TFIDF-instead-of-bag-of-words-in-LDA-clustering), it seems like people have also found sucess when using tf-idf representation."
   ]
  },
  {
   "cell_type": "markdown",
   "metadata": {},
   "source": [
    "## Reference\n",
    "\n",
    "- [Coursera Washington Clustering & Retrieval](https://www.coursera.org/learn/ml-clustering-and-retrieval)\n",
    "- [gensim documentation: Corpora and Vector Spaces](http://nbviewer.jupyter.org/github/RaRe-Technologies/gensim/blob/develop/docs/notebooks/Corpora_and_Vector_Spaces.ipynb)\n",
    "- [gensim documentation: New Term Topics Methods and Document Coloring](http://nbviewer.jupyter.org/github/RaRe-Technologies/gensim/blob/develop/docs/notebooks/topic_methods.ipynb)\n",
    "- [Quora: Why is the performance improved by using TFIDF instead of bag-of-words in LDA clustering?](https://www.quora.com/Why-is-the-performance-improved-by-using-TFIDF-instead-of-bag-of-words-in-LDA-clustering)"
   ]
  }
 ],
 "metadata": {
  "anaconda-cloud": {},
  "kernelspec": {
   "display_name": "Python [Root]",
   "language": "python",
   "name": "Python [Root]"
  },
  "language_info": {
   "codemirror_mode": {
    "name": "ipython",
    "version": 3
   },
   "file_extension": ".py",
   "mimetype": "text/x-python",
   "name": "python",
   "nbconvert_exporter": "python",
   "pygments_lexer": "ipython3",
   "version": "3.5.2"
  }
 },
 "nbformat": 4,
 "nbformat_minor": 0
}
