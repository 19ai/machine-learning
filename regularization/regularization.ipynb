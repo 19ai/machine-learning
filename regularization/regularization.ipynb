{
 "cells": [
  {
   "cell_type": "code",
   "execution_count": 1,
   "metadata": {
    "collapsed": false
   },
   "outputs": [
    {
     "data": {
      "text/html": [
       "<style>\n",
       "@import url('http://fonts.googleapis.com/css?family=Source+Code+Pro');\n",
       "@import url('http://fonts.googleapis.com/css?family=Vollkorn');\n",
       "@import url('http://fonts.googleapis.com/css?family=Arimo');\n",
       "@import url('http://fonts.googleapis.com/css?family=Fira_sans');\n",
       "\n",
       "    div.cell{\n",
       "        width: 1000px;\n",
       "        margin-left: 0% !important;\n",
       "        margin-right: auto;\n",
       "    }\n",
       "    div.text_cell code {\n",
       "        background: transparent;\n",
       "        color: #000000;\n",
       "        font-weight: 600;\n",
       "        font-size: 12pt;\n",
       "        font-style: bold;\n",
       "        font-family:  'Source Code Pro', Consolas, monocco, monospace;\n",
       "   }\n",
       "    h1 {\n",
       "        font-family: 'Open sans',verdana,arial,sans-serif;\n",
       "\t}\n",
       "\t\n",
       "    div.input_area {\n",
       "        background: #F6F6F9;\n",
       "        border: 1px solid #586e75;\n",
       "    }\n",
       "\n",
       "    .text_cell_render h1 {\n",
       "        font-weight: 200;\n",
       "        font-size: 30pt;\n",
       "        line-height: 100%;\n",
       "        color:#c76c0c;\n",
       "        margin-bottom: 0.5em;\n",
       "        margin-top: 1em;\n",
       "        display: block;\n",
       "        white-space: wrap;\n",
       "        text-align: left;\n",
       "    } \n",
       "    h2 {\n",
       "        font-family: 'Open sans',verdana,arial,sans-serif;\n",
       "        text-align: left;\n",
       "    }\n",
       "    .text_cell_render h2 {\n",
       "        font-weight: 200;\n",
       "        font-size: 16pt;\n",
       "        font-style: italic;\n",
       "        line-height: 100%;\n",
       "        color:#c76c0c;\n",
       "        margin-bottom: 0.5em;\n",
       "        margin-top: 1.5em;\n",
       "        display: block;\n",
       "        white-space: wrap;\n",
       "        text-align: left;\n",
       "    } \n",
       "    h3 {\n",
       "        font-family: 'Open sans',verdana,arial,sans-serif;\n",
       "    }\n",
       "    .text_cell_render h3 {\n",
       "        font-weight: 200;\n",
       "        font-size: 14pt;\n",
       "        line-height: 100%;\n",
       "        color:#d77c0c;\n",
       "        margin-bottom: 0.5em;\n",
       "        margin-top: 2em;\n",
       "        display: block;\n",
       "        white-space: wrap;\n",
       "        text-align: left;\n",
       "    }\n",
       "    h4 {\n",
       "        font-family: 'Open sans',verdana,arial,sans-serif;\n",
       "    }\n",
       "    .text_cell_render h4 {\n",
       "        font-weight: 100;\n",
       "        font-size: 14pt;\n",
       "        color:#d77c0c;\n",
       "        margin-bottom: 0.5em;\n",
       "        margin-top: 0.5em;\n",
       "        display: block;\n",
       "        white-space: nowrap;\n",
       "    }\n",
       "    h5 {\n",
       "        font-family: 'Open sans',verdana,arial,sans-serif;\n",
       "    }\n",
       "    .text_cell_render h5 {\n",
       "        font-weight: 200;\n",
       "        font-style: normal;\n",
       "        color: #1d3b84;\n",
       "        font-size: 16pt;\n",
       "        margin-bottom: 0em;\n",
       "        margin-top: 0.5em;\n",
       "        display: block;\n",
       "        white-space: nowrap;\n",
       "    }\n",
       "    div.text_cell_render{\n",
       "        font-family: 'Fira sans', verdana,arial,sans-serif;\n",
       "        line-height: 125%;\n",
       "        font-size: 115%;\n",
       "        text-align:justify;\n",
       "        text-justify:inter-word;\n",
       "    }\n",
       "    div.output_subarea.output_text.output_pyout {\n",
       "        overflow-x: auto;\n",
       "        overflow-y: scroll;\n",
       "        max-height: 50000px;\n",
       "    }\n",
       "    div.output_subarea.output_stream.output_stdout.output_text {\n",
       "        overflow-x: auto;\n",
       "        overflow-y: scroll;\n",
       "        max-height: 50000px;\n",
       "    }\n",
       "    div.output_wrapper{\n",
       "        margin-top:0.2em;\n",
       "        margin-bottom:0.2em;\n",
       "}\n",
       "\n",
       "    code{\n",
       "      font-size: 70%;\n",
       "    }\n",
       "    .rendered_html code{\n",
       "    background-color: transparent;\n",
       "    }\n",
       "    ul{\n",
       "        margin: 2em;\n",
       "    }\n",
       "    ul li{\n",
       "        padding-left: 0.5em; \n",
       "        margin-bottom: 0.5em; \n",
       "        margin-top: 0.5em; \n",
       "    }\n",
       "    ul li li{\n",
       "        padding-left: 0.2em; \n",
       "        margin-bottom: 0.2em; \n",
       "        margin-top: 0.2em; \n",
       "    }\n",
       "    ol{\n",
       "        margin: 2em;\n",
       "    }\n",
       "    ol li{\n",
       "        padding-left: 0.5em; \n",
       "        margin-bottom: 0.5em; \n",
       "        margin-top: 0.5em; \n",
       "    }\n",
       "    ul li{\n",
       "        padding-left: 0.5em; \n",
       "        margin-bottom: 0.5em; \n",
       "        margin-top: 0.2em; \n",
       "    }\n",
       "    a:link{\n",
       "       font-weight: bold;\n",
       "       color:#447adb;\n",
       "    }\n",
       "    a:visited{\n",
       "       font-weight: bold;\n",
       "       color: #1d3b84;\n",
       "    }\n",
       "    a:hover{\n",
       "       font-weight: bold;\n",
       "       color: #1d3b84;\n",
       "    }\n",
       "    a:focus{\n",
       "       font-weight: bold;\n",
       "       color:#447adb;\n",
       "    }\n",
       "    a:active{\n",
       "       font-weight: bold;\n",
       "       color:#447adb;\n",
       "    }\n",
       "    .rendered_html :link {\n",
       "       text-decoration: underline; \n",
       "    }\n",
       "    .rendered_html :hover {\n",
       "       text-decoration: none; \n",
       "    }\n",
       "    .rendered_html :visited {\n",
       "      text-decoration: none;\n",
       "    }\n",
       "    .rendered_html :focus {\n",
       "      text-decoration: none;\n",
       "    }\n",
       "    .rendered_html :active {\n",
       "      text-decoration: none;\n",
       "    }\n",
       "    .warning{\n",
       "        color: rgb( 240, 20, 20 )\n",
       "    } \n",
       "    hr {\n",
       "      color: #f3f3f3;\n",
       "      background-color: #f3f3f3;\n",
       "      height: 1px;\n",
       "    }\n",
       "    blockquote{\n",
       "      display:block;\n",
       "      background: #fcfcfc;\n",
       "      border-left: 5px solid #c76c0c;\n",
       "      font-family: 'Open sans',verdana,arial,sans-serif;\n",
       "      width:680px;\n",
       "      padding: 10px 10px 10px 10px;\n",
       "      text-align:justify;\n",
       "      text-justify:inter-word;\n",
       "      }\n",
       "      blockquote p {\n",
       "        margin-bottom: 0;\n",
       "        line-height: 125%;\n",
       "        font-size: 100%;\n",
       "      }\n",
       "</style>\n",
       "<script>\n",
       "    MathJax.Hub.Config({\n",
       "                        TeX: {\n",
       "                           extensions: [\"AMSmath.js\"]\n",
       "                           },\n",
       "                tex2jax: {\n",
       "                    inlineMath: [ ['$','$'], [\"\\\\(\",\"\\\\)\"] ],\n",
       "                    displayMath: [ ['$$','$$'], [\"\\\\[\",\"\\\\]\"] ]\n",
       "                },\n",
       "                displayAlign: 'center', // Change this to 'center' to center equations.\n",
       "                \"HTML-CSS\": {\n",
       "                    scale:100,\n",
       "                        availableFonts: [],\n",
       "                        preferredFont:null,\n",
       "                        webFont: \"TeX\",\n",
       "                    styles: {'.MathJax_Display': {\"margin\": 4}}\n",
       "                }\n",
       "        });\n",
       "</script>\n"
      ],
      "text/plain": [
       "<IPython.core.display.HTML object>"
      ]
     },
     "execution_count": 1,
     "metadata": {},
     "output_type": "execute_result"
    }
   ],
   "source": [
    "# code for loading the format for the notebook\n",
    "import os\n",
    "\n",
    "# path : store the current path to convert back to it later\n",
    "path = os.getcwd()\n",
    "os.chdir('../notebook_format')\n",
    "from formats import load_style\n",
    "load_style()"
   ]
  },
  {
   "cell_type": "code",
   "execution_count": 2,
   "metadata": {
    "collapsed": true
   },
   "outputs": [],
   "source": [
    "os.chdir(path)\n",
    "%matplotlib inline\n",
    "import numpy as np\n",
    "import pandas as pd\n",
    "import matplotlib.pyplot as plt\n",
    "from sklearn.linear_model import Ridge\n",
    "from sklearn.linear_model import Lasso\n",
    "from sklearn.linear_model import RidgeCV\n",
    "from sklearn.linear_model import LassoCV\n",
    "from sklearn.datasets import load_boston\n",
    "from sklearn.preprocessing import StandardScaler\n",
    "from sklearn.cross_validation import train_test_split"
   ]
  },
  {
   "cell_type": "markdown",
   "metadata": {},
   "source": [
    "# Regularization\n",
    "\n",
    "Before discussing about regularization, we'll do a quick recap on the notion of **overfitting** and the **bias-variance tradeoff**. \n",
    "\n",
    "**Overfitting:** So what is overfitting? Well, to put it in simplier terms it's when we built a model that is too complex that it matches the training data \"too closely\" or we can say that the model has started to learn not only the signal, but also the noise in the data. The result of this is that our model will do well on the training data, but won't generalize to out-of-sample data, data that we have not seen before. \n",
    "\n",
    "**Bias-Variance tradeoff:** When we discuss prediction models, prediction errors can be decomposed into two main subcomponents we care about: error due to \"bias\" and error due to \"variance\". Understanding these two types of error can help us diagnose model results and avoid the mistake of over/under fitting. A typical graph of discussing this is shown below:\n",
    "\n",
    "![Bias-variance tradeoff](images/bias_variance.png)\n",
    "\n",
    "- **Bias**, the red line, measures how far off in general our models' predictions are from the correct value. Thus as our model gets more and more complex we will become more and more accurate about our predictions (Error steadily decreases).\n",
    "- **Variance**, the cyan line (is it cyan ..?), measures how different can our model be from one to another, as we're looking at different possible data sets? If the estimated model will vary dramatically from one data set to the other, then we will have very erratic predictions, because our prediction will be extremely sensitive to what data set we obtain. As the complexity of our model rises and variance becomes our primary concern.\n",
    "\n",
    "When creating a model, our goal is to locate the optimum model complexity. If our model complexity exceeds this sweet spot, we are in effect overfitting our model; while if our complexity falls short of the sweet spot, we are underfitting the model. With all of that in mind, the notion of **regularization** is simply a useful technique to use when we think our model is too complex (models that have low bias, but high variance). It is a method for \"constraining\" or \"regularizing\" the **size of the coefficients** (\"shrinking\" them towards zero). The specific regularization techniques we'll be discussing are **Ridge Regression** and **Lasso Regression**."
   ]
  },
  {
   "cell_type": "markdown",
   "metadata": {},
   "source": [
    "## Ridge and Lasso Regression\n",
    "\n",
    "Recall that for a normal linear regression model of:\n",
    "\n",
    "$$Y = \\beta_0 + \\beta_1X_1 + ... + \\beta_pX_p$$\n",
    "\n",
    "We would estimate its coefficients using the least squares criterion, which minimizes the residual sum of squares (RSS). Or graphically, we're fitting the blue line to our data (the black points) that minimizes the sum of the distances between the points and the blue line (sum of the red lines) as shown below.\n",
    "\n",
    "![Estimating coefficients](images/estimating_coefficients.png)\n",
    "\n",
    "Mathematically, this can be denoted as:\n",
    "\n",
    "$$RSS = \\sum_{i=1}^n \\left( y_i - ( \\beta_0 + \\sum_{j=1}^p \\beta_jx_{ij} ) \\right)^2$$\n",
    "\n",
    "Where:\n",
    "\n",
    "- $n$ is the **total number of observations (data)**.\n",
    "- $y_i$ is the **actual output value of the observation (data)**.\n",
    "- $p$ is the **total number of features**.\n",
    "- $\\beta_j$ is a **model's coefficient**.\n",
    "- $x_{ij}$ is the **$i_{th}$ observation, $j_{th}$ feature's value**.\n",
    "- $\\beta_0 + \\sum_{j=1}^p \\beta_jx_{ij}$ is the **predicted output of each observation**.\n",
    "\n",
    "Regularized linear regression models are very similar to least squares, except that the coefficients are estimated by minimizing a slightly objective function. we **minimize the sum of RSS and a \"penalty term\"** that penalizes coefficient size.\n",
    "\n",
    "**Ridge regression** (or \"L2 regularization\") minimizes: $$\\text{RSS} + \\alpha \\sum_{j=1}^p \\beta_j^2$$\n",
    "\n",
    "**Lasso regression** (or \"L1 regularization\") minimizes: $$\\text{RSS} + \\alpha \\sum_{j=1}^p \\lvert \\beta_j \\rvert$$\n",
    "\n",
    "Where $\\alpha$ is a **tuning parameter** that seeks to balance between the fit of the model to the data and the magnitude of the model's coefficients:\n",
    "\n",
    "- A tiny $\\alpha$ imposes no penalty on the coefficient size, and is equivalent to a normal linear regression.\n",
    "- Increasing $\\alpha$ penalizes the coefficients and thus shrinks them towards zero.\n",
    "\n",
    "Thus you can think of it as, we're balancing two things to measure the model's total quality. The RSS, measures how well the model is going to fit the data, and then the magnitude of the coefficients, which can be problematic if they become too big."
   ]
  },
  {
   "cell_type": "markdown",
   "metadata": {},
   "source": [
    "Let's look at some examples. In the following section, we'll load the [Boston Housing Dataset](http://facweb.cs.depaul.edu/mobasher/classes/CSC478/Data/housing-dscr.txt), which contains some dataset about the housing values in suburbs of Boston. We'll choose the first few features, train a ridge and lasso regression separately at look at the estimated coefficients' weight for different $\\alpha$ parameter. \n",
    "\n",
    "Note that we're choosing the first few features because we'll later use a plot to show the affect of the $\\alpha$ parameter on the estimated coefficients' weight and too many features will make the plot pretty unappealing. The model's interpreability or performance is not the main focus here."
   ]
  },
  {
   "cell_type": "code",
   "execution_count": 3,
   "metadata": {
    "collapsed": false
   },
   "outputs": [
    {
     "data": {
      "text/html": [
       "<div>\n",
       "<table border=\"1\" class=\"dataframe\">\n",
       "  <thead>\n",
       "    <tr style=\"text-align: right;\">\n",
       "      <th></th>\n",
       "      <th>CRIM</th>\n",
       "      <th>ZN</th>\n",
       "      <th>INDUS</th>\n",
       "      <th>CHAS</th>\n",
       "      <th>NOX</th>\n",
       "      <th>RM</th>\n",
       "      <th>AGE</th>\n",
       "    </tr>\n",
       "  </thead>\n",
       "  <tbody>\n",
       "    <tr>\n",
       "      <th>0</th>\n",
       "      <td>0.00632</td>\n",
       "      <td>18.0</td>\n",
       "      <td>2.31</td>\n",
       "      <td>0.0</td>\n",
       "      <td>0.538</td>\n",
       "      <td>6.575</td>\n",
       "      <td>65.2</td>\n",
       "    </tr>\n",
       "    <tr>\n",
       "      <th>1</th>\n",
       "      <td>0.02731</td>\n",
       "      <td>0.0</td>\n",
       "      <td>7.07</td>\n",
       "      <td>0.0</td>\n",
       "      <td>0.469</td>\n",
       "      <td>6.421</td>\n",
       "      <td>78.9</td>\n",
       "    </tr>\n",
       "    <tr>\n",
       "      <th>2</th>\n",
       "      <td>0.02729</td>\n",
       "      <td>0.0</td>\n",
       "      <td>7.07</td>\n",
       "      <td>0.0</td>\n",
       "      <td>0.469</td>\n",
       "      <td>7.185</td>\n",
       "      <td>61.1</td>\n",
       "    </tr>\n",
       "    <tr>\n",
       "      <th>3</th>\n",
       "      <td>0.03237</td>\n",
       "      <td>0.0</td>\n",
       "      <td>2.18</td>\n",
       "      <td>0.0</td>\n",
       "      <td>0.458</td>\n",
       "      <td>6.998</td>\n",
       "      <td>45.8</td>\n",
       "    </tr>\n",
       "    <tr>\n",
       "      <th>4</th>\n",
       "      <td>0.06905</td>\n",
       "      <td>0.0</td>\n",
       "      <td>2.18</td>\n",
       "      <td>0.0</td>\n",
       "      <td>0.458</td>\n",
       "      <td>7.147</td>\n",
       "      <td>54.2</td>\n",
       "    </tr>\n",
       "  </tbody>\n",
       "</table>\n",
       "</div>"
      ],
      "text/plain": [
       "      CRIM    ZN  INDUS  CHAS    NOX     RM   AGE\n",
       "0  0.00632  18.0   2.31   0.0  0.538  6.575  65.2\n",
       "1  0.02731   0.0   7.07   0.0  0.469  6.421  78.9\n",
       "2  0.02729   0.0   7.07   0.0  0.469  7.185  61.1\n",
       "3  0.03237   0.0   2.18   0.0  0.458  6.998  45.8\n",
       "4  0.06905   0.0   2.18   0.0  0.458  7.147  54.2"
      ]
     },
     "execution_count": 3,
     "metadata": {},
     "output_type": "execute_result"
    }
   ],
   "source": [
    "boston = load_boston()\n",
    "\n",
    "feature_num = 7\n",
    "X = boston.data[ :, :feature_num ] # input data, meaning of each variable is in the link above\n",
    "y = boston.target # housing prices\n",
    "features = boston.feature_names[:feature_num]\n",
    "\n",
    "pd.DataFrame( X, columns = features ).head()"
   ]
  },
  {
   "cell_type": "code",
   "execution_count": 4,
   "metadata": {
    "collapsed": false
   },
   "outputs": [],
   "source": [
    "# split into training and testing sets and standardize them\n",
    "X_train, X_test, y_train, y_test = train_test_split( X, y, random_state = 1 )\n",
    "std = StandardScaler()\n",
    "X_train_std = std.fit_transform(X_train)\n",
    "X_test_std  = std.transform(X_test)"
   ]
  },
  {
   "cell_type": "code",
   "execution_count": 5,
   "metadata": {
    "collapsed": false
   },
   "outputs": [
    {
     "name": "stdout",
     "output_type": "stream",
     "text": [
      "different alpha values: [    10    100   1000  10000 100000]\n"
     ]
    }
   ],
   "source": [
    "# loop through different penalty score (alpha) and obtain the estimated coefficient (weights)\n",
    "alphas = 10 ** np.arange( 1, 6 )\n",
    "print( 'different alpha values:', alphas )\n",
    "\n",
    "# stores the weights of each feature\n",
    "ridge_weight = []\n",
    "for alpha in alphas:    \n",
    "    ridge = Ridge( alpha = alpha, fit_intercept = True )\n",
    "    ridge.fit( X_train_std, y_train )\n",
    "    ridge_weight.append(ridge.coef_)"
   ]
  },
  {
   "cell_type": "code",
   "execution_count": 6,
   "metadata": {
    "collapsed": false
   },
   "outputs": [],
   "source": [
    "def weight_versus_alpha_plot( weight, alphas, features ):\n",
    "    \"\"\"\n",
    "    Pass in the estimated weight, the alpha value and the names\n",
    "    for the features and plot the model's estimated coefficient weight \n",
    "    for different alpha values\n",
    "    \"\"\"\n",
    "    \n",
    "    fig = plt.figure( figsize = ( 8, 6 ) )\n",
    "    \n",
    "    # ensure that the weight is an array\n",
    "    weight = np.array(weight)\n",
    "    for col in range(weight.shape[1]):\n",
    "        plt.plot( alphas, weight[ :, col ], label = features[col] )\n",
    "\n",
    "    plt.axhline( 0, color = \"black\", linestyle = \"--\", linewidth = 3 )\n",
    "    plt.legend( bbox_to_anchor = ( 1.3, 0.9 ) ) # manually specify the coordinate of the legend\n",
    "    plt.title(\"Coefficient's Weight as Alpha Grows\")\n",
    "    plt.ylabel(\"coefficient's weight\")\n",
    "    plt.xlabel(\"alpha\")\n",
    "    return fig"
   ]
  },
  {
   "cell_type": "code",
   "execution_count": 7,
   "metadata": {
    "collapsed": false
   },
   "outputs": [
    {
     "data": {
      "image/png": "[encoded data removed]",
      "text/plain": [
       "<matplotlib.figure.Figure at 0x117f98cf8>"
      ]
     },
     "metadata": {},
     "output_type": "display_data"
    }
   ],
   "source": [
    "ridge_fig = weight_versus_alpha_plot( ridge_weight, alphas, features )"
   ]
  },
  {
   "cell_type": "code",
   "execution_count": 8,
   "metadata": {
    "collapsed": false
   },
   "outputs": [
    {
     "name": "stdout",
     "output_type": "stream",
     "text": [
      "different alpha values: [0.001, 0.01, 0.1, 1, 5]\n"
     ]
    },
    {
     "data": {
      "image/png": "[encoded data removed]",
      "text/plain": [
       "<matplotlib.figure.Figure at 0x11ac02da0>"
      ]
     },
     "metadata": {},
     "output_type": "display_data"
    }
   ],
   "source": [
    "# does the same thing above except for lasso\n",
    "alphas = [ 0.001, 0.01, 0.1, 1, 5 ]\n",
    "print( 'different alpha values:', alphas )\n",
    "\n",
    "lasso_weight = []\n",
    "for alpha in alphas:    \n",
    "    lasso = Lasso( alpha = alpha, fit_intercept = True )\n",
    "    lasso.fit( X_train_std, y_train )\n",
    "    lasso_weight.append(lasso.coef_)\n",
    "\n",
    "lasso_fig = weight_versus_alpha_plot( lasso_weight, alphas, features )"
   ]
  },
  {
   "cell_type": "markdown",
   "metadata": {},
   "source": [
    "## Visualizing Regularization\n",
    "\n",
    "From the result above, we can see that as the penalty value, $\\alpha$ increases:\n",
    "\n",
    "- **Lasso regression** shrinks coefficients all the way to zero, thus removing them from the model.\n",
    "- **Ridge regression** shrinks coefficients toward zero, but they rarely reach zero.\n",
    "\n",
    "To get a sense of why this is happening, the visualization below depicts what happens when you apply the two different regularization. The general idea is that you are restricting the allowed values of your coefficients to a certain \"region\". Within that region, you want to find the coefficients that result in the best model.\n",
    "\n",
    "![Lasso and Ridge Coefficient Plots](images/lasso_ridge_coefficients.png)\n",
    "\n",
    "In this diagram, we are fitting a linear regression model with two features, $x_1$ and $x_2$.\n",
    "\n",
    "- $\\hat\\beta$ represents the set of two coefficients, $\\beta_1$ and $\\beta_2$, which minimize the RSS for the **unregularized model**.\n",
    "- The ellipses that are centered around $\\hat\\beta$ represent **regions of constant RSS**. In other words, all of the points on a given ellipse share a common value of the RSS, despite the fact that they may have different values for $\\beta_1$ and $\\beta_2$. As the ellipses expand away from the least squares coefficient estimates, the RSS increases.\n",
    "- Regularization restricts the allowed positions of $\\hat\\beta$ to the **blue constraint region**. In this case, $\\hat\\beta$ is **not** within the blue constraint region. Thus, we need to move $\\hat\\beta$ until it intersects the blue region, while increasing the RSS as little as possible.\n",
    "    - For **ridge**, this region is a **circle** because it constrains the square of the coefficients. Thus the intersection will not generally occur on an axis, and so the coefficient estimates will be typically be non-zero.\n",
    "    - For **lasso**, this region is a **diamond** because it constrains the absolute value of the coefficients. Because the constraint has corners at each of the axes, and so the ellipse will often intersect the constraint region at an axis. When this occurs, one of the coefficients will equal zero. In higher dimensions, many of the coefficient estimates may equal zero simultaneously. In the figure above, the intersection occurs at $\\beta_1 = 0$, and so the resulting model will only include $\\beta_2$.\n",
    "- The **size of the blue constraint region** is determined by $\\alpha$, with a smaller $\\alpha$ resulting in a larger region:\n",
    "    - When $\\alpha$ is zero, the blue region is infinitely large, and thus the coefficient sizes are not constrained.\n",
    "    - When $\\alpha$ increases, the blue region gets smaller and smaller. "
   ]
  },
  {
   "cell_type": "markdown",
   "metadata": {},
   "source": [
    "## Advice For Applying Regularization\n",
    "\n",
    "**Signs and causes of overfitting in the original regression model**\n",
    "\n",
    "- Linear models can overfit if you include irrelevant features, meaning features that are unrelated to the response. Or if you include highly correlated features, meaing two or more predictor variables are closely related to one another. Because it will learn a coefficient for every feature you include in the model, regardless of whether that feature has the signal or the noise. This is especially a problem when p (number of features) is close to n (number of observations).\n",
    "- Linear models that have large estimated coefficients is a sign that the model may be overfitting the data. The larger the absolute value of the coefficient, the more power it has to change the predicted response, resulting in a higher variance.\n",
    "\n",
    "**Should features be standardized?** Yes, because L1 and L2 regularizers of linear models assume that all features are centered around 0 and have variance in the same order. If a feature has a variance that is orders of magnitude larger that others, features would be penalized simply because of their scale and make the model unable to learn from other features correctly as expected. Also, standardizing avoids penalizing the intercept, which wouldn't make intuitive sense.\n",
    "\n",
    "**How should you choose between Lasso regression and Ridge regression?**\n",
    "\n",
    "- Lasso regression is preferred if we want a sparse model, meaning that we believe many features are irrelevant to the output. This also increases model's interprebality.\n",
    "- If model performance is your primary concern, it is best to try both and see which one works better.\n",
    "- You should also note that that there's also a ElasticNet regression, that is a combination of lasso regression and ridge Regression.\n",
    "\n",
    "**How do we choose the $\\alpha$ parameter?**  So, you either use a validation set, if you have lots of data or use cross validation for smaller data sets. See a quick examples below that uses cross validation with `RidgeCV` and `LassoCV`, which is function that performs ridge regression and lasso regression with built-in cross-validation of the alpha parameter."
   ]
  },
  {
   "cell_type": "code",
   "execution_count": 9,
   "metadata": {
    "collapsed": false
   },
   "outputs": [
    {
     "name": "stdout",
     "output_type": "stream",
     "text": [
      "coefficients:\n",
      " [-1.46163308  0.36740178 -0.71329997  1.09068406 -0.82505212  4.40548383\n",
      " -0.8073266 ]\n",
      "best alpha:\n",
      " 10.0\n",
      "\n",
      "RSS: 4370.70361669\n"
     ]
    }
   ],
   "source": [
    "# alpha: array of alpha values to try; must be positive, increase for more regularization\n",
    "# create an array of alpha values and select the best one with RidgeCV\n",
    "alpha_range = 10. ** np.arange( -2, 3 )\n",
    "ridge_cv = RidgeCV( alphas = alpha_range, fit_intercept = True )\n",
    "ridge_cv.fit( X_train_std, y_train )\n",
    "\n",
    "# examine the coefficients and the errors of the predictions \n",
    "# using the best alpha value\n",
    "y_pred = ridge_cv.predict(X_test_std)\n",
    "print( 'coefficients:\\n', ridge_cv.coef_ )\n",
    "print( 'best alpha:\\n'  , ridge_cv.alpha_ )\n",
    "print( '\\nRSS:', np.sum( ( y_test - y_pred ) ** 2 ) )"
   ]
  },
  {
   "cell_type": "code",
   "execution_count": 10,
   "metadata": {
    "collapsed": false
   },
   "outputs": [
    {
     "name": "stdout",
     "output_type": "stream",
     "text": [
      "coefficients:\n",
      " [-1.47111127  0.32647134 -0.67724752  1.07728944 -0.8207456   4.52111316\n",
      " -0.81477595]\n",
      "best alpha:\n",
      " 0.0270845198472\n",
      "\n",
      "RSS: 4313.02171284\n"
     ]
    }
   ],
   "source": [
    "# n_alphas: number of alpha values (automatically chosen) to try\n",
    "# select the best alpha with LassoCV\n",
    "lasso_cv = LassoCV( n_alphas = 10, fit_intercept = True )\n",
    "lasso_cv.fit( X_train_std, y_train )\n",
    "\n",
    "# examine the coefficients and the errors of the predictions \n",
    "# using the best alpha value\n",
    "y_pred = lasso_cv.predict(X_test_std)\n",
    "print( 'coefficients:\\n', lasso_cv.coef_ )\n",
    "print( 'best alpha:\\n'  , lasso_cv.alpha_ )\n",
    "print( '\\nRSS:', np.sum( ( y_test - y_pred ) ** 2 ) )"
   ]
  },
  {
   "cell_type": "markdown",
   "metadata": {},
   "source": [
    "## Reference\n",
    "\n",
    "- [Understanding the Bias-Variance Tradeoff](http://scott.fortmann-roe.com/docs/BiasVariance.html)\n",
    "- [General Assembly's Data Science Course's Notebook on Regularization](http://nbviewer.jupyter.org/github/justmarkham/DAT8/blob/master/notebooks/20_regularization.ipynb)"
   ]
  }
 ],
 "metadata": {
  "kernelspec": {
   "display_name": "Python 3",
   "language": "python",
   "name": "python3"
  },
  "language_info": {
   "codemirror_mode": {
    "name": "ipython",
    "version": 3
   },
   "file_extension": ".py",
   "mimetype": "text/x-python",
   "name": "python",
   "nbconvert_exporter": "python",
   "pygments_lexer": "ipython3",
   "version": "3.5.1"
  }
 },
 "nbformat": 4,
 "nbformat_minor": 0
}
