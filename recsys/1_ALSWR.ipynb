{
 "cells": [
  {
   "cell_type": "code",
   "execution_count": 1,
   "metadata": {
    "collapsed": false
   },
   "outputs": [
    {
     "data": {
      "text/html": [
       "\n",
       "<style>\n",
       "    html {\n",
       "        font-size: 18px !important;\n",
       "    }\n",
       "\n",
       "    body {\n",
       "        background-color: #FFF !important;\n",
       "        font-weight: 1rem;\n",
       "        font-family: 'Source Sans Pro', \"Helvetica Neue\", Helvetica, Arial, sans-serif;\n",
       "    }\n",
       "\n",
       "    body .notebook-app {\n",
       "        background-color: #FFF !important;\n",
       "    }\n",
       "\n",
       "    #header {\n",
       "        box-shadow: none !important;\n",
       "    }\n",
       "\n",
       "    #notebook {\n",
       "        padding-top: 0px;\n",
       "    }\n",
       "\n",
       "    #notebook-container {\n",
       "        box-shadow: none;\n",
       "        -webkit-box-shadow: none;\n",
       "        padding: 10px;\n",
       "    }\n",
       "\n",
       "    div.cell {\n",
       "        width: 1000px;\n",
       "        margin-left: 0% !important;\n",
       "        margin-right: auto;\n",
       "    }\n",
       "\n",
       "    div.cell.selected {\n",
       "        border: 1px dashed #CCCCCC;\n",
       "    }\n",
       "\n",
       "    .edit_mode div.cell.selected {\n",
       "        border: 1px dashed #828282;\n",
       "    }\n",
       "\n",
       "    div.output_wrapper {\n",
       "        margin-top: 8px;\n",
       "    }\n",
       "\n",
       "    a {\n",
       "        color: #383838;\n",
       "    }\n",
       "\n",
       "    code,\n",
       "    kbd,\n",
       "    pre,\n",
       "    samp {\n",
       "        font-family: 'Menlo', monospace !important;\n",
       "        font-size: 0.75rem !important;\n",
       "    }\n",
       "\n",
       "    h1 {\n",
       "        font-size: 2rem !important;\n",
       "        font-weight: 500 !important;\n",
       "        letter-spacing: 3px !important;\n",
       "        text-transform: uppercase !important;\n",
       "    }\n",
       "\n",
       "    h2 {\n",
       "        font-size: 1.8rem !important;\n",
       "        font-weight: 400 !important;\n",
       "        letter-spacing: 3px !important;\n",
       "        text-transform: none !important;\n",
       "    }\n",
       "\n",
       "    h3 {\n",
       "        font-size: 1.5rem !important;\n",
       "        font-weight: 400 !important;\n",
       "        font-style: italic !important;\n",
       "        display: block !important;\n",
       "    }\n",
       "\n",
       "    h4,\n",
       "    h5,\n",
       "    h6 {\n",
       "        font-size: 1rem !important;\n",
       "        font-weight: 400 !important;\n",
       "        display: block !important;\n",
       "    }\n",
       "\n",
       "    .prompt {\n",
       "        font-family: 'Menlo', monospace !important;\n",
       "        font-size: 0.75rem;\n",
       "        text-align: right;\n",
       "        line-height: 1.21429rem;\n",
       "    }\n",
       "\n",
       "    /* INTRO PAGE */\n",
       "\n",
       "    .toolbar_info,\n",
       "    .list-container {\n",
       "        ;\n",
       "    }\n",
       "    /* NOTEBOOK */\n",
       "\n",
       "    div#header-container {\n",
       "        display: none !important;\n",
       "    }\n",
       "\n",
       "    div#notebook {\n",
       "        border-top: none;\n",
       "        font-size: 1rem;\n",
       "    }\n",
       "\n",
       "    div.input_prompt {\n",
       "        color: #C74483;\n",
       "    }\n",
       "\n",
       "    .code_cell div.input_prompt:after,\n",
       "    div.output_prompt:after {\n",
       "        content: '\\25b6';\n",
       "    }\n",
       "\n",
       "    div.output_prompt {\n",
       "        color: #2B88D9;\n",
       "    }\n",
       "\n",
       "    div.input_area {\n",
       "        border-radius: 0px;\n",
       "        border: 1px solid #d8d8d8;\n",
       "    }\n",
       "\n",
       "    div.output_area pre {\n",
       "        font-weight: normal;\n",
       "    }\n",
       "\n",
       "    div.output_subarea {\n",
       "        font-weight: normal;\n",
       "    }\n",
       "\n",
       "    .rendered_html pre,\n",
       "    .rendered_html table,\n",
       "    .rendered_html th,\n",
       "    .rendered_html tr,\n",
       "    .rendered_html td {\n",
       "        border: 1px #828282 solid;\n",
       "        font-size: 0.75rem;\n",
       "        font-family: 'Menlo', monospace;\n",
       "    }\n",
       "\n",
       "    .rendered_html th,\n",
       "    .rendered_html tr,\n",
       "    .rendered_html td {\n",
       "        padding: 5px 10px;\n",
       "    }\n",
       "\n",
       "    .rendered_html th {\n",
       "        font-weight: normal;\n",
       "        background: #f8f8f8;\n",
       "    }\n",
       "\n",
       "    a:link{\n",
       "       font-weight: bold;\n",
       "       color:#447adb;\n",
       "    }\n",
       "    a:visited{\n",
       "       font-weight: bold;\n",
       "       color: #1d3b84;\n",
       "    }\n",
       "    a:hover{\n",
       "       font-weight: bold;\n",
       "       color: #1d3b84;\n",
       "    }\n",
       "    a:focus{\n",
       "       font-weight: bold;\n",
       "       color:#447adb;\n",
       "    }\n",
       "    a:active{\n",
       "       font-weight: bold;\n",
       "       color:#447adb;\n",
       "    }\n",
       "    .rendered_html :link {\n",
       "       text-decoration: underline; \n",
       "    }\n",
       "\n",
       "    div.output_html {\n",
       "        font-weight: 1rem;\n",
       "        font-family: 'Source Sans Pro', \"Helvetica Neue\", Helvetica, Arial, sans-serif;\n",
       "    }\n",
       "\n",
       "    table.dataframe tr {\n",
       "        border: 1px #CCCCCC;\n",
       "    }\n",
       "\n",
       "    div.cell.selected {\n",
       "        border-radius: 0px;\n",
       "    }\n",
       "\n",
       "    div.cell.edit_mode {\n",
       "        border-radius: 0px;\n",
       "        border: thin solid #CF5804;\n",
       "    }\n",
       "\n",
       "    span.ansiblue {\n",
       "        color: #00A397;\n",
       "    }\n",
       "\n",
       "    span.ansigray {\n",
       "        color: #d8d8d8;\n",
       "    }\n",
       "\n",
       "    span.ansigreen {\n",
       "        color: #688A0A;\n",
       "    }\n",
       "\n",
       "    span.ansipurple {\n",
       "        color: #975DDE;\n",
       "    }\n",
       "\n",
       "    span.ansired {\n",
       "        color: #D43132;\n",
       "    }\n",
       "\n",
       "    span.ansiyellow {\n",
       "        color: #D9AA00;\n",
       "    }\n",
       "\n",
       "    div.output_stderr {\n",
       "        background-color: #D43132;\n",
       "    }\n",
       "\n",
       "    div.output_stderr pre {\n",
       "        color: #e8e8e8;\n",
       "    }\n",
       "\n",
       "    .cm-s-ipython.CodeMirror {\n",
       "        background: #F8F8F8;\n",
       "    }\n",
       "\n",
       "    .cm-s-ipython div.CodeMirror-selected {\n",
       "        background: #e8e8e8 !important;\n",
       "    }\n",
       "\n",
       "    .cm-s-ipython .CodeMirror-gutters {\n",
       "        background: #F8F8F8;\n",
       "        border-right: 0px;\n",
       "    }\n",
       "\n",
       "    .cm-s-ipython .CodeMirror-linenumber {\n",
       "        color: #b8b8b8;\n",
       "    }\n",
       "\n",
       "    .cm-s-ipython .CodeMirror-cursor {\n",
       "        border-left: 1px solid #585858 !important;\n",
       "    }\n",
       "\n",
       "    .cm-s-ipython span.cm-atom {\n",
       "        color: #C74483;\n",
       "    }\n",
       "\n",
       "    .cm-s-ipython span.cm-number {\n",
       "        color: #C74483;\n",
       "    }\n",
       "\n",
       "    .cm-s-ipython span.cm-property,\n",
       "    .cm-s-ipython span.cm-attribute {\n",
       "        color: #688A0A;\n",
       "    }\n",
       "\n",
       "    .cm-s-ipython span.cm-keyword {\n",
       "        font-weight: normal;\n",
       "        color: #D43132;\n",
       "    }\n",
       "\n",
       "    .cm-s-ipython span.cm-string {\n",
       "        color: #D9AA00;\n",
       "    }\n",
       "\n",
       "    .cm-s-ipython span.cm-operator {\n",
       "        font-weight: normal;\n",
       "    }\n",
       "\n",
       "    .cm-s-ipython span.cm-builtin {\n",
       "        color: #2B88D9;\n",
       "    }\n",
       "\n",
       "    .cm-s-ipython span.cm-variable {\n",
       "        color: #00A397;\n",
       "    }\n",
       "\n",
       "    .cm-s-ipython span.cm-variable-2 {\n",
       "        color: #2B88D9;\n",
       "    }\n",
       "\n",
       "    .cm-s-ipython span.cm-def {\n",
       "        color: #00A397;\n",
       "    }\n",
       "\n",
       "    .cm-s-ipython span.cm-error {\n",
       "        background: #FFBDBD;\n",
       "        color: #D43132;\n",
       "    }\n",
       "\n",
       "    .cm-s-ipython span.cm-tag {\n",
       "        color: #D43132;\n",
       "    }\n",
       "\n",
       "    .cm-s-ipython span.cm-link {\n",
       "        color: #975DDE;\n",
       "    }\n",
       "\n",
       "    .cm-s-ipython .CodeMirror-matchingbracket {\n",
       "        text-decoration: underline;\n",
       "         !important;\n",
       "    }\n",
       "</style>\n",
       "\n",
       "<script>\n",
       "    MathJax.Hub.Config({\n",
       "                        TeX: {\n",
       "                           extensions: [\"AMSmath.js\"]\n",
       "                           },\n",
       "                tex2jax: {\n",
       "                    inlineMath: [ ['$','$'], [\"\\\\(\",\"\\\\)\"] ],\n",
       "                    displayMath: [ ['$$','$$'], [\"\\\\[\",\"\\\\]\"] ]\n",
       "                },\n",
       "                displayAlign: 'center', // Change this to 'center' to center equations.\n",
       "                \"HTML-CSS\": {\n",
       "                    scale:100,\n",
       "                        availableFonts: [],\n",
       "                        preferredFont:null,\n",
       "                        webFont: \"TeX\",\n",
       "                    styles: {'.MathJax_Display': {\"margin\": 4}}\n",
       "                }\n",
       "        });\n",
       "</script>"
      ],
      "text/plain": [
       "<IPython.core.display.HTML object>"
      ]
     },
     "execution_count": 1,
     "metadata": {},
     "output_type": "execute_result"
    }
   ],
   "source": [
    "# code for loading the format for the notebook\n",
    "import os\n",
    "\n",
    "# path : store the current path to convert back to it later\n",
    "path = os.getcwd()\n",
    "os.chdir( os.path.join('..', 'notebook_format') )\n",
    "from formats import load_style\n",
    "load_style(css_style = 'custom2.css')"
   ]
  },
  {
   "cell_type": "code",
   "execution_count": 2,
   "metadata": {
    "collapsed": false
   },
   "outputs": [
    {
     "name": "stdout",
     "output_type": "stream",
     "text": [
      "Ethen 2017-01-21 14:12:26 \n",
      "\n",
      "CPython 3.5.2\n",
      "IPython 4.2.0\n",
      "\n",
      "numpy 1.11.3\n",
      "pandas 0.18.1\n",
      "matplotlib 1.5.1\n",
      "sklearn 0.18\n",
      "requests 2.12.4\n"
     ]
    }
   ],
   "source": [
    "os.chdir(path)\n",
    "import numpy as np\n",
    "import pandas as pd\n",
    "import matplotlib.pyplot as plt\n",
    "\n",
    "# 1. magic for inline plot\n",
    "# 2. magic to print version\n",
    "# 3. magic so that the notebook will reload external python modules\n",
    "%matplotlib inline\n",
    "%load_ext watermark\n",
    "%load_ext autoreload \n",
    "%autoreload 2\n",
    "\n",
    "# pip install python-dotenv\n",
    "# for the dotenv package, it is\n",
    "# for loading personal API key, as we'll \n",
    "# see, but you don't have to use it\n",
    "import json\n",
    "import requests\n",
    "import subprocess\n",
    "from dotenv import load_dotenv\n",
    "from IPython.display import HTML\n",
    "from IPython.display import Image\n",
    "from IPython.display import display\n",
    "from sklearn.metrics import mean_squared_error\n",
    "from sklearn.metrics import pairwise_distances\n",
    "\n",
    "%watermark -a 'Ethen' -d -t -v -p numpy,pandas,matplotlib,sklearn,requests"
   ]
  },
  {
   "cell_type": "markdown",
   "metadata": {},
   "source": [
    "# Alternating Least Squares with Weighted Regularization\n",
    "\n",
    "Recommedantion system is a popular topic in recent years, what is does (or its goal) is to seek to predict the \"rating\" or \"preference\" that a user would give to an item. Given the rating, the business will then recommend preferable new items to the user for further purchases. The type of recommendation system that we will be discussing is known as **collaborative filtering**, where the features of the user (e.g. age, gender) or the item (e.g. perishable or not) itself do not play any role in the algorithm. Instead, we rely soley on the ratings that a user gave to the item.\n",
    "\n",
    "We start by loading some sample data to make this a bit more concrete. For this introduction, we'll be using the [MovieLens dataset](http://grouplens.org/datasets/movielens/). The website has datasets of various sizes, but we just start with the smallest one [MovieLens 100K Dataset](http://files.grouplens.org/datasets/movielens/ml-100k.zip). This dataset consists of 100,000 movie ratings by users (on a 1-5 scale). The main data set `u.data` file consists of four columns (tab-delimited), including user-id (starting at 1), item-id (starting at 1), rating, and timestamp (we won't be using this field)."
   ]
  },
  {
   "cell_type": "code",
   "execution_count": 3,
   "metadata": {
    "collapsed": false
   },
   "outputs": [
    {
     "name": "stdout",
     "output_type": "stream",
     "text": [
      "(100000, 4)\n"
     ]
    },
    {
     "data": {
      "text/html": [
       "<div>\n",
       "<table border=\"1\" class=\"dataframe\">\n",
       "  <thead>\n",
       "    <tr style=\"text-align: right;\">\n",
       "      <th></th>\n",
       "      <th>user_id</th>\n",
       "      <th>item_id</th>\n",
       "      <th>rating</th>\n",
       "      <th>timestamp</th>\n",
       "    </tr>\n",
       "  </thead>\n",
       "  <tbody>\n",
       "    <tr>\n",
       "      <th>0</th>\n",
       "      <td>196</td>\n",
       "      <td>242</td>\n",
       "      <td>3</td>\n",
       "      <td>881250949</td>\n",
       "    </tr>\n",
       "    <tr>\n",
       "      <th>1</th>\n",
       "      <td>186</td>\n",
       "      <td>302</td>\n",
       "      <td>3</td>\n",
       "      <td>891717742</td>\n",
       "    </tr>\n",
       "    <tr>\n",
       "      <th>2</th>\n",
       "      <td>22</td>\n",
       "      <td>377</td>\n",
       "      <td>1</td>\n",
       "      <td>878887116</td>\n",
       "    </tr>\n",
       "    <tr>\n",
       "      <th>3</th>\n",
       "      <td>244</td>\n",
       "      <td>51</td>\n",
       "      <td>2</td>\n",
       "      <td>880606923</td>\n",
       "    </tr>\n",
       "    <tr>\n",
       "      <th>4</th>\n",
       "      <td>166</td>\n",
       "      <td>346</td>\n",
       "      <td>1</td>\n",
       "      <td>886397596</td>\n",
       "    </tr>\n",
       "  </tbody>\n",
       "</table>\n",
       "</div>"
      ],
      "text/plain": [
       "   user_id  item_id  rating  timestamp\n",
       "0      196      242       3  881250949\n",
       "1      186      302       3  891717742\n",
       "2       22      377       1  878887116\n",
       "3      244       51       2  880606923\n",
       "4      166      346       1  886397596"
      ]
     },
     "execution_count": 3,
     "metadata": {},
     "output_type": "execute_result"
    }
   ],
   "source": [
    "# download the dataset if it isn't in the same folder\n",
    "file_dir = 'ml-100k'\n",
    "file_path = os.path.join(file_dir, 'u.data')\n",
    "if not os.path.isdir(file_dir):\n",
    "    subprocess.call(['curl', '-O', 'http://files.grouplens.org/datasets/movielens/ml-100k.zip'])\n",
    "    subprocess.call(['unzip', 'ml-100k.zip'])\n",
    "\n",
    "names = ['user_id', 'item_id', 'rating', 'timestamp']\n",
    "df = pd.read_csv(file_path, sep = '\\t', names = names)\n",
    "print(df.shape)\n",
    "df.head()"
   ]
  },
  {
   "cell_type": "markdown",
   "metadata": {},
   "source": [
    "As we can see, the only data that we have is how each user interacted or rated each item. Given this information, collaborative filtering will start by constructing a user-item matrix with each distinct user being the row, item being the column and the value for each cell will simply be the rating that the user gave to the item. Apart from building the matrix, we will also print out some other information to help us understand our data a bit better."
   ]
  },
  {
   "cell_type": "code",
   "execution_count": 4,
   "metadata": {
    "collapsed": false
   },
   "outputs": [
    {
     "name": "stdout",
     "output_type": "stream",
     "text": [
      "dimension:  (943, 1682)\n",
      "sparsity: 6.3%\n"
     ]
    },
    {
     "data": {
      "text/plain": [
       "array([[ 5.,  3.,  4., ...,  0.,  0.,  0.],\n",
       "       [ 4.,  0.,  0., ...,  0.,  0.,  0.],\n",
       "       [ 0.,  0.,  0., ...,  0.,  0.,  0.],\n",
       "       ..., \n",
       "       [ 5.,  0.,  0., ...,  0.,  0.,  0.],\n",
       "       [ 0.,  0.,  0., ...,  0.,  0.,  0.],\n",
       "       [ 0.,  5.,  0., ...,  0.,  0.,  0.]])"
      ]
     },
     "execution_count": 4,
     "metadata": {},
     "output_type": "execute_result"
    }
   ],
   "source": [
    "# create the rating matrix r_{ui}, remember to\n",
    "# subract the user and item id by 1 since\n",
    "# the indices starts from 0\n",
    "n_users = df['user_id'].unique().shape[0]\n",
    "n_items = df['item_id'].unique().shape[0]\n",
    "ratings = np.zeros((n_users, n_items))\n",
    "for row in df.itertuples(index = False):\n",
    "    ratings[row.user_id - 1, row.item_id - 1] = row.rating\n",
    "\n",
    "# compute the non-zero elements in the rating matrix\n",
    "matrix_size = np.prod(ratings.shape)\n",
    "interaction = np.flatnonzero(ratings).shape[0]\n",
    "sparsity = 100 * (interaction / matrix_size)\n",
    "\n",
    "print('dimension: ', ratings.shape)\n",
    "print( 'sparsity: {:.1f}%'.format(sparsity) )\n",
    "ratings"
   ]
  },
  {
   "cell_type": "code",
   "execution_count": 5,
   "metadata": {
    "collapsed": false
   },
   "outputs": [
    {
     "data": {
      "image/png": "[encoded data removed]",
      "text/plain": [
       "<matplotlib.figure.Figure at 0x11da322b0>"
      ]
     },
     "metadata": {},
     "output_type": "display_data"
    }
   ],
   "source": [
    "# change default figure and font size\n",
    "plt.rcParams['figure.figsize'] = 8, 6 \n",
    "plt.rcParams['font.size'] = 12\n",
    "\n",
    "plt.hist( np.sum(ratings != 0, axis = 1), histtype = 'stepfilled', bins = 30,\n",
    "          alpha = 0.85, label = '# of ratings', color = '#7A68A6', normed = True )\n",
    "plt.axvline(x = 10, color = 'black', linestyle = '--')\n",
    "plt.legend(loc = \"upper right\")\n",
    "plt.show()"
   ]
  },
  {
   "cell_type": "markdown",
   "metadata": {},
   "source": [
    "From the information above, we know there are 943 unique users, 1682 unique items. Within the rating matrix, only 6.3% of the cells have a value, although we filled in empty ratings as 0, we should not assume these values to truly be zero. More appropriately, they are just missing entries. This kind of sparsity is extremely common in recommendation system, where people seldom give ratings to things that they have purchased. One thing to note is that if the sparsity of the matrix is below 1% (rule of thumb), then the dataset might be too sparse to perform any sort of modeling.\n",
    "\n",
    "Next the histogram tells us that every user has given at least more than 10 ratings, we will use this to perform the train/test split of the data for testing the algorithm that we'll build later.\n",
    "\n",
    "One tricky thing about splitting the data into training and testing is that: In supervise machine learning we normally build the trainining and testing holdout set by randomly splitting the rows. In those cases, this idea works, because we have a model with features/target that we are trying to fit a function to. For recommender systems with collaborative filtering (no features), this just won't work anymore, because all of the items/users need to be available when the model is first built. So what we do instead is mask a random sample of the user/item ratings to validate and compare how well the recommender system did in predicting the ratings of those masked values. In our case, given we already know each user has given more than 10 ratings, what we'll do is for every user, we remove 10 of the item ratings and and assign them to the test set. The testing matrix is printed below, as hopefully, you can see that some of the values are indeed different from the original rating matrix."
   ]
  },
  {
   "cell_type": "code",
   "execution_count": 6,
   "metadata": {
    "collapsed": false
   },
   "outputs": [
    {
     "data": {
      "text/plain": [
       "array([[ 5.,  3.,  4., ...,  0.,  0.,  0.],\n",
       "       [ 4.,  0.,  0., ...,  0.,  0.,  0.],\n",
       "       [ 0.,  0.,  0., ...,  0.,  0.,  0.],\n",
       "       ..., \n",
       "       [ 5.,  0.,  0., ...,  0.,  0.,  0.],\n",
       "       [ 0.,  0.,  0., ...,  0.,  0.,  0.],\n",
       "       [ 0.,  5.,  0., ...,  0.,  0.,  0.]])"
      ]
     },
     "execution_count": 6,
     "metadata": {},
     "output_type": "execute_result"
    }
   ],
   "source": [
    "def create_train_test(ratings):\n",
    "    \"\"\"\n",
    "    split into training and test sets,\n",
    "    remove 10 ratings from each user\n",
    "    and assign them to the test set\n",
    "    \"\"\"\n",
    "    test = np.zeros(ratings.shape)\n",
    "    train = ratings.copy()\n",
    "    for user in range(ratings.shape[0]):\n",
    "        test_index = np.random.choice( np.flatnonzero(ratings[user]), \n",
    "                                       size = 10, replace = False )\n",
    "        train[user, test_index] = 0.0\n",
    "        test[user, test_index] = ratings[user, test_index]\n",
    "        \n",
    "    # assert that training and testing set are truly disjoint\n",
    "    assert np.all(train * test == 0)\n",
    "    return train, test\n",
    "\n",
    "train, test = create_train_test(ratings)\n",
    "del ratings\n",
    "train"
   ]
  },
  {
   "cell_type": "markdown",
   "metadata": {},
   "source": [
    "## Matrix Factorization\n",
    "\n",
    "Now that the data preprocessing part has been taken care of, let's get to the more exciting part, the algorithm. The algorithm that we'll introduce today is Matrix Factorization.\n",
    "\n",
    "Recall that we had a user-item matrix, $R$ where nonzero elements of the matrix are ratings that a user has given an item. What Matrix Factorization does is it decomposes a large matrix into products of matrices, namely, $R = U \\times V$. See the picture below taken from a quick [google search](https://www.google.com/search?q=matrix+factorization&source=lnms&tbm=isch&sa=X&ved=0ahUKEwiD8Ku02_vQAhXGsVQKHdpSAW4Q_AUICCgB&biw=1433&bih=732#imgrc=aFtUeC0wtJCkgM%3A) for a better understanding:\n",
    "\n",
    "![](img/matrix_factorization.png)\n",
    "\n",
    "Matrix factorization assumes that:\n",
    "\n",
    "- Each user can be described by $d$ features. For example, feature 1 might be a referring to how much each user likes disney movies.\n",
    "- Each item, movie in this case, can be described by an analagous set of $d$ features. To correspond to the above example, feature 1 for the movie might be a number that says how close the movie is to a disney movie.\n",
    "\n",
    "After learning the two smaller matrices, all we have to do is to perform a matrix multiplication of the two matrices and the end result will be a our approximation for the rating the user would give that item (movie).\n",
    "\n",
    "The cool thing about this is that, we do not know what these features are nor do we have to determine them beforehand, which is why these features are often refer to as latent features. Next, we also don't know how many latent features are optimal for the task at hand. Thus, we simply have to use random search or grid search or other fancy techniques to perform hyperparameter tuning and determine the best number for $d$. \n",
    "\n",
    "Given all those information, the next question is: how do we learn the user matrix, $U$, and item matrix, $V$? Well, like a lot of machine learning algorithm, by minimizing a loss function.\n",
    "\n",
    "We start by denoting our $d$ feature user into math by letting a user $u$ take the form of a $1 \\times d$-dimensional vector $\\textbf{x}_{u}$. These for often times referred to as latent vectors or low-dimensional embeddings. Similarly, an item *i* can be represented by a $1 \\times d$-dimensional vector $\\textbf{y}_{i}$. And the rating that we predict User $u$ will give for item $i$ is just the dot product of the two vectors\n",
    "\n",
    "\\begin{align}\n",
    "\\hat r_{ui} &= \\textbf{x}_{u} \\textbf{y}_{i}^{T} = \\sum\\limits_{d} x_{ud}y_{di}\n",
    "\\end{align}\n",
    "\n",
    "Where $\\hat r_{ui}$ represents our prediction for the true rating $r_{ui}$. Next, we will choose a objective function to minimize the square of the difference between all ratings in our dataset ($S$) and our predictions. This produces a objective function of the form:\n",
    "\n",
    "\\begin{align}\n",
    "L &= \\sum\\limits_{u,i \\in S}( r_{ui} - \\textbf{x}_{u} \\textbf{y}_{i}^{T} )^{2} + \\lambda \\big( \\sum\\limits_{u} \\left\\Vert \\textbf{x}_{u} \\right\\Vert^{2} + \\sum\\limits_{i} \\left\\Vert \\textbf{y}_{i} \\right\\Vert^{2} \\big)\n",
    "\\end{align}\n",
    "\n",
    "Note that we've added on two $L_{2}$ regularization terms, with $\\lambda$ controlling the strength at the end to prevent overfitting of the user and item vectors. $\\lambda$, is another hyperparameter that we'll have to search for to determine the best value. Regularization can a can topic of itself, and if you're confused by this, consider checking out [this documentation](http://nbviewer.jupyter.org/github/ethen8181/machine-learning/blob/master/regularization/regularization.ipynb) that covers it a bit more."
   ]
  },
  {
   "cell_type": "markdown",
   "metadata": {},
   "source": [
    "Now that we formalize our objective function, we'll introduce the **Alternating Least Squares with Weighted Regularization (ALS-WR)** method for optimizing it. The way it works is we start by treating one set of latent vectors as constant. For this example, we'll pick the item vectors, $\\textbf{y}_{i}$. We then take the derivative of the loss function with respect to the other set of vectors, the user vectors, $\\textbf{x}_{u}$ and solve for the non-constant vectors (the user vectors).\n",
    "\n",
    "\\begin{align}\n",
    "\\frac{\\partial L}{\\partial \\textbf{x}_{u}} \n",
    "&\\implies - 2 \\sum\\limits_{i}(r_{ui} - \\textbf{x}_{u} \\textbf{y}_{i}^{T} ) \\textbf{y}_{i} + 2 \\lambda \\textbf{x}_{u} = 0 \\\\\n",
    "&\\implies -(\\textbf{r}_{u} - \\textbf{x}_{u} Y^{T} )Y + \\lambda \\textbf{x}_{u} = 0 \\\\\n",
    "&\\implies \\textbf{x}_{u} (Y^{T}Y + \\lambda I) = \\textbf{r}_{u}Y \\\\\n",
    "&\\implies \\textbf{x}_{u} = \\textbf{r}_{u}Y (Y^{T}Y + \\lambda I)^{-1}\n",
    "\\end{align}\n",
    "\n",
    "To clarify it a bit, let us assume that we have $m$ users and $n$ items, so our ratings matrix is $m \\times n$.\n",
    "\n",
    "- The row vector $\\textbf{r}_{u}$ just represents users *u*'s row from the ratings matrix with all the ratings for all the items (so it has dimension $1 \\times n$)\n",
    "-  We introduce the symbol $Y$, with dimensions $n \\times d$, to represent all item row vectors vertically stacked on each other\n",
    "- Lastly, $I$ is just the identity matrix which has dimension $d \\times d$ to ensure the matrix multiplication's dimensionality will be correct when we add the $\\lambda$\n",
    "\n",
    "Now comes the alternating part: With these newly updated user vectors in hand, in the next round, we hold them as constant, and take the derivative of the loss function with respect to the previously constant vectors (the item vectors). As the derivation for the item vectors is quite similar, we will simply list out the end formula:\n",
    "\n",
    "\\begin{align}\n",
    "\\frac{\\partial L}{\\partial \\textbf{y}_{i}}\n",
    "&\\implies \\textbf{y}_{i} = \\textbf{r}_{i}X (X^{T}X + \\lambda I)^{-1}\n",
    "\\end{align}\n",
    "\n",
    "Then we alternate back and forth and carry out this two-step process until convergence. The reason we alternate is, optimizing user latent vectors, $U$, and item latent vectors $V$ simultaneously is hard to solve. If we fix $U$ or $V$ and tackle one problem at a time, we potentially turn it into a easier sub-problem. Just to summarize it, ALS works by:\n",
    "\n",
    "1. Initialize the user latent vectors, $U$, and item latent vectors $V$ with randomly\n",
    "2. Fix $U$ and solve for $V$\n",
    "3. Fix $V$ and solve for $U$\n",
    "4. Repeat step 2 and 3 until convergence\n",
    "\n",
    "Now that we have our equations, let's program this thing up! We'll set the model to use 20 factors and a regularization value of 0.01 (chosen at random) and train it for 100 iterations and compute the mean square error on the train and test set to assess algorithm convergence."
   ]
  },
  {
   "cell_type": "code",
   "execution_count": 7,
   "metadata": {
    "collapsed": true
   },
   "outputs": [],
   "source": [
    "class ExplicitMF:\n",
    "    \"\"\"\n",
    "    Train a matrix factorization model using Alternating Least Squares\n",
    "    to predict empty entries in a matrix\n",
    "    \n",
    "    Parameters\n",
    "    ----------\n",
    "    n_iter : (int)\n",
    "        number of iterations to train the algorithm\n",
    "        \n",
    "    n_factors : (int)\n",
    "        number of latent factors to use in matrix \n",
    "        factorization model, some machine-learning libraries\n",
    "        denote this as rank\n",
    "        \n",
    "    reg : (float)\n",
    "        regularization term for item/user latent factors,\n",
    "        since lambda is a keyword in python we use reg instead\n",
    "    \"\"\"\n",
    "    def __init__(self, n_iter, n_factor, reg):\n",
    "        self.reg = reg\n",
    "        self.n_iter = n_iter\n",
    "        self.n_factor = n_factor  \n",
    "        \n",
    "    def fit(self, train, test):\n",
    "        \"\"\"\n",
    "        pass in training and testing at the same time to record\n",
    "        model convergence, assuming both dataset is in the form\n",
    "        of User x Item matrix with cells as ratings\n",
    "        \"\"\"\n",
    "        self.n_user, self.n_item = train.shape\n",
    "        self.user_vecs = np.random.random((self.n_user, self.n_factor))\n",
    "        self.item_vecs = np.random.random((self.n_item, self.n_factor))\n",
    "        \n",
    "        # record the training and testing mse for every iteration\n",
    "        # to show convergence later (usually, not worth it for production)\n",
    "        self.test_mse_record  = []\n",
    "        self.train_mse_record = []   \n",
    "        for _ in range(self.n_iter):\n",
    "            self.user_vecs = self._als_step(train, self.user_vecs, self.item_vecs)\n",
    "            self.item_vecs = self._als_step(train.T, self.item_vecs, self.user_vecs) \n",
    "            predictions = self.predict()\n",
    "            test_mse  = self.compute_mse(test, predictions)\n",
    "            train_mse = self.compute_mse(train, predictions)\n",
    "            self.test_mse_record.append(test_mse)\n",
    "            self.train_mse_record.append(train_mse)\n",
    "        \n",
    "        return self    \n",
    "    \n",
    "    def _als_step(self, ratings, solve_vecs, fixed_vecs):\n",
    "        \"\"\"\n",
    "        when updating the user matrix,\n",
    "        the item matrix is the fixed vector and vice versa\n",
    "        \"\"\"\n",
    "        A = fixed_vecs.T.dot(fixed_vecs) + np.eye(self.n_factor) * self.reg\n",
    "        b = ratings.dot(fixed_vecs)\n",
    "        A_inv = np.linalg.inv(A)\n",
    "        solve_vecs = b.dot(A_inv)\n",
    "        return solve_vecs\n",
    "    \n",
    "    def predict(self):\n",
    "        \"\"\"predict ratings for every user and item\"\"\"\n",
    "        pred = self.user_vecs.dot(self.item_vecs.T)\n",
    "        return pred\n",
    "    \n",
    "    @staticmethod\n",
    "    def compute_mse(y_true, y_pred):\n",
    "        \"\"\"ignore zero terms prior to comparing the mse\"\"\"\n",
    "        mask = np.nonzero(y_true)\n",
    "        mse = mean_squared_error(y_true[mask], y_pred[mask])\n",
    "        return mse"
   ]
  },
  {
   "cell_type": "code",
   "execution_count": 8,
   "metadata": {
    "collapsed": true
   },
   "outputs": [],
   "source": [
    "def plot_learning_curve(model):\n",
    "    \"\"\"visualize the training/testing loss\"\"\"\n",
    "    linewidth = 3\n",
    "    plt.plot(model.test_mse_record, label = 'Test', linewidth = linewidth)\n",
    "    plt.plot(model.train_mse_record, label = 'Train', linewidth = linewidth)\n",
    "    plt.xlabel('iterations')\n",
    "    plt.ylabel('MSE')\n",
    "    plt.legend(loc = 'best')"
   ]
  },
  {
   "cell_type": "code",
   "execution_count": 9,
   "metadata": {
    "collapsed": false
   },
   "outputs": [
    {
     "data": {
      "image/png": "[encoded data removed]",
      "text/plain": [
       "<matplotlib.figure.Figure at 0x106b1be10>"
      ]
     },
     "metadata": {},
     "output_type": "display_data"
    }
   ],
   "source": [
    "als = ExplicitMF(n_iter = 100, n_factor = 40, reg = 0.01)\n",
    "als.fit(train, test)\n",
    "plot_learning_curve(als)"
   ]
  },
  {
   "cell_type": "markdown",
   "metadata": {},
   "source": [
    "From the result, we can see ALS converges after a few sweeps, which is one of the main reason for its popularity. Fast, thus scalable to bigger dataset."
   ]
  },
  {
   "cell_type": "markdown",
   "metadata": {},
   "source": [
    "## Validating the Recommendation\n",
    "\n",
    "After training our model, we'll actually look at the recommended result to see if our recommendation algorithm is any good or not. The way we do this is: The MovieLens dataset contains a file called `u.item` with information about each movie. To put the cherry on top, it turns out that there is a website called [themoviedb.org](http://www.themoviedb.org) which has a free API. If we have the IMDB \"movie id\" for a movie, then we can use this API to return the its poster. Note that you will have to sign up and request for an API key if you wish to reproduce the example below."
   ]
  },
  {
   "cell_type": "code",
   "execution_count": 10,
   "metadata": {
    "collapsed": false
   },
   "outputs": [
    {
     "data": {
      "text/plain": [
       "'http://us.imdb.com/M/title-exact?Toy%20Story%20(1995)'"
      ]
     },
     "execution_count": 10,
     "metadata": {},
     "output_type": "execute_result"
    }
   ],
   "source": [
    "# Load in movies' information, stored in the u.item (pipe delimited)\n",
    "# file, the first element is the id, and the fourth element is the \n",
    "# movie's IMDB url\n",
    "idx_to_movie = {}\n",
    "item_path = os.path.join(file_dir, 'u.item')\n",
    "\n",
    "with open(item_path, encoding = 'latin1') as f:\n",
    "    for line in f.readlines():\n",
    "        info = line.split('|')\n",
    "        idx = int(info[0]) - 1\n",
    "        movie = info[4]\n",
    "        idx_to_movie[idx] = movie\n",
    "        \n",
    "idx_to_movie[0]"
   ]
  },
  {
   "cell_type": "markdown",
   "metadata": {},
   "source": [
    "For example, if we paste the sample url above into our browser, then our url will get redirected. The resulting url contains the IMDB movie ID as the last information in the url starting with \"tt\". For example, the redirected url for Toy Story is http://www.imdb.com/title/tt0114709/, and the corresponding IMDB movie ID is therefore tt0114709."
   ]
  },
  {
   "cell_type": "code",
   "execution_count": 11,
   "metadata": {
    "collapsed": false
   },
   "outputs": [
    {
     "name": "stdout",
     "output_type": "stream",
     "text": [
      "tt0114709\n"
     ]
    }
   ],
   "source": [
    "# stripping the movie id with requests\n",
    "response = requests.get(idx_to_movie[0])\n",
    "movie_id = response.url.split('/')[-2]\n",
    "print(movie_id)"
   ]
  },
  {
   "cell_type": "markdown",
   "metadata": {},
   "source": [
    "From the API documentation: \n",
    "\n",
    "To build an image URL, we will need 3 pieces of data. The base_url, size and file_path. Simply combine them all and you will have a fully qualified URL. Here’s an example URL: \n",
    "https://image.tmdb.org/t/p/w500/8uO0gUM8aNqYLs1OsTBQiXu0fEv.jpg\n",
    "\n",
    "So to get the base_url, we send a request to the https://api.themoviedb.org/3/configuration using our API key as the parameter, after that we load the information into a dictionary and access the `base_url` key under the `images` key (the base_url is nested under images), and we'll also append the poster size at the end of the base_url."
   ]
  },
  {
   "cell_type": "code",
   "execution_count": 12,
   "metadata": {
    "collapsed": false
   },
   "outputs": [
    {
     "data": {
      "text/plain": [
       "'http://image.tmdb.org/t/p/w185'"
      ]
     },
     "execution_count": 12,
     "metadata": {},
     "output_type": "execute_result"
    }
   ],
   "source": [
    "# here I'm simply loading my API key\n",
    "# from a .env file, and using dotenv package\n",
    "# to obtain the value of the variable, you may\n",
    "# simply change the api_key variable to your key\n",
    "load_dotenv('.env')\n",
    "api_key = os.environ.get('API_KEY')\n",
    "\n",
    "# request the base_url\n",
    "params = { 'api_key': api_key }\n",
    "response = requests.get('http://api.themoviedb.org/3/configuration', params = params)\n",
    "\n",
    "# for the poster there are different sizes\n",
    "# 'w92', 'w154', 'w185', 'w342', 'w500', 'w780', 'original',\n",
    "# simply change it to the one you prefer\n",
    "base_url = json.loads(response.text)['images']['base_url'] + 'w185'\n",
    "base_url"
   ]
  },
  {
   "cell_type": "markdown",
   "metadata": {},
   "source": [
    "Next to get the file_path to the poster image, the have to send another request to http://api.themoviedb.org/3/movie/{}/images, where we have to fill in the movie_id for {}. Then the actual path will be stored under the `file_path` key under the `posters` key (accessing the posters key will give you a list of path, we'll simply use the first one)."
   ]
  },
  {
   "cell_type": "code",
   "execution_count": 13,
   "metadata": {
    "collapsed": false
   },
   "outputs": [
    {
     "data": {
      "text/plain": [
       "'/uMZqKhT4YA6mqo2yczoznv7IDmv.jpg'"
      ]
     },
     "execution_count": 13,
     "metadata": {},
     "output_type": "execute_result"
    }
   ],
   "source": [
    "image_url = 'http://api.themoviedb.org/3/movie/{}/images'.format(movie_id)\n",
    "response  = requests.get(image_url, params = params)\n",
    "file_path = json.loads(response.text)['posters'][0]['file_path']\n",
    "file_path"
   ]
  },
  {
   "cell_type": "markdown",
   "metadata": {},
   "source": [
    "After that we can simply concatenate the base_url and the file path and display the poster image."
   ]
  },
  {
   "cell_type": "code",
   "execution_count": 14,
   "metadata": {
    "collapsed": false
   },
   "outputs": [
    {
     "data": {
      "image/jpeg": "[encoded data removed]",
      "text/plain": [
       "<IPython.core.display.Image object>"
      ]
     },
     "execution_count": 14,
     "metadata": {},
     "output_type": "execute_result"
    }
   ],
   "source": [
    "full_path = base_url + file_path\n",
    "Image(full_path)"
   ]
  },
  {
   "cell_type": "markdown",
   "metadata": {},
   "source": [
    "Unfortunately, there are also other edge-cases, where we have to search for the title and grab the poster image there. e.g."
   ]
  },
  {
   "cell_type": "code",
   "execution_count": 15,
   "metadata": {
    "collapsed": false
   },
   "outputs": [
    {
     "name": "stdout",
     "output_type": "stream",
     "text": [
      "http://www.imdb.com/find?q=Fox%20and%20the%20Hound,%20The&s=tt\n"
     ]
    },
    {
     "data": {
      "image/jpeg": "[encoded data removed]",
      "text/plain": [
       "<IPython.core.display.Image object>"
      ]
     },
     "execution_count": 15,
     "metadata": {},
     "output_type": "execute_result"
    }
   ],
   "source": [
    "movie_url = 'http://us.imdb.com/M/title-exact?Fox%20and%20the%20Hound,%20The%20(1981)'\n",
    "response  = requests.get(movie_url)\n",
    "\n",
    "# see how the url is different this time,\n",
    "# we have to strip out the title between the = sign\n",
    "# and pass it to the movie search API using the title\n",
    "# as a query parameter\n",
    "print(response.url)\n",
    "query = response.url.split('=')[-2]\n",
    "params['query'] = query\n",
    "response = requests.get('http://api.themoviedb.org/3/search/movie', params = params)\n",
    "json.loads(response.text)\n",
    "file_path = json.loads(response.text)['results'][0]['poster_path']\n",
    "full_path = base_url + file_path\n",
    "Image(full_path)"
   ]
  },
  {
   "cell_type": "markdown",
   "metadata": {},
   "source": [
    "In the following section, we'll train the model again, use [themoviedb.org](http://www.themoviedb.org)'s API to grab the movie posters and visualize the top 5 most similar movies (measured by cosine distance) for some input movie. These similar movies will serve as our recommendation for a given input movie.\n",
    "\n",
    "Side note, the images are displayed using HTML so multiple images can be displayed in one line, idea taken from this [Stackoverflow question](http://stackoverflow.com/questions/19471814/display-multiple-images-in-one-ipython-notebook-cell/27795087#27795087)."
   ]
  },
  {
   "cell_type": "code",
   "execution_count": 16,
   "metadata": {
    "collapsed": true
   },
   "outputs": [],
   "source": [
    "class Recommendation:\n",
    "    \"\"\"\n",
    "    Train the ALS model to be able to\n",
    "    recommend the top-k similar movies for a given query\n",
    "    \n",
    "    Parameters\n",
    "    ----------\n",
    "    k: int\n",
    "        number of top similar movies to recommend for\n",
    "        a given query\n",
    "        \n",
    "    model: ExplicitMF\n",
    "        the recommendation algorithm\n",
    "        \n",
    "    idx_to_movie: dictionary\n",
    "        a dictionary mapping movie id to their imdb url\n",
    "    \"\"\"\n",
    "    def __init__(self, model, k, idx_to_movie):\n",
    "        self.k = k\n",
    "        self.model = model\n",
    "        self.idx_to_movie = idx_to_movie\n",
    "         \n",
    "    def fit(self, train, test):\n",
    "        # train the model and compute the pairwise cosine distance\n",
    "        self.model.fit(train, test)\n",
    "        self.sim_mat = pairwise_distances(self.model.item_vecs, metric = 'cosine')\n",
    "        \n",
    "        # also get the base url for the API\n",
    "        # assuming API key is stored in .env file\n",
    "        load_dotenv('.env')\n",
    "        api_key = os.environ.get('API_KEY')\n",
    "        self.params = {'api_key': api_key}\n",
    "        response = requests.get('http://api.themoviedb.org/3/configuration', \n",
    "                                params = params)\n",
    "        self.base_url = json.loads(response.text)['images']['base_url'] + 'w185'\n",
    "        return self\n",
    "    \n",
    "    def predict(self, query):\n",
    "        movie_url = idx_to_movie[query]\n",
    "        input_poster = self._get_poster(movie_url)\n",
    "        input_image = '<img src={} />'.format(input_poster)\n",
    "        recommended_images = self._get_top_k_recommendation(query)\n",
    "        \n",
    "        # display query movie and for that movie top-k recommendations\n",
    "        display( HTML('<font size=5> Input </font>') )\n",
    "        input_image = '<img src={} />'.format(input_poster)\n",
    "        display( HTML(input_image) )\n",
    "        display( HTML('<font size=5> Recommendation </font>') )\n",
    "        display( HTML(recommended_images) )\n",
    "\n",
    "    def _get_poster(self, movie_url):\n",
    "        \"\"\"get the poster image for a given movie url\"\"\"\n",
    "        try:\n",
    "            response  = requests.get(movie_url)\n",
    "            movie_id  = response.url.split('/')[-2]\n",
    "            image_url = 'http://api.themoviedb.org/3/movie/{}/images'.format(movie_id)\n",
    "            response  = requests.get(image_url, params = self.params)\n",
    "            file_path = json.loads(response.text)['posters'][0]['file_path']\n",
    "        except KeyError:\n",
    "            try:\n",
    "                response = requests.get(movie_url)\n",
    "                query = response.url.split('=')[-2]\n",
    "                self.params['query'] = query\n",
    "                response = requests.get('http://api.themoviedb.org/3/search/movie', \n",
    "                                        params = self.params)\n",
    "                json.loads(response.text)\n",
    "                file_path = json.loads(response.text)['results'][0]['poster_path']\n",
    "                self.params.pop('query')\n",
    "            except KeyError:\n",
    "                # sometimes the url just doesn't work\n",
    "                # return an empty string to not mess up the display\n",
    "                file_path = ''\n",
    "\n",
    "        full_path = self.base_url + file_path\n",
    "        return full_path\n",
    "    \n",
    "    def _get_top_k_recommendation(self, query):\n",
    "        \"\"\"\n",
    "        sort the similarity vector to get the most similar,\n",
    "        remember the smaller the cosine, the more similar they are\n",
    "        but the the item itself will always be the most similar,\n",
    "        so exclude that from the output\n",
    "        \"\"\"\n",
    "        sim = self.sim_mat[query]\n",
    "        top_k_item_idx = np.argsort(sim)[1:self.k + 1]\n",
    "        recommended_images = ''\n",
    "        for item_idx in top_k_item_idx:\n",
    "            movie_url = self.idx_to_movie[item_idx]\n",
    "            recommended_poster = self._get_poster(movie_url)\n",
    "            recommended_images += \"\"\"\n",
    "                                  <img style='width: 150px; height: 250px; margin: 0px;\n",
    "                                              float: left; border: 1px solid black;' \n",
    "                                       src={} />\n",
    "                                  \"\"\".format(recommended_poster)\n",
    "        return recommended_images"
   ]
  },
  {
   "cell_type": "code",
   "execution_count": 17,
   "metadata": {
    "collapsed": false
   },
   "outputs": [],
   "source": [
    "als = ExplicitMF(n_iter = 100, n_factor = 40, reg = 0.01)\n",
    "recsys = Recommendation(model = als, k = 5, idx_to_movie = idx_to_movie)\n",
    "recsys = recsys.fit(train, test)"
   ]
  },
  {
   "cell_type": "code",
   "execution_count": 18,
   "metadata": {
    "collapsed": false
   },
   "outputs": [
    {
     "data": {
      "text/html": [
       "<font size=5> Input </font>"
      ],
      "text/plain": [
       "<IPython.core.display.HTML object>"
      ]
     },
     "metadata": {},
     "output_type": "display_data"
    },
    {
     "data": {
      "text/html": [
       "<img src=http://image.tmdb.org/t/p/w185/trtANqAEy9dxRCeIe7YEDVeGkLw.jpg />"
      ],
      "text/plain": [
       "<IPython.core.display.HTML object>"
      ]
     },
     "metadata": {},
     "output_type": "display_data"
    },
    {
     "data": {
      "text/html": [
       "<font size=5> Recommendation </font>"
      ],
      "text/plain": [
       "<IPython.core.display.HTML object>"
      ]
     },
     "metadata": {},
     "output_type": "display_data"
    },
    {
     "data": {
      "text/html": [
       "\n",
       "                                  <img style='width: 150px; height: 250px; margin: 0px;\n",
       "                                              float: left; border: 1px solid black;' \n",
       "                                       src=http://image.tmdb.org/t/p/w185/k0PN3Ho12cGGIVJW7SCS7apLYaP.jpg />\n",
       "                                  \n",
       "                                  <img style='width: 150px; height: 250px; margin: 0px;\n",
       "                                              float: left; border: 1px solid black;' \n",
       "                                       src=http://image.tmdb.org/t/p/w185/8XefYka77ypAnPJvaVlfUGBBs4a.jpg />\n",
       "                                  \n",
       "                                  <img style='width: 150px; height: 250px; margin: 0px;\n",
       "                                              float: left; border: 1px solid black;' \n",
       "                                       src=http://image.tmdb.org/t/p/w185/duxM3HJ55Fpc4A3krziKn1FR22K.jpg />\n",
       "                                  \n",
       "                                  <img style='width: 150px; height: 250px; margin: 0px;\n",
       "                                              float: left; border: 1px solid black;' \n",
       "                                       src=http://image.tmdb.org/t/p/w185/ivpXGcsPZglyYrN65THWSD7JM3q.jpg />\n",
       "                                  \n",
       "                                  <img style='width: 150px; height: 250px; margin: 0px;\n",
       "                                              float: left; border: 1px solid black;' \n",
       "                                       src=http://image.tmdb.org/t/p/w185/iPcXoYCuRu92mQy0wfUCp3wqnmb.jpg />\n",
       "                                  "
      ],
      "text/plain": [
       "<IPython.core.display.HTML object>"
      ]
     },
     "metadata": {},
     "output_type": "display_data"
    }
   ],
   "source": [
    "query = 1\n",
    "recsys.predict(query)"
   ]
  },
  {
   "cell_type": "code",
   "execution_count": 19,
   "metadata": {
    "collapsed": false
   },
   "outputs": [
    {
     "data": {
      "text/html": [
       "<font size=5> Input </font>"
      ],
      "text/plain": [
       "<IPython.core.display.HTML object>"
      ]
     },
     "metadata": {},
     "output_type": "display_data"
    },
    {
     "data": {
      "text/html": [
       "<img src=http://image.tmdb.org/t/p/w185/rI2OAxQnmKTv0o5L9Adrkydpxiz.jpg />"
      ],
      "text/plain": [
       "<IPython.core.display.HTML object>"
      ]
     },
     "metadata": {},
     "output_type": "display_data"
    },
    {
     "data": {
      "text/html": [
       "<font size=5> Recommendation </font>"
      ],
      "text/plain": [
       "<IPython.core.display.HTML object>"
      ]
     },
     "metadata": {},
     "output_type": "display_data"
    },
    {
     "data": {
      "text/html": [
       "\n",
       "                                  <img style='width: 150px; height: 250px; margin: 0px;\n",
       "                                              float: left; border: 1px solid black;' \n",
       "                                       src=http://image.tmdb.org/t/p/w185/7HI8FD4glaWdYqCF0kReT1N56Bi.jpg />\n",
       "                                  \n",
       "                                  <img style='width: 150px; height: 250px; margin: 0px;\n",
       "                                              float: left; border: 1px solid black;' \n",
       "                                       src=http://image.tmdb.org/t/p/w185/scNoXmnYdZKh1ccQzXBWWGVloes.jpg />\n",
       "                                  \n",
       "                                  <img style='width: 150px; height: 250px; margin: 0px;\n",
       "                                              float: left; border: 1px solid black;' \n",
       "                                       src=http://image.tmdb.org/t/p/w185/wbVGRBYPRRahIZNGXY9TfHDUSc2.jpg />\n",
       "                                  \n",
       "                                  <img style='width: 150px; height: 250px; margin: 0px;\n",
       "                                              float: left; border: 1px solid black;' \n",
       "                                       src=http://image.tmdb.org/t/p/w185/9gJa2B6M8jt85aDkb0MF98MLZ9T.jpg />\n",
       "                                  \n",
       "                                  <img style='width: 150px; height: 250px; margin: 0px;\n",
       "                                              float: left; border: 1px solid black;' \n",
       "                                       src=http://image.tmdb.org/t/p/w185/hDXg3U4eCxuqvrb7BEDXj2tAsdK.jpg />\n",
       "                                  "
      ],
      "text/plain": [
       "<IPython.core.display.HTML object>"
      ]
     },
     "metadata": {},
     "output_type": "display_data"
    }
   ],
   "source": [
    "query = 500\n",
    "recsys.predict(query)"
   ]
  },
  {
   "cell_type": "markdown",
   "metadata": {},
   "source": [
    "I'll leave it up to you to determine whether these recommendations are good or not (results will slightly differ across different runs). In practice A/B testing is most likely a better way to judge whether these recommendations are useful, but that's a topic for some other day."
   ]
  },
  {
   "cell_type": "markdown",
   "metadata": {},
   "source": [
    "# Reference\n",
    "\n",
    "- [Blog: Intro to Recommender Systems: Collaborative Filtering](http://blog.ethanrosenthal.com/2015/11/02/intro-to-collaborative-filtering/)\n",
    "- [Blog: Explicit Matrix Factorization: ALS, SGD, and All That Jazz](http://blog.ethanrosenthal.com/2016/01/09/explicit-matrix-factorization-sgd-als/)\n",
    "- [Quora: What is the Alternating Least Squares method in recommendation systems?](https://www.quora.com/What-is-the-Alternating-Least-Squares-method-in-recommendation-systems)"
   ]
  }
 ],
 "metadata": {
  "anaconda-cloud": {},
  "kernelspec": {
   "display_name": "Python [Root]",
   "language": "python",
   "name": "Python [Root]"
  },
  "language_info": {
   "codemirror_mode": {
    "name": "ipython",
    "version": 3
   },
   "file_extension": ".py",
   "mimetype": "text/x-python",
   "name": "python",
   "nbconvert_exporter": "python",
   "pygments_lexer": "ipython3",
   "version": "3.5.2"
  }
 },
 "nbformat": 4,
 "nbformat_minor": 0
}
