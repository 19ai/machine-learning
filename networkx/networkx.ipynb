{
 "cells": [
  {
   "cell_type": "code",
   "execution_count": 4,
   "metadata": {
    "collapsed": false
   },
   "outputs": [
    {
     "data": {
      "text/html": [
       "<style>\n",
       "@import url('http://fonts.googleapis.com/css?family=Source+Code+Pro');\n",
       "@import url('http://fonts.googleapis.com/css?family=Vollkorn');\n",
       "@import url('http://fonts.googleapis.com/css?family=Arimo');\n",
       "@import url('http://fonts.googleapis.com/css?family=Fira_sans');\n",
       "\n",
       "    div.cell{\n",
       "        width: 1000px;\n",
       "        margin-left: 0% !important;\n",
       "        margin-right: auto;\n",
       "    }\n",
       "    div.text_cell code {\n",
       "        background: transparent;\n",
       "        color: #000000;\n",
       "        font-weight: 600;\n",
       "        font-size: 12pt;\n",
       "        font-style: bold;\n",
       "        font-family:  'Source Code Pro', Consolas, monocco, monospace;\n",
       "   }\n",
       "    h1 {\n",
       "        font-family: 'Open sans',verdana,arial,sans-serif;\n",
       "\t}\n",
       "\t\n",
       "    div.input_area {\n",
       "        background: #F6F6F9;\n",
       "        border: 1px solid #586e75;\n",
       "    }\n",
       "\n",
       "    .text_cell_render h1 {\n",
       "        font-weight: 200;\n",
       "        font-size: 30pt;\n",
       "        line-height: 100%;\n",
       "        color:#c76c0c;\n",
       "        margin-bottom: 0.5em;\n",
       "        margin-top: 1em;\n",
       "        display: block;\n",
       "        white-space: wrap;\n",
       "        text-align: left;\n",
       "    } \n",
       "    h2 {\n",
       "        font-family: 'Open sans',verdana,arial,sans-serif;\n",
       "        text-align: left;\n",
       "    }\n",
       "    .text_cell_render h2 {\n",
       "        font-weight: 200;\n",
       "        font-size: 16pt;\n",
       "        font-style: italic;\n",
       "        line-height: 100%;\n",
       "        color:#c76c0c;\n",
       "        margin-bottom: 0.5em;\n",
       "        margin-top: 1.5em;\n",
       "        display: block;\n",
       "        white-space: wrap;\n",
       "        text-align: left;\n",
       "    } \n",
       "    h3 {\n",
       "        font-family: 'Open sans',verdana,arial,sans-serif;\n",
       "    }\n",
       "    .text_cell_render h3 {\n",
       "        font-weight: 200;\n",
       "        font-size: 14pt;\n",
       "        line-height: 100%;\n",
       "        color:#d77c0c;\n",
       "        margin-bottom: 0.5em;\n",
       "        margin-top: 2em;\n",
       "        display: block;\n",
       "        white-space: wrap;\n",
       "        text-align: left;\n",
       "    }\n",
       "    h4 {\n",
       "        font-family: 'Open sans',verdana,arial,sans-serif;\n",
       "    }\n",
       "    .text_cell_render h4 {\n",
       "        font-weight: 100;\n",
       "        font-size: 14pt;\n",
       "        color:#d77c0c;\n",
       "        margin-bottom: 0.5em;\n",
       "        margin-top: 0.5em;\n",
       "        display: block;\n",
       "        white-space: nowrap;\n",
       "    }\n",
       "    h5 {\n",
       "        font-family: 'Open sans',verdana,arial,sans-serif;\n",
       "    }\n",
       "    .text_cell_render h5 {\n",
       "        font-weight: 200;\n",
       "        font-style: normal;\n",
       "        color: #1d3b84;\n",
       "        font-size: 16pt;\n",
       "        margin-bottom: 0em;\n",
       "        margin-top: 0.5em;\n",
       "        display: block;\n",
       "        white-space: nowrap;\n",
       "    }\n",
       "    div.text_cell_render{\n",
       "        font-family: 'Fira sans', verdana,arial,sans-serif;\n",
       "        line-height: 125%;\n",
       "        font-size: 115%;\n",
       "        text-align:justify;\n",
       "        text-justify:inter-word;\n",
       "    }\n",
       "    div.output_subarea.output_text.output_pyout {\n",
       "        overflow-x: auto;\n",
       "        overflow-y: scroll;\n",
       "        max-height: 50000px;\n",
       "    }\n",
       "    div.output_subarea.output_stream.output_stdout.output_text {\n",
       "        overflow-x: auto;\n",
       "        overflow-y: scroll;\n",
       "        max-height: 50000px;\n",
       "    }\n",
       "    div.output_wrapper{\n",
       "        margin-top:0.2em;\n",
       "        margin-bottom:0.2em;\n",
       "}\n",
       "\n",
       "    code{\n",
       "      font-size: 70%;\n",
       "    }\n",
       "    .rendered_html code{\n",
       "    background-color: transparent;\n",
       "    }\n",
       "    ul{\n",
       "        margin: 2em;\n",
       "    }\n",
       "    ul li{\n",
       "        padding-left: 0.5em; \n",
       "        margin-bottom: 0.5em; \n",
       "        margin-top: 0.5em; \n",
       "    }\n",
       "    ul li li{\n",
       "        padding-left: 0.2em; \n",
       "        margin-bottom: 0.2em; \n",
       "        margin-top: 0.2em; \n",
       "    }\n",
       "    ol{\n",
       "        margin: 2em;\n",
       "    }\n",
       "    ol li{\n",
       "        padding-left: 0.5em; \n",
       "        margin-bottom: 0.5em; \n",
       "        margin-top: 0.5em; \n",
       "    }\n",
       "    ul li{\n",
       "        padding-left: 0.5em; \n",
       "        margin-bottom: 0.5em; \n",
       "        margin-top: 0.2em; \n",
       "    }\n",
       "    a:link{\n",
       "       font-weight: bold;\n",
       "       color:#447adb;\n",
       "    }\n",
       "    a:visited{\n",
       "       font-weight: bold;\n",
       "       color: #1d3b84;\n",
       "    }\n",
       "    a:hover{\n",
       "       font-weight: bold;\n",
       "       color: #1d3b84;\n",
       "    }\n",
       "    a:focus{\n",
       "       font-weight: bold;\n",
       "       color:#447adb;\n",
       "    }\n",
       "    a:active{\n",
       "       font-weight: bold;\n",
       "       color:#447adb;\n",
       "    }\n",
       "    .rendered_html :link {\n",
       "       text-decoration: underline; \n",
       "    }\n",
       "    .rendered_html :hover {\n",
       "       text-decoration: none; \n",
       "    }\n",
       "    .rendered_html :visited {\n",
       "      text-decoration: none;\n",
       "    }\n",
       "    .rendered_html :focus {\n",
       "      text-decoration: none;\n",
       "    }\n",
       "    .rendered_html :active {\n",
       "      text-decoration: none;\n",
       "    }\n",
       "    .warning{\n",
       "        color: rgb( 240, 20, 20 )\n",
       "    } \n",
       "    hr {\n",
       "      color: #f3f3f3;\n",
       "      background-color: #f3f3f3;\n",
       "      height: 1px;\n",
       "    }\n",
       "    blockquote{\n",
       "      display:block;\n",
       "      background: #fcfcfc;\n",
       "      border-left: 5px solid #c76c0c;\n",
       "      font-family: 'Open sans',verdana,arial,sans-serif;\n",
       "      width:680px;\n",
       "      padding: 10px 10px 10px 10px;\n",
       "      text-align:justify;\n",
       "      text-justify:inter-word;\n",
       "      }\n",
       "      blockquote p {\n",
       "        margin-bottom: 0;\n",
       "        line-height: 125%;\n",
       "        font-size: 100%;\n",
       "      }\n",
       "</style>\n",
       "<script>\n",
       "    MathJax.Hub.Config({\n",
       "                        TeX: {\n",
       "                           extensions: [\"AMSmath.js\"]\n",
       "                           },\n",
       "                tex2jax: {\n",
       "                    inlineMath: [ ['$','$'], [\"\\\\(\",\"\\\\)\"] ],\n",
       "                    displayMath: [ ['$$','$$'], [\"\\\\[\",\"\\\\]\"] ]\n",
       "                },\n",
       "                displayAlign: 'center', // Change this to 'center' to center equations.\n",
       "                \"HTML-CSS\": {\n",
       "                    scale:100,\n",
       "                        availableFonts: [],\n",
       "                        preferredFont:null,\n",
       "                        webFont: \"TeX\",\n",
       "                    styles: {'.MathJax_Display': {\"margin\": 4}}\n",
       "                }\n",
       "        });\n",
       "</script>\n"
      ],
      "text/plain": [
       "<IPython.core.display.HTML object>"
      ]
     },
     "execution_count": 4,
     "metadata": {},
     "output_type": "execute_result"
    }
   ],
   "source": [
    "# code for loading the format for the notebook\n",
    "import os\n",
    "\n",
    "# path : store the current path to convert back to it later\n",
    "path = os.getcwd()\n",
    "os.chdir('../notebook_format')\n",
    "from formats import load_style\n",
    "load_style()"
   ]
  },
  {
   "cell_type": "code",
   "execution_count": 5,
   "metadata": {
    "collapsed": true
   },
   "outputs": [],
   "source": [
    "os.chdir(path)\n",
    "%matplotlib inline\n",
    "import numpy as np\n",
    "import networkx as nx\n",
    "from datetime import datetime\n",
    "import matplotlib.pyplot as plt"
   ]
  },
  {
   "cell_type": "markdown",
   "metadata": {},
   "source": [
    "# Introduction to networkx\n",
    "\n",
    "## Network Basics\n",
    "\n",
    "Networks, a.k.a. graphs, are an immensely useful modelling tool to model complex relational problems. Networks are comprised of two main entities:\n",
    "\n",
    "- Nodes: commonly represented as circles. In the academic literature, nodes are also known as \"vertices\".\n",
    "- Edges: commonly represented as lines between circles.\n",
    "\n",
    "Another way to think to it is, nodes are things you are interested in and edges denote the relationships between the things that you are interested in. Thus investigating a graph's edges is the more interesting part of network/graph analysis.\n",
    "\n",
    "In a network, if two nodes are joined together by an edge, then they are neighbors of one another.\n",
    "There are generally two types of networks - directed and undirected. In undirected networks, edges do not have a directionality associated with them. In directed networks, they do. Examples:\n",
    "\n",
    "- Facebook's network: Individuals are nodes, edges are drawn between individuals who are FB friends with one another. undirected network.\n",
    "- Air traffic network: Airports are nodes, flights between airports are the edges. directed network.\n",
    "\n",
    "The key questions here are as follows. How do we:\n",
    "\n",
    "- Model a problem as a network?\n",
    "- Extract useful information from a network?\n",
    "\n",
    "\n",
    "## networkx quickstart\n",
    "\n",
    "In the networkx implementation, graph objects store their data in dictionaries. \n",
    "\n",
    "- Nodes are part of the attribute `Graph.node`, which is a dictionary where the key is the node ID and the values are a dictionary of attributes. \n",
    "- Edges are part of the attribute `Graph.edge`, which is a nested dictionary. Data are accessed as such: G.edge[node1][node2]['attr_name']. \n",
    "\n",
    "Because of the dictionary implementation of the graph, any hashable object can be a node. This means strings and tuples, but not lists and sets.\n",
    "\n",
    "To get started, we'll use a synthetic social network, during which we will attempt to answer the following basic questions using the networkx API:\n",
    "\n",
    "- How many people are present in the network?\n",
    "- What is the distribution of attributes of the people in this network?\n",
    "- How many relationships are represented in the network?\n",
    "- What is the distribution of the number of friends that each person has?"
   ]
  },
  {
   "cell_type": "code",
   "execution_count": 6,
   "metadata": {
    "collapsed": false
   },
   "outputs": [
    {
     "name": "stdout",
     "output_type": "stream",
     "text": [
      "30\n",
      "30\n"
     ]
    }
   ],
   "source": [
    "G = nx.read_gpickle('Synthetic Social Network.pkl')\n",
    "\n",
    "# .nodes() gives you what nodes (a list) are represented in the network\n",
    "# here we access the number of nodes\n",
    "print( len( G.nodes() ) )\n",
    "\n",
    "# or equivalently\n",
    "print( len(G) )"
   ]
  },
  {
   "cell_type": "code",
   "execution_count": 7,
   "metadata": {
    "collapsed": false
   },
   "outputs": [
    {
     "data": {
      "text/plain": [
       "[(0, 10), (0, 19), (0, 12), (1, 4)]"
      ]
     },
     "execution_count": 7,
     "metadata": {},
     "output_type": "execute_result"
    }
   ],
   "source": [
    "# Who is connected to who in the network?\n",
    "# the edges are represented as a list of tuples,\n",
    "# where each tuple represent the node that form the edges\n",
    "# print out the first four to conserve space\n",
    "G.edges()[:4]"
   ]
  },
  {
   "cell_type": "markdown",
   "metadata": {},
   "source": [
    "## Concept\n",
    "\n",
    "A **network**, more technically known as a **graph**, is comprised of:\n",
    "\n",
    "- a set of nodes\n",
    "- joined by a set of edges\n",
    "\n",
    "They can be represented as two lists:\n",
    "\n",
    "1. A **node list**: a list of 2-tuples where the first element of each tuple is the representation of the node, and the second element is a dictionary of metadata associated with the node.\n",
    "2. An **edge list**: a list of 3-tuples where the first two elements are the nodes that are connected together, and the third element is a dictionary of metadata associated with the edge.\n",
    "\n",
    "Since this is a social network of people, there'll be attributes for each individual, such as age, and sex. We can grab that data off from the attributes that are stored with each node by adding the `data = True` argument. Let's get a list of nodes with their attributes."
   ]
  },
  {
   "cell_type": "code",
   "execution_count": 8,
   "metadata": {
    "collapsed": false
   },
   "outputs": [
    {
     "name": "stdout",
     "output_type": "stream",
     "text": [
      "[(0, {'age': 20, 'sex': 'Male'}), (1, {'age': 21, 'sex': 'Female'}), (2, {'age': 19, 'sex': 'Male'}), (3, {'age': 29, 'sex': 'Female'}), (4, {'age': 30, 'sex': 'Male'})]\n"
     ]
    }
   ],
   "source": [
    "# networkx will return a list of tuples in the form ( node_id, attribute_dictionary )\n",
    "print( G.nodes( data = True )[:5] )"
   ]
  },
  {
   "cell_type": "code",
   "execution_count": 9,
   "metadata": {
    "collapsed": false
   },
   "outputs": [
    {
     "data": {
      "text/plain": [
       "Counter({'Female': 15, 'Male': 15})"
      ]
     },
     "execution_count": 9,
     "metadata": {},
     "output_type": "execute_result"
    }
   ],
   "source": [
    "# excercise: Count how many males and females are represented in the graph\n",
    "from collections import Counter\n",
    "sex = [ d['sex'] for _, d in G.nodes( data = True ) ]\n",
    "Counter(sex)"
   ]
  },
  {
   "cell_type": "markdown",
   "metadata": {},
   "source": [
    "Edges can also store attributes in their attribute dictionary. Here the attribute is a datetime object representing the datetime in which the edges were created."
   ]
  },
  {
   "cell_type": "code",
   "execution_count": 10,
   "metadata": {
    "collapsed": false
   },
   "outputs": [
    {
     "data": {
      "text/plain": [
       "[(0, 10, {'date': datetime.datetime(2011, 6, 7, 0, 0)}),\n",
       " (0, 19, {'date': datetime.datetime(2011, 2, 12, 0, 0)}),\n",
       " (0, 12, {'date': datetime.datetime(2006, 8, 28, 0, 0)}),\n",
       " (1, 4, {'date': datetime.datetime(2009, 11, 8, 0, 0)})]"
      ]
     },
     "execution_count": 10,
     "metadata": {},
     "output_type": "execute_result"
    }
   ],
   "source": [
    "G.edges( data = True )[:4]"
   ]
  },
  {
   "cell_type": "code",
   "execution_count": 11,
   "metadata": {
    "collapsed": false
   },
   "outputs": [
    {
     "name": "stdout",
     "output_type": "stream",
     "text": [
      "2002-05-20 00:00:00\n",
      "2011-11-04 00:00:00\n"
     ]
    }
   ],
   "source": [
    "# excercise: figure out the range of dates during which these relationships were forged? \n",
    "# Specifically, compute the earliest and last date\n",
    "dates = [ d['date'] for _, _, d in G.edges( data = True ) ]\n",
    "print( min(dates) )\n",
    "print( max(dates) )"
   ]
  },
  {
   "cell_type": "markdown",
   "metadata": {},
   "source": [
    "## Exercise\n",
    "\n",
    "We found out that there are two individuals that we left out of the network, individual no. 31 and 32. They are one male (31) and one female (32), their ages are 22 and 24 respectively, they knew each other on 2010-01-09, and together, they both knew individual 7, on 2009-12-11. Use the functions `G.add_node()` and `G.add_edge()` to add this data into the network.\n",
    "\n",
    "For more info, there's the networkx's [tutorial](https://networkx.readthedocs.io/en/stable/tutorial/index.html)."
   ]
  },
  {
   "cell_type": "code",
   "execution_count": 12,
   "metadata": {
    "collapsed": true
   },
   "outputs": [],
   "source": [
    "G.add_node( 31, age = 22, sex = 'Male' )\n",
    "G.add_node( 32, age = 24, sex = 'Female' )\n",
    "G.add_edge( 31, 32, date = datetime( 2010, 1, 9 ) )\n",
    "G.add_edge( 31, 7, date = datetime( 2009, 12, 11 ) )\n",
    "G.add_edge( 32, 7, date = datetime( 2009, 12, 11 ) )"
   ]
  },
  {
   "cell_type": "code",
   "execution_count": 13,
   "metadata": {
    "collapsed": false
   },
   "outputs": [
    {
     "name": "stdout",
     "output_type": "stream",
     "text": [
      "All tests passed.\n"
     ]
    }
   ],
   "source": [
    "def test_graph_integrity(G):\n",
    "    \"\"\"verify that the implementation above is correct\"\"\"\n",
    "    assert 31 in G.nodes()\n",
    "    assert 32 in G.nodes()\n",
    "    assert G.has_edge( 31, 32 )\n",
    "    assert G.has_edge( 31, 7 )\n",
    "    assert G.has_edge( 32, 7 )\n",
    "    print('All tests passed.')\n",
    "    \n",
    "test_graph_integrity(G)"
   ]
  },
  {
   "cell_type": "markdown",
   "metadata": {},
   "source": [
    "Note that networkx will override the old data if you added duplicated ones. e.g. we start out with `G.add_node( 31, age = 22, sex = 'Male' )`, if we had another call `G.add_node( 31, age = 25, sex = 'Male' )`, then the age for node 31 will be 25.\n",
    "\n",
    "## Coding Patterns\n",
    "\n",
    "These are some recommended coding patterns when doing network analysis using networkx.\n",
    "\n",
    "Iterating using List Comprehensions:\n",
    "\n",
    "```python\n",
    "[ d['attr'] for n, d in G.nodes( data = True ) ]\n",
    "```\n",
    "\n",
    "And if the node is unimportant, you can do:\n",
    "\n",
    "```python\n",
    "[ d['attr'] for _, d in G.nodes( data = True ) ]\n",
    "```\n",
    "\n",
    "A similar pattern can be used for edges:\n",
    "\n",
    "```python\n",
    "[ n1, n2 for n1, n2, _ in G.edges( data = True ) ]\n",
    "[ d for _, _, d in G.edges( data = True ) ]\n",
    "```\n",
    "\n",
    "If the graph you are constructing is a directed graph, with a \"source\" and \"sink\" available, then I would recommend the following pattern:\n",
    "\n",
    "```python\n",
    "[ ( sc, sk ) for sc, sk, d in G.edges( data = True ) ]\n",
    "```"
   ]
  },
  {
   "cell_type": "markdown",
   "metadata": {},
   "source": [
    "## Visualizing Network\n",
    "\n",
    "we can draw graphs using the `nx.draw()` function. The most popular format for drawing graphs is the **node-link diagram**. If the network is small enough to visualize, and the node labels are small enough to fit in a circle, then you can use the `with_labels = True` argument."
   ]
  },
  {
   "cell_type": "code",
   "execution_count": 14,
   "metadata": {
    "collapsed": false
   },
   "outputs": [
    {
     "data": {
      "image/png": "[encoded data removed]",
      "text/plain": [
       "<matplotlib.figure.Figure at 0x10ec74198>"
      ]
     },
     "metadata": {},
     "output_type": "display_data"
    }
   ],
   "source": [
    "nx.draw( G, with_labels = True )"
   ]
  },
  {
   "cell_type": "markdown",
   "metadata": {},
   "source": [
    "Another way is to use a **matrix** to represent them. This is done by using the `nx.to_numpy_matrix(G)` function. The nodes are on the x- and y- axes, and a filled square represent an edge between the nodes. \n",
    "\n",
    "We then use `matplotlib`'s `pcolor(numpy_array)` function to plot. Because `pcolor` cannot take in numpy matrices, we will cast the matrix as an array of arrays, and then get `pcolor` to plot it."
   ]
  },
  {
   "cell_type": "code",
   "execution_count": 15,
   "metadata": {
    "collapsed": false
   },
   "outputs": [
    {
     "data": {
      "image/png": "[encoded data removed]",
      "text/plain": [
       "<matplotlib.figure.Figure at 0x10ec741d0>"
      ]
     },
     "metadata": {},
     "output_type": "display_data"
    }
   ],
   "source": [
    "matrix = nx.to_numpy_matrix(G)\n",
    "\n",
    "plt.pcolor(np.array(matrix))\n",
    "plt.axes().set_aspect('equal') # set aspect ratio equal to get a square visualization\n",
    "plt.xlim( min(G.nodes()), max(G.nodes()) ) # set x and y limits to the number of nodes present.\n",
    "plt.ylim( min(G.nodes()), max(G.nodes()) )\n",
    "plt.title('Adjacency Matrix')\n",
    "plt.show()"
   ]
  },
  {
   "cell_type": "markdown",
   "metadata": {},
   "source": [
    "# Hubs \n",
    "\n",
    "How do we evaluate the importance of some individuals in a network?\n",
    "\n",
    "Within a social network, there will be certain individuals which perform certain important functions. For example, there may be hyper-connected individuals who are connected to many, many more people. They would be of use in the spreading of information. Alternatively, if this were a disease contact network, identifying them would be useful in stopping the spread of diseases. How would one identify these people?\n",
    "\n",
    "## Approach 1: Neighbors\n",
    "\n",
    "One way we could compute this is to find out the number of people an individual is conencted to. networkx let's us do this by giving us a `G.neighbors(node)` function."
   ]
  },
  {
   "cell_type": "code",
   "execution_count": 16,
   "metadata": {
    "collapsed": false
   },
   "outputs": [
    {
     "data": {
      "text/plain": [
       "8"
      ]
     },
     "execution_count": 16,
     "metadata": {},
     "output_type": "execute_result"
    }
   ],
   "source": [
    "# re-load the pickled data without the new individuals added in the introduction\n",
    "G = nx.read_gpickle('Synthetic Social Network.pkl')\n",
    "\n",
    "# the number of neighbors that individual #19 has\n",
    "len( G.neighbors(19) )"
   ]
  },
  {
   "cell_type": "code",
   "execution_count": 17,
   "metadata": {
    "collapsed": false
   },
   "outputs": [
    {
     "data": {
      "text/plain": [
       "[(19, [0, 16, 2, 4, 22, 17, 27, 12]),\n",
       " (1, [4, 2, 3, 12, 29]),\n",
       " (2, [16, 1, 3, 6, 19]),\n",
       " (3, [8, 1, 2, 6, 23])]"
      ]
     },
     "execution_count": 17,
     "metadata": {},
     "output_type": "execute_result"
    }
   ],
   "source": [
    "# create a ranked list of the importance of each individual, \n",
    "# based on the number of neighbors they have?\n",
    "node_neighbors = [ ( n, G.neighbors(n) ) for n in G.nodes() ]\n",
    "sorted( node_neighbors, key = lambda x: len(x[1]), reverse = True )[:4]"
   ]
  },
  {
   "cell_type": "markdown",
   "metadata": {},
   "source": [
    "## Approach 2: Degree Centrality\n",
    "\n",
    "The number of other nodes that one node is connected to is a measure of its centrality. networkx implements a **degree centrality**, which is defined as the number of neighbors that a node has normalized to the number of individuals it could be connected to in the entire graph. This is accessed by using `nx.degree_centrality(G)`, which returns a dictionary (node is key, measure is value)."
   ]
  },
  {
   "cell_type": "code",
   "execution_count": 18,
   "metadata": {
    "collapsed": false
   },
   "outputs": [
    {
     "name": "stdout",
     "output_type": "stream",
     "text": [
      "0.27586206896551724\n",
      "0.27586206896551724\n"
     ]
    }
   ],
   "source": [
    "print( nx.degree_centrality(G)[19] )\n",
    "\n",
    "# confirm by manual calculating\n",
    "# remember to -1 to exclude itself to exclude self-loops,\n",
    "# note that in some places it make senses to have self-loops ( e.g. bike routes )\n",
    "print( len( G.neighbors(19) ) / ( len( G.nodes() ) - 1 ) )"
   ]
  },
  {
   "cell_type": "markdown",
   "metadata": {},
   "source": [
    "Degree centrality and the number of neighbors is strongly related as they are both measuring whether a given node is a hub or not. By identifying the hub (e.g. linkedin influencer, the source that's spreading the disease) we can take actions on it to create value or prevent catastrophes."
   ]
  },
  {
   "cell_type": "code",
   "execution_count": 19,
   "metadata": {
    "collapsed": false
   },
   "outputs": [
    {
     "data": {
      "image/png": "[encoded data removed]",
      "text/plain": [
       "<matplotlib.figure.Figure at 0x10ec8f390>"
      ]
     },
     "metadata": {},
     "output_type": "display_data"
    }
   ],
   "source": [
    "# exercise: create a histogram of the distribution of degree centralities\n",
    "centrality = list( nx.degree_centrality(G).values() )\n",
    "\n",
    "plt.hist(centrality)\n",
    "plt.title('degree centralities')\n",
    "plt.show()"
   ]
  },
  {
   "cell_type": "code",
   "execution_count": 20,
   "metadata": {
    "collapsed": false
   },
   "outputs": [
    {
     "data": {
      "image/png": "[encoded data removed]",
      "text/plain": [
       "<matplotlib.figure.Figure at 0x1117cca90>"
      ]
     },
     "metadata": {},
     "output_type": "display_data"
    }
   ],
   "source": [
    "# excercise: create a histogram of the distribution of number of neighbors\n",
    "neighbor = [ len(G.neighbors(n)) for n in G ]\n",
    "\n",
    "plt.hist(neighbor)\n",
    "plt.title('number of neighbors')\n",
    "plt.show()"
   ]
  },
  {
   "cell_type": "code",
   "execution_count": 21,
   "metadata": {
    "collapsed": false
   },
   "outputs": [
    {
     "data": {
      "image/png": "[encoded data removed]",
      "text/plain": [
       "<matplotlib.figure.Figure at 0x110fed198>"
      ]
     },
     "metadata": {},
     "output_type": "display_data"
    }
   ],
   "source": [
    "plt.scatter( neighbor, centrality )\n",
    "plt.show()"
   ]
  },
  {
   "cell_type": "markdown",
   "metadata": {},
   "source": [
    "# Paths in a Network\n",
    "\n",
    "Graph traversal is akin to walking along the graph, node by node, restricted by the edges that connect the nodes. Graph traversal is particularly useful for understanding the local structure (e.g. connectivity, retrieving the exact relationships) of certain portions of the graph and for finding paths that connect two nodes in the network. \n",
    "\n",
    "Using the synthetic social network, we will figure out how do we find the shortest path to get from individual A to individual B?\n",
    "\n",
    "One approach is what one would call a **breadth-first search**. It can be used on both directed and undirected graphs, but the graph's edges has to be unweighted.\n",
    "\n",
    "The approach starts at a source node and explores the immediate neighbor nodes first before moving to the next level neighbors. In greater detail:\n",
    "\n",
    "1. Begin with a queue of the starting node.\n",
    "2. Add the neighbors of that node to the queue.\n",
    "    1. If destination node is present in the queue, end.\n",
    "    2. If destination node is not present, proceed.\n",
    "3. For each node in the queue:\n",
    "    1. Remove node from the queue.\n",
    "    2. Add neighbors of the node to the queue. Check if destination node is present or not.\n",
    "    3. If destination node is present, end.\n",
    "    4. If destination node is not present, continue.\n",
    "    \n",
    "Try implementing this algorithm in a function. The function should take in two nodes, node1 and node2, and the graph G that they belong to, and return a Boolean that indicates whether a path exists between those two nodes or not."
   ]
  },
  {
   "cell_type": "code",
   "execution_count": 22,
   "metadata": {
    "collapsed": false
   },
   "outputs": [],
   "source": [
    "from collections import deque\n",
    "\n",
    "def path_exists( G, source, target ):\n",
    "    \"\"\"checks whether a path exists between two nodes (node1, node2) in graph G\"\"\"\n",
    "    \n",
    "    if not G.has_node(source):\n",
    "        raise ValueError( 'Source node {} not in graph'.format(source) )\n",
    "    if not G.has_node(target):\n",
    "        raise ValueError( 'Target node {} not in graph'.format(target) )\n",
    "    \n",
    "    path_exist = False\n",
    "    visited_node = set()\n",
    "    queue = deque([source])\n",
    "\n",
    "    while len(queue) != 0:\n",
    "        node = queue.popleft()\n",
    "\n",
    "        for neighbor in G.neighbors(node):\n",
    "            if neighbor not in visited_node:\n",
    "                if neighbor == target:\n",
    "                    path_exist = True\n",
    "                    break\n",
    "                else:\n",
    "                    visited_node.add(node)\n",
    "                    queue.append(neighbor)\n",
    "\n",
    "        if path_exist:\n",
    "            break\n",
    "\n",
    "    return path_exist"
   ]
  },
  {
   "cell_type": "code",
   "execution_count": 23,
   "metadata": {
    "collapsed": false
   },
   "outputs": [
    {
     "name": "stdout",
     "output_type": "stream",
     "text": [
      "False\n",
      "True\n"
     ]
    }
   ],
   "source": [
    "# 18 and any other node (should return False)\n",
    "# 29 and 26 (should return True)\n",
    "print( path_exists( G = G, source = 18, target = 5 ) )\n",
    "print( path_exists( G = G, source = 29, target = 26 ) )"
   ]
  },
  {
   "cell_type": "markdown",
   "metadata": {},
   "source": [
    "Meanwhile... thankfully, networkx has a function for us to use, titled [has_path](http://networkx.readthedocs.io/en/networkx-1.11/reference/generated/networkx.algorithms.shortest_paths.generic.has_path.html), so we don't have to implement this on our own. :-)\n",
    "\n"
   ]
  },
  {
   "cell_type": "code",
   "execution_count": 24,
   "metadata": {
    "collapsed": false
   },
   "outputs": [
    {
     "data": {
      "text/plain": [
       "True"
      ]
     },
     "execution_count": 24,
     "metadata": {},
     "output_type": "execute_result"
    }
   ],
   "source": [
    "nx.has_path( G = G, source = 29, target = 26 )"
   ]
  },
  {
   "cell_type": "markdown",
   "metadata": {},
   "source": [
    "networkx also has other shortest path algorithms [implemented](http://networkx.readthedocs.io/en/networkx-1.11/reference/algorithms.shortest_paths.html). e.g. `nx.shortest_path(G, source, target)` gives us a list of nodes that exist within one of the shortest paths between the two nodes. \n",
    "\n",
    "We can build upon these to build our own graph query functions. Let's see if we can trace the shortest path from one node to another. Hint: You may want to use `G.subgraph(iterable_of_nodes)` to extract just the nodes and edges of interest from the graph `G`"
   ]
  },
  {
   "cell_type": "code",
   "execution_count": 25,
   "metadata": {
    "collapsed": false
   },
   "outputs": [
    {
     "data": {
      "text/plain": [
       "[4, 19, 17, 14]"
      ]
     },
     "execution_count": 25,
     "metadata": {},
     "output_type": "execute_result"
    }
   ],
   "source": [
    "nx.shortest_path( G, 4, 14 )"
   ]
  },
  {
   "cell_type": "code",
   "execution_count": 26,
   "metadata": {
    "collapsed": false
   },
   "outputs": [
    {
     "data": {
      "image/png": "[encoded data removed]",
      "text/plain": [
       "<matplotlib.figure.Figure at 0x1114da5f8>"
      ]
     },
     "metadata": {},
     "output_type": "display_data"
    }
   ],
   "source": [
    "source = 4\n",
    "target = 14\n",
    "\n",
    "def extract_path_edges( G, source, target ):\n",
    "    # check to make sure that a path does exists between source and target.\n",
    "    new_G = None\n",
    "    if nx.has_path( G, source, target ):\n",
    "        nodes_of_interest = nx.shortest_path( G, source, target )\n",
    "        new_G = G.subgraph(nodes_of_interest)\n",
    "    \n",
    "    return new_G\n",
    "\n",
    "new_G = extract_path_edges( G, source, target )\n",
    "nx.draw( new_G, with_labels = True )"
   ]
  },
  {
   "cell_type": "markdown",
   "metadata": {},
   "source": [
    "## Hubs Revisited\n",
    "\n",
    "It looks like individual 19 is an important person of some sorts - if a message has to be passed through the network in the shortest time possible, then usually it'll go through person 19. Such a person has a high **betweenness centrality**. This is implemented as one of NetworkX's centrality algorithms. Check out the [Wikipedia page](http://en.wikipedia.org/wiki/Betweenness_centrality) for a further description.\n",
    "\n",
    "Note that degree centrality and betweenness centrality don't necessarily correlate.\n",
    "\n",
    "$$ c_B(v) =\\sum_{s,t \\in V} \\frac{\\sigma(s, t|v)}{\\sigma(s, t)} $$\n",
    "\n",
    "where `V` is the set of nodes, $\\sigma(s, t)$ is the number of shortest `(s, t)` paths, and $\\sigma(s, t|v)$ is the number of those paths  passing through some  node `v` other than `s, t`."
   ]
  },
  {
   "cell_type": "code",
   "execution_count": 27,
   "metadata": {
    "collapsed": false
   },
   "outputs": [
    {
     "data": {
      "text/plain": [
       "110.50595238095238"
      ]
     },
     "execution_count": 27,
     "metadata": {},
     "output_type": "execute_result"
    }
   ],
   "source": [
    "nx.betweenness_centrality( G, normalized = False )[19]"
   ]
  },
  {
   "cell_type": "markdown",
   "metadata": {},
   "source": [
    "# Cliques, Triangles and Squares\n",
    "\n",
    "Let's pose a problem: If A knows B and B knows C, would it be probable that A knows C as well? In a graph involving just these three individuals, it may look as such:"
   ]
  },
  {
   "cell_type": "code",
   "execution_count": 28,
   "metadata": {
    "collapsed": false
   },
   "outputs": [
    {
     "data": {
      "image/png": "[encoded data removed]",
      "text/plain": [
       "<matplotlib.figure.Figure at 0x1117d6fd0>"
      ]
     },
     "metadata": {},
     "output_type": "display_data"
    }
   ],
   "source": [
    "G = nx.Graph()\n",
    "G.add_nodes_from([ 'a', 'b', 'c' ])\n",
    "G.add_edges_from([ ('a','b'), ('b', 'c') ])\n",
    "nx.draw( G, with_labels = True )"
   ]
  },
  {
   "cell_type": "markdown",
   "metadata": {},
   "source": [
    "Let's think of another problem: If A knows B, B knows C, C knows D and D knows A, is it likely that A knows C and B knows D? How would this look like?"
   ]
  },
  {
   "cell_type": "code",
   "execution_count": 29,
   "metadata": {
    "collapsed": false
   },
   "outputs": [
    {
     "data": {
      "image/png": "[encoded data removed]",
      "text/plain": [
       "<matplotlib.figure.Figure at 0x111bcbac8>"
      ]
     },
     "metadata": {},
     "output_type": "display_data"
    }
   ],
   "source": [
    "G.add_node('d')\n",
    "G.add_edge('c', 'd')\n",
    "G.add_edge('d', 'a')\n",
    "nx.draw( G, with_labels = True )"
   ]
  },
  {
   "cell_type": "markdown",
   "metadata": {},
   "source": [
    "The set of relationships involving A, B and C, if closed, involves a triangle in the graph. The set of relationships that also include D form a square. You may have observed that social networks (LinkedIn, Facebook, Twitter etc.) have friend recommendation systems. How exactly do they work? Apart from analyzing other variables, closing triangles is one of the core ideas behind the system. A knows B and B knows C, then A probably knows C as well.\n",
    "\n",
    "## Cliques\n",
    "\n",
    "In a social network, **cliques** are groups of people in which everybody knows everybody. Triangles are a simple example of **cliques**. Let's try implementing a simple algorithm that finds out whether a node is present in a triangle or not.\n",
    "\n",
    "The core idea is that if a node is present in a triangle, then its neighbors' neighbors' neighbors should include itself."
   ]
  },
  {
   "cell_type": "code",
   "execution_count": 33,
   "metadata": {
    "collapsed": false
   },
   "outputs": [
    {
     "data": {
      "image/png": "[encoded data removed]",
      "text/plain": [
       "<matplotlib.figure.Figure at 0x1120096d8>"
      ]
     },
     "metadata": {},
     "output_type": "display_data"
    }
   ],
   "source": [
    "# reload the network\n",
    "G = nx.read_gpickle('Synthetic Social Network.pkl')\n",
    "nx.draw( G, with_labels = True )"
   ]
  },
  {
   "cell_type": "markdown",
   "metadata": {},
   "source": [
    "## Exercise\n",
    "\n",
    "Write a function that takes in one node and its associated graph as an input, and returns a list or set of itself + all other nodes that it is in a triangle relationship with.\n",
    "\n",
    "Hint: The neighbor of my neighbor should also be my neighbor, then the three of us are in a triangle relationship."
   ]
  },
  {
   "cell_type": "code",
   "execution_count": 34,
   "metadata": {
    "collapsed": false
   },
   "outputs": [],
   "source": [
    "def get_triangles( G, node ):\n",
    "    \n",
    "    # store all the data points that are in a triangle\n",
    "    # include the targeted node to draw sub-graph later\n",
    "    triangles = set([node])\n",
    "    neighbors1 = set( G.neighbors(node) )\n",
    "    for n in neighbors1:\n",
    "        \n",
    "        # if the target node is in a triangle relationship, then\n",
    "        # the target node's neighbor's neighbor\n",
    "        # should intersect with the target node's neighbor\n",
    "        neighbors2 = set( G.neighbors(n) )\n",
    "        triangle = neighbors1.intersection(neighbors2)\n",
    "        \n",
    "        # if the intersection exists, add the point (the first neighbor) and \n",
    "        # the set (second neighbor)\n",
    "        if triangle:\n",
    "            triangles.update(triangle)\n",
    "            triangles.add(n)\n",
    "    \n",
    "    return triangles"
   ]
  },
  {
   "cell_type": "code",
   "execution_count": 35,
   "metadata": {
    "collapsed": false
   },
   "outputs": [
    {
     "name": "stdout",
     "output_type": "stream",
     "text": [
      "{1, 2, 3, 6, 23}\n"
     ]
    },
    {
     "data": {
      "image/png": "[encoded data removed]",
      "text/plain": [
       "<matplotlib.figure.Figure at 0x1121dde80>"
      ]
     },
     "metadata": {},
     "output_type": "display_data"
    }
   ],
   "source": [
    "print( get_triangles( G = G, node = 3 ) )\n",
    "\n",
    "# drawing out the subgraph composed of those nodes to verify\n",
    "nx.draw( G.subgraph( get_triangles( G = G, node = 3 ) ), with_labels = True )"
   ]
  },
  {
   "cell_type": "markdown",
   "metadata": {},
   "source": [
    "## Friend Recommendation: Open Triangles\n",
    "\n",
    "Let's see if we can do some friend recommendations by looking for open triangles. Open triangles are like those that we described earlier on - A knows B and B knows C, but C's relationship with A isn't captured in the graph."
   ]
  },
  {
   "cell_type": "code",
   "execution_count": 36,
   "metadata": {
    "collapsed": false
   },
   "outputs": [],
   "source": [
    "def get_open_triangles( G, node ):\n",
    "    # the target node's neighbor's neighbor's neighbor's should\n",
    "    # not include the target node\n",
    "    open_triangles = []\n",
    "    neighbors1 = set( G.neighbors(node) )\n",
    "\n",
    "    for node1 in neighbors1:\n",
    "        # remove the target node from the target node's neighbor's\n",
    "        # neighbor's, since it will certainly go back to itself\n",
    "        neighbors2 = set( G.neighbors(node1) )\n",
    "        neighbors2.discard(node)\n",
    "\n",
    "        for node2 in neighbors2:\n",
    "            neighbors3 = set( G.neighbors(node2) )\n",
    "\n",
    "            if node not in neighbors3:\n",
    "                open_triangle = set([node])\n",
    "                open_triangle.update([ node1, node2 ])\n",
    "                open_triangles.append(open_triangle)\n",
    "    \n",
    "    return open_triangles"
   ]
  },
  {
   "cell_type": "code",
   "execution_count": 37,
   "metadata": {
    "collapsed": false
   },
   "outputs": [
    {
     "data": {
      "text/plain": [
       "[{3, 8, 17},\n",
       " {3, 8, 22},\n",
       " {1, 3, 29},\n",
       " {1, 3, 4},\n",
       " {1, 3, 12},\n",
       " {2, 3, 16},\n",
       " {2, 3, 19},\n",
       " {3, 20, 23}]"
      ]
     },
     "execution_count": 37,
     "metadata": {},
     "output_type": "execute_result"
    }
   ],
   "source": [
    "open_triangles = get_open_triangles( G = G, node = 3 )\n",
    "open_triangles"
   ]
  },
  {
   "cell_type": "code",
   "execution_count": 38,
   "metadata": {
    "collapsed": false
   },
   "outputs": [
    {
     "data": {
      "image/png": "[encoded data removed]",
      "text/plain": [
       "<matplotlib.figure.Figure at 0x112018c18>"
      ]
     },
     "metadata": {},
     "output_type": "display_data"
    },
    {
     "data": {
      "image/png": "[encoded data removed]",
      "text/plain": [
       "<matplotlib.figure.Figure at 0x1123d0da0>"
      ]
     },
     "metadata": {},
     "output_type": "display_data"
    },
    {
     "data": {
      "image/png": "[encoded data removed]",
      "text/plain": [
       "<matplotlib.figure.Figure at 0x11215f0f0>"
      ]
     },
     "metadata": {},
     "output_type": "display_data"
    },
    {
     "data": {
      "image/png": "[encoded data removed]",
      "text/plain": [
       "<matplotlib.figure.Figure at 0x1123cb8d0>"
      ]
     },
     "metadata": {},
     "output_type": "display_data"
    }
   ],
   "source": [
    "# draw out each of the triplets.\n",
    "nodes = get_open_triangles( G = G, node = 20 )\n",
    "for i, triplet in enumerate(nodes):\n",
    "    fig = plt.figure(i)\n",
    "    nx.draw( G.subgraph(triplet), with_labels = True )"
   ]
  },
  {
   "cell_type": "markdown",
   "metadata": {},
   "source": [
    "# Tables to Networks, Networks to Tables\n",
    "\n",
    "Networks can be represented in a tabular form in two ways: As an adjacency list with edge attributes stored as columnar values, and as a node list with node attributes stored as columnar values.\n",
    "\n",
    "Storing the network data as a single massive adjacency table, with node attributes repeated on each row, can get unwieldy, especially if the graph is large, or grows to be so. One way to get around this is to store two files: one with node data and node attributes, and one with edge data and edge attributes. \n",
    "\n",
    "The Divvy bike sharing dataset is one such example of a network data set that has been stored as such. The data set is comprised of the following data:\n",
    "\n",
    "- Stations and metadata (like a node list with attributes saved)\n",
    "- Trips and metadata (like an edge list with attributes saved)\n",
    "\n",
    "Download the file from [dropbox](https://www.dropbox.com/sh/wzs8dnfw6zur4lc/AAC2fu_q44umOedX6cnSKGLba?dl=0). The `README.txt` file in the Divvy directory should help orient you around the data."
   ]
  },
  {
   "cell_type": "code",
   "execution_count": 39,
   "metadata": {
    "collapsed": true
   },
   "outputs": [],
   "source": [
    "import pandas as pd"
   ]
  },
  {
   "cell_type": "code",
   "execution_count": 40,
   "metadata": {
    "collapsed": false
   },
   "outputs": [
    {
     "data": {
      "text/html": [
       "<div>\n",
       "<table border=\"1\" class=\"dataframe\">\n",
       "  <thead>\n",
       "    <tr style=\"text-align: right;\">\n",
       "      <th></th>\n",
       "      <th>name</th>\n",
       "      <th>latitude</th>\n",
       "      <th>longitude</th>\n",
       "      <th>dpcapacity</th>\n",
       "      <th>landmark</th>\n",
       "      <th>online date</th>\n",
       "    </tr>\n",
       "    <tr>\n",
       "      <th>id</th>\n",
       "      <th></th>\n",
       "      <th></th>\n",
       "      <th></th>\n",
       "      <th></th>\n",
       "      <th></th>\n",
       "      <th></th>\n",
       "    </tr>\n",
       "  </thead>\n",
       "  <tbody>\n",
       "    <tr>\n",
       "      <th>5</th>\n",
       "      <td>State St &amp; Harrison St</td>\n",
       "      <td>41.873958</td>\n",
       "      <td>-87.627739</td>\n",
       "      <td>19</td>\n",
       "      <td>30</td>\n",
       "      <td>2013-06-28</td>\n",
       "    </tr>\n",
       "    <tr>\n",
       "      <th>13</th>\n",
       "      <td>Wilton Ave &amp; Diversey Pkwy</td>\n",
       "      <td>41.932500</td>\n",
       "      <td>-87.652681</td>\n",
       "      <td>19</td>\n",
       "      <td>66</td>\n",
       "      <td>2013-06-28</td>\n",
       "    </tr>\n",
       "    <tr>\n",
       "      <th>14</th>\n",
       "      <td>Morgan St &amp; 18th St</td>\n",
       "      <td>41.858086</td>\n",
       "      <td>-87.651073</td>\n",
       "      <td>15</td>\n",
       "      <td>163</td>\n",
       "      <td>2013-06-28</td>\n",
       "    </tr>\n",
       "    <tr>\n",
       "      <th>15</th>\n",
       "      <td>Racine Ave &amp; 18th St</td>\n",
       "      <td>41.858181</td>\n",
       "      <td>-87.656487</td>\n",
       "      <td>15</td>\n",
       "      <td>164</td>\n",
       "      <td>2013-06-28</td>\n",
       "    </tr>\n",
       "    <tr>\n",
       "      <th>16</th>\n",
       "      <td>Wood St &amp; North Ave</td>\n",
       "      <td>41.910329</td>\n",
       "      <td>-87.672516</td>\n",
       "      <td>15</td>\n",
       "      <td>223</td>\n",
       "      <td>2013-08-12</td>\n",
       "    </tr>\n",
       "  </tbody>\n",
       "</table>\n",
       "</div>"
      ],
      "text/plain": [
       "                          name   latitude  longitude  dpcapacity  landmark  \\\n",
       "id                                                                           \n",
       "5       State St & Harrison St  41.873958 -87.627739          19        30   \n",
       "13  Wilton Ave & Diversey Pkwy  41.932500 -87.652681          19        66   \n",
       "14         Morgan St & 18th St  41.858086 -87.651073          15       163   \n",
       "15        Racine Ave & 18th St  41.858181 -87.656487          15       164   \n",
       "16         Wood St & North Ave  41.910329 -87.672516          15       223   \n",
       "\n",
       "   online date  \n",
       "id              \n",
       "5   2013-06-28  \n",
       "13  2013-06-28  \n",
       "14  2013-06-28  \n",
       "15  2013-06-28  \n",
       "16  2013-08-12  "
      ]
     },
     "execution_count": 40,
     "metadata": {},
     "output_type": "execute_result"
    }
   ],
   "source": [
    "stations = pd.read_csv(\n",
    "    'divvy_2013/Divvy_Stations_2013.csv', \n",
    "    parse_dates = ['online date'], \n",
    "    index_col = 'id', \n",
    "    encoding = 'utf-8'\n",
    ")\n",
    "# the id represents the node\n",
    "stations.head()"
   ]
  },
  {
   "cell_type": "code",
   "execution_count": 41,
   "metadata": {
    "collapsed": false
   },
   "outputs": [
    {
     "data": {
      "text/html": [
       "<div>\n",
       "<table border=\"1\" class=\"dataframe\">\n",
       "  <thead>\n",
       "    <tr style=\"text-align: right;\">\n",
       "      <th></th>\n",
       "      <th>starttime</th>\n",
       "      <th>stoptime</th>\n",
       "      <th>bikeid</th>\n",
       "      <th>tripduration</th>\n",
       "      <th>from_station_id</th>\n",
       "      <th>from_station_name</th>\n",
       "      <th>to_station_id</th>\n",
       "      <th>to_station_name</th>\n",
       "      <th>usertype</th>\n",
       "      <th>gender</th>\n",
       "      <th>birthday</th>\n",
       "    </tr>\n",
       "    <tr>\n",
       "      <th>trip_id</th>\n",
       "      <th></th>\n",
       "      <th></th>\n",
       "      <th></th>\n",
       "      <th></th>\n",
       "      <th></th>\n",
       "      <th></th>\n",
       "      <th></th>\n",
       "      <th></th>\n",
       "      <th></th>\n",
       "      <th></th>\n",
       "      <th></th>\n",
       "    </tr>\n",
       "  </thead>\n",
       "  <tbody>\n",
       "    <tr>\n",
       "      <th>4118</th>\n",
       "      <td>2013-06-27 12:11:00</td>\n",
       "      <td>2013-06-27 12:16:00</td>\n",
       "      <td>480</td>\n",
       "      <td>316</td>\n",
       "      <td>85</td>\n",
       "      <td>Michigan Ave &amp; Oak St</td>\n",
       "      <td>28</td>\n",
       "      <td>Larrabee St &amp; Menomonee St</td>\n",
       "      <td>Customer</td>\n",
       "      <td>NaN</td>\n",
       "      <td>NaN</td>\n",
       "    </tr>\n",
       "    <tr>\n",
       "      <th>4275</th>\n",
       "      <td>2013-06-27 14:44:00</td>\n",
       "      <td>2013-06-27 14:45:00</td>\n",
       "      <td>77</td>\n",
       "      <td>64</td>\n",
       "      <td>32</td>\n",
       "      <td>Racine Ave &amp; Congress Pkwy</td>\n",
       "      <td>32</td>\n",
       "      <td>Racine Ave &amp; Congress Pkwy</td>\n",
       "      <td>Customer</td>\n",
       "      <td>NaN</td>\n",
       "      <td>NaN</td>\n",
       "    </tr>\n",
       "    <tr>\n",
       "      <th>4291</th>\n",
       "      <td>2013-06-27 14:58:00</td>\n",
       "      <td>2013-06-27 15:05:00</td>\n",
       "      <td>77</td>\n",
       "      <td>433</td>\n",
       "      <td>32</td>\n",
       "      <td>Racine Ave &amp; Congress Pkwy</td>\n",
       "      <td>19</td>\n",
       "      <td>Loomis St &amp; Taylor St</td>\n",
       "      <td>Customer</td>\n",
       "      <td>NaN</td>\n",
       "      <td>NaN</td>\n",
       "    </tr>\n",
       "    <tr>\n",
       "      <th>4316</th>\n",
       "      <td>2013-06-27 15:06:00</td>\n",
       "      <td>2013-06-27 15:09:00</td>\n",
       "      <td>77</td>\n",
       "      <td>123</td>\n",
       "      <td>19</td>\n",
       "      <td>Loomis St &amp; Taylor St</td>\n",
       "      <td>19</td>\n",
       "      <td>Loomis St &amp; Taylor St</td>\n",
       "      <td>Customer</td>\n",
       "      <td>NaN</td>\n",
       "      <td>NaN</td>\n",
       "    </tr>\n",
       "    <tr>\n",
       "      <th>4342</th>\n",
       "      <td>2013-06-27 15:13:00</td>\n",
       "      <td>2013-06-27 15:27:00</td>\n",
       "      <td>77</td>\n",
       "      <td>852</td>\n",
       "      <td>19</td>\n",
       "      <td>Loomis St &amp; Taylor St</td>\n",
       "      <td>55</td>\n",
       "      <td>Halsted St &amp; James M Rochford St</td>\n",
       "      <td>Customer</td>\n",
       "      <td>NaN</td>\n",
       "      <td>NaN</td>\n",
       "    </tr>\n",
       "  </tbody>\n",
       "</table>\n",
       "</div>"
      ],
      "text/plain": [
       "                  starttime            stoptime  bikeid  tripduration  \\\n",
       "trip_id                                                                 \n",
       "4118    2013-06-27 12:11:00 2013-06-27 12:16:00     480           316   \n",
       "4275    2013-06-27 14:44:00 2013-06-27 14:45:00      77            64   \n",
       "4291    2013-06-27 14:58:00 2013-06-27 15:05:00      77           433   \n",
       "4316    2013-06-27 15:06:00 2013-06-27 15:09:00      77           123   \n",
       "4342    2013-06-27 15:13:00 2013-06-27 15:27:00      77           852   \n",
       "\n",
       "         from_station_id           from_station_name  to_station_id  \\\n",
       "trip_id                                                               \n",
       "4118                  85       Michigan Ave & Oak St             28   \n",
       "4275                  32  Racine Ave & Congress Pkwy             32   \n",
       "4291                  32  Racine Ave & Congress Pkwy             19   \n",
       "4316                  19       Loomis St & Taylor St             19   \n",
       "4342                  19       Loomis St & Taylor St             55   \n",
       "\n",
       "                          to_station_name  usertype gender  birthday  \n",
       "trip_id                                                               \n",
       "4118           Larrabee St & Menomonee St  Customer    NaN       NaN  \n",
       "4275           Racine Ave & Congress Pkwy  Customer    NaN       NaN  \n",
       "4291                Loomis St & Taylor St  Customer    NaN       NaN  \n",
       "4316                Loomis St & Taylor St  Customer    NaN       NaN  \n",
       "4342     Halsted St & James M Rochford St  Customer    NaN       NaN  "
      ]
     },
     "execution_count": 41,
     "metadata": {},
     "output_type": "execute_result"
    }
   ],
   "source": [
    "trips = pd.read_csv(\n",
    "    'divvy_2013/Divvy_Trips_2013.csv', \n",
    "    parse_dates = ['starttime', 'stoptime'], \n",
    "    index_col = ['trip_id']\n",
    ")\n",
    "# the from_station_id and to_station_id represents\n",
    "# the two nodes that the edge connects\n",
    "trips.head()"
   ]
  },
  {
   "cell_type": "markdown",
   "metadata": {},
   "source": [
    "At this point, we have our `stations` and `trips` data loaded into memory. \n",
    "\n",
    "How we construct the graph depends on the kind of questions we want to answer, which makes the definition of the \"unit of consideration\" (or the entities for which we are trying to model their relationships) is extremely important. \n",
    "\n",
    "Let's try to answer the question: \"What are the most popular trip paths?\" In this case, the bike station is a reasonable \"unit of consideration\", so we will use the bike stations as the nodes. \n",
    "\n",
    "To start, we'll initialize an directed graph `G` and add in the nodes and edges."
   ]
  },
  {
   "cell_type": "code",
   "execution_count": 42,
   "metadata": {
    "collapsed": false
   },
   "outputs": [],
   "source": [
    "# call the pandas DataFrame row-by-row iterator, which\n",
    "# iterates through the index, and columns\n",
    "G = nx.DiGraph()\n",
    "for n, d in stations.iterrows(): \n",
    "    G.add_node( n, attr_dict = d.to_dict() )\n",
    "    \n",
    "# use groupby to retrieve the pair of nodes and the data count\n",
    "for ( start, stop ), d in trips.groupby([ 'from_station_id', 'to_station_id' ]):\n",
    "    G.add_edge( start, stop, count = len(d) )"
   ]
  },
  {
   "cell_type": "code",
   "execution_count": 43,
   "metadata": {
    "collapsed": false
   },
   "outputs": [
    {
     "name": "stdout",
     "output_type": "stream",
     "text": [
      "[(5, 5, {'count': 232}), (5, 13, {'count': 1}), (5, 14, {'count': 15}), (5, 15, {'count': 9})]\n",
      "\n",
      "density: 0.4935777777777778\n"
     ]
    }
   ],
   "source": [
    "# notice that there're self-loops\n",
    "print( G.edges( data = True )[:4] )\n",
    "print()\n",
    "\n",
    "# examine the density (the proportion of nodes that are connected)\n",
    "num_edges = len( G.edges() )\n",
    "num_possible_edges = len( G.nodes() ) ** 2\n",
    "density = num_edges / num_possible_edges\n",
    "print( 'density:', density )"
   ]
  },
  {
   "cell_type": "markdown",
   "metadata": {},
   "source": [
    "## Saving NetworkX Graph Files\n",
    "\n",
    "NetworkX's API offers many formats for storing graphs to disk. If you intend to work exclusively with NetworkX, then pickling the file to disk is probably the easiest way.\n",
    "\n",
    "To write to disk: \n",
    "\n",
    "```python\n",
    "nx.write_gpickle( G, handle )\n",
    "\n",
    "# e.g.\n",
    "nx.write_gpickle( G, 'datasets/divvy_2013/divvy_graph.pkl' )\n",
    "```\n",
    "\n",
    "To load from disk:\n",
    "\n",
    "```python   \n",
    "G = nx.read_gpickle(handle)\n",
    "```"
   ]
  },
  {
   "cell_type": "markdown",
   "metadata": {},
   "source": [
    "## Reference\n",
    "\n",
    "- [PyCon 2016: Practical Network Analysis Made Simple](https://www.youtube.com/watch?v=jdvlZJKK4F0)\n",
    "- [Video above's Github respository](https://github.com/ericmjl/Network-Analysis-Made-Simple)"
   ]
  }
 ],
 "metadata": {
  "kernelspec": {
   "display_name": "Python 3",
   "language": "python",
   "name": "python3"
  },
  "language_info": {
   "codemirror_mode": {
    "name": "ipython",
    "version": 3
   },
   "file_extension": ".py",
   "mimetype": "text/x-python",
   "name": "python",
   "nbconvert_exporter": "python",
   "pygments_lexer": "ipython3",
   "version": "3.5.1"
  }
 },
 "nbformat": 4,
 "nbformat_minor": 0
}
