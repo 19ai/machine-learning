{
 "cells": [
  {
   "cell_type": "code",
   "execution_count": 1,
   "metadata": {
    "collapsed": false
   },
   "outputs": [
    {
     "data": {
      "text/html": [
       "<style>\n",
       "@import url('http://fonts.googleapis.com/css?family=Source+Code+Pro');\n",
       "@import url('http://fonts.googleapis.com/css?family=Vollkorn');\n",
       "@import url('http://fonts.googleapis.com/css?family=Arimo');\n",
       "@import url('http://fonts.googleapis.com/css?family=Fira_sans');\n",
       "\n",
       "    div.cell{\n",
       "        width: 1000px;\n",
       "        margin-left: 0% !important;\n",
       "        margin-right: auto;\n",
       "    }\n",
       "    div.text_cell code {\n",
       "        background: transparent;\n",
       "        color: #000000;\n",
       "        font-weight: 600;\n",
       "        font-size: 12pt;\n",
       "        font-style: bold;\n",
       "        font-family:  'Source Code Pro', Consolas, monocco, monospace;\n",
       "   }\n",
       "    h1 {\n",
       "        font-family: 'Open sans',verdana,arial,sans-serif;\n",
       "\t}\n",
       "\t\n",
       "    div.input_area {\n",
       "        background: #F6F6F9;\n",
       "        border: 1px solid #586e75;\n",
       "    }\n",
       "\n",
       "    .text_cell_render h1 {\n",
       "        font-weight: 200;\n",
       "        font-size: 30pt;\n",
       "        line-height: 100%;\n",
       "        color:#c76c0c;\n",
       "        margin-bottom: 0.5em;\n",
       "        margin-top: 1em;\n",
       "        display: block;\n",
       "        white-space: wrap;\n",
       "        text-align: left;\n",
       "    } \n",
       "    h2 {\n",
       "        font-family: 'Open sans',verdana,arial,sans-serif;\n",
       "        text-align: left;\n",
       "    }\n",
       "    .text_cell_render h2 {\n",
       "        font-weight: 200;\n",
       "        font-size: 16pt;\n",
       "        font-style: italic;\n",
       "        line-height: 100%;\n",
       "        color:#c76c0c;\n",
       "        margin-bottom: 0.5em;\n",
       "        margin-top: 1.5em;\n",
       "        display: block;\n",
       "        white-space: wrap;\n",
       "        text-align: left;\n",
       "    } \n",
       "    h3 {\n",
       "        font-family: 'Open sans',verdana,arial,sans-serif;\n",
       "    }\n",
       "    .text_cell_render h3 {\n",
       "        font-weight: 200;\n",
       "        font-size: 14pt;\n",
       "        line-height: 100%;\n",
       "        color:#d77c0c;\n",
       "        margin-bottom: 0.5em;\n",
       "        margin-top: 2em;\n",
       "        display: block;\n",
       "        white-space: wrap;\n",
       "        text-align: left;\n",
       "    }\n",
       "    h4 {\n",
       "        font-family: 'Open sans',verdana,arial,sans-serif;\n",
       "    }\n",
       "    .text_cell_render h4 {\n",
       "        font-weight: 100;\n",
       "        font-size: 14pt;\n",
       "        color:#d77c0c;\n",
       "        margin-bottom: 0.5em;\n",
       "        margin-top: 0.5em;\n",
       "        display: block;\n",
       "        white-space: nowrap;\n",
       "    }\n",
       "    h5 {\n",
       "        font-family: 'Open sans',verdana,arial,sans-serif;\n",
       "    }\n",
       "    .text_cell_render h5 {\n",
       "        font-weight: 200;\n",
       "        font-style: normal;\n",
       "        color: #1d3b84;\n",
       "        font-size: 16pt;\n",
       "        margin-bottom: 0em;\n",
       "        margin-top: 0.5em;\n",
       "        display: block;\n",
       "        white-space: nowrap;\n",
       "    }\n",
       "    div.text_cell_render{\n",
       "        font-family: 'Fira sans', verdana,arial,sans-serif;\n",
       "        line-height: 125%;\n",
       "        font-size: 115%;\n",
       "        text-align:justify;\n",
       "        text-justify:inter-word;\n",
       "    }\n",
       "    div.output_subarea.output_text.output_pyout {\n",
       "        overflow-x: auto;\n",
       "        overflow-y: scroll;\n",
       "        max-height: 50000px;\n",
       "    }\n",
       "    div.output_subarea.output_stream.output_stdout.output_text {\n",
       "        overflow-x: auto;\n",
       "        overflow-y: scroll;\n",
       "        max-height: 50000px;\n",
       "    }\n",
       "    div.output_wrapper{\n",
       "        margin-top:0.2em;\n",
       "        margin-bottom:0.2em;\n",
       "}\n",
       "\n",
       "    code{\n",
       "      font-size: 70%;\n",
       "    }\n",
       "    .rendered_html code{\n",
       "    background-color: transparent;\n",
       "    }\n",
       "    ul{\n",
       "        margin: 2em;\n",
       "    }\n",
       "    ul li{\n",
       "        padding-left: 0.5em; \n",
       "        margin-bottom: 0.5em; \n",
       "        margin-top: 0.5em; \n",
       "    }\n",
       "    ul li li{\n",
       "        padding-left: 0.2em; \n",
       "        margin-bottom: 0.2em; \n",
       "        margin-top: 0.2em; \n",
       "    }\n",
       "    ol{\n",
       "        margin: 2em;\n",
       "    }\n",
       "    ol li{\n",
       "        padding-left: 0.5em; \n",
       "        margin-bottom: 0.5em; \n",
       "        margin-top: 0.5em; \n",
       "    }\n",
       "    ul li{\n",
       "        padding-left: 0.5em; \n",
       "        margin-bottom: 0.5em; \n",
       "        margin-top: 0.2em; \n",
       "    }\n",
       "    a:link{\n",
       "       font-weight: bold;\n",
       "       color:#447adb;\n",
       "    }\n",
       "    a:visited{\n",
       "       font-weight: bold;\n",
       "       color: #1d3b84;\n",
       "    }\n",
       "    a:hover{\n",
       "       font-weight: bold;\n",
       "       color: #1d3b84;\n",
       "    }\n",
       "    a:focus{\n",
       "       font-weight: bold;\n",
       "       color:#447adb;\n",
       "    }\n",
       "    a:active{\n",
       "       font-weight: bold;\n",
       "       color:#447adb;\n",
       "    }\n",
       "    .rendered_html :link {\n",
       "       text-decoration: underline; \n",
       "    }\n",
       "    .rendered_html :hover {\n",
       "       text-decoration: none; \n",
       "    }\n",
       "    .rendered_html :visited {\n",
       "      text-decoration: none;\n",
       "    }\n",
       "    .rendered_html :focus {\n",
       "      text-decoration: none;\n",
       "    }\n",
       "    .rendered_html :active {\n",
       "      text-decoration: none;\n",
       "    }\n",
       "    .warning{\n",
       "        color: rgb( 240, 20, 20 )\n",
       "    } \n",
       "    hr {\n",
       "      color: #f3f3f3;\n",
       "      background-color: #f3f3f3;\n",
       "      height: 1px;\n",
       "    }\n",
       "    blockquote{\n",
       "      display:block;\n",
       "      background: #fcfcfc;\n",
       "      border-left: 5px solid #c76c0c;\n",
       "      font-family: 'Open sans',verdana,arial,sans-serif;\n",
       "      width:680px;\n",
       "      padding: 10px 10px 10px 10px;\n",
       "      text-align:justify;\n",
       "      text-justify:inter-word;\n",
       "      }\n",
       "      blockquote p {\n",
       "        margin-bottom: 0;\n",
       "        line-height: 125%;\n",
       "        font-size: 100%;\n",
       "      }\n",
       "</style>\n",
       "<script>\n",
       "    MathJax.Hub.Config({\n",
       "                        TeX: {\n",
       "                           extensions: [\"AMSmath.js\"]\n",
       "                           },\n",
       "                tex2jax: {\n",
       "                    inlineMath: [ ['$','$'], [\"\\\\(\",\"\\\\)\"] ],\n",
       "                    displayMath: [ ['$$','$$'], [\"\\\\[\",\"\\\\]\"] ]\n",
       "                },\n",
       "                displayAlign: 'center', // Change this to 'center' to center equations.\n",
       "                \"HTML-CSS\": {\n",
       "                    scale:100,\n",
       "                        availableFonts: [],\n",
       "                        preferredFont:null,\n",
       "                        webFont: \"TeX\",\n",
       "                    styles: {'.MathJax_Display': {\"margin\": 4}}\n",
       "                }\n",
       "        });\n",
       "</script>\n"
      ],
      "text/plain": [
       "<IPython.core.display.HTML object>"
      ]
     },
     "execution_count": 1,
     "metadata": {},
     "output_type": "execute_result"
    }
   ],
   "source": [
    "# code for loading the format for the notebook\n",
    "import os\n",
    "\n",
    "# path : store the current path to convert back to it later\n",
    "path = os.getcwd()\n",
    "os.chdir('../notebook_format')\n",
    "from formats import load_style\n",
    "load_style()"
   ]
  },
  {
   "cell_type": "code",
   "execution_count": 2,
   "metadata": {
    "collapsed": true
   },
   "outputs": [],
   "source": [
    "os.chdir(path)\n",
    "%matplotlib inline\n",
    "import numpy as np\n",
    "import matplotlib.pyplot as plt\n",
    "plt.rcParams['figure.figsize'] = 8, 6 # change default figure size\n",
    "\n",
    "# magic so that the notebook will reload external python modules\n",
    "%load_ext autoreload \n",
    "%autoreload 2"
   ]
  },
  {
   "cell_type": "markdown",
   "metadata": {},
   "source": [
    "# Deep Learning (Almost) from scratch\n",
    "\n",
    "Table of Contents:\n",
    "\n",
    "- [Neural Network Introduction](#nn)\n",
    "- [Tensorflow Implementation](#tf)\n",
    "- [Tricks and Tips](#tt)"
   ]
  },
  {
   "cell_type": "markdown",
   "metadata": {},
   "source": [
    "<a name='nn'></a>\n",
    "\n",
    "## Neural Network Introduction\n",
    "\n",
    "The basic computational unit of the brain is a **neuron**. Approximately 86 billion neurons can be found in the human nervous system and they are connected with approximately 10^14 - 10^15 **synapses**. The diagram below shows a cartoon drawing of the mathematical model. Each neuron receives input signals from its **dendrites** and produces output signals along its (single) **axon**. The axon eventually branches out and connects via synapses to dendrites of other neurons. \n",
    "\n",
    "<img src='images/neuron_model.jpeg' width=\"60%\">\n",
    "\n",
    "In the computational model of a neuron, the signals that travel along the axons (e.g. \\\\(x_0\\\\)) interact multiplicatively (e.g. \\\\(w_0 x_0\\\\)) with the dendrites of the other neuron based on the synaptic strength at that synapse (e.g. \\\\(w_0\\\\)). The idea is that the synaptic strengths (the weights \\\\(w\\\\)) are learnable and control the strength of influence (and its direction: excitory (positive weight) or inhibitory (negative weight)) of one neuron on another. In the basic model, the dendrites carry the signal to the cell body where they all get summed (e.g. $\\sum_iw_ix_i + b$, there will always be an extra bias term $b$). If the final sum is above a certain threshold, the neuron can *fire*, sending a spike along its axon. In the computational model, we assume that the precise timings of the spikes do not matter, and that only the frequency of the firing communicates information. Based on this interpretation, we model the *firing rate* of the neuron with an **activation function** \\\\(f\\\\). Historically, a common choice of activation function is the **sigmoid function** \\\\(\\sigma(x) = 1/(1+e^{-x})\\\\), since it takes a real-valued input (the signal strength after the sum) and squashes it to range between 0 and 1. We will see details of these activation functions later."
   ]
  },
  {
   "cell_type": "markdown",
   "metadata": {},
   "source": [
    "### Neural Network Architectures\n",
    "\n",
    "Neural Networks are modeled as collections of neurons that are connected in an acyclic graph. In other words, the outputs of some neurons can become inputs to other neurons. Cycles are not allowed since that would imply an infinite loop in the forward pass of a network. Instead of an amorphous blobs of connected neurons, Neural Network models are often organized into distinct layers of neurons. For regular neural networks, the most common layer type is the **fully-connected layer** in which  neurons between two adjacent layers are fully pairwise connected, but neurons within a single layer share no connections. Below is an example Neural Network of a 3-layer neural network with an inputs layer of size 3, two hidden layers each having size 4 and an output layer with size 1. Notice that in both cases there are connections (synapses) between neurons across layers, but not within a layer (Yes, they look like a bunch of softmax stacked together).\n",
    "\n",
    "<img src=\"images/neural_net.jpeg\" width=\"60%\">\n",
    "\n",
    "**Naming conventions.** You may also hear these networks interchangeably referred to as *\"Artificial Neural Networks\"* (ANN) or *\"Multi-Layer Perceptrons\"* (MLP) and when the network consists of more than one hidden layer, it is essentially a **deep learning** model. Notice that when we say N-layer neural network, we do not count the input layer. \n",
    "\n",
    "**Input layer** The number of nodes in the **input layer** is determined by the dimensionality (number of feature columns) of our data.\n",
    "\n",
    "**Hidden layer** The most interesting task for neural network is that we can choose the size (the number of nodes) of the hidden layer and the number of hidden layers. The more nodes we put into the hidden layer and the more hidden layers we add, the more complex functions we will be able fit. But higher dimensionality comes at a cost. First, more computation is required to make predictions and learn the network parameters. A bigger number of parameters also means we become more prone to overfitting our data. Choosing the size of the hidden layer will always depends on your specific problem (usually determined by cross validation) and it is more of an art than a science. We will play with the number of nodes in the hidden later later on and see how it affects our output.\n",
    "\n",
    "**Output layer** The size of (number of nodes) **output layer** is determined by the number of classes we have. Unlike all **hidden layers**, the output layer neurons most commonly do not have an activation function. This is because the last output layer is usually taken to represent the class scores (e.g. in classification), which are arbitrary real-valued numbers, or some kind of real-valued target (e.g. in regression). \n",
    "\n",
    "**Sizing neural networks** The two metrics that people commonly use to measure the size of neural networks are the number of neurons, or more commonly the number of parameters. Working with the example networks in the above picture: The network has 4 + 4 + 1 = 9 neurons, [3 x 4] + [4 x 4] + [4 x 1] = 12 + 16 + 4 = 32 weights (number of lines the in pictue) and 4 + 4 + 1 = 9 biases (these are not shown in the picture), for a total of 41 learnable parameters.\n",
    "\n",
    "To give you some context, modern Convolutional Networks contain on orders of 100 million parameters and are usually made up of approximately 10-20 layers."
   ]
  },
  {
   "cell_type": "markdown",
   "metadata": {},
   "source": [
    "### Feed-forward computation\n",
    "\n",
    "One of the primary reasons that Neural Networks are organized into layers is that this structure makes it very simple and efficient to compute using matrix vector operations (just like softmax). Working with the example three-layer neural network in the diagram above, the input would be a [3x1] vector. All connection strengths for a layer can be stored in a single matrix. For example, the first hidden layer's weights `W1` would be of size [4x3], and the biases for all units would be in the vector `b1`, of size [4x1]. Here, every single neuron has its weights in a row of `W1`, so the matrix vector multiplication `np.dot(W1,x)` evaluates the activations of all neurons in that layer. Similarly, `W2` would be a [4x4] matrix that stores the connections of the second hidden layer, and `W3` a [1x4] matrix for the last (output) layer. The full forward pass of this 3-layer neural network is then simply three matrix multiplications, interwoven with the application of the activation function:\n",
    "\n",
    "```python\n",
    "\n",
    "# forward-pass of a 3-layer neural network:\n",
    "f = lambda x: 1 / ( 1 + np.exp(-x) ) # activation function (use sigmoid)\n",
    "x = np.random.randn(3, 1) # random input vector of three numbers (3x1)\n",
    "h1 = f(np.dot(W1, x) + b1) # calculate first hidden layer activations (4x1)\n",
    "h2 = f(np.dot(W2, h1) + b2) # calculate second hidden layer activations (4x1)\n",
    "out = np.dot(W3, h2) + b3 # output neuron (1x1)\n",
    "\n",
    "```\n",
    "\n",
    "In the above code, `W1,W2,W3,b1,b2,b3` are the learnable parameters of the network. Notice also that instead of having a single input column vector, the variable `x` could hold an entire batch of training data (where each input example would be a column of `x`) and then all examples would be efficiently evaluated in parallel. Notice that the final Neural Network layer usually doesn't have an activation function as it represents a (real-valued) class score in a classification setting. Thus we can apply the softmax function to convert it into our probability.\n",
    "\n",
    "> The forward pass of a fully-connected layer corresponds to one matrix multiplication followed by a bias offset and an activation function."
   ]
  },
  {
   "cell_type": "markdown",
   "metadata": {},
   "source": [
    "<a name='tf'></a>\n",
    "\n",
    "## Tensorflow Implementation\n",
    "\n",
    "A lot of it should look extremely familiar after going through the softmax implementation."
   ]
  },
  {
   "cell_type": "code",
   "execution_count": 3,
   "metadata": {
    "collapsed": false
   },
   "outputs": [
    {
     "name": "stdout",
     "output_type": "stream",
     "text": [
      "Extracting /tmp/data/train-images-idx3-ubyte.gz\n",
      "Extracting /tmp/data/train-labels-idx1-ubyte.gz\n",
      "Extracting /tmp/data/t10k-images-idx3-ubyte.gz\n",
      "Extracting /tmp/data/t10k-labels-idx1-ubyte.gz\n"
     ]
    }
   ],
   "source": [
    "# Import MINST data\n",
    "import tensorflow as tf\n",
    "from tensorflow.examples.tutorials.mnist import input_data\n",
    "mnist = input_data.read_data_sets( \"/tmp/data/\", one_hot = True )"
   ]
  },
  {
   "cell_type": "code",
   "execution_count": 4,
   "metadata": {
    "collapsed": false
   },
   "outputs": [],
   "source": [
    "X_train, y_train = mnist.train.images, mnist.train.labels\n",
    "X_test, y_test = mnist.test.images, mnist.test.labels\n",
    "\n",
    "# global parameters\n",
    "learning_rate = 0.005\n",
    "epochs = 20\n",
    "batch_size = 2048\n",
    "\n",
    "# network parameters (only one hidden layer)\n",
    "n_hidden_1 = 256 # 1st hidden layer's size (number of nodes)\n",
    "n_input = X_train.shape[1] # MNIST data input (image's shape: 28*28)\n",
    "n_class = y_train.shape[1] # MNIST total classes (0-9 digits)\n",
    "\n",
    "# place holder for the data and label\n",
    "X = tf.placeholder( tf.float32, [None, n_input] )\n",
    "y = tf.placeholder( tf.float32, [None, n_class] )\n",
    "\n",
    "# store layers' weight & bias\n",
    "params = {\n",
    "    'W1': tf.Variable( tf.random_normal([ n_input, n_hidden_1 ]) ),\n",
    "    'W2': tf.Variable( tf.random_normal([ n_hidden_1, n_class ]) ),\n",
    "    'b1': tf.Variable( tf.random_normal([n_hidden_1]) ),\n",
    "    'b2': tf.Variable( tf.random_normal([n_class]) ),\n",
    "}\n",
    "\n",
    "# Hidden layer with sigmoid activation\n",
    "# Output layer with softmax activation\n",
    "layer1 = tf.nn.sigmoid( tf.matmul( X, params['W1'] ) + params['b1'] )\n",
    "output = tf.nn.softmax( tf.matmul( layer1, params['W2'] ) + params['b2'] )\n",
    "output = tf.clip_by_value( output, 1e-10, 1.0 )\n",
    "# cross entropy cost function\n",
    "cross_entropy = tf.reduce_mean( -tf.reduce_sum( y * tf.log(output), 1 ) )\n",
    "\n",
    "# Define loss and optimizer and initializing the variables,\n",
    "# more description on adam optimizer later\n",
    "optimizer = tf.train.AdamOptimizer(learning_rate).minimize(cross_entropy)\n",
    "init = tf.initialize_all_variables()\n",
    "\n",
    "# predicted accuracy\n",
    "correct_prediction = tf.equal( tf.argmax( y, 1 ), tf.argmax( output, 1 ) )\n",
    "accuracy = tf.reduce_mean( tf.cast( correct_prediction, tf.float32 ) )"
   ]
  },
  {
   "cell_type": "markdown",
   "metadata": {},
   "source": [
    "> [StackOverflow](http://stackoverflow.com/questions/33712178/tensorflow-nan-bug) In some samples, certain classes could be excluded with certainty after a while, resulting in output probability = 0 for that sample. This yields a log(0) for the cross entropy calculation for that particular sample/class. Hence the cost will become NaN. The way to resolve this is to use `tf.clip_by_value` to specify a boundary for the maximum and minimum value."
   ]
  },
  {
   "cell_type": "code",
   "execution_count": 5,
   "metadata": {
    "collapsed": false
   },
   "outputs": [
    {
     "name": "stdout",
     "output_type": "stream",
     "text": [
      "14.995\n",
      "0.999465\n",
      "0.535624\n",
      "0.392029\n",
      "0.411951\n",
      "0.253078\n",
      "0.229217\n",
      "0.178567\n",
      "0.165664\n",
      "0.118119\n",
      "0.131439\n"
     ]
    }
   ],
   "source": [
    "cost_train_history = []\n",
    "acc_train_history  = []\n",
    "acc_test_history   = []\n",
    "\n",
    "with tf.Session() as sess:\n",
    "    sess.run(init)\n",
    "    \n",
    "    # epochs is the number of times that we loop through the \n",
    "    # entire training data\n",
    "    iterations = int( epochs * X_train.shape[0] / batch_size )\n",
    "    for i in range(iterations):\n",
    "        X_batch, y_batch = mnist.train.next_batch(batch_size)\n",
    "        _, acc_train, c_train = sess.run( [ optimizer, accuracy, cross_entropy ], \n",
    "                                          feed_dict = { X: X_batch, y: y_batch } )       \n",
    "        if i % 50 == 0:\n",
    "            print(c_train)\n",
    "        \n",
    "        # average cost across the batch size\n",
    "        cost = c_train / batch_size\n",
    "        cost_train_history.append(cost)\n",
    "        acc_train_history.append(acc_train)\n",
    "        \n",
    "        acc_test = sess.run( accuracy, feed_dict = { X: X_test, y: y_test } )\n",
    "        acc_test_history.append(acc_test)"
   ]
  },
  {
   "cell_type": "code",
   "execution_count": 6,
   "metadata": {
    "collapsed": false
   },
   "outputs": [
    {
     "data": {
      "text/plain": [
       "0.93279999"
      ]
     },
     "execution_count": 6,
     "metadata": {},
     "output_type": "execute_result"
    }
   ],
   "source": [
    "acc_test_history[len(acc_test_history) - 1]"
   ]
  },
  {
   "cell_type": "code",
   "execution_count": 7,
   "metadata": {
    "collapsed": false
   },
   "outputs": [
    {
     "data": {
      "image/png": "[encoded data removed]",
      "text/plain": [
       "<matplotlib.figure.Figure at 0x12896f278>"
      ]
     },
     "metadata": {},
     "output_type": "display_data"
    }
   ],
   "source": [
    "# visualize training loss and train / val accuracy\n",
    "plt.subplot(2, 1, 1)\n",
    "plt.title('Training loss')\n",
    "plt.plot(cost_train_history, 'o')\n",
    "plt.xlabel('Iteration')\n",
    "\n",
    "plt.subplot(2, 1, 2)\n",
    "plt.title('Accuracy')\n",
    "plt.plot( acc_train_history, '-o', label = 'train' )\n",
    "plt.plot( acc_test_history, '-o', label = 'val' )\n",
    "plt.axhline( y = 0.5, color = 'black', linestyle = '--' )\n",
    "plt.xlabel('Epoch')\n",
    "plt.legend(loc = 'lower right')\n",
    "plt.gcf().set_size_inches(15, 12)\n",
    "plt.show()"
   ]
  },
  {
   "cell_type": "markdown",
   "metadata": {},
   "source": [
    "Again, after specifying the structure of our network Tensorflow will automatically compute the gradients (vector of derivatives) of the loss function with respect to our parameters: $\\frac{\\partial{L}}{\\partial{W_1}}$, $\\frac{\\partial{L}}{\\partial{b_1}}$, $\\frac{\\partial{L}}{\\partial{W_2}}$, $\\frac{\\partial{L}}{\\partial{b_2}}$.\n",
    "\n",
    "To calculate these gradients we use the famous *backpropagation algorithm*, which is a way to efficiently calculate the gradients starting from the output. We won't go into detail how backpropagation works, but there are many excellent explanations floating around the web. ([Calculus on Computational Graphs: Backpropagation](http://colah.github.io/posts/2015-08-Backprop/) or [Course Notes: Backpropagation](http://cs231n.github.io/optimization-2/) and [A Step by Step Backpropagation Example](https://mattmazur.com/2015/03/17/a-step-by-step-backpropagation-example/)) \n",
    "\n",
    "<a name='tt'></a>\n",
    "\n",
    "## Tricks and Tips"
   ]
  },
  {
   "cell_type": "code",
   "execution_count": 8,
   "metadata": {
    "collapsed": true
   },
   "outputs": [],
   "source": [
    "def plot_activation(kind):\n",
    "    x = np.arange( -5, 5, 0.005 )\n",
    "\n",
    "    if kind == 'sigmoid':\n",
    "        y = 1.0 / ( 1.0 + np.exp(-x))\n",
    "    elif kind == 'tanh':\n",
    "        e_p = np.exp(x)\n",
    "        e_n = np.exp(-x)\n",
    "        y = ( e_p - e_n ) / ( e_p + e_n )  \n",
    "    else: # relu\n",
    "        y = np.maximum( 0, x )\n",
    "\n",
    "    plt.plot( x, y )\n",
    "    plt.title(kind)\n",
    "    plt.show()"
   ]
  },
  {
   "cell_type": "markdown",
   "metadata": {},
   "source": [
    "### Commonly Used Activation Functions\n",
    "\n",
    "Every activation function (or *non-linearity*) takes a single number and performs a certain fixed mathematical operation on it. There are several activation functions you may encounter in practice:\n",
    "\n",
    "**Sigmoid.** The sigmoid non-linearity has the mathematical form, note that $x$ is simply the input value:\n",
    "\n",
    "$$\\sigma(x) = 1 / (1 + e^{-x})$$\n",
    "\n",
    "And its first derivative (the first derivative of the activation are used in the backpropagation stage):\n",
    "\n",
    "$$\\frac{d\\sigma}{dx} = (1-\\sigma)\\sigma$$"
   ]
  },
  {
   "cell_type": "code",
   "execution_count": 9,
   "metadata": {
    "collapsed": false
   },
   "outputs": [
    {
     "data": {
      "image/png": "[encoded data removed]",
      "text/plain": [
       "<matplotlib.figure.Figure at 0x109311160>"
      ]
     },
     "metadata": {},
     "output_type": "display_data"
    }
   ],
   "source": [
    "plot_activation( kind = 'sigmoid' )"
   ]
  },
  {
   "cell_type": "markdown",
   "metadata": {},
   "source": [
    "It takes a real-valued number and \"squashes\" it into range between 0 and 1. In particular, large negative numbers will approximately become 0 and large positive numbers approximately become 1. The sigmoid function has seen frequent use historically since it has a nice interpretation as the firing rate of a neuron: from not firing at all (0) to fully-saturated firing at an assumed maximum frequency (1). In practice, the sigmoid non-linearity has recently fallen out of favor and it is rarely ever used. It has two major drawbacks: \n",
    "\n",
    "- *Sigmoids saturate and kill gradients*. A very undesirable property of the sigmoid neuron is that when the neuron's activation saturates at either tail of 0 or 1, the gradient at these regions is almost zero. During backpropagation, this (local) gradient will be multiplied to the gradient of this gate's output for the whole objective. Therefore, if the local gradient is very small, it will effectively \"kill\" the gradient and almost no signal will flow through the neuron to its weights and recursively to its data. Additionally, one must pay extra caution when initializing the weights of sigmoid neurons to prevent saturation. For example, if the initial weights are too large then most neurons would become saturated and the network will barely learn.\n",
    "- *Sigmoid outputs are not zero-centered*. This is undesirable since neurons in later layers of processing in a Neural Network (more on this soon) would be receiving data that is not zero-centered. This has implications on the dynamics during gradient descent, because if the data coming into a neuron is always positive (e.g. $x > 0$ elementwise in $f = w^Tx + b$ ), then during backpropagation, the gradient on the weights $w$ will become either all be positive, or all negative (depending on the gradient of the whole expression $f$). This could introduce undesirable zig-zagging dynamics in the gradient updates for the weights. However, notice that once these gradients are added up across a batch of data the final update for the weights can have variable signs, somewhat mitigating this issue. Therefore, this is an inconvenience but it has less severe consequences compared to the saturated activation problem above.\n",
    "\n",
    "**Tanh.** Mathematical form:\n",
    "\n",
    "$$tanh(z) = \\frac{e^{z}-e^{-z}}{e^{z}+e^{-z}}$$\n",
    "\n",
    "The first derivative for Tanh is:\n",
    "\n",
    "$$1 - tanh(z)^2$$"
   ]
  },
  {
   "cell_type": "code",
   "execution_count": 10,
   "metadata": {
    "collapsed": false
   },
   "outputs": [
    {
     "data": {
      "image/png": "[encoded data removed]",
      "text/plain": [
       "<matplotlib.figure.Figure at 0x12a08e4e0>"
      ]
     },
     "metadata": {},
     "output_type": "display_data"
    }
   ],
   "source": [
    "plot_activation( kind = 'tanh' )"
   ]
  },
  {
   "cell_type": "markdown",
   "metadata": {},
   "source": [
    "It squashes a real-valued number to the range [-1, 1]. Like the sigmoid neuron, its activations saturate, but unlike the sigmoid neuron its output is zero-centered. Therefore, in practice the *tanh non-linearity is always preferred to the sigmoid nonlinearity.* Also note that the tanh neuron is simply a scaled sigmoid neuron, in particular the following holds: $\\tanh(x) = 2 \\sigma(2x) -1$.\n",
    "\n",
    "**ReLU.** The Rectified Linear Unit has become very popular recently (as of 2016). It computes the function:\n",
    "\n",
    "$$f(x) = \\max(0, x)$$ \n",
    "\n",
    "The first derivative for ReLU is:\n",
    "\n",
    "$$\n",
    "\\frac{df}{dx} = \n",
    "\\begin{cases} \n",
    "1 & x > 0 \\\\ \n",
    "0 & x \\leq 0\n",
    "\\end{cases}\n",
    "$$"
   ]
  },
  {
   "cell_type": "code",
   "execution_count": 11,
   "metadata": {
    "collapsed": false
   },
   "outputs": [
    {
     "data": {
      "image/png": "[encoded data removed]",
      "text/plain": [
       "<matplotlib.figure.Figure at 0x12a1d91d0>"
      ]
     },
     "metadata": {},
     "output_type": "display_data"
    }
   ],
   "source": [
    "plot_activation( kind = 'relu' )"
   ]
  },
  {
   "cell_type": "markdown",
   "metadata": {},
   "source": [
    "The activation is simply thresholded at zero. There are several pros and cons to using the ReLUs: \n",
    "\n",
    "- (+) It was found to greatly accelerate the convergence of stochastic gradient descent compared to the sigmoid/tanh functions. It is argued that this is due to its linear, non-saturating form.\n",
    "- (+) Compared to tanh/sigmoid neurons that involve expensive operations (exponentials, etc.), the ReLU can be implemented by simply thresholding a matrix of activations at zero.\n",
    "- (-) Unfortunately, ReLU units can be fragile during training and can \"die\". For example, a large gradient flowing through a ReLU neuron could cause the weights to update in such a way that the neuron will never activate on any datapoint again. If this happens, then the gradient flowing through the unit will forever be zero from that point on. That is, the ReLU units can irreversibly die during training since they can get knocked off the data manifold. For example, you may find that as much as 40% of your network can be \"dead\" (i.e. neurons that never activate across the entire training dataset) if the learning rate is set too high. With a proper setting of the learning rate this is less frequently an issue.\n",
    "\n",
    "**Leaky ReLU.** Leaky ReLUs are one attempt to fix the \"dying ReLU\" problem. Instead of the function being zero when x < 0, a leaky ReLU will instead have a small negative slope (of 0.01, or so). That is, the function computes \\\\(f(x) = \\mathbb{1}(x < 0) (\\alpha x) + \\mathbb{1}(x>=0) (x) \\\\) where \\\\(\\alpha\\\\) is a small constant. Some people report success with this form of activation function, but the results are not always consistent. The slope in the negative region can also be made into a parameter of each neuron, as seen in **PReLU**. However, the consistency of the benefit across tasks is presently unclear.\n",
    "\n",
    "Derivation of the first derivative of sigmoid and tanh for those that are interested. [[Link](https://theclevermachine.wordpress.com/2014/09/08/derivation-derivatives-for-common-neural-network-activation-functions/)]"
   ]
  },
  {
   "cell_type": "markdown",
   "metadata": {},
   "source": [
    "### Model Complexity\n",
    "\n",
    "Note that as we increase the size and number of layers in a network, the complexity of the network increases. That is, the space of representable functions grows since the neurons can collaborate to express many more different functions. For example, suppose we had a binary classification problem in two dimensions. We could train three separate neural network classifiers, each having one hidden layer of different size:\n",
    "\n",
    "![](images/layer_size.png)\n",
    "\n",
    "The data are shown as circles colored by their class, and the decision regions by a trained neural network are shown underneath.\n",
    "\n",
    "In the diagram above, we can see that networks with more neurons can express more complicated functions. However, this is both a blessing (since we can learn to classify more complicated data) and a curse (since it is easier to overfit the training data). Like all machine learning models, overfitting occurs when a model with high complexity fits the noise in the data instead of the (assumed) underlying relationship. The plot shows that the model with 20 hidden neurons fits all the training data but at the cost of segmenting the space into many disjoint red and green decision regions. The model with 3 hidden neurons only has the representational power to classify the data in broad strokes. It models the data as two blobs and interprets the few red points inside the green cluster as outliers (noise). In practice, this could lead to better generalization on the test set.\n",
    "\n",
    "> Based on our discussion above, it seems that smaller neural networks can be preferred if the data is not complex enough to prevent overfitting. However, this is incorrect - there are many other preferred ways to prevent overfitting in networks that we will see later (such as L2 regularization, dropout, input noise). In practice, it is always better to use these methods to control overfitting instead of the number of neurons.\n",
    "\n",
    "In practice, what you find is that if you train a small network the final loss can display a good amount of variance - in some cases you get lucky and converge to a good place but in some cases you get trapped in one of the bad minima. On the other hand, if you train a large network you’ll start to find many different solutions, but the variance in the final achieved loss will be much smaller. In other words, all solutions are about equally as good, and rely less on the luck of random initialization.\n",
    "\n",
    "To reiterate, the regularization strength is the preferred way to control the overfitting of a neural network. We can look at the results achieved by three different settings:\n",
    "\n",
    "![](images/regularizations.png)\n",
    "\n",
    "The effects of regularization strength: Each neural network above has 20 hidden neurons, but changing the regularization strength makes its final decision regions smoother with a higher regularization."
   ]
  },
  {
   "cell_type": "markdown",
   "metadata": {},
   "source": [
    "### Regularization\n",
    "\n",
    "There are several ways to prevent overfitting, the first one is **Regularizations**.\n",
    "\n",
    "**L2 regularization** is perhaps the most common form of regularization. It can be implemented by penalizing the squared magnitude of all parameters directly in the objective. That is, for every weight \\\\(w\\\\) in the network, we add the term \\\\(\\frac{1}{2} \\lambda w^2\\\\) to the objective, where \\\\(\\lambda\\\\) is the regularization strength. It is common to see the factor of \\\\(\\frac{1}{2}\\\\) in front because then the gradient of this term with respect to the parameter \\\\(w\\\\) is simply \\\\(\\lambda w\\\\) instead of \\\\(2 \\lambda w\\\\). The L2 regularization has the intuitive interpretation of heavily penalizing peaky weight vectors and preferring diffuse weight vectors. This encourages the network to use all of its inputs a little rather that some of its inputs a lot.\n",
    "\n",
    "**L1 regularization** is another relatively common form of regularization, where for each weight \\\\(w\\\\) we add the term \\\\(\\lambda  \\mid w \\mid\\\\) to the objective. It is possible to combine the L1 regularization with the L2 regularization: \\\\(\\lambda_1 \\mid w \\mid + \\lambda_2 w^2\\\\) (this is called Elastic net regularization). The L1 regularization has the intriguing property that it leads the weight vectors to become sparse during optimization (i.e. very close to exactly zero). In other words, neurons with L1 regularization end up using only a sparse subset of their most important inputs and become nearly invariant to the \"noisy\" inputs. \n",
    "\n",
    "In comparison, final weight vectors from L2 regularization are usually diffuse, small numbers. In practice, if you are not concerned with explicit feature selection, L2 regularization can be expected to give superior performance over L1. **Note that for both regularization we do not regularize the bias**.\n",
    "\n",
    "**Max norm constraints**. Another form of regularization is to enforce an absolute upper bound on the magnitude of the weight vector for every neuron and use projected gradient descent to enforce the constraint. In practice, this corresponds to performing the parameter update as normal, and then enforcing the constraint by clamping the weight vector \\\\(\\vec{w}\\\\) of every neuron to satisfy \\\\(\\Vert \\vec{w} \\Vert_2 < c\\\\). Typical values of \\\\(c\\\\) are on orders of 3 or 4. Some people report improvements when using this form of regularization. One of its appealing properties is that network cannot \"explode\" even when the learning rates are set too high because the updates are always bounded."
   ]
  },
  {
   "cell_type": "markdown",
   "metadata": {},
   "source": [
    "### Dropout\n",
    "\n",
    "**Dropout** is another extremely effective, simple regularization technique that complements the other regularization methods to prevent overfitting. While training, dropout is implemented by only keeping a neuron active with some probability $p$ (a hyperparameter), or setting it to zero otherwise.\n",
    "\n",
    "![](images/dropout.png)\n",
    "\n",
    "Figure taken from the <a href=\"http://www.cs.toronto.edu/~rsalakhu/papers/srivastava14a.pdf\">Dropout paper</a> that illustrates the idea. During training, Dropout can be interpreted as sampling a subset of the network within the full network, and only updating the parameters of the sampled network based on the input data. During testing there is no dropout applied.\n",
    "\n",
    "Vanilla dropout in an example 3-layer Neural Network would be implemented as follows:\n",
    "\n",
    "```python\n",
    "\"\"\" Vanilla Dropout: Not recommended implementation (see notes below) \"\"\"\n",
    "\n",
    "p = 0.5 # probability of keeping a unit active. higher = less dropout\n",
    "\n",
    "def train_step(X):\n",
    "    \"\"\" X contains the data \"\"\"\n",
    "  \n",
    "    # forward pass for example 3-layer neural network \n",
    "    # with relu activation\n",
    "    # recall that it's just a bunch of matrix multiplication\n",
    "    H1 = np.maximum(0, np.dot(W1, X) + b1)\n",
    "    U1 = np.random.rand(*H1.shape) < p # first dropout mask\n",
    "    H1 *= U1 # drop!\n",
    "    H2 = np.maximum(0, np.dot(W2, H1) + b2)\n",
    "    U2 = np.random.rand(*H2.shape) < p # second dropout mask\n",
    "    H2 *= U2 # drop!\n",
    "    out = np.dot(W3, H2) + b3\n",
    "  \n",
    "    # backward pass: compute gradients... (not shown)\n",
    "    # perform parameter update... (not shown)\n",
    "  \n",
    "def predict(X):\n",
    "    # ensembled forward pass\n",
    "    H1 = np.maximum(0, np.dot(W1, X) + b1) * p # NOTE: scale the activations\n",
    "    H2 = np.maximum(0, np.dot(W2, H1) + b2) * p # NOTE: scale the activations\n",
    "    out = np.dot(W3, H2) + b3\n",
    "```\n",
    "\n",
    "In the code above, inside the `train_step` function we have performed dropout twice: on the first hidden layer and on the second hidden layer. It is also possible to perform dropout right on the input layer, in which case we would also create a binary mask for the input `X`. The backward pass remains unchanged, but of course has to take into account the generated masks `U1,U2`. \n",
    "\n",
    "Crucially, note that in the `predict` function we are not dropping anymore, but we are performing a scaling of both hidden layer outputs by $p$. This is important because at test time all neurons see all their inputs, so we want the outputs of neurons at test time to be identical to their expected outputs at training time. For example, in case of $p = 0.5$, the neurons must halve their outputs at test time to have the same output as they had during training time (in expectation). To see this, consider an output of a neuron $x$ (before dropout). With dropout, the expected output from this neuron will become $px + (1-p)0$, because the neuron's output will be set to zero with probability $1-p$. At test time, when we keep the neuron always active, we must adjust $x \\rightarrow px$ to keep the same expected output.\n",
    "\n",
    "The undesirable property of the scheme presented above is that we must scale the activations by $p$ at test time. Since test-time performance is so critical, it is always preferable to use **inverted dropout**, which performs the scaling at train time, leaving the forward pass at test time untouched. Additionally, this has the appealing property that the prediction code can remain untouched when you decide to tweak where you apply dropout, or if at all. Inverted dropout looks as follows:\n",
    "\n",
    "```python\n",
    "\"\"\" \n",
    "Inverted Dropout: Recommended implementation example.\n",
    "We drop and scale at train time and don't do anything at test time.\n",
    "\"\"\"\n",
    "\n",
    "p = 0.5 # probability of keeping a unit active. higher = less dropout\n",
    "\n",
    "def train_step(X):\n",
    "    # forward pass for example 3-layer neural network\n",
    "    H1 = np.maximum(0, np.dot(W1, X) + b1)\n",
    "    U1 = (np.random.rand(*H1.shape) < p) / p # first dropout mask. Notice /p!\n",
    "    H1 *= U1 # drop!\n",
    "    H2 = np.maximum(0, np.dot(W2, H1) + b2)\n",
    "    U2 = (np.random.rand(*H2.shape) < p) / p # second dropout mask. Notice /p!\n",
    "    H2 *= U2 # drop!\n",
    "    out = np.dot(W3, H2) + b3\n",
    "  \n",
    "    # backward pass: compute gradients... (not shown)\n",
    "    # perform parameter update... (not shown)\n",
    "  \n",
    "def predict(X):\n",
    "    # ensembled forward pass\n",
    "    H1 = np.maximum(0, np.dot(W1, X) + b1) # no scaling necessary\n",
    "    H2 = np.maximum(0, np.dot(W2, H1) + b2)\n",
    "    out = np.dot(W3, H2) + b3\n",
    "    \n",
    "```"
   ]
  },
  {
   "cell_type": "markdown",
   "metadata": {},
   "source": [
    "**TLDR (Too Long Didn't Read):** \n",
    "\n",
    "> Which activation should I use?\n",
    "\n",
    "- Use the ReLU non-linearity, be careful with your learning rates and possibly monitor the fraction of \"dead\" units in a network. \n",
    "- If this concerns you, give Leaky ReLU a try. \n",
    "- Never use sigmoid. \n",
    "- Try tanh, but expect it to work worse than ReLU.\n",
    "- Note that these advices are just for multi-layer neural network and convolutional nets.\n",
    "\n",
    "> How should I set the regularization strength?\n",
    "\n",
    "**In practice**: It is most common to use a single, global L2 regularization strength that is cross-validated (not very common to regularize different layers with different amounts). And combine this with dropout applied after all layers. The value of $p = 0.5$ is a reasonable default."
   ]
  },
  {
   "cell_type": "markdown",
   "metadata": {},
   "source": [
    "## Reference\n",
    "\n",
    "- [Github: TensorFlow Multi-layer Perceptron Examples](http://nbviewer.jupyter.org/github/aymericdamien/TensorFlow-Examples/blob/master/notebooks/3_NeuralNetworks/multilayer_perceptron.ipynb)\n",
    "- [Calculus on Computational Graphs: Backpropagation](http://colah.github.io/posts/2015-08-Backprop/)\n",
    "- [A Step by Step Backpropagation Example](https://mattmazur.com/2015/03/17/a-step-by-step-backpropagation-example/)\n",
    "- [Implementing a Neural Network from Scratch - An Introduction](http://www.wildml.com/2015/09/implementing-a-neural-network-from-scratch/) (contains theano code, maybe check in the future)\n",
    "- Standford CS231n: Convolutional Neural Networks for Visual Recognition\n",
    "    - [Course Github](https://github.com/cs231n/cs231n.github.io)\n",
    "    - [Course Youtube](https://www.youtube.com/playlist?list=PLkt2uSq6rBVctENoVBg1TpCC7OQi31AlC)\n",
    "    - [Course Home Page](http://cs231n.stanford.edu/index.html)\n",
    "    - [Course Notes: Backpropagation](http://cs231n.github.io/optimization-2/)\n",
    "    - [Course Notes: Setting Up the Architecture](http://cs231n.github.io/neural-networks-1/) (activations, decision boundary plots)\n",
    "    - [Course Notes: Setting Up the Data and Loss](http://cs231n.github.io/neural-networks-2/) (regularization, dropout, batchnorm)\n",
    "    - [Course Notes: Learning and Evaluation](http://cs231n.github.io/neural-networks-3/) (different update methods)\n",
    "    - [Course Notes: Putting it together: Minimal Neural Network Case Study](http://cs231n.github.io/neural-networks-case-study/)"
   ]
  }
 ],
 "metadata": {
  "kernelspec": {
   "display_name": "Python 3",
   "language": "python",
   "name": "python3"
  },
  "language_info": {
   "codemirror_mode": {
    "name": "ipython",
    "version": 3
   },
   "file_extension": ".py",
   "mimetype": "text/x-python",
   "name": "python",
   "nbconvert_exporter": "python",
   "pygments_lexer": "ipython3",
   "version": "3.5.2"
  }
 },
 "nbformat": 4,
 "nbformat_minor": 0
}
